{
  "nbformat": 4,
  "nbformat_minor": 0,
  "metadata": {
    "colab": {
      "name": "PyTorch > TensorFlow",
      "provenance": [],
      "collapsed_sections": [],
      "include_colab_link": true
    },
    "kernelspec": {
      "name": "python3",
      "display_name": "Python 3"
    },
    "accelerator": "GPU"
  },
  "cells": [
    {
      "cell_type": "markdown",
      "metadata": {
        "id": "view-in-github",
        "colab_type": "text"
      },
      "source": [
        "<a href=\"https://colab.research.google.com/github/tirthasheshpatel/OOP-in-Python/blob/master/PyTorch_Premiere.ipynb\" target=\"_parent\"><img src=\"https://colab.research.google.com/assets/colab-badge.svg\" alt=\"Open In Colab\"/></a>"
      ]
    },
    {
      "cell_type": "code",
      "metadata": {
        "id": "0S23tUXpyjRk",
        "colab_type": "code",
        "colab": {}
      },
      "source": [
        "import torch\n",
        "import numpy as np"
      ],
      "execution_count": 0,
      "outputs": []
    },
    {
      "cell_type": "code",
      "metadata": {
        "id": "AfyUpNZ6yvAZ",
        "colab_type": "code",
        "outputId": "0870ea14-91cb-42d8-d94e-cae8f4452b12",
        "colab": {
          "base_uri": "https://localhost:8080/",
          "height": 218
        }
      },
      "source": [
        "# cannot use np.float32 or np.float64 with torch tensors\n",
        "a = torch.arange(0, 50, step=1, dtype=torch.float64).reshape(10,5)\n",
        "print(a)\n",
        "print(a.dtype)\n",
        "print(a.shape)"
      ],
      "execution_count": 2,
      "outputs": [
        {
          "output_type": "stream",
          "text": [
            "tensor([[ 0.,  1.,  2.,  3.,  4.],\n",
            "        [ 5.,  6.,  7.,  8.,  9.],\n",
            "        [10., 11., 12., 13., 14.],\n",
            "        [15., 16., 17., 18., 19.],\n",
            "        [20., 21., 22., 23., 24.],\n",
            "        [25., 26., 27., 28., 29.],\n",
            "        [30., 31., 32., 33., 34.],\n",
            "        [35., 36., 37., 38., 39.],\n",
            "        [40., 41., 42., 43., 44.],\n",
            "        [45., 46., 47., 48., 49.]], dtype=torch.float64)\n",
            "torch.float64\n",
            "torch.Size([10, 5])\n"
          ],
          "name": "stdout"
        }
      ]
    },
    {
      "cell_type": "code",
      "metadata": {
        "id": "SXlGbwdpy7n4",
        "colab_type": "code",
        "colab": {}
      },
      "source": [
        "numpy_style_a = a.numpy() # convert to numpy style array"
      ],
      "execution_count": 0,
      "outputs": []
    },
    {
      "cell_type": "code",
      "metadata": {
        "id": "-Hc2mbte9SBt",
        "colab_type": "code",
        "outputId": "97e90757-d315-4fa9-bdac-d93bfdf2feac",
        "colab": {
          "base_uri": "https://localhost:8080/",
          "height": 185
        }
      },
      "source": [
        "numpy_style_a"
      ],
      "execution_count": 4,
      "outputs": [
        {
          "output_type": "execute_result",
          "data": {
            "text/plain": [
              "array([[ 0.,  1.,  2.,  3.,  4.],\n",
              "       [ 5.,  6.,  7.,  8.,  9.],\n",
              "       [10., 11., 12., 13., 14.],\n",
              "       [15., 16., 17., 18., 19.],\n",
              "       [20., 21., 22., 23., 24.],\n",
              "       [25., 26., 27., 28., 29.],\n",
              "       [30., 31., 32., 33., 34.],\n",
              "       [35., 36., 37., 38., 39.],\n",
              "       [40., 41., 42., 43., 44.],\n",
              "       [45., 46., 47., 48., 49.]])"
            ]
          },
          "metadata": {
            "tags": []
          },
          "execution_count": 4
        }
      ]
    },
    {
      "cell_type": "code",
      "metadata": {
        "id": "rGzeH30I9T0f",
        "colab_type": "code",
        "outputId": "7d63f46a-47cb-4524-d6d7-54011b67f469",
        "colab": {
          "base_uri": "https://localhost:8080/",
          "height": 185
        }
      },
      "source": [
        "# convert numpy to torch style tensor\n",
        "numpy_style_to_torch_style_a = torch.from_numpy(numpy_style_a)\n",
        "print(numpy_style_to_torch_style_a)"
      ],
      "execution_count": 5,
      "outputs": [
        {
          "output_type": "stream",
          "text": [
            "tensor([[ 0.,  1.,  2.,  3.,  4.],\n",
            "        [ 5.,  6.,  7.,  8.,  9.],\n",
            "        [10., 11., 12., 13., 14.],\n",
            "        [15., 16., 17., 18., 19.],\n",
            "        [20., 21., 22., 23., 24.],\n",
            "        [25., 26., 27., 28., 29.],\n",
            "        [30., 31., 32., 33., 34.],\n",
            "        [35., 36., 37., 38., 39.],\n",
            "        [40., 41., 42., 43., 44.],\n",
            "        [45., 46., 47., 48., 49.]], dtype=torch.float64)\n"
          ],
          "name": "stdout"
        }
      ]
    },
    {
      "cell_type": "code",
      "metadata": {
        "id": "GeyIYvwO91Ie",
        "colab_type": "code",
        "colab": {}
      },
      "source": [
        "a = torch.from_numpy(np.random.randn(5, 3)) # Lets generate 2 random tensors\n",
        "b = torch.from_numpy(np.random.randn(3, 5)) # and operate on them"
      ],
      "execution_count": 0,
      "outputs": []
    },
    {
      "cell_type": "code",
      "metadata": {
        "id": "IDh-gTDfvG_V",
        "colab_type": "code",
        "outputId": "6f1662fc-ca49-4339-df7d-db9ff33a2394",
        "colab": {
          "base_uri": "https://localhost:8080/",
          "height": 151
        }
      },
      "source": [
        "print(f\"{a}\\n{b}\")"
      ],
      "execution_count": 7,
      "outputs": [
        {
          "output_type": "stream",
          "text": [
            "tensor([[-2.5805, -1.0992, -1.1109],\n",
            "        [ 0.1270,  1.0339, -0.7586],\n",
            "        [-0.5404,  0.3662, -1.4402],\n",
            "        [ 1.4080, -0.2514, -0.1445],\n",
            "        [-0.5731,  0.4931,  0.4761]], dtype=torch.float64)\n",
            "tensor([[ 0.5715,  1.7619, -0.0174, -0.5361,  0.1702],\n",
            "        [ 0.4163, -0.6124,  1.6261,  0.0258,  0.3844],\n",
            "        [-1.6465,  0.4759, -2.2006, -0.6972,  1.1951]], dtype=torch.float64)\n"
          ],
          "name": "stdout"
        }
      ]
    },
    {
      "cell_type": "code",
      "metadata": {
        "id": "5em3PuDJvo0B",
        "colab_type": "code",
        "outputId": "36b5c2a7-a5dd-4380-b560-59f8e3a1b561",
        "colab": {
          "base_uri": "https://localhost:8080/",
          "height": 185
        }
      },
      "source": [
        "# to add,subtract use a+b,a-b\n",
        "# for matrix multiplication\n",
        "c = a @ b # @ -> matrix multiplication\n",
        "print(c)\n",
        "c = torch.mm(a, b) # Equivalent to a@b\n",
        "print(c)"
      ],
      "execution_count": 8,
      "outputs": [
        {
          "output_type": "stream",
          "text": [
            "tensor([[-0.1033, -4.4020,  0.7023,  2.1296, -2.1892],\n",
            "        [ 1.7521, -0.7705,  3.3485,  0.4876, -0.4876],\n",
            "        [ 2.2149, -1.8618,  3.7742,  1.3034, -1.6724],\n",
            "        [ 0.9380,  2.5658, -0.1154, -0.6606, -0.0297],\n",
            "        [-0.9062, -1.0852, -0.2359, -0.0120,  0.6611]], dtype=torch.float64)\n",
            "tensor([[-0.1033, -4.4020,  0.7023,  2.1296, -2.1892],\n",
            "        [ 1.7521, -0.7705,  3.3485,  0.4876, -0.4876],\n",
            "        [ 2.2149, -1.8618,  3.7742,  1.3034, -1.6724],\n",
            "        [ 0.9380,  2.5658, -0.1154, -0.6606, -0.0297],\n",
            "        [-0.9062, -1.0852, -0.2359, -0.0120,  0.6611]], dtype=torch.float64)\n"
          ],
          "name": "stdout"
        }
      ]
    },
    {
      "cell_type": "code",
      "metadata": {
        "id": "HYgzjKazwKCn",
        "colab_type": "code",
        "colab": {}
      },
      "source": [
        "# making tensors on GPU :o\n",
        "# See the RAM bar will increase as soon as we create a tensor on GPU\n",
        "a_gpu = torch.arange(0, 50, dtype=torch.float64, device='cuda').reshape(5, 10)"
      ],
      "execution_count": 0,
      "outputs": []
    },
    {
      "cell_type": "code",
      "metadata": {
        "id": "VnfNts_LwtHs",
        "colab_type": "code",
        "outputId": "295fc0e7-a252-4e18-fe8a-2fcccdf78c4f",
        "colab": {
          "base_uri": "https://localhost:8080/",
          "height": 118
        }
      },
      "source": [
        "a_gpu"
      ],
      "execution_count": 10,
      "outputs": [
        {
          "output_type": "execute_result",
          "data": {
            "text/plain": [
              "tensor([[ 0.,  1.,  2.,  3.,  4.,  5.,  6.,  7.,  8.,  9.],\n",
              "        [10., 11., 12., 13., 14., 15., 16., 17., 18., 19.],\n",
              "        [20., 21., 22., 23., 24., 25., 26., 27., 28., 29.],\n",
              "        [30., 31., 32., 33., 34., 35., 36., 37., 38., 39.],\n",
              "        [40., 41., 42., 43., 44., 45., 46., 47., 48., 49.]], device='cuda:0',\n",
              "       dtype=torch.float64)"
            ]
          },
          "metadata": {
            "tags": []
          },
          "execution_count": 10
        }
      ]
    },
    {
      "cell_type": "code",
      "metadata": {
        "id": "ai1YLLfDWevW",
        "colab_type": "code",
        "outputId": "173294fd-6e89-4dd6-e3c1-071f011addde",
        "colab": {
          "base_uri": "https://localhost:8080/",
          "height": 50
        }
      },
      "source": [
        "# torch.is_tensor\n",
        "print(torch.is_tensor([1., 2., 3.]))\n",
        "print(torch.is_tensor(a))"
      ],
      "execution_count": 11,
      "outputs": [
        {
          "output_type": "stream",
          "text": [
            "False\n",
            "True\n"
          ],
          "name": "stdout"
        }
      ]
    },
    {
      "cell_type": "code",
      "metadata": {
        "id": "mbFnvrpOWwyg",
        "colab_type": "code",
        "outputId": "ee3c9132-0f25-4abd-e8c4-6dd2b2a64d43",
        "colab": {
          "base_uri": "https://localhost:8080/",
          "height": 50
        }
      },
      "source": [
        "# torch.set_default_dtype -> set floating point dtype\n",
        "torch.set_default_dtype(torch.float64)\n",
        "a = torch.linspace(0, 10, 100)\n",
        "print(a.dtype)\n",
        "# torch.get_default_dtype\n",
        "print(torch.get_default_dtype())"
      ],
      "execution_count": 12,
      "outputs": [
        {
          "output_type": "stream",
          "text": [
            "torch.float64\n",
            "torch.float64\n"
          ],
          "name": "stdout"
        }
      ]
    },
    {
      "cell_type": "code",
      "metadata": {
        "id": "iawr4hAyXANn",
        "colab_type": "code",
        "outputId": "db707480-fe65-4eb7-9296-b5d7a8eab650",
        "colab": {
          "base_uri": "https://localhost:8080/",
          "height": 34
        }
      },
      "source": [
        "# torch.numel -> same as np.ndarray.size\n",
        "print(torch.numel(a))"
      ],
      "execution_count": 13,
      "outputs": [
        {
          "output_type": "stream",
          "text": [
            "100\n"
          ],
          "name": "stdout"
        }
      ]
    },
    {
      "cell_type": "code",
      "metadata": {
        "id": "42PEyCm-YG-I",
        "colab_type": "code",
        "outputId": "f0389f99-ab77-4298-e0f3-15599990e8bc",
        "colab": {
          "base_uri": "https://localhost:8080/",
          "height": 202
        }
      },
      "source": [
        "# torch.tensor -> Similar to np.array(data)\n",
        "# ``torch.tensor`` always copies ``data``. To avoid copying\n",
        "# np.ndarray use ``torch.as_tensor`` instead\n",
        "a = torch.tensor([[1., 0., 0.], [0., 1., 0.], [0., 0., 1.]], device='cuda')\n",
        "print(a)\n",
        "\n",
        "# You can also record gradients on the\n",
        "# operations invloving `a` by setting require_grad=True\n",
        "a = torch.tensor([[1., 2., 3.], [4., 5., 6.], [7., 8., 9.]], device='cuda', requires_grad=True)\n",
        "b = torch.tensor([[1., 0., 0.], [0., 1., 0.], [0., 0., 1.]], device='cuda', requires_grad=True)\n",
        "# Operate on a and b\n",
        "c = (a @ b).sum()\n",
        "# The graph formed is:\n",
        "# a     b\n",
        "#  \\   /\n",
        "#    c (op: SumBackward)\n",
        "print(c.grad_fn)\n",
        "print(c.backward()) # This just calculates the gradient of c wrt all the nodes in the graph\n",
        "print(a.grad)\n",
        "print(b.grad)"
      ],
      "execution_count": 14,
      "outputs": [
        {
          "output_type": "stream",
          "text": [
            "tensor([[1., 0., 0.],\n",
            "        [0., 1., 0.],\n",
            "        [0., 0., 1.]], device='cuda:0')\n",
            "<SumBackward0 object at 0x7f4937a3e208>\n",
            "None\n",
            "tensor([[1., 1., 1.],\n",
            "        [1., 1., 1.],\n",
            "        [1., 1., 1.]], device='cuda:0')\n",
            "tensor([[12., 12., 12.],\n",
            "        [15., 15., 15.],\n",
            "        [18., 18., 18.]], device='cuda:0')\n"
          ],
          "name": "stdout"
        }
      ]
    },
    {
      "cell_type": "code",
      "metadata": {
        "id": "Qf5j6K-2Yz1b",
        "colab_type": "code",
        "outputId": "9842fe97-71d3-4cc6-fbb0-e2c739de66e9",
        "colab": {
          "base_uri": "https://localhost:8080/",
          "height": 67
        }
      },
      "source": [
        "# torch.sparse_coo_tensor -> create a sparse tensor ==> amazing\n",
        "a = torch.sparse_coo_tensor(torch.empty([1, 0]),\n",
        "                            torch.empty([0, 2]), [1, 2])\n",
        "print(a)"
      ],
      "execution_count": 15,
      "outputs": [
        {
          "output_type": "stream",
          "text": [
            "tensor(indices=tensor([], size=(1, 0)),\n",
            "       values=tensor([], size=(0, 2)),\n",
            "       size=(1, 2), nnz=0, layout=torch.sparse_coo)\n"
          ],
          "name": "stdout"
        }
      ]
    },
    {
      "cell_type": "code",
      "metadata": {
        "id": "85Ril3Lbus7S",
        "colab_type": "code",
        "colab": {}
      },
      "source": [
        "# torch.as_tensor  -> create a tensor from np.ndarray\n",
        "# torch.as_strided -> np.lib.stride_tricks.as_strided\n",
        "# torch.from_numpy -> as the name suggest\n",
        "# torch.zeros\n",
        "# torch.zeros_like\n",
        "# torch.ones\n",
        "# torch.ones_like\n",
        "# torch.empty\n",
        "# torch.empty_like\n",
        "# torch.full\n",
        "# torch.full_like\n",
        "# torch.arange\n",
        "# torch.linspace\n",
        "# torch.logspace\n",
        "# torch.eye\n",
        "# torch.empty_strided\n",
        "# torch.cat -> np.concatenate\n",
        "# torch.chunk -> Splits a tensor into a specific number of chunks.\n",
        "#                Each chunk is a view of the input tensor\n",
        "# torch.reshape\n",
        "# torch.stack\n",
        "# torch.t -> same as np.ndarray.T ==> Use `torch.tensor.T` instead\n",
        "# torch.transpose\n",
        "# torch.take -> same as np.take\n",
        "# torch.where -> same as np.where"
      ],
      "execution_count": 0,
      "outputs": []
    },
    {
      "cell_type": "code",
      "metadata": {
        "id": "IS4mOdnd7nd_",
        "colab_type": "code",
        "outputId": "400acda4-3362-41b9-ba98-866f8de05138",
        "colab": {
          "base_uri": "https://localhost:8080/",
          "height": 67
        }
      },
      "source": [
        "# torch.gather -> Gathers values along an axis specified by `dim` (`axis`)\n",
        "a = torch.arange(10)\n",
        "a_gather = torch.gather(a, dim=0, index=torch.tensor([0, 0, 1, 1, 6, 5, 9, 5, 6, 7]))\n",
        "print(a_gather)\n",
        "t = torch.tensor([[1,2],[3,4]])\n",
        "print(torch.gather(t, 1, torch.tensor([[0,0],[1,0]])))"
      ],
      "execution_count": 17,
      "outputs": [
        {
          "output_type": "stream",
          "text": [
            "tensor([0, 0, 1, 1, 6, 5, 9, 5, 6, 7])\n",
            "tensor([[1, 1],\n",
            "        [4, 3]])\n"
          ],
          "name": "stdout"
        }
      ]
    },
    {
      "cell_type": "code",
      "metadata": {
        "id": "plc3ACy5-7w5",
        "colab_type": "code",
        "outputId": "f06ee5c6-aeb0-4456-bc7c-1da71208144d",
        "colab": {
          "base_uri": "https://localhost:8080/",
          "height": 101
        }
      },
      "source": [
        "# torch.index_seelct -> select the indices along a given `dim` (`axis`)\n",
        "# This operation creates a copy if the `out` argument is not the same shape\n",
        "# as the input tensor.\n",
        "a = torch.randn(3, 4)\n",
        "print(a)\n",
        "torch.index_select(a, 0, torch.tensor([0, 2]))"
      ],
      "execution_count": 18,
      "outputs": [
        {
          "output_type": "stream",
          "text": [
            "tensor([[ 0.1485,  1.2311, -0.9398,  1.6522],\n",
            "        [ 0.3907,  0.7454,  0.9357, -0.1297],\n",
            "        [ 1.4893, -0.4358,  0.7599, -0.5270]])\n"
          ],
          "name": "stdout"
        },
        {
          "output_type": "execute_result",
          "data": {
            "text/plain": [
              "tensor([[ 0.1485,  1.2311, -0.9398,  1.6522],\n",
              "        [ 1.4893, -0.4358,  0.7599, -0.5270]])"
            ]
          },
          "metadata": {
            "tags": []
          },
          "execution_count": 18
        }
      ]
    },
    {
      "cell_type": "code",
      "metadata": {
        "id": "dv24xIn4-9an",
        "colab_type": "code",
        "outputId": "5aea0cec-d45f-4651-8585-4621c17d976c",
        "colab": {
          "base_uri": "https://localhost:8080/",
          "height": 101
        }
      },
      "source": [
        "# torch.masked_select -> selects the masked entries only.\n",
        "# Always creates a copy.\n",
        "a = torch.randn(3, 4)\n",
        "print(a)\n",
        "torch.masked_select(a, a<=0)"
      ],
      "execution_count": 19,
      "outputs": [
        {
          "output_type": "stream",
          "text": [
            "tensor([[-1.4506, -1.6720, -0.1162, -0.2884],\n",
            "        [-1.3088, -0.9825, -1.7120, -1.5537],\n",
            "        [-1.7610, -0.2185, -0.5624,  0.2125]])\n"
          ],
          "name": "stdout"
        },
        {
          "output_type": "execute_result",
          "data": {
            "text/plain": [
              "tensor([-1.4506, -1.6720, -0.1162, -0.2884, -1.3088, -0.9825, -1.7120, -1.5537,\n",
              "        -1.7610, -0.2185, -0.5624])"
            ]
          },
          "metadata": {
            "tags": []
          },
          "execution_count": 19
        }
      ]
    },
    {
      "cell_type": "code",
      "metadata": {
        "id": "nCg9vWLj_ogQ",
        "colab_type": "code",
        "outputId": "83aaedfd-22d6-4a45-a378-89a4285bfcb5",
        "colab": {
          "base_uri": "https://localhost:8080/",
          "height": 101
        }
      },
      "source": [
        "# torch.narrow -> Select the entires from the array\n",
        "# along a particular `dim` starting at `start` and\n",
        "# ending at `end`. Signature: input, dim, start, end.\n",
        "# Its a view, not a copy\n",
        "a = torch.randn(3, 4)\n",
        "print(a)\n",
        "torch.narrow(a, 0, 1, 2) # 2 inclusive"
      ],
      "execution_count": 20,
      "outputs": [
        {
          "output_type": "stream",
          "text": [
            "tensor([[-0.9397, -1.7107,  0.5253, -2.0273],\n",
            "        [-0.9441, -1.7766, -0.7201, -0.4047],\n",
            "        [-0.7126, -2.2422, -0.6421,  0.6445]])\n"
          ],
          "name": "stdout"
        },
        {
          "output_type": "execute_result",
          "data": {
            "text/plain": [
              "tensor([[-0.9441, -1.7766, -0.7201, -0.4047],\n",
              "        [-0.7126, -2.2422, -0.6421,  0.6445]])"
            ]
          },
          "metadata": {
            "tags": []
          },
          "execution_count": 20
        }
      ]
    },
    {
      "cell_type": "code",
      "metadata": {
        "id": "tMwjAh7NAwWc",
        "colab_type": "code",
        "outputId": "ff033854-cd2e-4268-8335-7ab87e0651c3",
        "colab": {
          "base_uri": "https://localhost:8080/",
          "height": 50
        }
      },
      "source": [
        "# torch.reshape -> Creates a view whenever possible\n",
        "# use torch.as_strided for garunteed view.\n",
        "a = torch.randn(1, 2, 3, 4, 5)\n",
        "print(a.shape)\n",
        "torch.reshape(a, [5, 4, 3, 2, 1]).shape"
      ],
      "execution_count": 21,
      "outputs": [
        {
          "output_type": "stream",
          "text": [
            "torch.Size([1, 2, 3, 4, 5])\n"
          ],
          "name": "stdout"
        },
        {
          "output_type": "execute_result",
          "data": {
            "text/plain": [
              "torch.Size([5, 4, 3, 2, 1])"
            ]
          },
          "metadata": {
            "tags": []
          },
          "execution_count": 21
        }
      ]
    },
    {
      "cell_type": "code",
      "metadata": {
        "id": "JsLVv5uEB6Kp",
        "colab_type": "code",
        "outputId": "df427a69-a427-48d8-ca2d-78492851f6fa",
        "colab": {
          "base_uri": "https://localhost:8080/",
          "height": 168
        }
      },
      "source": [
        "# torch.split -> Splits the tensor into chunks.\n",
        "# Each chunk is a view of the original tensor.\n",
        "a = torch.randn(3, 5)\n",
        "print(a)\n",
        "print(torch.split(a, [1, 4], dim=1)[0])\n",
        "print(torch.split(a, [1, 4], dim=1)[1])"
      ],
      "execution_count": 22,
      "outputs": [
        {
          "output_type": "stream",
          "text": [
            "tensor([[ 2.0958,  1.4055,  0.1653,  1.2995, -0.3636],\n",
            "        [ 0.8857,  0.8923, -0.0155,  0.1630, -1.8609],\n",
            "        [ 0.0103,  0.3413, -0.3054,  0.3792, -0.0331]])\n",
            "tensor([[2.0958],\n",
            "        [0.8857],\n",
            "        [0.0103]])\n",
            "tensor([[ 1.4055,  0.1653,  1.2995, -0.3636],\n",
            "        [ 0.8923, -0.0155,  0.1630, -1.8609],\n",
            "        [ 0.3413, -0.3054,  0.3792, -0.0331]])\n"
          ],
          "name": "stdout"
        }
      ]
    },
    {
      "cell_type": "code",
      "metadata": {
        "id": "ueS1jnC-DTio",
        "colab_type": "code",
        "outputId": "109b7026-2576-4272-cc85-b676a951ec4e",
        "colab": {
          "base_uri": "https://localhost:8080/",
          "height": 67
        }
      },
      "source": [
        "# torch.squeeze -> same as np.squeeze\n",
        "a = torch.randn(5, 1, 1, 4, 1, 1, 3, 1, 1, 2)\n",
        "print(a.shape)\n",
        "b = torch.squeeze(a)\n",
        "print(b.shape)\n",
        "# torch.unsqueeze -> wow!\n",
        "torch.unsqueeze(b, -1).shape"
      ],
      "execution_count": 23,
      "outputs": [
        {
          "output_type": "stream",
          "text": [
            "torch.Size([5, 1, 1, 4, 1, 1, 3, 1, 1, 2])\n",
            "torch.Size([5, 4, 3, 2])\n"
          ],
          "name": "stdout"
        },
        {
          "output_type": "execute_result",
          "data": {
            "text/plain": [
              "torch.Size([5, 4, 3, 2, 1])"
            ]
          },
          "metadata": {
            "tags": []
          },
          "execution_count": 23
        }
      ]
    },
    {
      "cell_type": "code",
      "metadata": {
        "id": "-Bd_jd2BEldK",
        "colab_type": "code",
        "outputId": "6e406b23-9f6d-42ad-c772-f5eca02f3f71",
        "colab": {
          "base_uri": "https://localhost:8080/",
          "height": 50
        }
      },
      "source": [
        "# torch.where -> if `condition`, `x`, else `y`\n",
        "a = torch.tensor([[1, 2], [3, 4]])\n",
        "torch.where(a>2, a, 1-a)"
      ],
      "execution_count": 24,
      "outputs": [
        {
          "output_type": "execute_result",
          "data": {
            "text/plain": [
              "tensor([[ 0, -1],\n",
              "        [ 3,  4]])"
            ]
          },
          "metadata": {
            "tags": []
          },
          "execution_count": 24
        }
      ]
    },
    {
      "cell_type": "code",
      "metadata": {
        "id": "f63mbiDnHRzg",
        "colab_type": "code",
        "colab": {}
      },
      "source": [
        "#                       Random Sampling in Torch!!\n",
        "# torch.seed\n",
        "# torch.set_rng_state\n",
        "# torch.get_rng_state\n",
        "# torch.rand\n",
        "# torch.rand_like\n",
        "# torch.randint\n",
        "# torch.randint_like\n",
        "# torch.randn\n",
        "# torch.randn_like\n",
        "# torch.randperm -> Returns a random permutation of integers from `0` to `n-1`.\n",
        "# torch.bernoulli\n",
        "# torch.multinomial\n",
        "# torch.poisson\n",
        "# torch.normal\n",
        "\n",
        "#                       Inplace Random Sampling\n",
        "# =========================     =========================================================\n",
        "#         CODE                                         DOCUMENTATION\n",
        "# =========================     =========================================================\n",
        "# torch.Tensor.bernoulli_()   - in-place version of torch.bernoulli()\n",
        "# torch.Tensor.cauchy_()      - numbers drawn from the Cauchy distribution\n",
        "# torch.Tensor.exponential_() - numbers drawn from the exponential distribution\n",
        "# torch.Tensor.geometric_()   - elements drawn from the geometric distribution\n",
        "# torch.Tensor.log_normal_()  - samples from the log-normal distribution\n",
        "# torch.Tensor.normal_()      - in-place version of torch.normal()\n",
        "# torch.Tensor.random_()      - numbers sampled from the discrete uniform distribution\n",
        "# torch.Tensor.uniform_()     - numbers sampled from the continuous uniform distribution"
      ],
      "execution_count": 0,
      "outputs": []
    },
    {
      "cell_type": "code",
      "metadata": {
        "id": "ikteJICdIOAq",
        "colab_type": "code",
        "outputId": "16aa8068-e278-4a0a-f93b-23e38f08502f",
        "colab": {
          "base_uri": "https://localhost:8080/",
          "height": 34
        }
      },
      "source": [
        "# Serialization\n",
        "# torch.save -> Saves tensor objects and model in pickle file\n",
        "# torch.load -> Loads tensor objects and model from a pickle file\n",
        "a = torch.arange(10)\n",
        "torch.save(a, 'torch_tensor_a.pkl')\n",
        "a = torch.load('torch_tensor_a.pkl')\n",
        "a"
      ],
      "execution_count": 26,
      "outputs": [
        {
          "output_type": "execute_result",
          "data": {
            "text/plain": [
              "tensor([0, 1, 2, 3, 4, 5, 6, 7, 8, 9])"
            ]
          },
          "metadata": {
            "tags": []
          },
          "execution_count": 26
        }
      ]
    },
    {
      "cell_type": "code",
      "metadata": {
        "id": "AcyTevew_7y2",
        "colab_type": "code",
        "outputId": "fadd013f-4d9b-4fb8-d21f-a13fef1f1351",
        "colab": {
          "base_uri": "https://localhost:8080/",
          "height": 67
        }
      },
      "source": [
        "# Parallelism\n",
        "# torch.get_num_threads()\n",
        "# torch.set_num_threads()\n",
        "# torch.get_num_inteop_threads()\n",
        "# torch.set_num_interop_threads()\n",
        "print(torch.get_num_threads())\n",
        "torch.set_num_threads(4)\n",
        "print(torch.get_num_threads())\n",
        "torch.set_num_threads(1)\n",
        "print(torch.get_num_threads())"
      ],
      "execution_count": 27,
      "outputs": [
        {
          "output_type": "stream",
          "text": [
            "1\n",
            "4\n",
            "1\n"
          ],
          "name": "stdout"
        }
      ]
    },
    {
      "cell_type": "code",
      "metadata": {
        "id": "isfy6fkaAAiF",
        "colab_type": "code",
        "outputId": "e093b3ad-acdd-4384-cc07-7dc2a9aa087a",
        "colab": {
          "base_uri": "https://localhost:8080/",
          "height": 34
        }
      },
      "source": [
        "# torch.no_grad() -> Context manager to disable backprop for\n",
        "#                    some particular operation. This means that\n",
        "#                    the operation will not be recorded on graph.\n",
        "a = torch.arange(10, requires_grad=True, dtype=torch.float32, device='cuda')\n",
        "b = torch.arange(10, 20, requires_grad=True, dtype=torch.float32, device='cuda')\n",
        "with torch.no_grad():\n",
        "    c = a * b\n",
        "print(c.requires_grad)"
      ],
      "execution_count": 28,
      "outputs": [
        {
          "output_type": "stream",
          "text": [
            "False\n"
          ],
          "name": "stdout"
        }
      ]
    },
    {
      "cell_type": "code",
      "metadata": {
        "id": "TEEbwIIhBiHz",
        "colab_type": "code",
        "outputId": "48dc8891-e2b0-4970-ad7a-b42f6364e919",
        "colab": {
          "base_uri": "https://localhost:8080/",
          "height": 50
        }
      },
      "source": [
        "# torch.enable_grad() -> Enablewe grad for operations where grad computation\n",
        "#                        has been altered using torch.no_grad or torch.set_grad_enabled\n",
        "# Method 1\n",
        "a = torch.arange(10, requires_grad=True, dtype=torch.float32, device='cuda')\n",
        "b = torch.arange(10, 20, requires_grad=True, dtype=torch.float32, device='cuda')\n",
        "with torch.no_grad():\n",
        "    with torch.enable_grad():\n",
        "        c = a * b\n",
        "print(c.requires_grad)\n",
        "\n",
        "# Method 2\n",
        "@torch.enable_grad()\n",
        "def mul_op(x, y):\n",
        "    return x * y\n",
        "\n",
        "with torch.no_grad():\n",
        "    c = mul_op(a, b)\n",
        "print(c.requires_grad)"
      ],
      "execution_count": 29,
      "outputs": [
        {
          "output_type": "stream",
          "text": [
            "True\n",
            "True\n"
          ],
          "name": "stdout"
        }
      ]
    },
    {
      "cell_type": "code",
      "metadata": {
        "id": "6slupOmQCbj0",
        "colab_type": "code",
        "colab": {}
      },
      "source": [
        "# Math operations\n",
        "# torch.abs\n",
        "# torch.acos\n",
        "# torch.asin\n",
        "# torch.atan\n",
        "# torch.atan2\n",
        "# torch.sin\n",
        "# torch.cos\n",
        "# torch.cosh\n",
        "# torch.tanh\n",
        "# torch.sinh\n",
        "# torch.tan\n",
        "# torch.exp\n",
        "# torch.log\n",
        "# torch.log10\n",
        "# torch.log2\n",
        "# torch.pow\n",
        "# torch.div\n",
        "# torch.add\n",
        "# torch.mul\n",
        "# torch.reciprocal\n",
        "# torch.remainder\n",
        "# torch.round\n",
        "# torch.rsqrt\n",
        "# torch.sqrt\n",
        "# torch.sigmoid\n",
        "# torch.sign\n",
        "# torch.square\n",
        "# torch.true_devide\n",
        "# torch.trunc -> truncate a floting point into integer\n",
        "# torch.argmax\n",
        "# torch.argmin\n",
        "# torch.max\n",
        "# torch.min\n",
        "# torch.dist -> Computes the p-norm of a tensor (default p=2)\n",
        "# torch.logsumexp\n",
        "# torch.mean\n",
        "# torch.median\n",
        "# torch.mode\n",
        "# torch.std\n",
        "# torch.std_mean\n",
        "# torch.var\n",
        "# torch.var_mean\n",
        "# torch.sum\n",
        "# torch.prod\n",
        "# torch.cumsum\n",
        "# torch.cumprod\n",
        "# torch.unique\n",
        "# torch.diag -> same as np.diag\n",
        "# torch.cholesky\n",
        "# torch.cholesky_solve\n",
        "# torch.solve\n",
        "# torch.triangular_solve\n",
        "# torch.lu\n",
        "# torch.lu_solve\n",
        "# torch.qr\n",
        "# torch.svd\n",
        "# torch.scd_lowrank\n",
        "# torch.pca_lowrank\n",
        "# torch.symeig -> Eigenvalues and vectors for symetric matrices\n",
        "# torch.matrix_power\n",
        "# torch.matrix_rank\n",
        "# torch.eig\n",
        "# torch.det\n",
        "# torch.logdet\n",
        "# torch.slogdet\n",
        "# torch.trace\n",
        "# torch.tril -> Returns the lower triangular part of input\n",
        "# torch.triu\n",
        "# torch.lstsq\n",
        "# torch.inverse  -> same as np.inv\n",
        "# torch.pinverse -> same as np.pinv\n",
        "# torch.flatten\n",
        "# torch.norm -> Computes the norm of a matrix or vector\n",
        "# torch.add -> Can be used as axpy but for tensors\n",
        "# torch.addcdiv -> Performs the element-wise division of `tensor1` by `tensor2`,\n",
        "#                  multiply the result by the scalar `value` and add it to `input`\n",
        "#                  result = input + value * (tensor1 / tensor2)\n",
        "# torch.addcmul -> Same as addcdiv but for multiplecation\n",
        "# torch.bitwise_not -> oeprator |\n",
        "# torch.bitwise_and -> operator &\n",
        "# torch.bitwise_not\n",
        "# torch.bitwise_xor\n",
        "# torch.ceil\n",
        "# torch.floor\n",
        "# torch.angle -> Commutes the angle of each vector (complex number function)\n",
        "# torch.conj -> Computes the conjugate of each vector (complex number function)"
      ],
      "execution_count": 0,
      "outputs": []
    },
    {
      "cell_type": "code",
      "metadata": {
        "id": "tADWFzJiF4LZ",
        "colab_type": "code",
        "outputId": "a4da3355-5659-4ee4-9478-a26418a138c4",
        "colab": {
          "base_uri": "https://localhost:8080/",
          "height": 84
        }
      },
      "source": [
        "# torch.clamp -> works like `np.clip`. Clips a tensor in [min, max] range\n",
        "a = torch.arange(0, 20)\n",
        "print(a)\n",
        "a = torch.clamp(a, min=5, max=15)\n",
        "print(a)"
      ],
      "execution_count": 31,
      "outputs": [
        {
          "output_type": "stream",
          "text": [
            "tensor([ 0,  1,  2,  3,  4,  5,  6,  7,  8,  9, 10, 11, 12, 13, 14, 15, 16, 17,\n",
            "        18, 19])\n",
            "tensor([ 5,  5,  5,  5,  5,  5,  6,  7,  8,  9, 10, 11, 12, 13, 14, 15, 15, 15,\n",
            "        15, 15])\n"
          ],
          "name": "stdout"
        }
      ]
    },
    {
      "cell_type": "code",
      "metadata": {
        "id": "3CQEJfsoIRM1",
        "colab_type": "code",
        "colab": {}
      },
      "source": [
        "# Advanced Mathematical Operations\n",
        "# torch.digamma -> Derivative of log of gamma function => d/dx ( ln(gamma(input)) )\n",
        "# torch.erf -> Error function\n",
        "# torch.erfc -> Complement of the error function\n",
        "# torch.erfinv -> Inverse of the error function\n",
        "# torch.exp\n",
        "# torch.expm1\n",
        "# torch.log1p -> inverse of torch.expm1\n",
        "# torch.floor_devide\n",
        "# torch.fmod -> Float %\n",
        "# torch.frac -> Computes the fractional portion of each element in `input`\n",
        "# torch.lerp -> out = start + weight * (end - start)\n",
        "# torch.lgamma -> Logirithm of the gamma function\n",
        "# torch.mvlgamma -> Compute the multivariate log gamma function\n",
        "# torch.polygamma -> Compute the n'th derivative of `torch.digamma` function"
      ],
      "execution_count": 0,
      "outputs": []
    },
    {
      "cell_type": "code",
      "metadata": {
        "id": "wUAti9avJivi",
        "colab_type": "code",
        "colab": {}
      },
      "source": [
        "# Comparison Ops\n",
        "# torch.equal\n",
        "# torch.eq\n",
        "# torch.ne\n",
        "# torch.ge\n",
        "# torch.le\n",
        "# torch.gt\n",
        "# torch.lt\n",
        "# torch.allclose\n",
        "# torch.isfinite\n",
        "# torch.isinf\n",
        "# torch.isnan\n",
        "# torch.kthvalue"
      ],
      "execution_count": 0,
      "outputs": []
    },
    {
      "cell_type": "code",
      "metadata": {
        "id": "nYgrPg-5S7rs",
        "colab_type": "code",
        "colab": {}
      },
      "source": [
        "# torch.sort\n",
        "# torch.argsort\n",
        "# torch.topk\n",
        "# torch.kthvalue"
      ],
      "execution_count": 0,
      "outputs": []
    },
    {
      "cell_type": "code",
      "metadata": {
        "id": "bEISpvkXfnrX",
        "colab_type": "code",
        "colab": {}
      },
      "source": [
        "# TODO: BLAS and LAPACK functions"
      ],
      "execution_count": 0,
      "outputs": []
    },
    {
      "cell_type": "code",
      "metadata": {
        "id": "XURzQke-fr0-",
        "colab_type": "code",
        "outputId": "ab07c128-aff8-4123-b3a7-a1a3608b1f66",
        "colab": {
          "base_uri": "https://localhost:8080/",
          "height": 34
        }
      },
      "source": [
        "#################################################################################\n",
        "#                                                                               #\n",
        "#                           NEURAL NETWORKS IN PYTORCH                          #\n",
        "#                                                                               #\n",
        "#################################################################################\n",
        "from torch import nn\n",
        "from torch.nn import functional as F\n",
        "torch.set_default_dtype(torch.float32)\n",
        "torch.manual_seed(420)"
      ],
      "execution_count": 36,
      "outputs": [
        {
          "output_type": "execute_result",
          "data": {
            "text/plain": [
              "<torch._C.Generator at 0x7f48ee80f170>"
            ]
          },
          "metadata": {
            "tags": []
          },
          "execution_count": 36
        }
      ]
    },
    {
      "cell_type": "code",
      "metadata": {
        "id": "UXDg8dEpiG7t",
        "colab_type": "code",
        "outputId": "cc883127-6a3c-47f1-ee37-25a2a8d6be0c",
        "colab": {
          "base_uri": "https://localhost:8080/",
          "height": 168
        }
      },
      "source": [
        "# torch.nn.Parameter -> Registers a parameter in the scope of the module.\n",
        "#                       Doesn't backpropogate if used in or from other module,\n",
        "#                       unless registered.\n",
        "a = torch.randn(4, 5)\n",
        "print(a)\n",
        "nn.Parameter(a)"
      ],
      "execution_count": 37,
      "outputs": [
        {
          "output_type": "stream",
          "text": [
            "tensor([[-0.0070,  0.5044,  0.6704, -0.3829,  0.0938],\n",
            "        [-2.0492,  1.0550, -0.6222,  0.5020,  0.7538],\n",
            "        [ 0.6128, -0.9300,  1.3646, -0.7372, -0.7084],\n",
            "        [-0.2842, -1.4816,  0.3298,  0.4856,  0.4131]])\n"
          ],
          "name": "stdout"
        },
        {
          "output_type": "execute_result",
          "data": {
            "text/plain": [
              "Parameter containing:\n",
              "tensor([[-0.0070,  0.5044,  0.6704, -0.3829,  0.0938],\n",
              "        [-2.0492,  1.0550, -0.6222,  0.5020,  0.7538],\n",
              "        [ 0.6128, -0.9300,  1.3646, -0.7372, -0.7084],\n",
              "        [-0.2842, -1.4816,  0.3298,  0.4856,  0.4131]], requires_grad=True)"
            ]
          },
          "metadata": {
            "tags": []
          },
          "execution_count": 37
        }
      ]
    },
    {
      "cell_type": "code",
      "metadata": {
        "id": "eXW5LTQfiW-y",
        "colab_type": "code",
        "colab": {}
      },
      "source": [
        "# torch.nn.Module -> A class to create your NN. Define `__init__` to\n",
        "#                    initialize model parameters and `forward` method\n",
        "#                    to define operations on the parameters and input.\n",
        "#                    Registered parameters will be backpropogated while\n",
        "#                    training.\n",
        "class LinearRegressor(nn.Module):\n",
        "    def __init__(self, n_features):\n",
        "        super(LinearRegressor, self).__init__()\n",
        "        self.w = nn.Parameter(torch.randn(n_features, 1))\n",
        "        self.b = nn.Parameter(torch.randn(1))\n",
        "\n",
        "    def forward(self, X):\n",
        "        return X @ self.w + self.b"
      ],
      "execution_count": 0,
      "outputs": []
    },
    {
      "cell_type": "code",
      "metadata": {
        "id": "l9XskQqioFbA",
        "colab_type": "code",
        "outputId": "5ee67630-1264-42f3-c06d-c7dcd5e3b9c1",
        "colab": {
          "base_uri": "https://localhost:8080/",
          "height": 295
        }
      },
      "source": [
        "# Preparing Data\n",
        "import matplotlib.pyplot as plt\n",
        "n_examples = 10\n",
        "n_features = 1\n",
        "X = torch.randn(n_examples, n_features)\n",
        "w_true = torch.randn(n_features, 1)\n",
        "b_true = torch.randn(1)\n",
        "y_true = X @ w_true + b_true + 0.1 * torch.randn(n_examples, 1)\n",
        "plt.scatter(X, y_true)\n",
        "plt.title('Generated Data')\n",
        "plt.xlabel('X')\n",
        "plt.ylabel('y')\n",
        "plt.show()"
      ],
      "execution_count": 39,
      "outputs": [
        {
          "output_type": "display_data",
          "data": {
            "image/png": "[encoded data removed]",
            "text/plain": [
              "<Figure size 432x288 with 1 Axes>"
            ]
          },
          "metadata": {
            "tags": [],
            "needs_background": "light"
          }
        }
      ]
    },
    {
      "cell_type": "code",
      "metadata": {
        "id": "s7y2XJ7BlOjG",
        "colab_type": "code",
        "outputId": "f19dc6e3-7c74-4def-9e50-72bbbba47efe",
        "colab": {
          "base_uri": "https://localhost:8080/",
          "height": 235
        }
      },
      "source": [
        "# Initialize the LinearRegressor model.\n",
        "model = LinearRegressor(n_features)\n",
        "print(model(X))\n",
        "# .parameters() `yields` the parameters.\n",
        "# Not a list of parameters.\n",
        "print([i for i in model.parameters()])"
      ],
      "execution_count": 40,
      "outputs": [
        {
          "output_type": "stream",
          "text": [
            "tensor([[-0.9310],\n",
            "        [ 0.0286],\n",
            "        [ 1.1748],\n",
            "        [ 0.5521],\n",
            "        [ 0.4158],\n",
            "        [-2.0681],\n",
            "        [ 0.3057],\n",
            "        [-0.5863],\n",
            "        [-0.1718],\n",
            "        [-1.4015]], grad_fn=<AddBackward0>)\n",
            "[Parameter containing:\n",
            "tensor([[-0.8565]], requires_grad=True), Parameter containing:\n",
            "tensor([0.0513], requires_grad=True)]\n"
          ],
          "name": "stdout"
        }
      ]
    },
    {
      "cell_type": "code",
      "metadata": {
        "id": "Yr4CTh9SnKLM",
        "colab_type": "code",
        "outputId": "b6c84af3-a870-4f6b-a944-ee317edd8ff6",
        "colab": {
          "base_uri": "https://localhost:8080/",
          "height": 34
        }
      },
      "source": [
        "# Training a torch.nn.Module() model\n",
        "from time import sleep\n",
        "from sys import stdout\n",
        "epochs = 100\n",
        "# torch.nn contains many loss functions. We use\n",
        "# mse loss with mean over all the examples.\n",
        "loss_fn = nn.MSELoss(reduction='mean')\n",
        "# torch.optim contains many optimizers like Adam, Momentum\n",
        "# SGD, Adagrad, Adadelta, RMSProp, Nesterov Momentum, etc\n",
        "optimizer = torch.optim.SGD(model.parameters(), lr=1e-2)\n",
        "\n",
        "# Let's define our training loop now!\n",
        "for i in range(epochs):\n",
        "    y_pred = model(X) # Compute the prediction by forward propogating\n",
        "\n",
        "    loss = loss_fn(y_pred, y_true) # Evaluate the loss function\n",
        "    # Print the loss\n",
        "    stdout.write(f'\\repoch: {i} \\t {20*\"\"}')\n",
        "    stdout.write(f'\\repoch: {i} \\t loss: {loss.item():.3f}')\n",
        "    optimizer.zero_grad() # Initialize the optimizer\n",
        "    # Backpropogate through the graph. This will compute the\n",
        "    # gradients of all the parameters in-place and store them\n",
        "    # in .grad() method of the parameters.\n",
        "    loss.backward()\n",
        "    optimizer.step() # Take one step of optimizer. This will update our parameters.\n",
        "    sleep(0.2)"
      ],
      "execution_count": 41,
      "outputs": [
        {
          "output_type": "stream",
          "text": [
            "epoch: 99 \t loss: 0.017"
          ],
          "name": "stdout"
        }
      ]
    },
    {
      "cell_type": "code",
      "metadata": {
        "id": "06D8Kj1Qp2uY",
        "colab_type": "code",
        "outputId": "b0cf1c00-fb76-49ce-fd74-067eba51836f",
        "colab": {
          "base_uri": "https://localhost:8080/",
          "height": 454
        }
      },
      "source": [
        "# Let's see how good did we perform\n",
        "print(w_true)\n",
        "print(b_true)\n",
        "params = [i for i in model.parameters()]\n",
        "print(params[0])\n",
        "print(params[1])\n",
        "print(y_true)\n",
        "print(model(X))"
      ],
      "execution_count": 42,
      "outputs": [
        {
          "output_type": "stream",
          "text": [
            "tensor([[0.5441]])\n",
            "tensor([0.5470])\n",
            "Parameter containing:\n",
            "tensor([[0.4573]], requires_grad=True)\n",
            "Parameter containing:\n",
            "tensor([0.5397], requires_grad=True)\n",
            "tensor([[ 1.1738],\n",
            "        [ 0.6697],\n",
            "        [-0.1860],\n",
            "        [ 0.2040],\n",
            "        [ 0.2006],\n",
            "        [ 1.8688],\n",
            "        [ 0.2579],\n",
            "        [ 0.8006],\n",
            "        [ 0.5921],\n",
            "        [ 1.4782]])\n",
            "tensor([[ 1.0641],\n",
            "        [ 0.5518],\n",
            "        [-0.0602],\n",
            "        [ 0.2723],\n",
            "        [ 0.3451],\n",
            "        [ 1.6712],\n",
            "        [ 0.4039],\n",
            "        [ 0.8801],\n",
            "        [ 0.6588],\n",
            "        [ 1.3153]], grad_fn=<AddBackward0>)\n"
          ],
          "name": "stdout"
        }
      ]
    },
    {
      "cell_type": "code",
      "metadata": {
        "id": "6f9VmRAQq3O4",
        "colab_type": "code",
        "colab": {}
      },
      "source": [
        "# Somethings to remember about torch.nn.Module()\n",
        "# ============================================================================================= #\n",
        "#                                      Some Methods to remember                                 #\n",
        "# ============================================================================================= #\n",
        "# add_module(name, module) -> Add a sub module that will be registered\n",
        "#                             and affected by changes to the main module\n",
        "# -----------------------------------------------------------------------------------------------\n",
        "# apply(fn) -> Apply a function to all the submodules and the main module\n",
        "#              The function `fn` takes a module `m` as an argument\n",
        "# -----------------------------------------------------------------------------------------------\n",
        "# children() -> Generator of the children of the model (generates only the module)\n",
        "# named_children() -> Generator of the children of the model (generates the module and its name)\n",
        "# -----------------------------------------------------------------------------------------------\n",
        "# modules() -> Generates the modules in the scope of the main module\n",
        "# named_modules() -> Generates name along wwith module\n",
        "# -----------------------------------------------------------------------------------------------\n",
        "# parameters() -> Generator of the parameters in the main and sub modules\n",
        "# named_parameters() -> Generates name along with their object\n",
        "# -----------------------------------------------------------------------------------------------\n",
        "# cpu()   -> Move all parameters and buffers to cpu\n",
        "# cuda()  -> Move all parameters and buffers to gpu\n",
        "# -----------------------------------------------------------------------------------------------\n",
        "# double() -> Casts all the parameters/buffers to double (float64) datatype\n",
        "# float()  -> Casts all the parameters/buffers to float (float32) datatype\n",
        "# half()   -> Casts all the parameters/buffers to half datatype\n",
        "# -----------------------------------------------------------------------------------------------\n",
        "# extra_repr() -> Sets the extra representation of the module to print custom info\n",
        "# -----------------------------------------------------------------------------------------------\n",
        "# register_forward_hook(hook) -> Registers a forward hook on the module.\n",
        "#                                The hook will be called every time after forward()\n",
        "#                                has computed an output.\n",
        "#                                It should have the signature hook(module, input, output)\n",
        "# register_forward_pre_hood(hook) -> Called before the call to forward(). Must have signature\n",
        "#                                    hook(module, input) -> None or modified input.\n",
        "# register_parameter(name, tensor) -> Register a parameter in a module so the gradients will be\n",
        "#                                     propogated when backward is called.\n",
        "# requires_grad_() -> Used to finetune models. Setting it false disables the backprob state of\n",
        "#                     parameters with which it is called. You can finetune models be disabling\n",
        "#                     some gradients.\n",
        "# -----------------------------------------------------------------------------------------------\n",
        "# to() -> See the docs to understand it properly.\n",
        "# ============================================================================================= #"
      ],
      "execution_count": 0,
      "outputs": []
    },
    {
      "cell_type": "code",
      "metadata": {
        "id": "xvIIXgWQNvRi",
        "colab_type": "code",
        "colab": {}
      },
      "source": [
        "# An example of `add_module`\n",
        "class LogisticRegressor(nn.Module):\n",
        "    def __init__(self, n_features):\n",
        "        super(LogisticRegressor, self).__init__()\n",
        "        self.add_module('lm', LinearRegressor(n_features))\n",
        "\n",
        "    def forward(self, X):\n",
        "        out = self.lm(X)\n",
        "        y_pred = torch.sigmoid(out)\n",
        "        return y_pred"
      ],
      "execution_count": 0,
      "outputs": []
    },
    {
      "cell_type": "code",
      "metadata": {
        "id": "t57PH7CIOwsp",
        "colab_type": "code",
        "outputId": "8abf90d1-5a72-4725-c642-b77f652f5738",
        "colab": {
          "base_uri": "https://localhost:8080/",
          "height": 185
        }
      },
      "source": [
        "# Let's see how `add_module` works\n",
        "model = LogisticRegressor(n_features)\n",
        "model(X)"
      ],
      "execution_count": 45,
      "outputs": [
        {
          "output_type": "execute_result",
          "data": {
            "text/plain": [
              "tensor([[0.3267],\n",
              "        [0.3550],\n",
              "        [0.3900],\n",
              "        [0.3708],\n",
              "        [0.3666],\n",
              "        [0.2949],\n",
              "        [0.3633],\n",
              "        [0.3367],\n",
              "        [0.3490],\n",
              "        [0.3133]], grad_fn=<SigmoidBackward>)"
            ]
          },
          "metadata": {
            "tags": []
          },
          "execution_count": 45
        }
      ]
    },
    {
      "cell_type": "code",
      "metadata": {
        "id": "ONgsz7Y1O00j",
        "colab_type": "code",
        "outputId": "61c26072-6527-439c-cde2-67cfc24047bd",
        "colab": {
          "base_uri": "https://localhost:8080/",
          "height": 34
        }
      },
      "source": [
        "# Example of `children` method\n",
        "list(model.children())"
      ],
      "execution_count": 46,
      "outputs": [
        {
          "output_type": "execute_result",
          "data": {
            "text/plain": [
              "[LinearRegressor()]"
            ]
          },
          "metadata": {
            "tags": []
          },
          "execution_count": 46
        }
      ]
    },
    {
      "cell_type": "code",
      "metadata": {
        "id": "MLXk55XmO3Pv",
        "colab_type": "code",
        "outputId": "318563db-98a0-44b3-8137-b09ad1ee977c",
        "colab": {
          "base_uri": "https://localhost:8080/",
          "height": 67
        }
      },
      "source": [
        "# Example of torch.apply\n",
        "@torch.no_grad()\n",
        "def apply_func(m):\n",
        "    # m is a module so we can preprocess\n",
        "    # parameters if we want to.\n",
        "    m.w = nn.Parameter(torch.tensor([[1.], [2.], [3.], [4.]]))\n",
        "    m.b = nn.Parameter(torch.tensor([1.]))\n",
        "\n",
        "model.apply(apply_func)"
      ],
      "execution_count": 47,
      "outputs": [
        {
          "output_type": "execute_result",
          "data": {
            "text/plain": [
              "LogisticRegressor(\n",
              "  (lm): LinearRegressor()\n",
              ")"
            ]
          },
          "metadata": {
            "tags": []
          },
          "execution_count": 47
        }
      ]
    },
    {
      "cell_type": "code",
      "metadata": {
        "id": "GnenQlDMQi_t",
        "colab_type": "code",
        "colab": {}
      },
      "source": [
        "# Some special modules\n",
        "# 1. torch.nn.Sequential -> A sequential model\n",
        "# 2. torch.nn.ModuleList -> Module with multiple sub-modules passed as a list\n",
        "# 3. torch.nn.ModuleDict -> Module with multiple sub-modules passed as a ordered dict"
      ],
      "execution_count": 0,
      "outputs": []
    },
    {
      "cell_type": "code",
      "metadata": {
        "id": "yxwGZqcDb-hr",
        "colab_type": "code",
        "colab": {}
      },
      "source": [
        "# ============================================================================================= #\n",
        "#                                       Models! Models! Models!                                 #\n",
        "# ============================================================================================= #"
      ],
      "execution_count": 0,
      "outputs": []
    },
    {
      "cell_type": "code",
      "metadata": {
        "id": "0AEA7bIJcz36",
        "colab_type": "code",
        "colab": {}
      },
      "source": [
        "############################\n",
        "#   1. Linear Regression   #\n",
        "############################\n",
        "n_examples = 10\n",
        "n_features = 1"
      ],
      "execution_count": 0,
      "outputs": []
    },
    {
      "cell_type": "code",
      "metadata": {
        "id": "OXGFG_F-chH5",
        "colab_type": "code",
        "colab": {}
      },
      "source": [
        "# Step 1: Define Model\n",
        "class LinearRegressor(nn.Module):\n",
        "    def __init__(self, n_features):\n",
        "        super(LinearRegressor, self).__init__()\n",
        "        self.w = nn.Parameter(torch.randn(n_features, 1))\n",
        "        self.b = nn.Parameter(torch.randn(1))\n",
        "\n",
        "    def forward(self, X):\n",
        "        return X @ self.w + self.b"
      ],
      "execution_count": 0,
      "outputs": []
    },
    {
      "cell_type": "code",
      "metadata": {
        "id": "rqRH1Psvc_PX",
        "colab_type": "code",
        "outputId": "d96e4ddd-25bf-44d4-a80b-fa8f8ef017c4",
        "colab": {
          "base_uri": "https://localhost:8080/",
          "height": 295
        }
      },
      "source": [
        "# Step 2: Prepare Data\n",
        "import matplotlib.pyplot as plt\n",
        "\n",
        "X = torch.randn(n_examples, n_features)\n",
        "w_true = torch.randn(n_features, 1)\n",
        "b_true = torch.randn(1)\n",
        "\n",
        "y_true = X @ w_true + b_true + 0.1 * torch.randn(n_examples, 1)\n",
        "\n",
        "if n_features == 1:\n",
        "    plt.scatter(X, y_true)\n",
        "    plt.title('Generated Data')\n",
        "    plt.xlabel('X')\n",
        "    plt.ylabel('y')\n",
        "    plt.show()"
      ],
      "execution_count": 52,
      "outputs": [
        {
          "output_type": "display_data",
          "data": {
            "image/png": "[encoded data removed]",
            "text/plain": [
              "<Figure size 432x288 with 1 Axes>"
            ]
          },
          "metadata": {
            "tags": [],
            "needs_background": "light"
          }
        }
      ]
    },
    {
      "cell_type": "code",
      "metadata": {
        "id": "PVQW284YdVhz",
        "colab_type": "code",
        "colab": {}
      },
      "source": [
        "# Step 3: Initialize the LinearRegressor model.\n",
        "model = LinearRegressor(n_features)"
      ],
      "execution_count": 0,
      "outputs": []
    },
    {
      "cell_type": "code",
      "metadata": {
        "id": "woR3BGyldfHr",
        "colab_type": "code",
        "outputId": "99e2a5a5-76b9-4aec-bb7d-63ca74c848e2",
        "colab": {
          "base_uri": "https://localhost:8080/",
          "height": 34
        }
      },
      "source": [
        "# Step 4: Train!\n",
        "epochs = 100\n",
        "\n",
        "\n",
        "loss_fn = nn.MSELoss(reduction='mean')\n",
        "optimizer = torch.optim.SGD(model.parameters(), lr=1e-2)\n",
        "\n",
        "# Let's define our training loop now!\n",
        "for i in range(epochs):\n",
        "    y_pred = model(X)\n",
        "\n",
        "    loss = loss_fn(y_pred, y_true)\n",
        "    stdout.write(f'\\repoch: {i} \\t {20*\"\"}')\n",
        "    stdout.write(f'\\repoch: {i} \\t loss: {loss.item():.3f}')\n",
        "\n",
        "    optimizer.zero_grad()\n",
        "    loss.backward()\n",
        "    optimizer.step()\n",
        "    sleep(0.2)"
      ],
      "execution_count": 54,
      "outputs": [
        {
          "output_type": "stream",
          "text": [
            "epoch: 99 \t loss: 0.024"
          ],
          "name": "stdout"
        }
      ]
    },
    {
      "cell_type": "code",
      "metadata": {
        "id": "IxMGs0Bvd-jX",
        "colab_type": "code",
        "colab": {}
      },
      "source": [
        "##############################\n",
        "#   1. Logistic Regression   #\n",
        "##############################\n",
        "n_examples = 10\n",
        "n_features = 1"
      ],
      "execution_count": 0,
      "outputs": []
    },
    {
      "cell_type": "code",
      "metadata": {
        "id": "AHl1NA7zd0cb",
        "colab_type": "code",
        "colab": {}
      },
      "source": [
        "# Step 1: Define Model\n",
        "class LogisticRegressor(nn.Module):\n",
        "    def __init__(self, n_features):\n",
        "        super(LogisticRegressor, self).__init__()\n",
        "        self.add_module('lm', LinearRegressor(n_features))\n",
        "\n",
        "    def forward(self, X):\n",
        "        out = self.lm(X)\n",
        "        y_pred = torch.sigmoid(out)\n",
        "        return y_pred"
      ],
      "execution_count": 0,
      "outputs": []
    },
    {
      "cell_type": "code",
      "metadata": {
        "id": "2jspJmUyeJPv",
        "colab_type": "code",
        "outputId": "4aa0f0f8-87f3-4116-b13f-8024977f8aa6",
        "colab": {
          "base_uri": "https://localhost:8080/",
          "height": 295
        }
      },
      "source": [
        "# Step 2: Prepare Data\n",
        "X = torch.randn(n_examples, n_features)\n",
        "w_true = torch.randn(n_features, 1)\n",
        "b_true = torch.randn(1)\n",
        "\n",
        "f_true = X @ w_true + b_true + 0.1 * torch.randn(n_examples, 1)\n",
        "y_true = 1.*(torch.sigmoid(f_true) >= 0.5)\n",
        "\n",
        "if n_features == 1:\n",
        "    plt.scatter(X, y_true)\n",
        "    plt.title('Generated Data')\n",
        "    plt.xlabel('X')\n",
        "    plt.ylabel('y')\n",
        "    plt.show()"
      ],
      "execution_count": 57,
      "outputs": [
        {
          "output_type": "display_data",
          "data": {
            "image/png": "[encoded data removed]",
            "text/plain": [
              "<Figure size 432x288 with 1 Axes>"
            ]
          },
          "metadata": {
            "tags": [],
            "needs_background": "light"
          }
        }
      ]
    },
    {
      "cell_type": "code",
      "metadata": {
        "id": "u5JEk6Cyec72",
        "colab_type": "code",
        "colab": {}
      },
      "source": [
        "# Step 3: Initialize the LogisticRegressor model.\n",
        "model = LogisticRegressor(n_features)"
      ],
      "execution_count": 0,
      "outputs": []
    },
    {
      "cell_type": "code",
      "metadata": {
        "id": "derj8X0Dey1V",
        "colab_type": "code",
        "outputId": "713c7490-840f-48d6-b825-a59b85ec969b",
        "colab": {
          "base_uri": "https://localhost:8080/",
          "height": 34
        }
      },
      "source": [
        "# Step 4: Train!\n",
        "epochs = 100\n",
        "\n",
        "loss_fn   = nn.BCELoss(reduction='mean')\n",
        "optimizer = torch.optim.Adam(model.parameters(), lr=1e-2)\n",
        "\n",
        "# Let's define our training loop now!\n",
        "for i in range(epochs):\n",
        "    y_proba = model(X)\n",
        "    y_pred  = 1.*(y_proba >= 0.5)\n",
        "    loss = loss_fn(y_proba, y_true)\n",
        "    stdout.write(f'\\repoch: {i} \\t {30*\"\"}')\n",
        "    stdout.write(f'\\repoch: {i} \\t loss: {loss.item():.3f} \\t'\n",
        "                 f' acc: {torch.sum(y_pred == y_true) / float(n_examples):.3f}')\n",
        "\n",
        "    optimizer.zero_grad()\n",
        "    loss.backward()\n",
        "    optimizer.step()\n",
        "    sleep(0.2)"
      ],
      "execution_count": 59,
      "outputs": [
        {
          "output_type": "stream",
          "text": [
            "epoch: 99 \t loss: 0.576 \t acc: 0.600"
          ],
          "name": "stdout"
        }
      ]
    },
    {
      "cell_type": "code",
      "metadata": {
        "id": "nsQNWYmugWo-",
        "colab_type": "code",
        "colab": {}
      },
      "source": [
        "##############\n",
        "#   1. ANN   #\n",
        "##############\n",
        "n_examples = 100\n",
        "n_features = 10"
      ],
      "execution_count": 0,
      "outputs": []
    },
    {
      "cell_type": "code",
      "metadata": {
        "id": "1BHXYVSciSJU",
        "colab_type": "code",
        "colab": {}
      },
      "source": [
        "# We complete steps 1 and 3 in one step by using nn.Sequential\n",
        "model = nn.Sequential(\n",
        "    nn.Linear(n_features, 16),\n",
        "    nn.ReLU(),\n",
        "    nn.Linear(16, 16),\n",
        "    nn.ReLU(),\n",
        "    nn.Linear(16, 1)\n",
        ")"
      ],
      "execution_count": 0,
      "outputs": []
    },
    {
      "cell_type": "code",
      "metadata": {
        "id": "HPA99jdCjJcG",
        "colab_type": "code",
        "outputId": "9f3f27dd-6eff-4ae4-e2a1-3c9bf4278e48",
        "colab": {
          "base_uri": "https://localhost:8080/",
          "height": 34
        }
      },
      "source": [
        "# Let's peek into the model and see its parameters.\n",
        "dict(model.named_parameters()).keys()"
      ],
      "execution_count": 62,
      "outputs": [
        {
          "output_type": "execute_result",
          "data": {
            "text/plain": [
              "dict_keys(['0.weight', '0.bias', '2.weight', '2.bias', '4.weight', '4.bias'])"
            ]
          },
          "metadata": {
            "tags": []
          },
          "execution_count": 62
        }
      ]
    },
    {
      "cell_type": "code",
      "metadata": {
        "id": "CVm3NrEqjLIa",
        "colab_type": "code",
        "colab": {}
      },
      "source": [
        "# Step 2: Prepare data\n",
        "X = torch.randn(n_examples, n_features)\n",
        "f_true = (torch.logsumexp(X, dim=1, keepdim=True) +\n",
        "          0.01*torch.randn(n_examples, 1))\n",
        "f_true = torch.sigmoid(f_true-f_true.mean())\n",
        "y_true = 1.*(f_true >= 0.5)"
      ],
      "execution_count": 0,
      "outputs": []
    },
    {
      "cell_type": "code",
      "metadata": {
        "id": "Q7PJ-Hrek7xt",
        "colab_type": "code",
        "outputId": "cee9e540-dc66-4ce1-e3e9-4c29f023c14d",
        "colab": {
          "base_uri": "https://localhost:8080/",
          "height": 34
        }
      },
      "source": [
        "# Step 4: Train!\n",
        "epochs = 20\n",
        "\n",
        "\n",
        "loss_fn = nn.BCEWithLogitsLoss(reduction='mean')\n",
        "optimizer = torch.optim.RMSprop(model.parameters(), lr=1e-2)\n",
        "\n",
        "# Let's define our training loop now!\n",
        "for i in range(epochs):\n",
        "    f_pred = model(X)\n",
        "    y_pred  = 1.*(torch.sigmoid(f_pred) >= 0.5)\n",
        "    loss = loss_fn(f_pred, y_true)\n",
        "    stdout.write(f'\\repoch: {i} \\t {30*\"\"}')\n",
        "    stdout.write(f'\\repoch: {i} \\t loss: {loss.item():.3f} \\t'\n",
        "                 f' acc: {torch.sum(y_pred == y_true) / float(n_examples):.3f}')\n",
        "\n",
        "    optimizer.zero_grad()\n",
        "    loss.backward()\n",
        "    optimizer.step()\n",
        "    sleep(0.2)"
      ],
      "execution_count": 64,
      "outputs": [
        {
          "output_type": "stream",
          "text": [
            "epoch: 19 \t loss: 0.051 \t acc: 0.990"
          ],
          "name": "stdout"
        }
      ]
    },
    {
      "cell_type": "code",
      "metadata": {
        "id": "jP6_YGSvk81h",
        "colab_type": "code",
        "colab": {}
      },
      "source": [
        "##############\n",
        "#   1. CNN   #\n",
        "##############\n",
        "torch.set_default_dtype(torch.float32)"
      ],
      "execution_count": 0,
      "outputs": []
    },
    {
      "cell_type": "code",
      "metadata": {
        "id": "XJ0UPmam4nEA",
        "colab_type": "code",
        "outputId": "f82eb93a-02fd-459f-bd24-a59c6b0e79c9",
        "colab": {
          "base_uri": "https://localhost:8080/",
          "height": 34
        }
      },
      "source": [
        "from keras.datasets import mnist\n",
        "\n",
        "(x_train, y_train), (x_test, y_test) = mnist.load_data()\n",
        "x_train = (x_train / 255.).reshape(-1, 1, 28, 28).astype('float32')\n",
        "x_test = (x_test / 255.).reshape(-1, 1, 28, 28).astype('float32')\n",
        "y_train, y_test = ((y_train).astype('float32'),\n",
        "                   (y_test).astype('float32'))"
      ],
      "execution_count": 66,
      "outputs": [
        {
          "output_type": "stream",
          "text": [
            "Using TensorFlow backend.\n"
          ],
          "name": "stderr"
        }
      ]
    },
    {
      "cell_type": "code",
      "metadata": {
        "id": "xCgazCqb4vMB",
        "colab_type": "code",
        "colab": {}
      },
      "source": [
        "x_train, x_test, y_train, y_test = (torch.as_tensor(x_train, device='cuda'),\n",
        "                                    torch.as_tensor(x_test, device='cuda'),\n",
        "                                    torch.as_tensor(y_train, device='cuda'),\n",
        "                                    torch.as_tensor(y_test, device='cuda'))"
      ],
      "execution_count": 0,
      "outputs": []
    },
    {
      "cell_type": "code",
      "metadata": {
        "id": "fE8A--vk5UNo",
        "colab_type": "code",
        "colab": {}
      },
      "source": [
        "from collections import OrderedDict\n",
        "\n",
        "model = nn.Sequential(OrderedDict(\n",
        "    [('conv_layer_1'   , nn.Conv2d(1, 16, 3, 1)),    # 16 x 26 x 26\n",
        "     ('relu_1'         , nn.ReLU()),\n",
        "     ('conv_layer_2'   , nn.Conv2d(16, 32, 3, 1)),   # 32 x 24 x 24\n",
        "     ('relu_2'         , nn.ReLU()),\n",
        "     ('maxpool_layer_1', nn.MaxPool2d(2, stride=2)), # 32 x 12 x 12\n",
        "     ('conv_layer_3'   , nn.Conv2d(32, 64, 3, 1)),   # 64 x 10 x 10\n",
        "     ('relu_3'         , nn.ReLU()),                 #     |\n",
        "     ('flatten_layer'  , nn.Flatten()),              #     |\n",
        "     ('linear_layer_1' , nn.Linear(64*10*10, 64)),   # <----\n",
        "     ('relu_4'         , nn.ReLU()),\n",
        "     ('linear_layer_2' , nn.Linear(64, 32)),\n",
        "     ('relu_5'         , nn.ReLU()),\n",
        "     ('out_layer'      , nn.Linear(32, 10))]\n",
        "))\n",
        "model = model.to(torch.device('cuda'))"
      ],
      "execution_count": 0,
      "outputs": []
    },
    {
      "cell_type": "code",
      "metadata": {
        "id": "TzQAEu0t7DUI",
        "colab_type": "code",
        "outputId": "c2e1f4bd-63a3-4fca-ea44-ecefa7c14785",
        "colab": {
          "base_uri": "https://localhost:8080/",
          "height": 185
        }
      },
      "source": [
        "batch_size = 1000\n",
        "epochs = 10\n",
        "\n",
        "loss_fn = nn.CrossEntropyLoss(reduction='mean')\n",
        "optimizer = torch.optim.Adam(model.parameters(), lr=1e-3)\n",
        "\n",
        "\n",
        "for i in range(epochs):\n",
        "    for idx in range(x_train.shape[0] // batch_size):\n",
        "        # Get the batch to train\n",
        "        x_batch = x_train[idx*batch_size:(idx+1)*batch_size, ...]\n",
        "        y_batch = y_train[idx*batch_size:(idx+1)*batch_size, ...]\n",
        "\n",
        "        # Forward pass\n",
        "        f_pred = model(x_batch)\n",
        "        y_pred = nn.functional.softmax(f_pred, dim=1)\n",
        "        loss = loss_fn(f_pred, y_batch.long())\n",
        "\n",
        "        # Backward pass\n",
        "        optimizer.zero_grad()\n",
        "        loss.backward()\n",
        "        optimizer.step()\n",
        "\n",
        "        # Print the results\n",
        "        stdout.write(f'\\r epoch : {i}\\t'\n",
        "                     f'step : {min((idx+1)*batch_size, x_train.shape[0])}/{x_train.shape[0]}\\t'\n",
        "                     f'loss : {loss.item():.3f}\\t'\n",
        "                     f'accuracy : {torch.sum(1.*(y_pred.argmax(axis=1) == y_batch)) / y_batch.shape[0]:.3f}')\n",
        "    print()"
      ],
      "execution_count": 69,
      "outputs": [
        {
          "output_type": "stream",
          "text": [
            " epoch : 0\tstep : 60000/60000\tloss : 0.275\taccuracy : 0.929\n",
            " epoch : 1\tstep : 60000/60000\tloss : 0.160\taccuracy : 0.960\n",
            " epoch : 2\tstep : 60000/60000\tloss : 0.110\taccuracy : 0.976\n",
            " epoch : 3\tstep : 60000/60000\tloss : 0.082\taccuracy : 0.985\n",
            " epoch : 4\tstep : 60000/60000\tloss : 0.069\taccuracy : 0.989\n",
            " epoch : 5\tstep : 60000/60000\tloss : 0.059\taccuracy : 0.991\n",
            " epoch : 6\tstep : 60000/60000\tloss : 0.053\taccuracy : 0.990\n",
            " epoch : 7\tstep : 60000/60000\tloss : 0.047\taccuracy : 0.991\n",
            " epoch : 8\tstep : 60000/60000\tloss : 0.045\taccuracy : 0.992\n",
            " epoch : 9\tstep : 60000/60000\tloss : 0.040\taccuracy : 0.994\n"
          ],
          "name": "stdout"
        }
      ]
    },
    {
      "cell_type": "code",
      "metadata": {
        "id": "DDd-qXCo7xV8",
        "colab_type": "code",
        "outputId": "a3459b5d-ccbb-42dd-b813-817d9c19a034",
        "colab": {
          "base_uri": "https://localhost:8080/",
          "height": 34
        }
      },
      "source": [
        "y_probs_test = model(x_test)\n",
        "y_preds_test = y_probs_test.argmax(axis=1)\n",
        "print(f\"Test set accuracy : {torch.sum(1.*(y_preds_test == y_test)) / y_test.shape[0]}\")"
      ],
      "execution_count": 70,
      "outputs": [
        {
          "output_type": "stream",
          "text": [
            "Test set accuracy : 0.9872999787330627\n"
          ],
          "name": "stdout"
        }
      ]
    },
    {
      "cell_type": "code",
      "metadata": {
        "id": "l0IxZFl5r0vQ",
        "colab_type": "code",
        "colab": {}
      },
      "source": [
        "######################\n",
        "#   4. Autoencoder   #\n",
        "######################"
      ],
      "execution_count": 0,
      "outputs": []
    },
    {
      "cell_type": "code",
      "metadata": {
        "id": "WLgzycPIuDgS",
        "colab_type": "code",
        "colab": {}
      },
      "source": [
        "# Step 2: Prepare data\n",
        "(x_train, _), (x_test, _) = mnist.load_data()\n",
        "x_train = (1.*((x_train / 255.)>=0.5)).reshape(-1, 1, 28, 28).astype('float32')\n",
        "x_test = (1.*((x_test / 255.)>=0.5)).reshape(-1, 1, 28, 28).astype('float32')\n",
        "x_train, x_test = (torch.as_tensor(x_train, device='cuda'),\n",
        "                   torch.as_tensor(x_test, device='cuda'))"
      ],
      "execution_count": 0,
      "outputs": []
    },
    {
      "cell_type": "code",
      "metadata": {
        "id": "RtZfMzcGuhjI",
        "colab_type": "code",
        "colab": {}
      },
      "source": [
        "# Step 1 and 3\n",
        "from functools import partial\n",
        "#  IPReLU => inplace relu\n",
        "IPReLU = partial(nn.ReLU, True)\n",
        "\n",
        "class Reshape(nn.Module):\n",
        "    def __init__(self, *shape):\n",
        "        super(Reshape, self).__init__()\n",
        "        self.shape = shape\n",
        "\n",
        "    def forward(self, X, *args, **kwargs):\n",
        "        return X.view(-1, *self.shape)\n",
        "\n",
        "encoder = nn.Sequential(OrderedDict([\n",
        "        ('e_conv_layer_1', nn.Conv2d(1, 16, 5, 1)),               # 16 x 24 x 24\n",
        "        ('e_relu_layer_1', IPReLU()),\n",
        "        ('e_conv_layer_2', nn.Conv2d(16, 32, 5, 1)),              # 32 x 20 x 20\n",
        "        ('e_relu_layer_2', IPReLU()),\n",
        "        ('e_max_pool_layer_1', nn.MaxPool2d(2, 2)),               # 32 x 10 x 10\n",
        "        ('e_conv_layer_3', nn.Conv2d(32, 64, 5, 1)),              # 64 x 6 x 6\n",
        "        ('e_relu_layer_3', IPReLU()),\n",
        "        ('e_dropout_layer_1', nn.Dropout2d(p=0.75)),\n",
        "        ('e_conv_layer_4', nn.Conv2d(64, 128, 5, 1)),             # 128 x 2 x 2\n",
        "        ('e_relu_layer_4', IPReLU()),\n",
        "        ('e_dropout_layer_1', nn.Dropout2d(p=0.85)),\n",
        "        ('e_flatten_layer', nn.Flatten()),\n",
        "        ('e_linear_layer_1', nn.Linear(128*2*2, 64))              # 64 ==> Bottleneck\n",
        "]))\n",
        "\n",
        "decoder = nn.Sequential(OrderedDict([\n",
        "        ('inv_linear_layer_1', nn.Linear(64, 128*2*2)),           # 128 * 2 * 2\n",
        "        ('inv_relu_layer_4', IPReLU()),\n",
        "        ('inv_flatten_layer', Reshape(128, 2, 2)),                # 128 x 2 x 2\n",
        "        ('inv_conv_layer_4', nn.ConvTranspose2d(128, 64, 5, 1)),  # 64 x 6 x 6\n",
        "        ('inv_relu_layer_3', IPReLU()),\n",
        "        ('inv_conv_layer_3', nn.ConvTranspose2d(64, 32, 5, 1)),   # 32 x 10 x 10\n",
        "        ('inv_relu_layer_2', IPReLU()),\n",
        "        ('inv_max_pool_1', nn.ConvTranspose2d(32, 32, 11, 1)),    # 32 x 20 x 20\n",
        "        ('inv_conv_layer_2', nn.ConvTranspose2d(32, 16, 5, 1)),   # 16 x 24 x 24\n",
        "        ('inv_relu_layer_1', IPReLU()),\n",
        "        ('inv_conv_layer_1', nn.ConvTranspose2d(16, 1, 5, 1)),    # 1 x 28 x 28\n",
        "        ('out_layer', nn.Sigmoid())\n",
        "]))\n",
        "\n",
        "model = nn.Sequential(OrderedDict([\n",
        "        ('encoder', encoder),\n",
        "        ('decoder', decoder)\n",
        "]))\n",
        "\n",
        "model = model.to(torch.device('cuda'))"
      ],
      "execution_count": 0,
      "outputs": []
    },
    {
      "cell_type": "code",
      "metadata": {
        "id": "fB4EmjWpwZes",
        "colab_type": "code",
        "outputId": "fe251b79-02cb-47a6-c9a9-b638be794944",
        "colab": {
          "base_uri": "https://localhost:8080/",
          "height": 185
        }
      },
      "source": [
        "batch_size = 1000\n",
        "epochs = 10\n",
        "\n",
        "# We can use reconstruction loss also. In that case, we will\n",
        "# be maximizing the log likelihood of Normal Distribution.\n",
        "# In this case, I maximize the log likelihood of the bernoulli\n",
        "# distribution by keeping CrossEntropyLoss!\n",
        "def loss_fn(outputs, targets):\n",
        "    return -torch.mean(targets*torch.log(outputs+1e-18) + (1-targets)*torch.log(1-outputs+1e-18))\n",
        "\n",
        "optimizer = torch.optim.Adam(model.parameters(), lr=1e-3)\n",
        "\n",
        "for i in range(epochs):\n",
        "    for idx in range(x_train.shape[0] // batch_size):\n",
        "        # Get the batch to train\n",
        "        x_batch = x_train[idx*batch_size:(idx+1)*batch_size, ...]\n",
        "\n",
        "        # Forward pass\n",
        "        recon = model(x_batch)\n",
        "        recon = recon.view(batch_size, 784)\n",
        "        x_batch = x_batch.view(batch_size, 784)\n",
        "        loss = loss_fn(recon, x_batch.long())\n",
        "\n",
        "        # Backward pass\n",
        "        optimizer.zero_grad()\n",
        "        loss.backward()\n",
        "        optimizer.step()\n",
        "\n",
        "        # Print the results\n",
        "        stdout.write(f'\\r epoch : {i}\\t'\n",
        "                     f'step : {min((idx+1)*batch_size, x_train.shape[0])}/{x_train.shape[0]}\\t'\n",
        "                     f'loss : {loss.item():.3f}\\t')\n",
        "    print()"
      ],
      "execution_count": 74,
      "outputs": [
        {
          "output_type": "stream",
          "text": [
            " epoch : 0\tstep : 60000/60000\tloss : 0.276\t\n",
            " epoch : 1\tstep : 60000/60000\tloss : 0.266\t\n",
            " epoch : 2\tstep : 60000/60000\tloss : 0.261\t\n",
            " epoch : 3\tstep : 60000/60000\tloss : 0.238\t\n",
            " epoch : 4\tstep : 60000/60000\tloss : 0.212\t\n",
            " epoch : 5\tstep : 60000/60000\tloss : 0.188\t\n",
            " epoch : 6\tstep : 60000/60000\tloss : 0.166\t\n",
            " epoch : 7\tstep : 60000/60000\tloss : 0.148\t\n",
            " epoch : 8\tstep : 60000/60000\tloss : 0.136\t\n",
            " epoch : 9\tstep : 60000/60000\tloss : 0.126\t\n"
          ],
          "name": "stdout"
        }
      ]
    },
    {
      "cell_type": "code",
      "metadata": {
        "id": "MjNB-bTl3jcj",
        "colab_type": "code",
        "outputId": "060b678a-c68f-4f65-d8f0-0d083376ce1c",
        "colab": {
          "base_uri": "https://localhost:8080/",
          "height": 34
        }
      },
      "source": [
        "some = encoder(x_test[:100, ...])\n",
        "decoder(some).shape"
      ],
      "execution_count": 75,
      "outputs": [
        {
          "output_type": "execute_result",
          "data": {
            "text/plain": [
              "torch.Size([100, 1, 28, 28])"
            ]
          },
          "metadata": {
            "tags": []
          },
          "execution_count": 75
        }
      ]
    },
    {
      "cell_type": "code",
      "metadata": {
        "id": "0E7SAf5F5B0a",
        "colab_type": "code",
        "outputId": "19012fa9-b5d5-4838-cbe1-5402f37352ca",
        "colab": {
          "base_uri": "https://localhost:8080/",
          "height": 483
        }
      },
      "source": [
        "fig, ax = plt.subplots(2, 1, figsize=(8, 8))\n",
        "\n",
        "ax[0].imshow(x_train[0, 0, ...].cpu())\n",
        "ax[1].imshow(model(x_train[:1, ...])[0, 0, ...].cpu().detach())\n",
        "plt.show()"
      ],
      "execution_count": 76,
      "outputs": [
        {
          "output_type": "display_data",
          "data": {
            "image/png": "[encoded data removed]",
            "text/plain": [
              "<Figure size 576x576 with 2 Axes>"
            ]
          },
          "metadata": {
            "tags": [],
            "needs_background": "light"
          }
        }
      ]
    },
    {
      "cell_type": "code",
      "metadata": {
        "id": "3WV0vjByCrFm",
        "colab_type": "code",
        "colab": {}
      },
      "source": [
        "##################################\n",
        "#   5. Variational Autoencoder   #\n",
        "##################################\n",
        "latent_dims = 20\n",
        "batch_size = 1000"
      ],
      "execution_count": 0,
      "outputs": []
    },
    {
      "cell_type": "code",
      "metadata": {
        "id": "h83LyGlHUhy2",
        "colab_type": "code",
        "colab": {}
      },
      "source": [
        "class LocLogvar(nn.Module):\n",
        "    def __init__(self, in_features, latent_dims):\n",
        "        super(LocLogvar, self).__init__()\n",
        "        self.loc = nn.Linear(in_features, latent_dims)\n",
        "        self.logvar = nn.Linear(in_features, latent_dims)\n",
        "\n",
        "    def forward(self, inputs):\n",
        "        loc = self.loc(inputs)\n",
        "        logvar = self.logvar(inputs)\n",
        "        return loc, logvar\n",
        "\n",
        "class Reshape(nn.Module):\n",
        "    def __init__(self, *shape):\n",
        "        super(Reshape, self).__init__()\n",
        "        self.shape = shape\n",
        "\n",
        "    def forward(self, X):\n",
        "        return X.view(-1, *self.shape)"
      ],
      "execution_count": 0,
      "outputs": []
    },
    {
      "cell_type": "code",
      "metadata": {
        "id": "IBeHHO7XRNLR",
        "colab_type": "code",
        "colab": {}
      },
      "source": [
        "for name, param in encoder.named_parameters():\n",
        "    if torch.any(torch.isinf(param) | torch.isnan(param)):\n",
        "        print(name + \" contains inf or nan\")\n",
        "for name, param in decoder.named_parameters():\n",
        "    if torch.any(torch.isinf(param) | torch.isnan(param)):\n",
        "        print(name + \" contains inf or nan\")"
      ],
      "execution_count": 0,
      "outputs": []
    },
    {
      "cell_type": "code",
      "metadata": {
        "id": "zpZDpPBm7Lu9",
        "colab_type": "code",
        "outputId": "539c81e9-8ddd-49cd-d31f-a525511feae2",
        "colab": {
          "base_uri": "https://localhost:8080/",
          "height": 1000
        }
      },
      "source": [
        "import torch.utils.data\n",
        "from torch import optim\n",
        "from torch.nn import functional as F\n",
        "from torchvision import datasets, transforms\n",
        "from torchvision.utils import save_image\n",
        "\n",
        "torch.manual_seed(42)\n",
        "\n",
        "device = torch.device(\"cuda\")\n",
        "\n",
        "kwargs = {'num_workers': 1, 'pin_memory': True}\n",
        "train_loader = torch.utils.data.DataLoader(\n",
        "    datasets.MNIST('../data', train=True, download=True,\n",
        "                   transform=transforms.ToTensor()),\n",
        "    batch_size=batch_size, shuffle=True, **kwargs)\n",
        "test_loader = torch.utils.data.DataLoader(\n",
        "    datasets.MNIST('../data', train=False, transform=transforms.ToTensor()),\n",
        "    batch_size=batch_size, shuffle=True, **kwargs)\n",
        "\n",
        "\n",
        "class VAE(nn.Module):\n",
        "    def __init__(self):\n",
        "        super(VAE, self).__init__()\n",
        "\n",
        "        self.encoder = encoder = nn.Sequential(OrderedDict([\n",
        "        ('e_conv_layer_1', nn.Conv2d(1, 16, 5, 1)),                # 16 x 24 x 24\n",
        "        ('e_relu_layer_1', nn.LeakyReLU(inplace=True)),\n",
        "        ('e_batch_norm_1', nn.BatchNorm2d(16)),\n",
        "        ('e_conv_layer_2', nn.Conv2d(16, 32, 5, 1)),               # 32 x 20 x 20\n",
        "        ('e_relu_layer_2', nn.LeakyReLU(inplace=True)),\n",
        "        ('e_batch_norm_2', nn.BatchNorm2d(32)),\n",
        "        ('e_conv_layer_3', nn.Conv2d(32, 32, 11, 1)),              # 32 x 10 x 10\n",
        "        ('e_relu_layer_3', nn.LeakyReLU(inplace=True)),\n",
        "        ('e_batch_norm_3', nn.BatchNorm2d(32)),\n",
        "        ('e_conv_layer_4', nn.Conv2d(32, 64, 5, 1)),               # 64 x 6 x 6\n",
        "        ('e_relu_layer_4', nn.LeakyReLU(inplace=True)),\n",
        "        ('e_batch_norm_4', nn.BatchNorm2d(64)),\n",
        "        ('e_dropout_layer_1', nn.Dropout2d(p=0.75)),\n",
        "        ('e_conv_layer_5', nn.Conv2d(64, 128, 5, 1)),              # 128 x 2 x 2\n",
        "        ('e_relu_layer_5', nn.LeakyReLU(inplace=True)),\n",
        "        ('e_batch_norm_5', nn.BatchNorm2d(128)),\n",
        "        ('e_dropout_layer_1', nn.Dropout2d(p=0.85)),\n",
        "        ('e_flatten_layer', nn.Flatten()),\n",
        "        ('e_out_layer', LocLogvar(128*2*2, latent_dims))\n",
        "        ]))\n",
        "\n",
        "        self.decoder = decoder = nn.Sequential(OrderedDict([\n",
        "        ('inv_linear_layer_1', nn.Linear(latent_dims, 128*2*2)),   # 128 * 2 * 2\n",
        "        ('inv_relu_layer_5', nn.LeakyReLU(inplace=True)),\n",
        "        ('inv_flatten_layer', Reshape(128, 2, 2)),                 # 128 x 2 x 2\n",
        "        ('inv_conv_layer_5', nn.ConvTranspose2d(128, 64, 5, 1)),   # 64 x 6 x 6\n",
        "        ('inv_batch_norm_5', nn.BatchNorm2d(64)),\n",
        "        ('inv_relu_layer_4', nn.LeakyReLU(inplace=True)),\n",
        "        ('inv_conv_layer_4', nn.ConvTranspose2d(64, 32, 5, 1)),    # 32 x 10 x 10\n",
        "        ('inv_batch_norm_4', nn.BatchNorm2d(32)),\n",
        "        ('inv_relu_layer_3', nn.LeakyReLU(inplace=True)),\n",
        "        ('inv_conv_layer_3', nn.ConvTranspose2d(32, 32, 11, 1)),   # 32 x 20 x 20\n",
        "        ('inv_batch_norm_3', nn.BatchNorm2d(32)),\n",
        "        ('inv_relu_layer_2', nn.LeakyReLU(inplace=True)),\n",
        "        ('inv_conv_layer_2', nn.ConvTranspose2d(32, 16, 5, 1)),    # 16 x 24 x 24\n",
        "        ('inv_batch_norm_2', nn.BatchNorm2d(16)),\n",
        "        ('inv_relu_layer_1', nn.LeakyReLU(inplace=True)),\n",
        "        ('inv_conv_layer_1', nn.ConvTranspose2d(16, 1, 5, 1)),     # 1 x 28 x 28\n",
        "        ('inv_batch_norm_1', nn.BatchNorm2d(1)),\n",
        "        ('inv_out_layer', nn.Sigmoid())\n",
        "        ]))\n",
        "\n",
        "    def encode(self, x):\n",
        "        return self.encoder(x)\n",
        "\n",
        "    def reparameterize(self, mu, logvar):\n",
        "        std = torch.exp(0.5*logvar)\n",
        "        eps = torch.randn_like(std)\n",
        "        return mu + eps*std\n",
        "\n",
        "    def decode(self, z):\n",
        "        return self.decoder(z)\n",
        "\n",
        "    def forward(self, x):\n",
        "        mu, logvar = self.encode(x)\n",
        "        z = self.reparameterize(mu, logvar)\n",
        "        return self.decode(z), mu, logvar\n",
        "\n",
        "\n",
        "model = VAE().to(device)\n",
        "optimizer = optim.Adam(model.parameters(), lr=1e-3)\n",
        "\n",
        "# Reconstruction + KL divergence losses summed over all elements and batch\n",
        "def loss_function(recon_x, x, mu, logvar):\n",
        "    BCE = F.binary_cross_entropy(recon_x.view(-1, 784), x.view(-1, 784), reduction='sum')\n",
        "\n",
        "    # see Appendix B from VAE paper:\n",
        "    # Kingma and Welling. Auto-Encoding Variational Bayes. ICLR, 2014\n",
        "    # https://arxiv.org/abs/1312.6114\n",
        "    # 0.5 * sum(1 + log(sigma^2) - mu^2 - sigma^2)\n",
        "    KLD = -0.5 * torch.sum(1 + logvar - mu.pow(2) - logvar.exp())\n",
        "\n",
        "    return BCE + KLD\n",
        "\n",
        "\n",
        "def train(epoch):\n",
        "    model.train()\n",
        "    train_loss = 0\n",
        "    for batch_idx, (data, _) in enumerate(train_loader):\n",
        "        data = data.to(device)\n",
        "        optimizer.zero_grad()\n",
        "        recon_batch, mu, logvar = model(data)\n",
        "        loss = loss_function(recon_batch, data, mu, logvar)\n",
        "        loss.backward()\n",
        "        train_loss += loss.item()\n",
        "        optimizer.step()\n",
        "        if batch_idx % 10 == 0:\n",
        "            print('Train Epoch: {} [{}/{} ({:.0f}%)]\\tLoss: {:.6f}'.format(\n",
        "                epoch, batch_idx * len(data), len(train_loader.dataset),\n",
        "                100. * batch_idx / len(train_loader),\n",
        "                loss.item() / len(data)))\n",
        "\n",
        "    print('====> Epoch: {} Average loss: {:.4f}'.format(\n",
        "          epoch, train_loss / len(train_loader.dataset)))\n",
        "\n",
        "def test(epoch):\n",
        "    model.eval()\n",
        "    test_loss = 0\n",
        "    with torch.no_grad():\n",
        "        for i, (data, _) in enumerate(test_loader):\n",
        "            data = data.to(device)\n",
        "            recon_batch, mu, logvar = model(data)\n",
        "            test_loss += loss_function(recon_batch, data, mu, logvar).item()\n",
        "            if i == 0:\n",
        "                n = min(data.size(0), 8)\n",
        "                comparison = torch.cat([data[:n],\n",
        "                                      recon_batch.view(batch_size, 1, 28, 28)[:n]])\n",
        "                save_image(comparison.cpu(),\n",
        "                         'reconstruction_' + str(epoch) + '.png', nrow=n)\n",
        "\n",
        "    test_loss /= len(test_loader.dataset)\n",
        "    print('====> Test set loss: {:.4f}'.format(test_loss))\n",
        "\n",
        "for epoch in range(1, epochs + 1):\n",
        "    train(epoch)\n",
        "    test(epoch)\n",
        "    with torch.no_grad():\n",
        "        sample = torch.randn(64, 20).to(device)\n",
        "        sample = model.decode(sample).cpu()\n",
        "        save_image(sample.view(64, 1, 28, 28),\n",
        "                    'sample_' + str(epoch) + '.png')"
      ],
      "execution_count": 80,
      "outputs": [
        {
          "output_type": "stream",
          "text": [
            "Train Epoch: 1 [0/60000 (0%)]\tLoss: 670.281750\n",
            "Train Epoch: 1 [10000/60000 (17%)]\tLoss: 495.561844\n",
            "Train Epoch: 1 [20000/60000 (33%)]\tLoss: 490.651344\n",
            "Train Epoch: 1 [30000/60000 (50%)]\tLoss: 487.086094\n",
            "Train Epoch: 1 [40000/60000 (67%)]\tLoss: 482.307969\n",
            "Train Epoch: 1 [50000/60000 (83%)]\tLoss: 481.260344\n",
            "====> Epoch: 1 Average loss: 493.1593\n",
            "====> Test set loss: 451.9796\n",
            "Train Epoch: 2 [0/60000 (0%)]\tLoss: 473.426781\n",
            "Train Epoch: 2 [10000/60000 (17%)]\tLoss: 473.108719\n",
            "Train Epoch: 2 [20000/60000 (33%)]\tLoss: 468.334063\n",
            "Train Epoch: 2 [30000/60000 (50%)]\tLoss: 466.814625\n",
            "Train Epoch: 2 [40000/60000 (67%)]\tLoss: 460.056938\n",
            "Train Epoch: 2 [50000/60000 (83%)]\tLoss: 452.170062\n",
            "====> Epoch: 2 Average loss: 464.1728\n",
            "====> Test set loss: 438.2047\n",
            "Train Epoch: 3 [0/60000 (0%)]\tLoss: 447.521000\n",
            "Train Epoch: 3 [10000/60000 (17%)]\tLoss: 442.417781\n",
            "Train Epoch: 3 [20000/60000 (33%)]\tLoss: 438.631719\n",
            "Train Epoch: 3 [30000/60000 (50%)]\tLoss: 431.983031\n",
            "Train Epoch: 3 [40000/60000 (67%)]\tLoss: 427.366906\n",
            "Train Epoch: 3 [50000/60000 (83%)]\tLoss: 420.612406\n",
            "====> Epoch: 3 Average loss: 432.7678\n",
            "====> Test set loss: 398.1583\n",
            "Train Epoch: 4 [0/60000 (0%)]\tLoss: 417.667062\n",
            "Train Epoch: 4 [10000/60000 (17%)]\tLoss: 412.126688\n",
            "Train Epoch: 4 [20000/60000 (33%)]\tLoss: 406.682594\n",
            "Train Epoch: 4 [30000/60000 (50%)]\tLoss: 400.146813\n",
            "Train Epoch: 4 [40000/60000 (67%)]\tLoss: 394.771687\n",
            "Train Epoch: 4 [50000/60000 (83%)]\tLoss: 390.510781\n",
            "====> Epoch: 4 Average loss: 400.8787\n",
            "====> Test set loss: 373.0727\n",
            "Train Epoch: 5 [0/60000 (0%)]\tLoss: 388.991375\n",
            "Train Epoch: 5 [10000/60000 (17%)]\tLoss: 380.006562\n",
            "Train Epoch: 5 [20000/60000 (33%)]\tLoss: 376.931188\n",
            "Train Epoch: 5 [30000/60000 (50%)]\tLoss: 372.261781\n",
            "Train Epoch: 5 [40000/60000 (67%)]\tLoss: 370.369937\n",
            "Train Epoch: 5 [50000/60000 (83%)]\tLoss: 364.372937\n",
            "====> Epoch: 5 Average loss: 373.8396\n",
            "====> Test set loss: 350.4906\n",
            "Train Epoch: 6 [0/60000 (0%)]\tLoss: 361.650594\n",
            "Train Epoch: 6 [10000/60000 (17%)]\tLoss: 358.489250\n",
            "Train Epoch: 6 [20000/60000 (33%)]\tLoss: 355.570500\n",
            "Train Epoch: 6 [30000/60000 (50%)]\tLoss: 352.656781\n",
            "Train Epoch: 6 [40000/60000 (67%)]\tLoss: 348.461219\n",
            "Train Epoch: 6 [50000/60000 (83%)]\tLoss: 346.060187\n",
            "====> Epoch: 6 Average loss: 351.5052\n",
            "====> Test set loss: 334.8710\n",
            "Train Epoch: 7 [0/60000 (0%)]\tLoss: 340.376219\n",
            "Train Epoch: 7 [10000/60000 (17%)]\tLoss: 338.206531\n",
            "Train Epoch: 7 [20000/60000 (33%)]\tLoss: 336.836531\n",
            "Train Epoch: 7 [30000/60000 (50%)]\tLoss: 332.508281\n",
            "Train Epoch: 7 [40000/60000 (67%)]\tLoss: 330.424875\n",
            "Train Epoch: 7 [50000/60000 (83%)]\tLoss: 327.814813\n",
            "====> Epoch: 7 Average loss: 333.1353\n",
            "====> Test set loss: 316.9294\n",
            "Train Epoch: 8 [0/60000 (0%)]\tLoss: 323.428781\n",
            "Train Epoch: 8 [10000/60000 (17%)]\tLoss: 323.139719\n",
            "Train Epoch: 8 [20000/60000 (33%)]\tLoss: 318.874000\n",
            "Train Epoch: 8 [30000/60000 (50%)]\tLoss: 317.416219\n",
            "Train Epoch: 8 [40000/60000 (67%)]\tLoss: 314.004906\n",
            "Train Epoch: 8 [50000/60000 (83%)]\tLoss: 311.755656\n",
            "====> Epoch: 8 Average loss: 317.6534\n",
            "====> Test set loss: 304.4527\n",
            "Train Epoch: 9 [0/60000 (0%)]\tLoss: 310.559094\n",
            "Train Epoch: 9 [10000/60000 (17%)]\tLoss: 308.165813\n",
            "Train Epoch: 9 [20000/60000 (33%)]\tLoss: 305.872063\n",
            "Train Epoch: 9 [30000/60000 (50%)]\tLoss: 302.374594\n",
            "Train Epoch: 9 [40000/60000 (67%)]\tLoss: 300.275812\n",
            "Train Epoch: 9 [50000/60000 (83%)]\tLoss: 298.394281\n",
            "====> Epoch: 9 Average loss: 303.6579\n",
            "====> Test set loss: 292.7852\n",
            "Train Epoch: 10 [0/60000 (0%)]\tLoss: 295.524094\n",
            "Train Epoch: 10 [10000/60000 (17%)]\tLoss: 294.132531\n",
            "Train Epoch: 10 [20000/60000 (33%)]\tLoss: 293.690375\n",
            "Train Epoch: 10 [30000/60000 (50%)]\tLoss: 293.824437\n",
            "Train Epoch: 10 [40000/60000 (67%)]\tLoss: 288.320063\n",
            "Train Epoch: 10 [50000/60000 (83%)]\tLoss: 285.436844\n",
            "====> Epoch: 10 Average loss: 291.4724\n",
            "====> Test set loss: 276.8388\n"
          ],
          "name": "stdout"
        }
      ]
    },
    {
      "cell_type": "code",
      "metadata": {
        "id": "7tLMMZtgtEz4",
        "colab_type": "code",
        "colab": {
          "base_uri": "https://localhost:8080/",
          "height": 265
        },
        "outputId": "a3c91a22-cfb8-4eab-fb78-fd757c231dd1"
      },
      "source": [
        "with torch.no_grad():\n",
        "    sample = torch.randn(1, latent_dims).to(device)\n",
        "    sample = model.decode(sample).cpu()\n",
        "plt.imshow(sample[0, 0, ...])\n",
        "plt.show()"
      ],
      "execution_count": 81,
      "outputs": [
        {
          "output_type": "display_data",
          "data": {
            "image/png": "[encoded data removed]",
            "text/plain": [
              "<Figure size 432x288 with 1 Axes>"
            ]
          },
          "metadata": {
            "tags": [],
            "needs_background": "light"
          }
        }
      ]
    },
    {
      "cell_type": "code",
      "metadata": {
        "id": "CzPtSlKcjcgJ",
        "colab_type": "code",
        "colab": {}
      },
      "source": [
        "##############\n",
        "#   5. NST   #\n",
        "##############"
      ],
      "execution_count": 0,
      "outputs": []
    }
  ]
}
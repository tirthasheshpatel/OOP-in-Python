{
  "nbformat": 4,
  "nbformat_minor": 0,
  "metadata": {
    "colab": {
      "name": "PyTorch > TensorFlow",
      "provenance": [],
      "collapsed_sections": [],
      "include_colab_link": true
    },
    "kernelspec": {
      "name": "python3",
      "display_name": "Python 3"
    },
    "accelerator": "GPU"
  },
  "cells": [
    {
      "cell_type": "markdown",
      "metadata": {
        "id": "view-in-github",
        "colab_type": "text"
      },
      "source": [
        "<a href=\"https://colab.research.google.com/github/tirthasheshpatel/OOP-in-Python/blob/master/PyTorch_Premiere.ipynb\" target=\"_parent\"><img src=\"https://colab.research.google.com/assets/colab-badge.svg\" alt=\"Open In Colab\"/></a>"
      ]
    },
    {
      "cell_type": "code",
      "metadata": {
        "id": "0S23tUXpyjRk",
        "colab_type": "code",
        "colab": {}
      },
      "source": [
        "import torch\n",
        "import numpy as np"
      ],
      "execution_count": 0,
      "outputs": []
    },
    {
      "cell_type": "code",
      "metadata": {
        "id": "AfyUpNZ6yvAZ",
        "colab_type": "code",
        "outputId": "2fbeae44-4aa0-4ce9-d287-b3bd2a42417c",
        "colab": {
          "base_uri": "https://localhost:8080/",
          "height": 218
        }
      },
      "source": [
        "# cannot use np.float32 or np.float64 with torch tensors\n",
        "a = torch.arange(0, 50, step=1, dtype=torch.float64).reshape(10,5)\n",
        "print(a)\n",
        "print(a.dtype)\n",
        "print(a.shape)"
      ],
      "execution_count": 0,
      "outputs": [
        {
          "output_type": "stream",
          "text": [
            "tensor([[ 0.,  1.,  2.,  3.,  4.],\n",
            "        [ 5.,  6.,  7.,  8.,  9.],\n",
            "        [10., 11., 12., 13., 14.],\n",
            "        [15., 16., 17., 18., 19.],\n",
            "        [20., 21., 22., 23., 24.],\n",
            "        [25., 26., 27., 28., 29.],\n",
            "        [30., 31., 32., 33., 34.],\n",
            "        [35., 36., 37., 38., 39.],\n",
            "        [40., 41., 42., 43., 44.],\n",
            "        [45., 46., 47., 48., 49.]], dtype=torch.float64)\n",
            "torch.float64\n",
            "torch.Size([10, 5])\n"
          ],
          "name": "stdout"
        }
      ]
    },
    {
      "cell_type": "code",
      "metadata": {
        "id": "SXlGbwdpy7n4",
        "colab_type": "code",
        "colab": {}
      },
      "source": [
        "numpy_style_a = a.numpy() # convert to numpy style array"
      ],
      "execution_count": 0,
      "outputs": []
    },
    {
      "cell_type": "code",
      "metadata": {
        "id": "-Hc2mbte9SBt",
        "colab_type": "code",
        "outputId": "94a79cd7-d40f-4c9e-b01c-bb455e10023d",
        "colab": {
          "base_uri": "https://localhost:8080/",
          "height": 185
        }
      },
      "source": [
        "numpy_style_a"
      ],
      "execution_count": 0,
      "outputs": [
        {
          "output_type": "execute_result",
          "data": {
            "text/plain": [
              "array([[ 0.,  1.,  2.,  3.,  4.],\n",
              "       [ 5.,  6.,  7.,  8.,  9.],\n",
              "       [10., 11., 12., 13., 14.],\n",
              "       [15., 16., 17., 18., 19.],\n",
              "       [20., 21., 22., 23., 24.],\n",
              "       [25., 26., 27., 28., 29.],\n",
              "       [30., 31., 32., 33., 34.],\n",
              "       [35., 36., 37., 38., 39.],\n",
              "       [40., 41., 42., 43., 44.],\n",
              "       [45., 46., 47., 48., 49.]])"
            ]
          },
          "metadata": {
            "tags": []
          },
          "execution_count": 4
        }
      ]
    },
    {
      "cell_type": "code",
      "metadata": {
        "id": "rGzeH30I9T0f",
        "colab_type": "code",
        "outputId": "29d7029f-d0f1-4d14-d58c-9068a9ccf093",
        "colab": {
          "base_uri": "https://localhost:8080/",
          "height": 185
        }
      },
      "source": [
        "# convert numpy to torch style tensor\n",
        "numpy_style_to_torch_style_a = torch.from_numpy(numpy_style_a)\n",
        "print(numpy_style_to_torch_style_a)"
      ],
      "execution_count": 0,
      "outputs": [
        {
          "output_type": "stream",
          "text": [
            "tensor([[ 0.,  1.,  2.,  3.,  4.],\n",
            "        [ 5.,  6.,  7.,  8.,  9.],\n",
            "        [10., 11., 12., 13., 14.],\n",
            "        [15., 16., 17., 18., 19.],\n",
            "        [20., 21., 22., 23., 24.],\n",
            "        [25., 26., 27., 28., 29.],\n",
            "        [30., 31., 32., 33., 34.],\n",
            "        [35., 36., 37., 38., 39.],\n",
            "        [40., 41., 42., 43., 44.],\n",
            "        [45., 46., 47., 48., 49.]], dtype=torch.float64)\n"
          ],
          "name": "stdout"
        }
      ]
    },
    {
      "cell_type": "code",
      "metadata": {
        "id": "GeyIYvwO91Ie",
        "colab_type": "code",
        "colab": {}
      },
      "source": [
        "a = torch.from_numpy(np.random.randn(5, 3)) # Lets generate 2 random tensors\n",
        "b = torch.from_numpy(np.random.randn(3, 5)) # and operate on them"
      ],
      "execution_count": 0,
      "outputs": []
    },
    {
      "cell_type": "code",
      "metadata": {
        "id": "IDh-gTDfvG_V",
        "colab_type": "code",
        "outputId": "56e4a1cb-c8f9-463f-b4fa-a874fde19607",
        "colab": {
          "base_uri": "https://localhost:8080/",
          "height": 151
        }
      },
      "source": [
        "print(f\"{a}\\n{b}\")"
      ],
      "execution_count": 0,
      "outputs": [
        {
          "output_type": "stream",
          "text": [
            "tensor([[ 0.5857,  0.5630, -1.7807],\n",
            "        [ 0.1811, -0.5109, -0.0293],\n",
            "        [-0.2274, -0.5476,  0.8134],\n",
            "        [ 0.0467, -2.1368, -0.4759],\n",
            "        [-0.2400,  1.5415, -0.8249]], dtype=torch.float64)\n",
            "tensor([[-0.8948, -0.0917, -1.5818,  0.6531, -1.3392],\n",
            "        [ 0.1832, -0.1612,  0.8322, -0.4541, -0.2946],\n",
            "        [ 2.0112, -0.7415,  0.9092, -1.2129,  1.4463]], dtype=torch.float64)\n"
          ],
          "name": "stdout"
        }
      ]
    },
    {
      "cell_type": "code",
      "metadata": {
        "id": "5em3PuDJvo0B",
        "colab_type": "code",
        "outputId": "aca89f16-eed9-46f1-e585-4d95bed19355",
        "colab": {
          "base_uri": "https://localhost:8080/",
          "height": 185
        }
      },
      "source": [
        "# to add,subtract use a+b,a-b\n",
        "# for matrix multiplication\n",
        "c = a @ b # @ -> matrix multiplication\n",
        "print(c)\n",
        "c = torch.mm(a, b) # Equivalent to a@b\n",
        "print(c)"
      ],
      "execution_count": 0,
      "outputs": [
        {
          "output_type": "stream",
          "text": [
            "tensor([[-4.0024,  1.1759, -2.0770,  2.2868, -3.5257],\n",
            "        [-0.3145,  0.0874, -0.7383,  0.3858, -0.1344],\n",
            "        [ 1.7391, -0.4940,  0.6435, -0.8864,  1.6422],\n",
            "        [-1.3903,  0.6930, -2.2848,  1.5779, -0.1213],\n",
            "        [-1.1620,  0.3852,  0.9125,  0.1439, -1.3258]], dtype=torch.float64)\n",
            "tensor([[-4.0024,  1.1759, -2.0770,  2.2868, -3.5257],\n",
            "        [-0.3145,  0.0874, -0.7383,  0.3858, -0.1344],\n",
            "        [ 1.7391, -0.4940,  0.6435, -0.8864,  1.6422],\n",
            "        [-1.3903,  0.6930, -2.2848,  1.5779, -0.1213],\n",
            "        [-1.1620,  0.3852,  0.9125,  0.1439, -1.3258]], dtype=torch.float64)\n"
          ],
          "name": "stdout"
        }
      ]
    },
    {
      "cell_type": "code",
      "metadata": {
        "id": "HYgzjKazwKCn",
        "colab_type": "code",
        "colab": {}
      },
      "source": [
        "# making tensors on GPU :o\n",
        "# See the RAM bar will increase as soon as we create a tensor on GPU\n",
        "a_gpu = torch.arange(0, 50, dtype=torch.float64, device='cuda').reshape(5, 10)"
      ],
      "execution_count": 0,
      "outputs": []
    },
    {
      "cell_type": "code",
      "metadata": {
        "id": "VnfNts_LwtHs",
        "colab_type": "code",
        "outputId": "2e16f5cb-5a40-474a-d9ca-2b9ed1aef03d",
        "colab": {
          "base_uri": "https://localhost:8080/",
          "height": 118
        }
      },
      "source": [
        "a_gpu"
      ],
      "execution_count": 0,
      "outputs": [
        {
          "output_type": "execute_result",
          "data": {
            "text/plain": [
              "tensor([[ 0.,  1.,  2.,  3.,  4.,  5.,  6.,  7.,  8.,  9.],\n",
              "        [10., 11., 12., 13., 14., 15., 16., 17., 18., 19.],\n",
              "        [20., 21., 22., 23., 24., 25., 26., 27., 28., 29.],\n",
              "        [30., 31., 32., 33., 34., 35., 36., 37., 38., 39.],\n",
              "        [40., 41., 42., 43., 44., 45., 46., 47., 48., 49.]], device='cuda:0',\n",
              "       dtype=torch.float64)"
            ]
          },
          "metadata": {
            "tags": []
          },
          "execution_count": 10
        }
      ]
    },
    {
      "cell_type": "code",
      "metadata": {
        "id": "ai1YLLfDWevW",
        "colab_type": "code",
        "outputId": "0b25c267-691b-4712-eb62-3b6b09e9b9ee",
        "colab": {
          "base_uri": "https://localhost:8080/",
          "height": 50
        }
      },
      "source": [
        "# torch.is_tensor\n",
        "print(torch.is_tensor([1., 2., 3.]))\n",
        "print(torch.is_tensor(a))"
      ],
      "execution_count": 0,
      "outputs": [
        {
          "output_type": "stream",
          "text": [
            "False\n",
            "True\n"
          ],
          "name": "stdout"
        }
      ]
    },
    {
      "cell_type": "code",
      "metadata": {
        "id": "mbFnvrpOWwyg",
        "colab_type": "code",
        "outputId": "8583ac6f-5687-4a17-ec60-8f1eae905d67",
        "colab": {
          "base_uri": "https://localhost:8080/",
          "height": 50
        }
      },
      "source": [
        "# torch.set_default_dtype -> set floating point dtype\n",
        "torch.set_default_dtype(torch.float64)\n",
        "a = torch.linspace(0, 10, 100)\n",
        "print(a.dtype)\n",
        "# torch.get_default_dtype\n",
        "print(torch.get_default_dtype())"
      ],
      "execution_count": 0,
      "outputs": [
        {
          "output_type": "stream",
          "text": [
            "torch.float64\n",
            "torch.float64\n"
          ],
          "name": "stdout"
        }
      ]
    },
    {
      "cell_type": "code",
      "metadata": {
        "id": "iawr4hAyXANn",
        "colab_type": "code",
        "outputId": "163a81cd-5c8a-45d7-c4e5-e8555a691fba",
        "colab": {
          "base_uri": "https://localhost:8080/",
          "height": 34
        }
      },
      "source": [
        "# torch.numel -> same as np.ndarray.size\n",
        "print(torch.numel(a))"
      ],
      "execution_count": 0,
      "outputs": [
        {
          "output_type": "stream",
          "text": [
            "100\n"
          ],
          "name": "stdout"
        }
      ]
    },
    {
      "cell_type": "code",
      "metadata": {
        "id": "42PEyCm-YG-I",
        "colab_type": "code",
        "outputId": "7f5fee3d-995b-4da6-9199-170e651b4378",
        "colab": {
          "base_uri": "https://localhost:8080/",
          "height": 202
        }
      },
      "source": [
        "# torch.tensor -> Similar to np.array(data)\n",
        "# ``torch.tensor`` always copies ``data``. To avoid copying\n",
        "# np.ndarray use ``torch.as_tensor`` instead\n",
        "a = torch.tensor([[1., 0., 0.], [0., 1., 0.], [0., 0., 1.]], device='cuda')\n",
        "print(a)\n",
        "\n",
        "# You can also record gradients on the\n",
        "# operations invloving `a` by setting require_grad=True\n",
        "a = torch.tensor([[1., 2., 3.], [4., 5., 6.], [7., 8., 9.]], device='cuda', requires_grad=True)\n",
        "b = torch.tensor([[1., 0., 0.], [0., 1., 0.], [0., 0., 1.]], device='cuda', requires_grad=True)\n",
        "# Operate on a and b\n",
        "c = (a @ b).sum()\n",
        "# The graph formed is:\n",
        "# a     b\n",
        "#  \\   /\n",
        "#    c (op: SumBackward)\n",
        "print(c.grad_fn)\n",
        "print(c.backward()) # This just calculates the gradient of c wrt all the nodes in the graph\n",
        "print(a.grad)\n",
        "print(b.grad)"
      ],
      "execution_count": 0,
      "outputs": [
        {
          "output_type": "stream",
          "text": [
            "tensor([[1., 0., 0.],\n",
            "        [0., 1., 0.],\n",
            "        [0., 0., 1.]], device='cuda:0')\n",
            "<SumBackward0 object at 0x7f981d7577b8>\n",
            "None\n",
            "tensor([[1., 1., 1.],\n",
            "        [1., 1., 1.],\n",
            "        [1., 1., 1.]], device='cuda:0')\n",
            "tensor([[12., 12., 12.],\n",
            "        [15., 15., 15.],\n",
            "        [18., 18., 18.]], device='cuda:0')\n"
          ],
          "name": "stdout"
        }
      ]
    },
    {
      "cell_type": "code",
      "metadata": {
        "id": "Qf5j6K-2Yz1b",
        "colab_type": "code",
        "outputId": "66a747a3-97fb-4c18-ca3a-cf659c0eed27",
        "colab": {
          "base_uri": "https://localhost:8080/",
          "height": 67
        }
      },
      "source": [
        "# torch.sparse_coo_tensor -> create a sparse tensor ==> amazing\n",
        "a = torch.sparse_coo_tensor(torch.empty([1, 0]),\n",
        "                            torch.empty([0, 2]), [1, 2])\n",
        "print(a)"
      ],
      "execution_count": 0,
      "outputs": [
        {
          "output_type": "stream",
          "text": [
            "tensor(indices=tensor([], size=(1, 0)),\n",
            "       values=tensor([], size=(0, 2)),\n",
            "       size=(1, 2), nnz=0, layout=torch.sparse_coo)\n"
          ],
          "name": "stdout"
        }
      ]
    },
    {
      "cell_type": "code",
      "metadata": {
        "id": "85Ril3Lbus7S",
        "colab_type": "code",
        "colab": {}
      },
      "source": [
        "# torch.as_tensor  -> create a tensor from np.ndarray\n",
        "# torch.as_strided -> np.lib.stride_tricks.as_strided\n",
        "# torch.from_numpy -> as the name suggest\n",
        "# torch.zeros\n",
        "# torch.zeros_like\n",
        "# torch.ones\n",
        "# torch.ones_like\n",
        "# torch.empty\n",
        "# torch.empty_like\n",
        "# torch.full\n",
        "# torch.full_like\n",
        "# torch.arange\n",
        "# torch.linspace\n",
        "# torch.logspace\n",
        "# torch.eye\n",
        "# torch.empty_strided\n",
        "# torch.cat -> np.concatenate\n",
        "# torch.chunk -> Splits a tensor into a specific number of chunks.\n",
        "#                Each chunk is a view of the input tensor\n",
        "# torch.reshape\n",
        "# torch.stack\n",
        "# torch.t -> same as np.ndarray.T ==> Use `torch.tensor.T` instead\n",
        "# torch.transpose\n",
        "# torch.take -> same as np.take\n",
        "# torch.where -> same as np.where"
      ],
      "execution_count": 0,
      "outputs": []
    },
    {
      "cell_type": "code",
      "metadata": {
        "id": "IS4mOdnd7nd_",
        "colab_type": "code",
        "outputId": "a3687346-13fa-436a-fb1b-165ce1948bce",
        "colab": {
          "base_uri": "https://localhost:8080/",
          "height": 67
        }
      },
      "source": [
        "# torch.gather -> Gathers values along an axis specified by `dim` (`axis`)\n",
        "a = torch.arange(10)\n",
        "a_gather = torch.gather(a, dim=0, index=torch.tensor([0, 0, 1, 1, 6, 5, 9, 5, 6, 7]))\n",
        "print(a_gather)\n",
        "t = torch.tensor([[1,2],[3,4]])\n",
        "print(torch.gather(t, 1, torch.tensor([[0,0],[1,0]])))"
      ],
      "execution_count": 0,
      "outputs": [
        {
          "output_type": "stream",
          "text": [
            "tensor([0, 0, 1, 1, 6, 5, 9, 5, 6, 7])\n",
            "tensor([[1, 1],\n",
            "        [4, 3]])\n"
          ],
          "name": "stdout"
        }
      ]
    },
    {
      "cell_type": "code",
      "metadata": {
        "id": "plc3ACy5-7w5",
        "colab_type": "code",
        "outputId": "9fc5e7a9-d917-4be5-dd57-55ee2cfa364c",
        "colab": {
          "base_uri": "https://localhost:8080/",
          "height": 101
        }
      },
      "source": [
        "# torch.index_seelct -> select the indices along a given `dim` (`axis`)\n",
        "# This operation creates a copy if the `out` argument is not the same shape\n",
        "# as the input tensor.\n",
        "a = torch.randn(3, 4)\n",
        "print(a)\n",
        "torch.index_select(a, 0, torch.tensor([0, 2]))"
      ],
      "execution_count": 0,
      "outputs": [
        {
          "output_type": "stream",
          "text": [
            "tensor([[-0.4594,  0.2898, -0.7687,  1.1532],\n",
            "        [-0.5660, -0.5339,  1.4297, -0.0780],\n",
            "        [ 1.0289, -0.7272,  1.8765,  0.3879]])\n"
          ],
          "name": "stdout"
        },
        {
          "output_type": "execute_result",
          "data": {
            "text/plain": [
              "tensor([[-0.4594,  0.2898, -0.7687,  1.1532],\n",
              "        [ 1.0289, -0.7272,  1.8765,  0.3879]])"
            ]
          },
          "metadata": {
            "tags": []
          },
          "execution_count": 18
        }
      ]
    },
    {
      "cell_type": "code",
      "metadata": {
        "id": "dv24xIn4-9an",
        "colab_type": "code",
        "outputId": "8eeb5902-f92d-42d9-ac93-bcfbee689f32",
        "colab": {
          "base_uri": "https://localhost:8080/",
          "height": 84
        }
      },
      "source": [
        "# torch.masked_select -> selects the masked entries only.\n",
        "# Always creates a copy.\n",
        "a = torch.randn(3, 4)\n",
        "print(a)\n",
        "torch.masked_select(a, a<=0)"
      ],
      "execution_count": 0,
      "outputs": [
        {
          "output_type": "stream",
          "text": [
            "tensor([[ 0.2863,  0.3866, -1.8093, -2.9834],\n",
            "        [-1.7142,  0.0790, -0.9346,  0.9550],\n",
            "        [-1.4393,  1.3298, -0.7261, -0.3710]])\n"
          ],
          "name": "stdout"
        },
        {
          "output_type": "execute_result",
          "data": {
            "text/plain": [
              "tensor([-1.8093, -2.9834, -1.7142, -0.9346, -1.4393, -0.7261, -0.3710])"
            ]
          },
          "metadata": {
            "tags": []
          },
          "execution_count": 19
        }
      ]
    },
    {
      "cell_type": "code",
      "metadata": {
        "id": "nCg9vWLj_ogQ",
        "colab_type": "code",
        "outputId": "2ce27aee-7ea6-4d18-ec55-c7831bb40b24",
        "colab": {
          "base_uri": "https://localhost:8080/",
          "height": 101
        }
      },
      "source": [
        "# torch.narrow -> Select the entires from the array\n",
        "# along a particular `dim` starting at `start` and\n",
        "# ending at `end`. Signature: input, dim, start, end.\n",
        "# Its a view, not a copy\n",
        "a = torch.randn(3, 4)\n",
        "print(a)\n",
        "torch.narrow(a, 0, 1, 2) # 2 inclusive"
      ],
      "execution_count": 0,
      "outputs": [
        {
          "output_type": "stream",
          "text": [
            "tensor([[-1.2850,  0.4749,  1.9929, -0.6216],\n",
            "        [ 1.6201, -2.2011, -0.7496, -0.1550],\n",
            "        [-0.4795, -0.9549, -0.4398, -0.7526]])\n"
          ],
          "name": "stdout"
        },
        {
          "output_type": "execute_result",
          "data": {
            "text/plain": [
              "tensor([[ 1.6201, -2.2011, -0.7496, -0.1550],\n",
              "        [-0.4795, -0.9549, -0.4398, -0.7526]])"
            ]
          },
          "metadata": {
            "tags": []
          },
          "execution_count": 20
        }
      ]
    },
    {
      "cell_type": "code",
      "metadata": {
        "id": "tMwjAh7NAwWc",
        "colab_type": "code",
        "outputId": "213f0e83-bb69-4327-d3bf-b84363dc2fcd",
        "colab": {
          "base_uri": "https://localhost:8080/",
          "height": 50
        }
      },
      "source": [
        "# torch.reshape -> Creates a view whenever possible\n",
        "# use torch.as_strided for garunteed view.\n",
        "a = torch.randn(1, 2, 3, 4, 5)\n",
        "print(a.shape)\n",
        "torch.reshape(a, [5, 4, 3, 2, 1]).shape"
      ],
      "execution_count": 0,
      "outputs": [
        {
          "output_type": "stream",
          "text": [
            "torch.Size([1, 2, 3, 4, 5])\n"
          ],
          "name": "stdout"
        },
        {
          "output_type": "execute_result",
          "data": {
            "text/plain": [
              "torch.Size([5, 4, 3, 2, 1])"
            ]
          },
          "metadata": {
            "tags": []
          },
          "execution_count": 21
        }
      ]
    },
    {
      "cell_type": "code",
      "metadata": {
        "id": "JsLVv5uEB6Kp",
        "colab_type": "code",
        "outputId": "136422e7-f546-4f77-de4d-60cae33882ca",
        "colab": {
          "base_uri": "https://localhost:8080/",
          "height": 168
        }
      },
      "source": [
        "# torch.split -> Splits the tensor into chunks.\n",
        "# Each chunk is a view of the original tensor.\n",
        "a = torch.randn(3, 5)\n",
        "print(a)\n",
        "print(torch.split(a, [1, 4], dim=1)[0])\n",
        "print(torch.split(a, [1, 4], dim=1)[1])"
      ],
      "execution_count": 0,
      "outputs": [
        {
          "output_type": "stream",
          "text": [
            "tensor([[-0.6687,  1.0434,  0.1391,  1.3075, -0.8829],\n",
            "        [-0.3051,  0.8685,  0.1271, -0.0328,  0.8895],\n",
            "        [ 0.4830, -1.0533,  0.1713, -0.2185, -1.1297]])\n",
            "tensor([[-0.6687],\n",
            "        [-0.3051],\n",
            "        [ 0.4830]])\n",
            "tensor([[ 1.0434,  0.1391,  1.3075, -0.8829],\n",
            "        [ 0.8685,  0.1271, -0.0328,  0.8895],\n",
            "        [-1.0533,  0.1713, -0.2185, -1.1297]])\n"
          ],
          "name": "stdout"
        }
      ]
    },
    {
      "cell_type": "code",
      "metadata": {
        "id": "ueS1jnC-DTio",
        "colab_type": "code",
        "outputId": "5f94f286-682d-4c54-b387-9c4ca88e5943",
        "colab": {
          "base_uri": "https://localhost:8080/",
          "height": 67
        }
      },
      "source": [
        "# torch.squeeze -> same as np.squeeze\n",
        "a = torch.randn(5, 1, 1, 4, 1, 1, 3, 1, 1, 2)\n",
        "print(a.shape)\n",
        "b = torch.squeeze(a)\n",
        "print(b.shape)\n",
        "# torch.unsqueeze -> wow!\n",
        "torch.unsqueeze(b, -1).shape"
      ],
      "execution_count": 0,
      "outputs": [
        {
          "output_type": "stream",
          "text": [
            "torch.Size([5, 1, 1, 4, 1, 1, 3, 1, 1, 2])\n",
            "torch.Size([5, 4, 3, 2])\n"
          ],
          "name": "stdout"
        },
        {
          "output_type": "execute_result",
          "data": {
            "text/plain": [
              "torch.Size([5, 4, 3, 2, 1])"
            ]
          },
          "metadata": {
            "tags": []
          },
          "execution_count": 23
        }
      ]
    },
    {
      "cell_type": "code",
      "metadata": {
        "id": "-Bd_jd2BEldK",
        "colab_type": "code",
        "outputId": "d18daddf-52f3-4b31-dce0-32d90a26aa3c",
        "colab": {
          "base_uri": "https://localhost:8080/",
          "height": 50
        }
      },
      "source": [
        "# torch.where -> if `condition`, `x`, else `y`\n",
        "a = torch.tensor([[1, 2], [3, 4]])\n",
        "torch.where(a>2, a, 1-a)"
      ],
      "execution_count": 0,
      "outputs": [
        {
          "output_type": "execute_result",
          "data": {
            "text/plain": [
              "tensor([[ 0, -1],\n",
              "        [ 3,  4]])"
            ]
          },
          "metadata": {
            "tags": []
          },
          "execution_count": 24
        }
      ]
    },
    {
      "cell_type": "code",
      "metadata": {
        "id": "f63mbiDnHRzg",
        "colab_type": "code",
        "colab": {}
      },
      "source": [
        "#                       Random Sampling in Torch!!\n",
        "# torch.seed\n",
        "# torch.set_rng_state\n",
        "# torch.get_rng_state\n",
        "# torch.rand\n",
        "# torch.rand_like\n",
        "# torch.randint\n",
        "# torch.randint_like\n",
        "# torch.randn\n",
        "# torch.randn_like\n",
        "# torch.randperm -> Returns a random permutation of integers from `0` to `n-1`.\n",
        "# torch.bernoulli\n",
        "# torch.multinomial\n",
        "# torch.poisson\n",
        "# torch.normal\n",
        "\n",
        "#                       Inplace Random Sampling\n",
        "# =========================     =========================================================\n",
        "#         CODE                                         DOCUMENTATION\n",
        "# =========================     =========================================================\n",
        "# torch.Tensor.bernoulli_()   - in-place version of torch.bernoulli()\n",
        "# torch.Tensor.cauchy_()      - numbers drawn from the Cauchy distribution\n",
        "# torch.Tensor.exponential_() - numbers drawn from the exponential distribution\n",
        "# torch.Tensor.geometric_()   - elements drawn from the geometric distribution\n",
        "# torch.Tensor.log_normal_()  - samples from the log-normal distribution\n",
        "# torch.Tensor.normal_()      - in-place version of torch.normal()\n",
        "# torch.Tensor.random_()      - numbers sampled from the discrete uniform distribution\n",
        "# torch.Tensor.uniform_()     - numbers sampled from the continuous uniform distribution"
      ],
      "execution_count": 0,
      "outputs": []
    },
    {
      "cell_type": "code",
      "metadata": {
        "id": "ikteJICdIOAq",
        "colab_type": "code",
        "outputId": "53602597-4e5e-4eb3-f4b9-1185c9b562bd",
        "colab": {
          "base_uri": "https://localhost:8080/",
          "height": 34
        }
      },
      "source": [
        "# Serialization\n",
        "# torch.save -> Saves tensor objects and model in pickle file\n",
        "# torch.load -> Loads tensor objects and model from a pickle file\n",
        "a = torch.arange(10)\n",
        "torch.save(a, 'torch_tensor_a.pkl')\n",
        "a = torch.load('torch_tensor_a.pkl')\n",
        "a"
      ],
      "execution_count": 0,
      "outputs": [
        {
          "output_type": "execute_result",
          "data": {
            "text/plain": [
              "tensor([0, 1, 2, 3, 4, 5, 6, 7, 8, 9])"
            ]
          },
          "metadata": {
            "tags": []
          },
          "execution_count": 26
        }
      ]
    },
    {
      "cell_type": "code",
      "metadata": {
        "id": "AcyTevew_7y2",
        "colab_type": "code",
        "outputId": "07d4e8d8-2b4c-4644-d0a2-2c5ccfc2e807",
        "colab": {
          "base_uri": "https://localhost:8080/",
          "height": 67
        }
      },
      "source": [
        "# Parallelism\n",
        "# torch.get_num_threads()\n",
        "# torch.set_num_threads()\n",
        "# torch.get_num_inteop_threads()\n",
        "# torch.set_num_interop_threads()\n",
        "print(torch.get_num_threads())\n",
        "torch.set_num_threads(4)\n",
        "print(torch.get_num_threads())\n",
        "torch.set_num_threads(1)\n",
        "print(torch.get_num_threads())"
      ],
      "execution_count": 0,
      "outputs": [
        {
          "output_type": "stream",
          "text": [
            "1\n",
            "4\n",
            "1\n"
          ],
          "name": "stdout"
        }
      ]
    },
    {
      "cell_type": "code",
      "metadata": {
        "id": "isfy6fkaAAiF",
        "colab_type": "code",
        "outputId": "72d23ae6-74cf-4b6a-f772-24864ed226ec",
        "colab": {
          "base_uri": "https://localhost:8080/",
          "height": 34
        }
      },
      "source": [
        "# torch.no_grad() -> Context manager to disable backprop for\n",
        "#                    some particular operation. This means that\n",
        "#                    the operation will not be recorded on graph.\n",
        "a = torch.arange(10, requires_grad=True, dtype=torch.float32, device='cuda')\n",
        "b = torch.arange(10, 20, requires_grad=True, dtype=torch.float32, device='cuda')\n",
        "with torch.no_grad():\n",
        "    c = a * b\n",
        "print(c.requires_grad)"
      ],
      "execution_count": 0,
      "outputs": [
        {
          "output_type": "stream",
          "text": [
            "False\n"
          ],
          "name": "stdout"
        }
      ]
    },
    {
      "cell_type": "code",
      "metadata": {
        "id": "TEEbwIIhBiHz",
        "colab_type": "code",
        "outputId": "b72968aa-5dac-4c0a-8421-dfc45c878877",
        "colab": {
          "base_uri": "https://localhost:8080/",
          "height": 50
        }
      },
      "source": [
        "# torch.enable_grad() -> Enablewe grad for operations where grad computation\n",
        "#                        has been altered using torch.no_grad or torch.set_grad_enabled\n",
        "# Method 1\n",
        "a = torch.arange(10, requires_grad=True, dtype=torch.float32, device='cuda')\n",
        "b = torch.arange(10, 20, requires_grad=True, dtype=torch.float32, device='cuda')\n",
        "with torch.no_grad():\n",
        "    with torch.enable_grad():\n",
        "        c = a * b\n",
        "print(c.requires_grad)\n",
        "\n",
        "# Method 2\n",
        "@torch.enable_grad()\n",
        "def mul_op(x, y):\n",
        "    return x * y\n",
        "\n",
        "with torch.no_grad():\n",
        "    c = mul_op(a, b)\n",
        "print(c.requires_grad)"
      ],
      "execution_count": 0,
      "outputs": [
        {
          "output_type": "stream",
          "text": [
            "True\n",
            "True\n"
          ],
          "name": "stdout"
        }
      ]
    },
    {
      "cell_type": "code",
      "metadata": {
        "id": "6slupOmQCbj0",
        "colab_type": "code",
        "colab": {}
      },
      "source": [
        "# Math operations\n",
        "# torch.abs\n",
        "# torch.acos\n",
        "# torch.asin\n",
        "# torch.atan\n",
        "# torch.atan2\n",
        "# torch.sin\n",
        "# torch.cos\n",
        "# torch.cosh\n",
        "# torch.tanh\n",
        "# torch.sinh\n",
        "# torch.tan\n",
        "# torch.exp\n",
        "# torch.log\n",
        "# torch.log10\n",
        "# torch.log2\n",
        "# torch.pow\n",
        "# torch.div\n",
        "# torch.add\n",
        "# torch.mul\n",
        "# torch.reciprocal\n",
        "# torch.remainder\n",
        "# torch.round\n",
        "# torch.rsqrt\n",
        "# torch.sqrt\n",
        "# torch.sigmoid\n",
        "# torch.sign\n",
        "# torch.square\n",
        "# torch.true_devide\n",
        "# torch.trunc -> truncate a floting point into integer\n",
        "# torch.argmax\n",
        "# torch.argmin\n",
        "# torch.max\n",
        "# torch.min\n",
        "# torch.dist -> Computes the p-norm of a tensor (default p=2)\n",
        "# torch.logsumexp\n",
        "# torch.mean\n",
        "# torch.median\n",
        "# torch.mode\n",
        "# torch.std\n",
        "# torch.std_mean\n",
        "# torch.var\n",
        "# torch.var_mean\n",
        "# torch.sum\n",
        "# torch.prod\n",
        "# torch.cumsum\n",
        "# torch.cumprod\n",
        "# torch.unique\n",
        "# torch.diag -> same as np.diag\n",
        "# torch.cholesky\n",
        "# torch.cholesky_solve\n",
        "# torch.solve\n",
        "# torch.triangular_solve\n",
        "# torch.lu\n",
        "# torch.lu_solve\n",
        "# torch.qr\n",
        "# torch.svd\n",
        "# torch.scd_lowrank\n",
        "# torch.pca_lowrank\n",
        "# torch.symeig -> Eigenvalues and vectors for symetric matrices\n",
        "# torch.matrix_power\n",
        "# torch.matrix_rank\n",
        "# torch.eig\n",
        "# torch.det\n",
        "# torch.logdet\n",
        "# torch.slogdet\n",
        "# torch.trace\n",
        "# torch.tril -> Returns the lower triangular part of input\n",
        "# torch.triu\n",
        "# torch.lstsq\n",
        "# torch.inverse  -> same as np.inv\n",
        "# torch.pinverse -> same as np.pinv\n",
        "# torch.flatten\n",
        "# torch.norm -> Computes the norm of a matrix or vector\n",
        "# torch.add -> Can be used as axpy but for tensors\n",
        "# torch.addcdiv -> Performs the element-wise division of `tensor1` by `tensor2`,\n",
        "#                  multiply the result by the scalar `value` and add it to `input`\n",
        "#                  result = input + value * (tensor1 / tensor2)\n",
        "# torch.addcmul -> Same as addcdiv but for multiplecation\n",
        "# torch.bitwise_not -> oeprator |\n",
        "# torch.bitwise_and -> operator &\n",
        "# torch.bitwise_not\n",
        "# torch.bitwise_xor\n",
        "# torch.ceil\n",
        "# torch.floor\n",
        "# torch.angle -> Commutes the angle of each vector (complex number function)\n",
        "# torch.conj -> Computes the conjugate of each vector (complex number function)"
      ],
      "execution_count": 0,
      "outputs": []
    },
    {
      "cell_type": "code",
      "metadata": {
        "id": "tADWFzJiF4LZ",
        "colab_type": "code",
        "outputId": "0061e7e8-b277-4695-9ae8-97e89da06bd1",
        "colab": {
          "base_uri": "https://localhost:8080/",
          "height": 84
        }
      },
      "source": [
        "# torch.clamp -> works like `np.clip`. Clips a tensor in [min, max] range\n",
        "a = torch.arange(0, 20)\n",
        "print(a)\n",
        "a = torch.clamp(a, min=5, max=15)\n",
        "print(a)"
      ],
      "execution_count": 0,
      "outputs": [
        {
          "output_type": "stream",
          "text": [
            "tensor([ 0,  1,  2,  3,  4,  5,  6,  7,  8,  9, 10, 11, 12, 13, 14, 15, 16, 17,\n",
            "        18, 19])\n",
            "tensor([ 5,  5,  5,  5,  5,  5,  6,  7,  8,  9, 10, 11, 12, 13, 14, 15, 15, 15,\n",
            "        15, 15])\n"
          ],
          "name": "stdout"
        }
      ]
    },
    {
      "cell_type": "code",
      "metadata": {
        "id": "3CQEJfsoIRM1",
        "colab_type": "code",
        "colab": {}
      },
      "source": [
        "# Advanced Mathematical Operations\n",
        "# torch.digamma -> Derivative of log of gamma function => d/dx ( ln(gamma(input)) )\n",
        "# torch.erf -> Error function\n",
        "# torch.erfc -> Complement of the error function\n",
        "# torch.erfinv -> Inverse of the error function\n",
        "# torch.exp\n",
        "# torch.expm1\n",
        "# torch.log1p -> inverse of torch.expm1\n",
        "# torch.floor_devide\n",
        "# torch.fmod -> Float %\n",
        "# torch.frac -> Computes the fractional portion of each element in `input`\n",
        "# torch.lerp -> out = start + weight * (end - start)\n",
        "# torch.lgamma -> Logirithm of the gamma function\n",
        "# torch.mvlgamma -> Compute the multivariate log gamma function\n",
        "# torch.polygamma -> Compute the n'th derivative of `torch.digamma` function"
      ],
      "execution_count": 0,
      "outputs": []
    },
    {
      "cell_type": "code",
      "metadata": {
        "id": "wUAti9avJivi",
        "colab_type": "code",
        "colab": {}
      },
      "source": [
        "# Comparison Ops\n",
        "# torch.equal\n",
        "# torch.eq\n",
        "# torch.ne\n",
        "# torch.ge\n",
        "# torch.le\n",
        "# torch.gt\n",
        "# torch.lt\n",
        "# torch.allclose\n",
        "# torch.isfinite\n",
        "# torch.isinf\n",
        "# torch.isnan\n",
        "# torch.kthvalue"
      ],
      "execution_count": 0,
      "outputs": []
    },
    {
      "cell_type": "code",
      "metadata": {
        "id": "nYgrPg-5S7rs",
        "colab_type": "code",
        "colab": {}
      },
      "source": [
        "# torch.sort\n",
        "# torch.argsort\n",
        "# torch.topk\n",
        "# torch.kthvalue"
      ],
      "execution_count": 0,
      "outputs": []
    },
    {
      "cell_type": "code",
      "metadata": {
        "id": "bEISpvkXfnrX",
        "colab_type": "code",
        "colab": {}
      },
      "source": [
        "# TODO: BLAS and LAPACK functions"
      ],
      "execution_count": 0,
      "outputs": []
    },
    {
      "cell_type": "code",
      "metadata": {
        "id": "XURzQke-fr0-",
        "colab_type": "code",
        "outputId": "40e7e8eb-27fd-4edb-ba05-d256b25f897d",
        "colab": {
          "base_uri": "https://localhost:8080/",
          "height": 34
        }
      },
      "source": [
        "#################################################################################\n",
        "#                                                                               #\n",
        "#                           NEURAL NETWORKS IN PYTORCH                          #\n",
        "#                                                                               #\n",
        "#################################################################################\n",
        "from torch import nn\n",
        "from torch.nn import functional as F\n",
        "torch.set_default_dtype(torch.float32)\n",
        "torch.manual_seed(420)"
      ],
      "execution_count": 0,
      "outputs": [
        {
          "output_type": "execute_result",
          "data": {
            "text/plain": [
              "<torch._C.Generator at 0x7f97d4d3f070>"
            ]
          },
          "metadata": {
            "tags": []
          },
          "execution_count": 36
        }
      ]
    },
    {
      "cell_type": "code",
      "metadata": {
        "id": "UXDg8dEpiG7t",
        "colab_type": "code",
        "outputId": "833d9f19-f9e5-431f-9596-f99aa0d9053d",
        "colab": {
          "base_uri": "https://localhost:8080/",
          "height": 168
        }
      },
      "source": [
        "# torch.nn.Parameter -> Registers a parameter in the scope of the module.\n",
        "#                       Doesn't backpropogate if used in or from other module,\n",
        "#                       unless registered.\n",
        "a = torch.randn(4, 5)\n",
        "print(a)\n",
        "nn.Parameter(a)"
      ],
      "execution_count": 0,
      "outputs": [
        {
          "output_type": "stream",
          "text": [
            "tensor([[-0.0070,  0.5044,  0.6704, -0.3829,  0.0938],\n",
            "        [-2.0492,  1.0550, -0.6222,  0.5020,  0.7538],\n",
            "        [ 0.6128, -0.9300,  1.3646, -0.7372, -0.7084],\n",
            "        [-0.2842, -1.4816,  0.3298,  0.4856,  0.4131]])\n"
          ],
          "name": "stdout"
        },
        {
          "output_type": "execute_result",
          "data": {
            "text/plain": [
              "Parameter containing:\n",
              "tensor([[-0.0070,  0.5044,  0.6704, -0.3829,  0.0938],\n",
              "        [-2.0492,  1.0550, -0.6222,  0.5020,  0.7538],\n",
              "        [ 0.6128, -0.9300,  1.3646, -0.7372, -0.7084],\n",
              "        [-0.2842, -1.4816,  0.3298,  0.4856,  0.4131]], requires_grad=True)"
            ]
          },
          "metadata": {
            "tags": []
          },
          "execution_count": 37
        }
      ]
    },
    {
      "cell_type": "code",
      "metadata": {
        "id": "eXW5LTQfiW-y",
        "colab_type": "code",
        "colab": {}
      },
      "source": [
        "# torch.nn.Module -> A class to create your NN. Define `__init__` to\n",
        "#                    initialize model parameters and `forward` method\n",
        "#                    to define operations on the parameters and input.\n",
        "#                    Registered parameters will be backpropogated while\n",
        "#                    training.\n",
        "class LinearRegressor(nn.Module):\n",
        "    def __init__(self, n_features):\n",
        "        super(LinearRegressor, self).__init__()\n",
        "        self.w = nn.Parameter(torch.randn(n_features, 1))\n",
        "        self.b = nn.Parameter(torch.randn(1))\n",
        "\n",
        "    def forward(self, X):\n",
        "        return X @ self.w + self.b"
      ],
      "execution_count": 0,
      "outputs": []
    },
    {
      "cell_type": "code",
      "metadata": {
        "id": "l9XskQqioFbA",
        "colab_type": "code",
        "outputId": "ed4af3c9-a0f7-4941-ec4c-9cf4498daea3",
        "colab": {
          "base_uri": "https://localhost:8080/",
          "height": 295
        }
      },
      "source": [
        "# Preparing Data\n",
        "import matplotlib.pyplot as plt\n",
        "n_examples = 10\n",
        "n_features = 1\n",
        "X = torch.randn(n_examples, n_features)\n",
        "w_true = torch.randn(n_features, 1)\n",
        "b_true = torch.randn(1)\n",
        "y_true = X @ w_true + b_true + 0.1 * torch.randn(n_examples, 1)\n",
        "plt.scatter(X, y_true)\n",
        "plt.title('Generated Data')\n",
        "plt.xlabel('X')\n",
        "plt.ylabel('y')\n",
        "plt.show()"
      ],
      "execution_count": 0,
      "outputs": [
        {
          "output_type": "display_data",
          "data": {
            "image/png": "[encoded data removed]",
            "text/plain": [
              "<Figure size 432x288 with 1 Axes>"
            ]
          },
          "metadata": {
            "tags": [],
            "needs_background": "light"
          }
        }
      ]
    },
    {
      "cell_type": "code",
      "metadata": {
        "id": "s7y2XJ7BlOjG",
        "colab_type": "code",
        "outputId": "606b5e37-362d-41d3-970d-df028facaf5a",
        "colab": {
          "base_uri": "https://localhost:8080/",
          "height": 235
        }
      },
      "source": [
        "# Initialize the LinearRegressor model.\n",
        "model = LinearRegressor(n_features)\n",
        "print(model(X))\n",
        "# .parameters() `yields` the parameters.\n",
        "# Not a list of parameters.\n",
        "print([i for i in model.parameters()])"
      ],
      "execution_count": 0,
      "outputs": [
        {
          "output_type": "stream",
          "text": [
            "tensor([[-0.9310],\n",
            "        [ 0.0286],\n",
            "        [ 1.1748],\n",
            "        [ 0.5521],\n",
            "        [ 0.4158],\n",
            "        [-2.0681],\n",
            "        [ 0.3057],\n",
            "        [-0.5863],\n",
            "        [-0.1718],\n",
            "        [-1.4015]], grad_fn=<AddBackward0>)\n",
            "[Parameter containing:\n",
            "tensor([[-0.8565]], requires_grad=True), Parameter containing:\n",
            "tensor([0.0513], requires_grad=True)]\n"
          ],
          "name": "stdout"
        }
      ]
    },
    {
      "cell_type": "code",
      "metadata": {
        "id": "Yr4CTh9SnKLM",
        "colab_type": "code",
        "outputId": "4d0a78ae-0629-4f73-c849-477ba87234e0",
        "colab": {
          "base_uri": "https://localhost:8080/",
          "height": 34
        }
      },
      "source": [
        "# Training a torch.nn.Module() model\n",
        "from time import sleep\n",
        "from sys import stdout\n",
        "epochs = 100\n",
        "# torch.nn contains many loss functions. We use\n",
        "# mse loss with mean over all the examples.\n",
        "loss_fn = nn.MSELoss(reduction='mean')\n",
        "# torch.optim contains many optimizers like Adam, Momentum\n",
        "# SGD, Adagrad, Adadelta, RMSProp, Nesterov Momentum, etc\n",
        "optimizer = torch.optim.SGD(model.parameters(), lr=1e-2)\n",
        "\n",
        "# Let's define our training loop now!\n",
        "for i in range(epochs):\n",
        "    y_pred = model(X) # Compute the prediction by forward propogating\n",
        "\n",
        "    loss = loss_fn(y_pred, y_true) # Evaluate the loss function\n",
        "    # Print the loss\n",
        "    stdout.write(f'\\repoch: {i} \\t {20*\"\"}')\n",
        "    stdout.write(f'\\repoch: {i} \\t loss: {loss.item():.3f}')\n",
        "    optimizer.zero_grad() # Initialize the optimizer\n",
        "    # Backpropogate through the graph. This will compute the\n",
        "    # gradients of all the parameters in-place and store them\n",
        "    # in .grad() method of the parameters.\n",
        "    loss.backward()\n",
        "    optimizer.step() # Take one step of optimizer. This will update our parameters.\n",
        "    sleep(0.2)"
      ],
      "execution_count": 0,
      "outputs": [
        {
          "output_type": "stream",
          "text": [
            "epoch: 99 \t loss: 0.017"
          ],
          "name": "stdout"
        }
      ]
    },
    {
      "cell_type": "code",
      "metadata": {
        "id": "06D8Kj1Qp2uY",
        "colab_type": "code",
        "outputId": "416d1b43-1c6f-40b2-ee26-6224d842fc74",
        "colab": {
          "base_uri": "https://localhost:8080/",
          "height": 454
        }
      },
      "source": [
        "# Let's see how good did we perform\n",
        "print(w_true)\n",
        "print(b_true)\n",
        "params = [i for i in model.parameters()]\n",
        "print(params[0])\n",
        "print(params[1])\n",
        "print(y_true)\n",
        "print(model(X))"
      ],
      "execution_count": 0,
      "outputs": [
        {
          "output_type": "stream",
          "text": [
            "tensor([[0.5441]])\n",
            "tensor([0.5470])\n",
            "Parameter containing:\n",
            "tensor([[0.4573]], requires_grad=True)\n",
            "Parameter containing:\n",
            "tensor([0.5397], requires_grad=True)\n",
            "tensor([[ 1.1738],\n",
            "        [ 0.6697],\n",
            "        [-0.1860],\n",
            "        [ 0.2040],\n",
            "        [ 0.2006],\n",
            "        [ 1.8688],\n",
            "        [ 0.2579],\n",
            "        [ 0.8006],\n",
            "        [ 0.5921],\n",
            "        [ 1.4782]])\n",
            "tensor([[ 1.0641],\n",
            "        [ 0.5518],\n",
            "        [-0.0602],\n",
            "        [ 0.2723],\n",
            "        [ 0.3451],\n",
            "        [ 1.6712],\n",
            "        [ 0.4039],\n",
            "        [ 0.8801],\n",
            "        [ 0.6588],\n",
            "        [ 1.3153]], grad_fn=<AddBackward0>)\n"
          ],
          "name": "stdout"
        }
      ]
    },
    {
      "cell_type": "code",
      "metadata": {
        "id": "6f9VmRAQq3O4",
        "colab_type": "code",
        "colab": {}
      },
      "source": [
        "# Somethings to remember about torch.nn.Module()\n",
        "# ============================================================================================= #\n",
        "#                                      Some Methods to remember                                 #\n",
        "# ============================================================================================= #\n",
        "# add_module(name, module) -> Add a sub module that will be registered\n",
        "#                             and affected by changes to the main module\n",
        "# -----------------------------------------------------------------------------------------------\n",
        "# apply(fn) -> Apply a function to all the submodules and the main module\n",
        "#              The function `fn` takes a module `m` as an argument\n",
        "# -----------------------------------------------------------------------------------------------\n",
        "# children() -> Generator of the children of the model (generates only the module)\n",
        "# named_children() -> Generator of the children of the model (generates the module and its name)\n",
        "# -----------------------------------------------------------------------------------------------\n",
        "# modules() -> Generates the modules in the scope of the main module\n",
        "# named_modules() -> Generates name along wwith module\n",
        "# -----------------------------------------------------------------------------------------------\n",
        "# parameters() -> Generator of the parameters in the main and sub modules\n",
        "# named_parameters() -> Generates name along with their object\n",
        "# -----------------------------------------------------------------------------------------------\n",
        "# cpu()   -> Move all parameters and buffers to cpu\n",
        "# cuda()  -> Move all parameters and buffers to gpu\n",
        "# -----------------------------------------------------------------------------------------------\n",
        "# double() -> Casts all the parameters/buffers to double (float64) datatype\n",
        "# float()  -> Casts all the parameters/buffers to float (float32) datatype\n",
        "# half()   -> Casts all the parameters/buffers to half datatype\n",
        "# -----------------------------------------------------------------------------------------------\n",
        "# extra_repr() -> Sets the extra representation of the module to print custom info\n",
        "# -----------------------------------------------------------------------------------------------\n",
        "# register_forward_hook(hook) -> Registers a forward hook on the module.\n",
        "#                                The hook will be called every time after forward()\n",
        "#                                has computed an output.\n",
        "#                                It should have the signature hook(module, input, output)\n",
        "# register_forward_pre_hood(hook) -> Called before the call to forward(). Must have signature\n",
        "#                                    hook(module, input) -> None or modified input.\n",
        "# register_parameter(name, tensor) -> Register a parameter in a module so the gradients will be\n",
        "#                                     propogated when backward is called.\n",
        "# requires_grad_() -> Used to finetune models. Setting it false disables the backprob state of\n",
        "#                     parameters with which it is called. You can finetune models be disabling\n",
        "#                     some gradients.\n",
        "# -----------------------------------------------------------------------------------------------\n",
        "# to() -> See the docs to understand it properly.\n",
        "# ============================================================================================= #"
      ],
      "execution_count": 0,
      "outputs": []
    },
    {
      "cell_type": "code",
      "metadata": {
        "id": "xvIIXgWQNvRi",
        "colab_type": "code",
        "colab": {}
      },
      "source": [
        "# An example of `add_module`\n",
        "class LogisticRegressor(nn.Module):\n",
        "    def __init__(self, n_features):\n",
        "        super(LogisticRegressor, self).__init__()\n",
        "        self.add_module('lm', LinearRegressor(n_features))\n",
        "\n",
        "    def forward(self, X):\n",
        "        out = self.lm(X)\n",
        "        y_pred = torch.sigmoid(out)\n",
        "        return y_pred"
      ],
      "execution_count": 0,
      "outputs": []
    },
    {
      "cell_type": "code",
      "metadata": {
        "id": "t57PH7CIOwsp",
        "colab_type": "code",
        "outputId": "46fb355f-f5c9-40b2-94cc-b264ce9ccff7",
        "colab": {
          "base_uri": "https://localhost:8080/",
          "height": 185
        }
      },
      "source": [
        "# Let's see how `add_module` works\n",
        "model = LogisticRegressor(n_features)\n",
        "model(X)"
      ],
      "execution_count": 0,
      "outputs": [
        {
          "output_type": "execute_result",
          "data": {
            "text/plain": [
              "tensor([[0.3267],\n",
              "        [0.3550],\n",
              "        [0.3900],\n",
              "        [0.3708],\n",
              "        [0.3666],\n",
              "        [0.2949],\n",
              "        [0.3633],\n",
              "        [0.3367],\n",
              "        [0.3490],\n",
              "        [0.3133]], grad_fn=<SigmoidBackward>)"
            ]
          },
          "metadata": {
            "tags": []
          },
          "execution_count": 45
        }
      ]
    },
    {
      "cell_type": "code",
      "metadata": {
        "id": "ONgsz7Y1O00j",
        "colab_type": "code",
        "outputId": "6035ff58-71d1-4bd0-adc5-676dd0a4c8f1",
        "colab": {
          "base_uri": "https://localhost:8080/",
          "height": 34
        }
      },
      "source": [
        "# Example of `children` method\n",
        "list(model.children())"
      ],
      "execution_count": 0,
      "outputs": [
        {
          "output_type": "execute_result",
          "data": {
            "text/plain": [
              "[LinearRegressor()]"
            ]
          },
          "metadata": {
            "tags": []
          },
          "execution_count": 46
        }
      ]
    },
    {
      "cell_type": "code",
      "metadata": {
        "id": "MLXk55XmO3Pv",
        "colab_type": "code",
        "outputId": "ba76b2c8-5973-42ad-9501-83aad88228dd",
        "colab": {
          "base_uri": "https://localhost:8080/",
          "height": 67
        }
      },
      "source": [
        "# Example of torch.apply\n",
        "@torch.no_grad()\n",
        "def apply_func(m):\n",
        "    # m is a module so we can preprocess\n",
        "    # parameters if we want to.\n",
        "    m.w = nn.Parameter(torch.tensor([[1.], [2.], [3.], [4.]]))\n",
        "    m.b = nn.Parameter(torch.tensor([1.]))\n",
        "\n",
        "model.apply(apply_func)"
      ],
      "execution_count": 0,
      "outputs": [
        {
          "output_type": "execute_result",
          "data": {
            "text/plain": [
              "LogisticRegressor(\n",
              "  (lm): LinearRegressor()\n",
              ")"
            ]
          },
          "metadata": {
            "tags": []
          },
          "execution_count": 47
        }
      ]
    },
    {
      "cell_type": "code",
      "metadata": {
        "id": "GnenQlDMQi_t",
        "colab_type": "code",
        "colab": {}
      },
      "source": [
        "# Some special modules\n",
        "# 1. torch.nn.Sequential -> A sequential model\n",
        "# 2. torch.nn.ModuleList -> Module with multiple sub-modules passed as a list\n",
        "# 3. torch.nn.ModuleDict -> Module with multiple sub-modules passed as a ordered dict"
      ],
      "execution_count": 0,
      "outputs": []
    },
    {
      "cell_type": "code",
      "metadata": {
        "id": "yxwGZqcDb-hr",
        "colab_type": "code",
        "colab": {}
      },
      "source": [
        "# ============================================================================================= #\n",
        "#                                       Models! Models! Models!                                 #\n",
        "# ============================================================================================= #"
      ],
      "execution_count": 0,
      "outputs": []
    },
    {
      "cell_type": "code",
      "metadata": {
        "id": "0AEA7bIJcz36",
        "colab_type": "code",
        "colab": {}
      },
      "source": [
        "############################\n",
        "#   1. Linear Regression   #\n",
        "############################\n",
        "n_examples = 10\n",
        "n_features = 1"
      ],
      "execution_count": 0,
      "outputs": []
    },
    {
      "cell_type": "code",
      "metadata": {
        "id": "OXGFG_F-chH5",
        "colab_type": "code",
        "colab": {}
      },
      "source": [
        "# Step 1: Define Model\n",
        "class LinearRegressor(nn.Module):\n",
        "    def __init__(self, n_features):\n",
        "        super(LinearRegressor, self).__init__()\n",
        "        self.w = nn.Parameter(torch.randn(n_features, 1))\n",
        "        self.b = nn.Parameter(torch.randn(1))\n",
        "\n",
        "    def forward(self, X):\n",
        "        return X @ self.w + self.b"
      ],
      "execution_count": 0,
      "outputs": []
    },
    {
      "cell_type": "code",
      "metadata": {
        "id": "rqRH1Psvc_PX",
        "colab_type": "code",
        "outputId": "aaead666-df39-4bd2-bc8c-b7f5c453b978",
        "colab": {
          "base_uri": "https://localhost:8080/",
          "height": 295
        }
      },
      "source": [
        "# Step 2: Prepare Data\n",
        "import matplotlib.pyplot as plt\n",
        "\n",
        "X = torch.randn(n_examples, n_features)\n",
        "w_true = torch.randn(n_features, 1)\n",
        "b_true = torch.randn(1)\n",
        "\n",
        "y_true = X @ w_true + b_true + 0.1 * torch.randn(n_examples, 1)\n",
        "\n",
        "if n_features == 1:\n",
        "    plt.scatter(X, y_true)\n",
        "    plt.title('Generated Data')\n",
        "    plt.xlabel('X')\n",
        "    plt.ylabel('y')\n",
        "    plt.show()"
      ],
      "execution_count": 0,
      "outputs": [
        {
          "output_type": "display_data",
          "data": {
            "image/png": "[encoded data removed]",
            "text/plain": [
              "<Figure size 432x288 with 1 Axes>"
            ]
          },
          "metadata": {
            "tags": [],
            "needs_background": "light"
          }
        }
      ]
    },
    {
      "cell_type": "code",
      "metadata": {
        "id": "PVQW284YdVhz",
        "colab_type": "code",
        "colab": {}
      },
      "source": [
        "# Step 3: Initialize the LinearRegressor model.\n",
        "model = LinearRegressor(n_features)"
      ],
      "execution_count": 0,
      "outputs": []
    },
    {
      "cell_type": "code",
      "metadata": {
        "id": "woR3BGyldfHr",
        "colab_type": "code",
        "outputId": "6fe804ad-a807-4fe2-e688-4b734e025045",
        "colab": {
          "base_uri": "https://localhost:8080/",
          "height": 34
        }
      },
      "source": [
        "# Step 4: Train!\n",
        "epochs = 100\n",
        "\n",
        "\n",
        "loss_fn = nn.MSELoss(reduction='mean')\n",
        "optimizer = torch.optim.SGD(model.parameters(), lr=1e-2)\n",
        "\n",
        "# Let's define our training loop now!\n",
        "for i in range(epochs):\n",
        "    y_pred = model(X)\n",
        "\n",
        "    loss = loss_fn(y_pred, y_true)\n",
        "    stdout.write(f'\\repoch: {i} \\t {20*\"\"}')\n",
        "    stdout.write(f'\\repoch: {i} \\t loss: {loss.item():.3f}')\n",
        "\n",
        "    optimizer.zero_grad()\n",
        "    loss.backward()\n",
        "    optimizer.step()\n",
        "    sleep(0.2)"
      ],
      "execution_count": 0,
      "outputs": [
        {
          "output_type": "stream",
          "text": [
            "epoch: 99 \t loss: 0.024"
          ],
          "name": "stdout"
        }
      ]
    },
    {
      "cell_type": "code",
      "metadata": {
        "id": "IxMGs0Bvd-jX",
        "colab_type": "code",
        "colab": {}
      },
      "source": [
        "##############################\n",
        "#   1. Logistic Regression   #\n",
        "##############################\n",
        "n_examples = 10\n",
        "n_features = 1"
      ],
      "execution_count": 0,
      "outputs": []
    },
    {
      "cell_type": "code",
      "metadata": {
        "id": "AHl1NA7zd0cb",
        "colab_type": "code",
        "colab": {}
      },
      "source": [
        "# Step 1: Define Model\n",
        "class LogisticRegressor(nn.Module):\n",
        "    def __init__(self, n_features):\n",
        "        super(LogisticRegressor, self).__init__()\n",
        "        self.add_module('lm', LinearRegressor(n_features))\n",
        "\n",
        "    def forward(self, X):\n",
        "        out = self.lm(X)\n",
        "        y_pred = torch.sigmoid(out)\n",
        "        return y_pred"
      ],
      "execution_count": 0,
      "outputs": []
    },
    {
      "cell_type": "code",
      "metadata": {
        "id": "2jspJmUyeJPv",
        "colab_type": "code",
        "outputId": "7136356c-3141-4637-f1b4-b07de57d1982",
        "colab": {
          "base_uri": "https://localhost:8080/",
          "height": 295
        }
      },
      "source": [
        "# Step 2: Prepare Data\n",
        "X = torch.randn(n_examples, n_features)\n",
        "w_true = torch.randn(n_features, 1)\n",
        "b_true = torch.randn(1)\n",
        "\n",
        "f_true = X @ w_true + b_true + 0.1 * torch.randn(n_examples, 1)\n",
        "y_true = 1.*(torch.sigmoid(f_true) >= 0.5)\n",
        "\n",
        "if n_features == 1:\n",
        "    plt.scatter(X, y_true)\n",
        "    plt.title('Generated Data')\n",
        "    plt.xlabel('X')\n",
        "    plt.ylabel('y')\n",
        "    plt.show()"
      ],
      "execution_count": 0,
      "outputs": [
        {
          "output_type": "display_data",
          "data": {
            "image/png": "[encoded data removed]",
            "text/plain": [
              "<Figure size 432x288 with 1 Axes>"
            ]
          },
          "metadata": {
            "tags": [],
            "needs_background": "light"
          }
        }
      ]
    },
    {
      "cell_type": "code",
      "metadata": {
        "id": "u5JEk6Cyec72",
        "colab_type": "code",
        "colab": {}
      },
      "source": [
        "# Step 3: Initialize the LogisticRegressor model.\n",
        "model = LogisticRegressor(n_features)"
      ],
      "execution_count": 0,
      "outputs": []
    },
    {
      "cell_type": "code",
      "metadata": {
        "id": "derj8X0Dey1V",
        "colab_type": "code",
        "outputId": "bad2979e-2203-4b61-e3d2-2a709fb1bede",
        "colab": {
          "base_uri": "https://localhost:8080/",
          "height": 34
        }
      },
      "source": [
        "# Step 4: Train!\n",
        "epochs = 100\n",
        "\n",
        "loss_fn   = nn.BCELoss(reduction='mean')\n",
        "optimizer = torch.optim.Adam(model.parameters(), lr=1e-2)\n",
        "\n",
        "# Let's define our training loop now!\n",
        "for i in range(epochs):\n",
        "    y_proba = model(X)\n",
        "    y_pred  = 1.*(y_proba >= 0.5)\n",
        "    loss = loss_fn(y_proba, y_true)\n",
        "    stdout.write(f'\\repoch: {i} \\t {30*\"\"}')\n",
        "    stdout.write(f'\\repoch: {i} \\t loss: {loss.item():.3f} \\t'\n",
        "                 f' acc: {torch.sum(y_pred == y_true) / float(n_examples):.3f}')\n",
        "\n",
        "    optimizer.zero_grad()\n",
        "    loss.backward()\n",
        "    optimizer.step()\n",
        "    sleep(0.2)"
      ],
      "execution_count": 0,
      "outputs": [
        {
          "output_type": "stream",
          "text": [
            "epoch: 99 \t loss: 0.576 \t acc: 0.600"
          ],
          "name": "stdout"
        }
      ]
    },
    {
      "cell_type": "code",
      "metadata": {
        "id": "nsQNWYmugWo-",
        "colab_type": "code",
        "colab": {}
      },
      "source": [
        "##############\n",
        "#   1. ANN   #\n",
        "##############\n",
        "n_examples = 100\n",
        "n_features = 10"
      ],
      "execution_count": 0,
      "outputs": []
    },
    {
      "cell_type": "code",
      "metadata": {
        "id": "1BHXYVSciSJU",
        "colab_type": "code",
        "colab": {}
      },
      "source": [
        "# We complete steps 1 and 3 in one step by using nn.Sequential\n",
        "model = nn.Sequential(\n",
        "    nn.Linear(n_features, 16),\n",
        "    nn.ReLU(),\n",
        "    nn.Linear(16, 16),\n",
        "    nn.ReLU(),\n",
        "    nn.Linear(16, 1)\n",
        ")"
      ],
      "execution_count": 0,
      "outputs": []
    },
    {
      "cell_type": "code",
      "metadata": {
        "id": "HPA99jdCjJcG",
        "colab_type": "code",
        "outputId": "7c5fcc41-f1aa-4508-c9f9-ba08b80bc023",
        "colab": {
          "base_uri": "https://localhost:8080/",
          "height": 34
        }
      },
      "source": [
        "# Let's peek into the model and see its parameters.\n",
        "dict(model.named_parameters()).keys()"
      ],
      "execution_count": 0,
      "outputs": [
        {
          "output_type": "execute_result",
          "data": {
            "text/plain": [
              "dict_keys(['0.weight', '0.bias', '2.weight', '2.bias', '4.weight', '4.bias'])"
            ]
          },
          "metadata": {
            "tags": []
          },
          "execution_count": 62
        }
      ]
    },
    {
      "cell_type": "code",
      "metadata": {
        "id": "CVm3NrEqjLIa",
        "colab_type": "code",
        "colab": {}
      },
      "source": [
        "# Step 2: Prepare data\n",
        "X = torch.randn(n_examples, n_features)\n",
        "f_true = (torch.logsumexp(X, dim=1, keepdim=True) +\n",
        "          0.01*torch.randn(n_examples, 1))\n",
        "f_true = torch.sigmoid(f_true-f_true.mean())\n",
        "y_true = 1.*(f_true >= 0.5)"
      ],
      "execution_count": 0,
      "outputs": []
    },
    {
      "cell_type": "code",
      "metadata": {
        "id": "Q7PJ-Hrek7xt",
        "colab_type": "code",
        "outputId": "1fd0647a-f267-42b3-a100-c506051f87ab",
        "colab": {
          "base_uri": "https://localhost:8080/",
          "height": 34
        }
      },
      "source": [
        "# Step 4: Train!\n",
        "epochs = 20\n",
        "\n",
        "\n",
        "loss_fn = nn.BCEWithLogitsLoss(reduction='mean')\n",
        "optimizer = torch.optim.RMSprop(model.parameters(), lr=1e-2)\n",
        "\n",
        "# Let's define our training loop now!\n",
        "for i in range(epochs):\n",
        "    f_pred = model(X)\n",
        "    y_pred  = 1.*(torch.sigmoid(f_pred) >= 0.5)\n",
        "    loss = loss_fn(f_pred, y_true)\n",
        "    stdout.write(f'\\repoch: {i} \\t {30*\"\"}')\n",
        "    stdout.write(f'\\repoch: {i} \\t loss: {loss.item():.3f} \\t'\n",
        "                 f' acc: {torch.sum(y_pred == y_true) / float(n_examples):.3f}')\n",
        "\n",
        "    optimizer.zero_grad()\n",
        "    loss.backward()\n",
        "    optimizer.step()\n",
        "    sleep(0.2)"
      ],
      "execution_count": 0,
      "outputs": [
        {
          "output_type": "stream",
          "text": [
            "epoch: 19 \t loss: 0.051 \t acc: 0.990"
          ],
          "name": "stdout"
        }
      ]
    },
    {
      "cell_type": "code",
      "metadata": {
        "id": "jP6_YGSvk81h",
        "colab_type": "code",
        "colab": {}
      },
      "source": [
        "##############\n",
        "#   1. CNN   #\n",
        "##############\n",
        "torch.set_default_dtype(torch.float32)"
      ],
      "execution_count": 0,
      "outputs": []
    },
    {
      "cell_type": "code",
      "metadata": {
        "id": "XJ0UPmam4nEA",
        "colab_type": "code",
        "outputId": "499c5f81-0c5a-4ed7-b8aa-39ce09b74e8e",
        "colab": {
          "base_uri": "https://localhost:8080/",
          "height": 34
        }
      },
      "source": [
        "from keras.datasets import mnist\n",
        "\n",
        "(x_train, y_train), (x_test, y_test) = mnist.load_data()\n",
        "x_train = (x_train / 255.).reshape(-1, 1, 28, 28).astype('float32')\n",
        "x_test = (x_test / 255.).reshape(-1, 1, 28, 28).astype('float32')\n",
        "y_train, y_test = ((y_train).astype('float32'),\n",
        "                   (y_test).astype('float32'))"
      ],
      "execution_count": 0,
      "outputs": [
        {
          "output_type": "stream",
          "text": [
            "Using TensorFlow backend.\n"
          ],
          "name": "stderr"
        }
      ]
    },
    {
      "cell_type": "code",
      "metadata": {
        "id": "xCgazCqb4vMB",
        "colab_type": "code",
        "colab": {}
      },
      "source": [
        "x_train, x_test, y_train, y_test = (torch.as_tensor(x_train, device='cuda'),\n",
        "                                    torch.as_tensor(x_test, device='cuda'),\n",
        "                                    torch.as_tensor(y_train, device='cuda'),\n",
        "                                    torch.as_tensor(y_test, device='cuda'))"
      ],
      "execution_count": 0,
      "outputs": []
    },
    {
      "cell_type": "code",
      "metadata": {
        "id": "fE8A--vk5UNo",
        "colab_type": "code",
        "colab": {}
      },
      "source": [
        "from collections import OrderedDict\n",
        "\n",
        "model = nn.Sequential(OrderedDict(\n",
        "    [('conv_layer_1'   , nn.Conv2d(1, 16, 3, 1)),    # 16 x 26 x 26\n",
        "     ('relu_1'         , nn.ReLU()),\n",
        "     ('conv_layer_2'   , nn.Conv2d(16, 32, 3, 1)),   # 32 x 24 x 24\n",
        "     ('relu_2'         , nn.ReLU()),\n",
        "     ('maxpool_layer_1', nn.MaxPool2d(2, stride=2)), # 32 x 12 x 12\n",
        "     ('conv_layer_3'   , nn.Conv2d(32, 64, 3, 1)),   # 64 x 10 x 10\n",
        "     ('relu_3'         , nn.ReLU()),                 #     |\n",
        "     ('flatten_layer'  , nn.Flatten()),              #     |\n",
        "     ('linear_layer_1' , nn.Linear(64*10*10, 64)),   # <----\n",
        "     ('relu_4'         , nn.ReLU()),\n",
        "     ('linear_layer_2' , nn.Linear(64, 32)),\n",
        "     ('relu_5'         , nn.ReLU()),\n",
        "     ('out_layer'      , nn.Linear(32, 10))]\n",
        "))\n",
        "model = model.to(torch.device('cuda'))"
      ],
      "execution_count": 0,
      "outputs": []
    },
    {
      "cell_type": "code",
      "metadata": {
        "id": "TzQAEu0t7DUI",
        "colab_type": "code",
        "outputId": "d43dbf1b-76a2-4cd7-e8a4-b409376be4d5",
        "colab": {
          "base_uri": "https://localhost:8080/",
          "height": 185
        }
      },
      "source": [
        "batch_size = 1000\n",
        "epochs = 10\n",
        "\n",
        "loss_fn = nn.CrossEntropyLoss(reduction='mean')\n",
        "optimizer = torch.optim.Adam(model.parameters(), lr=1e-3)\n",
        "\n",
        "\n",
        "for i in range(epochs):\n",
        "    for idx in range(x_train.shape[0] // batch_size):\n",
        "        # Get the batch to train\n",
        "        x_batch = x_train[idx*batch_size:(idx+1)*batch_size, ...]\n",
        "        y_batch = y_train[idx*batch_size:(idx+1)*batch_size, ...]\n",
        "\n",
        "        # Forward pass\n",
        "        f_pred = model(x_batch)\n",
        "        y_pred = nn.functional.softmax(f_pred, dim=1)\n",
        "        loss = loss_fn(f_pred, y_batch.long())\n",
        "\n",
        "        # Backward pass\n",
        "        optimizer.zero_grad()\n",
        "        loss.backward()\n",
        "        optimizer.step()\n",
        "\n",
        "        # Print the results\n",
        "        stdout.write(f'\\r epoch : {i}\\t'\n",
        "                     f'step : {min((idx+1)*batch_size, x_train.shape[0])}/{x_train.shape[0]}\\t'\n",
        "                     f'loss : {loss.item():.3f}\\t'\n",
        "                     f'accuracy : {torch.sum(1.*(y_pred.argmax(axis=1) == y_batch)) / y_batch.shape[0]:.3f}')\n",
        "    print()"
      ],
      "execution_count": 0,
      "outputs": [
        {
          "output_type": "stream",
          "text": [
            " epoch : 0\tstep : 60000/60000\tloss : 0.275\taccuracy : 0.929\n",
            " epoch : 1\tstep : 60000/60000\tloss : 0.160\taccuracy : 0.960\n",
            " epoch : 2\tstep : 60000/60000\tloss : 0.110\taccuracy : 0.976\n",
            " epoch : 3\tstep : 60000/60000\tloss : 0.082\taccuracy : 0.985\n",
            " epoch : 4\tstep : 60000/60000\tloss : 0.069\taccuracy : 0.989\n",
            " epoch : 5\tstep : 60000/60000\tloss : 0.059\taccuracy : 0.991\n",
            " epoch : 6\tstep : 60000/60000\tloss : 0.053\taccuracy : 0.990\n",
            " epoch : 7\tstep : 60000/60000\tloss : 0.047\taccuracy : 0.991\n",
            " epoch : 8\tstep : 60000/60000\tloss : 0.045\taccuracy : 0.992\n",
            " epoch : 9\tstep : 60000/60000\tloss : 0.040\taccuracy : 0.994\n"
          ],
          "name": "stdout"
        }
      ]
    },
    {
      "cell_type": "code",
      "metadata": {
        "id": "DDd-qXCo7xV8",
        "colab_type": "code",
        "outputId": "7272d7c0-a865-4d33-f596-98eeba5b438f",
        "colab": {
          "base_uri": "https://localhost:8080/",
          "height": 34
        }
      },
      "source": [
        "y_probs_test = model(x_test)\n",
        "y_preds_test = y_probs_test.argmax(axis=1)\n",
        "print(f\"Test set accuracy : {torch.sum(1.*(y_preds_test == y_test)) / y_test.shape[0]}\")"
      ],
      "execution_count": 0,
      "outputs": [
        {
          "output_type": "stream",
          "text": [
            "Test set accuracy : 0.9872999787330627\n"
          ],
          "name": "stdout"
        }
      ]
    },
    {
      "cell_type": "code",
      "metadata": {
        "id": "l0IxZFl5r0vQ",
        "colab_type": "code",
        "colab": {}
      },
      "source": [
        "######################\n",
        "#   4. Autoencoder   #\n",
        "######################"
      ],
      "execution_count": 0,
      "outputs": []
    },
    {
      "cell_type": "code",
      "metadata": {
        "id": "WLgzycPIuDgS",
        "colab_type": "code",
        "colab": {}
      },
      "source": [
        "# Step 2: Prepare data\n",
        "(x_train, _), (x_test, _) = mnist.load_data()\n",
        "x_train = (1.*((x_train / 255.)>=0.5)).reshape(-1, 1, 28, 28).astype('float32')\n",
        "x_test = (1.*((x_test / 255.)>=0.5)).reshape(-1, 1, 28, 28).astype('float32')\n",
        "x_train, x_test = (torch.as_tensor(x_train, device='cuda'),\n",
        "                   torch.as_tensor(x_test, device='cuda'))"
      ],
      "execution_count": 0,
      "outputs": []
    },
    {
      "cell_type": "code",
      "metadata": {
        "id": "RtZfMzcGuhjI",
        "colab_type": "code",
        "colab": {}
      },
      "source": [
        "# Step 1 and 3\n",
        "from functools import partial\n",
        "#  IPReLU => inplace relu\n",
        "IPReLU = partial(nn.ReLU, True)\n",
        "\n",
        "class Reshape(nn.Module):\n",
        "    def __init__(self, *shape):\n",
        "        super(Reshape, self).__init__()\n",
        "        self.shape = shape\n",
        "\n",
        "    def forward(self, X, *args, **kwargs):\n",
        "        return X.view(-1, *self.shape)\n",
        "\n",
        "encoder = nn.Sequential(OrderedDict([\n",
        "        ('e_conv_layer_1', nn.Conv2d(1, 16, 5, 1)),               # 16 x 24 x 24\n",
        "        ('e_relu_layer_1', IPReLU()),\n",
        "        ('e_conv_layer_2', nn.Conv2d(16, 32, 5, 1)),              # 32 x 20 x 20\n",
        "        ('e_relu_layer_2', IPReLU()),\n",
        "        ('e_max_pool_layer_1', nn.MaxPool2d(2, 2)),               # 32 x 10 x 10\n",
        "        ('e_conv_layer_3', nn.Conv2d(32, 64, 5, 1)),              # 64 x 6 x 6\n",
        "        ('e_relu_layer_3', IPReLU()),\n",
        "        ('e_dropout_layer_1', nn.Dropout2d(p=0.75)),\n",
        "        ('e_conv_layer_4', nn.Conv2d(64, 128, 5, 1)),             # 128 x 2 x 2\n",
        "        ('e_relu_layer_4', IPReLU()),\n",
        "        ('e_dropout_layer_1', nn.Dropout2d(p=0.85)),\n",
        "        ('e_flatten_layer', nn.Flatten()),\n",
        "        ('e_linear_layer_1', nn.Linear(128*2*2, 64))              # 64 ==> Bottleneck\n",
        "]))\n",
        "\n",
        "decoder = nn.Sequential(OrderedDict([\n",
        "        ('inv_linear_layer_1', nn.Linear(64, 128*2*2)),           # 128 * 2 * 2\n",
        "        ('inv_relu_layer_4', IPReLU()),\n",
        "        ('inv_flatten_layer', Reshape(128, 2, 2)),                # 128 x 2 x 2\n",
        "        ('inv_conv_layer_4', nn.ConvTranspose2d(128, 64, 5, 1)),  # 64 x 6 x 6\n",
        "        ('inv_relu_layer_3', IPReLU()),\n",
        "        ('inv_conv_layer_3', nn.ConvTranspose2d(64, 32, 5, 1)),   # 32 x 10 x 10\n",
        "        ('inv_relu_layer_2', IPReLU()),\n",
        "        ('inv_max_pool_1', nn.ConvTranspose2d(32, 32, 11, 1)),    # 32 x 20 x 20\n",
        "        ('inv_conv_layer_2', nn.ConvTranspose2d(32, 16, 5, 1)),   # 16 x 24 x 24\n",
        "        ('inv_relu_layer_1', IPReLU()),\n",
        "        ('inv_conv_layer_1', nn.ConvTranspose2d(16, 1, 5, 1)),    # 1 x 28 x 28\n",
        "        ('out_layer', nn.Sigmoid())\n",
        "]))\n",
        "\n",
        "model = nn.Sequential(OrderedDict([\n",
        "        ('encoder', encoder),\n",
        "        ('decoder', decoder)\n",
        "]))\n",
        "\n",
        "model = model.to(torch.device('cuda'))"
      ],
      "execution_count": 0,
      "outputs": []
    },
    {
      "cell_type": "code",
      "metadata": {
        "id": "fB4EmjWpwZes",
        "colab_type": "code",
        "outputId": "28607595-b830-49fd-b12f-c69681de92fb",
        "colab": {
          "base_uri": "https://localhost:8080/",
          "height": 185
        }
      },
      "source": [
        "batch_size = 1000\n",
        "epochs = 10\n",
        "\n",
        "# We can use reconstruction loss also. In that case, we will\n",
        "# be maximizing the log likelihood of Normal Distribution.\n",
        "# In this case, I maximize the log likelihood of the bernoulli\n",
        "# distribution by keeping CrossEntropyLoss!\n",
        "def loss_fn(outputs, targets):\n",
        "    return -torch.mean(targets*torch.log(outputs+1e-18) + (1-targets)*torch.log(1-outputs+1e-18))\n",
        "\n",
        "optimizer = torch.optim.Adam(model.parameters(), lr=1e-3)\n",
        "\n",
        "for i in range(epochs):\n",
        "    for idx in range(x_train.shape[0] // batch_size):\n",
        "        # Get the batch to train\n",
        "        x_batch = x_train[idx*batch_size:(idx+1)*batch_size, ...]\n",
        "\n",
        "        # Forward pass\n",
        "        recon = model(x_batch)\n",
        "        recon = recon.view(batch_size, 784)\n",
        "        x_batch = x_batch.view(batch_size, 784)\n",
        "        loss = loss_fn(recon, x_batch.long())\n",
        "\n",
        "        # Backward pass\n",
        "        optimizer.zero_grad()\n",
        "        loss.backward()\n",
        "        optimizer.step()\n",
        "\n",
        "        # Print the results\n",
        "        stdout.write(f'\\r epoch : {i}\\t'\n",
        "                     f'step : {min((idx+1)*batch_size, x_train.shape[0])}/{x_train.shape[0]}\\t'\n",
        "                     f'loss : {loss.item():.3f}\\t')\n",
        "    print()"
      ],
      "execution_count": 0,
      "outputs": [
        {
          "output_type": "stream",
          "text": [
            " epoch : 0\tstep : 60000/60000\tloss : 0.276\t\n",
            " epoch : 1\tstep : 60000/60000\tloss : 0.266\t\n",
            " epoch : 2\tstep : 60000/60000\tloss : 0.261\t\n",
            " epoch : 3\tstep : 60000/60000\tloss : 0.239\t\n",
            " epoch : 4\tstep : 60000/60000\tloss : 0.218\t\n",
            " epoch : 5\tstep : 60000/60000\tloss : 0.191\t\n",
            " epoch : 6\tstep : 60000/60000\tloss : 0.166\t\n",
            " epoch : 7\tstep : 60000/60000\tloss : 0.151\t\n",
            " epoch : 8\tstep : 60000/60000\tloss : 0.141\t\n",
            " epoch : 9\tstep : 60000/60000\tloss : 0.125\t\n"
          ],
          "name": "stdout"
        }
      ]
    },
    {
      "cell_type": "code",
      "metadata": {
        "id": "MjNB-bTl3jcj",
        "colab_type": "code",
        "outputId": "63cc8047-e047-42a1-d216-418f0bdaf409",
        "colab": {
          "base_uri": "https://localhost:8080/",
          "height": 34
        }
      },
      "source": [
        "some = encoder(x_test[:100, ...])\n",
        "decoder(some).shape"
      ],
      "execution_count": 0,
      "outputs": [
        {
          "output_type": "execute_result",
          "data": {
            "text/plain": [
              "torch.Size([100, 1, 28, 28])"
            ]
          },
          "metadata": {
            "tags": []
          },
          "execution_count": 75
        }
      ]
    },
    {
      "cell_type": "code",
      "metadata": {
        "id": "0E7SAf5F5B0a",
        "colab_type": "code",
        "outputId": "7dfb8736-738b-4fff-fca0-5bf7b0b60aca",
        "colab": {
          "base_uri": "https://localhost:8080/",
          "height": 483
        }
      },
      "source": [
        "fig, ax = plt.subplots(2, 1, figsize=(8, 8))\n",
        "\n",
        "ax[0].imshow(x_train[0, 0, ...].cpu())\n",
        "ax[1].imshow(model(x_train[:1, ...])[0, 0, ...].cpu().detach())\n",
        "plt.show()"
      ],
      "execution_count": 0,
      "outputs": [
        {
          "output_type": "display_data",
          "data": {
            "image/png": "[encoded data removed]",
            "text/plain": [
              "<Figure size 576x576 with 2 Axes>"
            ]
          },
          "metadata": {
            "tags": [],
            "needs_background": "light"
          }
        }
      ]
    },
    {
      "cell_type": "code",
      "metadata": {
        "id": "3WV0vjByCrFm",
        "colab_type": "code",
        "colab": {}
      },
      "source": [
        "##################################\n",
        "#   5. Variational Autoencoder   #\n",
        "##################################\n",
        "latent_dims = 20\n",
        "batch_size = 1000"
      ],
      "execution_count": 0,
      "outputs": []
    },
    {
      "cell_type": "code",
      "metadata": {
        "id": "h83LyGlHUhy2",
        "colab_type": "code",
        "colab": {}
      },
      "source": [
        "class LocLogvar(nn.Module):\n",
        "    def __init__(self, in_features, latent_dims):\n",
        "        super(LocLogvar, self).__init__()\n",
        "        self.loc = nn.Linear(in_features, latent_dims)\n",
        "        self.logvar = nn.Linear(in_features, latent_dims)\n",
        "\n",
        "    def forward(self, inputs):\n",
        "        loc = self.loc(inputs)\n",
        "        logvar = self.logvar(inputs)\n",
        "        return loc, logvar\n",
        "\n",
        "class Reshape(nn.Module):\n",
        "    def __init__(self, *shape):\n",
        "        super(Reshape, self).__init__()\n",
        "        self.shape = shape\n",
        "\n",
        "    def forward(self, X):\n",
        "        return X.view(-1, *self.shape)"
      ],
      "execution_count": 0,
      "outputs": []
    },
    {
      "cell_type": "code",
      "metadata": {
        "id": "IBeHHO7XRNLR",
        "colab_type": "code",
        "colab": {}
      },
      "source": [
        "for name, param in encoder.named_parameters():\n",
        "    if torch.any(torch.isinf(param) | torch.isnan(param)):\n",
        "        print(name + \" contains inf or nan\")\n",
        "for name, param in decoder.named_parameters():\n",
        "    if torch.any(torch.isinf(param) | torch.isnan(param)):\n",
        "        print(name + \" contains inf or nan\")"
      ],
      "execution_count": 0,
      "outputs": []
    },
    {
      "cell_type": "code",
      "metadata": {
        "id": "zpZDpPBm7Lu9",
        "colab_type": "code",
        "colab": {}
      },
      "source": [
        "import torch.utils.data\n",
        "from torch import optim\n",
        "from torch.nn import functional as F\n",
        "from torchvision import datasets, transforms\n",
        "from torchvision.utils import save_image\n",
        "\n",
        "torch.manual_seed(42)\n",
        "\n",
        "device = torch.device(\"cuda\")\n",
        "\n",
        "kwargs = {'num_workers': 1, 'pin_memory': True}\n",
        "train_loader = torch.utils.data.DataLoader(\n",
        "    datasets.MNIST('../data', train=True, download=True,\n",
        "                   transform=transforms.ToTensor()),\n",
        "    batch_size=batch_size, shuffle=True, **kwargs)\n",
        "test_loader = torch.utils.data.DataLoader(\n",
        "    datasets.MNIST('../data', train=False, transform=transforms.ToTensor()),\n",
        "    batch_size=batch_size, shuffle=True, **kwargs)\n",
        "\n",
        "\n",
        "class VAE(nn.Module):\n",
        "    def __init__(self):\n",
        "        super(VAE, self).__init__()\n",
        "\n",
        "        self.encoder = nn.Sequential(OrderedDict([\n",
        "        ('e_conv_layer_1', nn.Conv2d(1, 16, 5, 1)),                # 16 x 24 x 24\n",
        "        ('e_relu_layer_1', nn.LeakyReLU(inplace=True)),\n",
        "        ('e_batch_norm_1', nn.BatchNorm2d(16)),\n",
        "        ('e_conv_layer_2', nn.Conv2d(16, 32, 5, 1)),               # 32 x 20 x 20\n",
        "        ('e_relu_layer_2', nn.LeakyReLU(inplace=True)),\n",
        "        ('e_batch_norm_2', nn.BatchNorm2d(32)),\n",
        "        ('e_conv_layer_3', nn.Conv2d(32, 32, 11, 1)),              # 32 x 10 x 10\n",
        "        ('e_relu_layer_3', nn.LeakyReLU(inplace=True)),\n",
        "        ('e_batch_norm_3', nn.BatchNorm2d(32)),\n",
        "        ('e_conv_layer_4', nn.Conv2d(32, 64, 5, 1)),               # 64 x 6 x 6\n",
        "        ('e_relu_layer_4', nn.LeakyReLU(inplace=True)),\n",
        "        ('e_batch_norm_4', nn.BatchNorm2d(64)),\n",
        "        ('e_dropout_layer_1', nn.Dropout2d(p=0.75)),\n",
        "        ('e_conv_layer_5', nn.Conv2d(64, 128, 5, 1)),              # 128 x 2 x 2\n",
        "        ('e_relu_layer_5', nn.LeakyReLU(inplace=True)),\n",
        "        ('e_batch_norm_5', nn.BatchNorm2d(128)),\n",
        "        ('e_dropout_layer_1', nn.Dropout2d(p=0.85)),\n",
        "        ('e_flatten_layer', nn.Flatten()),\n",
        "        ('e_out_layer', LocLogvar(128*2*2, latent_dims))\n",
        "        ]))\n",
        "\n",
        "        self.decoder = nn.Sequential(OrderedDict([\n",
        "        ('inv_linear_layer_1', nn.Linear(latent_dims, 128*2*2)),   # 128 * 2 * 2\n",
        "        ('inv_relu_layer_5', nn.LeakyReLU(inplace=True)),\n",
        "        ('inv_flatten_layer', Reshape(128, 2, 2)),                 # 128 x 2 x 2\n",
        "        ('inv_conv_layer_5', nn.ConvTranspose2d(128, 64, 5, 1)),   # 64 x 6 x 6\n",
        "        ('inv_batch_norm_5', nn.BatchNorm2d(64)),\n",
        "        ('inv_relu_layer_4', nn.LeakyReLU(inplace=True)),\n",
        "        ('inv_conv_layer_4', nn.ConvTranspose2d(64, 32, 5, 1)),    # 32 x 10 x 10\n",
        "        ('inv_batch_norm_4', nn.BatchNorm2d(32)),\n",
        "        ('inv_relu_layer_3', nn.LeakyReLU(inplace=True)),\n",
        "        ('inv_conv_layer_3', nn.ConvTranspose2d(32, 32, 11, 1)),   # 32 x 20 x 20\n",
        "        ('inv_batch_norm_3', nn.BatchNorm2d(32)),\n",
        "        ('inv_relu_layer_2', nn.LeakyReLU(inplace=True)),\n",
        "        ('inv_conv_layer_2', nn.ConvTranspose2d(32, 16, 5, 1)),    # 16 x 24 x 24\n",
        "        ('inv_batch_norm_2', nn.BatchNorm2d(16)),\n",
        "        ('inv_relu_layer_1', nn.LeakyReLU(inplace=True)),\n",
        "        ('inv_conv_layer_1', nn.ConvTranspose2d(16, 1, 5, 1)),     # 1 x 28 x 28\n",
        "        ('inv_batch_norm_1', nn.BatchNorm2d(1)),\n",
        "        ('inv_out_layer', nn.Sigmoid())\n",
        "        ]))\n",
        "\n",
        "    def encode(self, x):\n",
        "        return self.encoder(x)\n",
        "\n",
        "    def reparameterize(self, mu, logvar):\n",
        "        std = torch.exp(0.5*logvar)\n",
        "        eps = torch.randn_like(std)\n",
        "        return mu + eps*std\n",
        "\n",
        "    def decode(self, z):\n",
        "        return self.decoder(z)\n",
        "\n",
        "    def forward(self, x):\n",
        "        mu, logvar = self.encode(x)\n",
        "        z = self.reparameterize(mu, logvar)\n",
        "        return self.decode(z), mu, logvar\n",
        "\n",
        "\n",
        "model = VAE().to(device)\n",
        "optimizer = optim.Adam(model.parameters(), lr=1e-3)\n",
        "\n",
        "# Reconstruction + KL divergence losses summed over all elements and batch\n",
        "def loss_function(recon_x, x, mu, logvar):\n",
        "    BCE = F.binary_cross_entropy(recon_x.view(-1, 784), x.view(-1, 784), reduction='sum')\n",
        "\n",
        "    # see Appendix B from VAE paper:\n",
        "    # Kingma and Welling. Auto-Encoding Variational Bayes. ICLR, 2014\n",
        "    # https://arxiv.org/abs/1312.6114\n",
        "    # 0.5 * sum(1 + log(sigma^2) - mu^2 - sigma^2)\n",
        "    KLD = -0.5 * torch.sum(1 + logvar - mu.pow(2) - logvar.exp())\n",
        "\n",
        "    return BCE + KLD\n",
        "\n",
        "\n",
        "def train(epoch):\n",
        "    model.train()\n",
        "    train_loss = 0\n",
        "    for batch_idx, (data, _) in enumerate(train_loader):\n",
        "        data = data.to(device)\n",
        "        optimizer.zero_grad()\n",
        "        recon_batch, mu, logvar = model(data)\n",
        "        loss = loss_function(recon_batch, data, mu, logvar)\n",
        "        loss.backward()\n",
        "        train_loss += loss.item()\n",
        "        optimizer.step()\n",
        "        if batch_idx % 10 == 0:\n",
        "            print('Train Epoch: {} [{}/{} ({:.0f}%)]\\tLoss: {:.6f}'.format(\n",
        "                epoch, batch_idx * len(data), len(train_loader.dataset),\n",
        "                100. * batch_idx / len(train_loader),\n",
        "                loss.item() / len(data)))\n",
        "\n",
        "    print('====> Epoch: {} Average loss: {:.4f}'.format(\n",
        "          epoch, train_loss / len(train_loader.dataset)))\n",
        "\n",
        "def test(epoch):\n",
        "    model.eval()\n",
        "    test_loss = 0\n",
        "    with torch.no_grad():\n",
        "        for i, (data, _) in enumerate(test_loader):\n",
        "            data = data.to(device)\n",
        "            recon_batch, mu, logvar = model(data)\n",
        "            test_loss += loss_function(recon_batch, data, mu, logvar).item()\n",
        "            if i == 0:\n",
        "                n = min(data.size(0), 8)\n",
        "                comparison = torch.cat([data[:n],\n",
        "                                      recon_batch.view(batch_size, 1, 28, 28)[:n]])\n",
        "                save_image(comparison.cpu(),\n",
        "                         'reconstruction_' + str(epoch) + '.png', nrow=n)\n",
        "\n",
        "    test_loss /= len(test_loader.dataset)\n",
        "    print('====> Test set loss: {:.4f}'.format(test_loss))"
      ],
      "execution_count": 0,
      "outputs": []
    },
    {
      "cell_type": "code",
      "metadata": {
        "id": "tum6P_gbooRZ",
        "colab_type": "code",
        "outputId": "a4516a3c-3a1b-4056-a031-078dbd3b0b98",
        "colab": {
          "base_uri": "https://localhost:8080/",
          "height": 1000
        }
      },
      "source": [
        "for epoch in range(1, epochs + 1):\n",
        "    train(epoch)\n",
        "    test(epoch)\n",
        "    with torch.no_grad():\n",
        "        sample = torch.randn(64, latent_dims).to(device)\n",
        "        sample = model.decode(sample).cpu()\n",
        "        save_image(sample.view(64, 1, 28, 28),\n",
        "                    'sample_' + str(epoch) + '.png')"
      ],
      "execution_count": 0,
      "outputs": [
        {
          "output_type": "stream",
          "text": [
            "Train Epoch: 1 [0/60000 (0%)]\tLoss: 670.281750\n",
            "Train Epoch: 1 [10000/60000 (17%)]\tLoss: 495.515719\n",
            "Train Epoch: 1 [20000/60000 (33%)]\tLoss: 490.594844\n",
            "Train Epoch: 1 [30000/60000 (50%)]\tLoss: 487.064906\n",
            "Train Epoch: 1 [40000/60000 (67%)]\tLoss: 482.215844\n",
            "Train Epoch: 1 [50000/60000 (83%)]\tLoss: 481.045094\n",
            "====> Epoch: 1 Average loss: 493.0808\n",
            "====> Test set loss: 451.4054\n",
            "Train Epoch: 2 [0/60000 (0%)]\tLoss: 473.415406\n",
            "Train Epoch: 2 [10000/60000 (17%)]\tLoss: 472.720031\n",
            "Train Epoch: 2 [20000/60000 (33%)]\tLoss: 468.290437\n",
            "Train Epoch: 2 [30000/60000 (50%)]\tLoss: 466.570781\n",
            "Train Epoch: 2 [40000/60000 (67%)]\tLoss: 460.161625\n",
            "Train Epoch: 2 [50000/60000 (83%)]\tLoss: 452.271844\n",
            "====> Epoch: 2 Average loss: 464.2420\n",
            "====> Test set loss: 438.1904\n",
            "Train Epoch: 3 [0/60000 (0%)]\tLoss: 447.858906\n",
            "Train Epoch: 3 [10000/60000 (17%)]\tLoss: 442.761656\n",
            "Train Epoch: 3 [20000/60000 (33%)]\tLoss: 438.802563\n",
            "Train Epoch: 3 [30000/60000 (50%)]\tLoss: 432.144063\n",
            "Train Epoch: 3 [40000/60000 (67%)]\tLoss: 427.718469\n",
            "Train Epoch: 3 [50000/60000 (83%)]\tLoss: 420.924969\n",
            "====> Epoch: 3 Average loss: 433.0071\n",
            "====> Test set loss: 400.3502\n",
            "Train Epoch: 4 [0/60000 (0%)]\tLoss: 417.831625\n",
            "Train Epoch: 4 [10000/60000 (17%)]\tLoss: 412.125563\n",
            "Train Epoch: 4 [20000/60000 (33%)]\tLoss: 406.925281\n",
            "Train Epoch: 4 [30000/60000 (50%)]\tLoss: 399.925125\n",
            "Train Epoch: 4 [40000/60000 (67%)]\tLoss: 394.621812\n",
            "Train Epoch: 4 [50000/60000 (83%)]\tLoss: 390.543469\n",
            "====> Epoch: 4 Average loss: 400.8322\n",
            "====> Test set loss: 375.5713\n",
            "Train Epoch: 5 [0/60000 (0%)]\tLoss: 388.877437\n",
            "Train Epoch: 5 [10000/60000 (17%)]\tLoss: 379.753781\n",
            "Train Epoch: 5 [20000/60000 (33%)]\tLoss: 376.297438\n",
            "Train Epoch: 5 [30000/60000 (50%)]\tLoss: 372.466969\n",
            "Train Epoch: 5 [40000/60000 (67%)]\tLoss: 369.928406\n",
            "Train Epoch: 5 [50000/60000 (83%)]\tLoss: 364.283406\n",
            "====> Epoch: 5 Average loss: 373.6413\n",
            "====> Test set loss: 350.2578\n",
            "Train Epoch: 6 [0/60000 (0%)]\tLoss: 361.835125\n",
            "Train Epoch: 6 [10000/60000 (17%)]\tLoss: 359.071969\n",
            "Train Epoch: 6 [20000/60000 (33%)]\tLoss: 355.398344\n",
            "Train Epoch: 6 [30000/60000 (50%)]\tLoss: 352.721500\n",
            "Train Epoch: 6 [40000/60000 (67%)]\tLoss: 349.015594\n",
            "Train Epoch: 6 [50000/60000 (83%)]\tLoss: 346.695781\n",
            "====> Epoch: 6 Average loss: 352.0378\n",
            "====> Test set loss: 339.3342\n",
            "Train Epoch: 7 [0/60000 (0%)]\tLoss: 341.627437\n",
            "Train Epoch: 7 [10000/60000 (17%)]\tLoss: 338.799906\n",
            "Train Epoch: 7 [20000/60000 (33%)]\tLoss: 337.726500\n",
            "Train Epoch: 7 [30000/60000 (50%)]\tLoss: 333.282844\n",
            "Train Epoch: 7 [40000/60000 (67%)]\tLoss: 331.413250\n",
            "Train Epoch: 7 [50000/60000 (83%)]\tLoss: 328.779625\n",
            "====> Epoch: 7 Average loss: 334.0098\n",
            "====> Test set loss: 318.2812\n",
            "Train Epoch: 8 [0/60000 (0%)]\tLoss: 324.826156\n",
            "Train Epoch: 8 [10000/60000 (17%)]\tLoss: 324.558625\n",
            "Train Epoch: 8 [20000/60000 (33%)]\tLoss: 319.597531\n",
            "Train Epoch: 8 [30000/60000 (50%)]\tLoss: 317.922531\n",
            "Train Epoch: 8 [40000/60000 (67%)]\tLoss: 314.548563\n",
            "Train Epoch: 8 [50000/60000 (83%)]\tLoss: 312.795625\n",
            "====> Epoch: 8 Average loss: 318.4819\n",
            "====> Test set loss: 305.0334\n",
            "Train Epoch: 9 [0/60000 (0%)]\tLoss: 311.398594\n",
            "Train Epoch: 9 [10000/60000 (17%)]\tLoss: 309.064062\n",
            "Train Epoch: 9 [20000/60000 (33%)]\tLoss: 306.919656\n",
            "Train Epoch: 9 [30000/60000 (50%)]\tLoss: 303.514500\n",
            "Train Epoch: 9 [40000/60000 (67%)]\tLoss: 301.248562\n",
            "Train Epoch: 9 [50000/60000 (83%)]\tLoss: 299.085469\n",
            "====> Epoch: 9 Average loss: 304.4925\n",
            "====> Test set loss: 291.0715\n",
            "Train Epoch: 10 [0/60000 (0%)]\tLoss: 296.439250\n",
            "Train Epoch: 10 [10000/60000 (17%)]\tLoss: 294.835219\n",
            "Train Epoch: 10 [20000/60000 (33%)]\tLoss: 294.409906\n",
            "Train Epoch: 10 [30000/60000 (50%)]\tLoss: 294.322594\n",
            "Train Epoch: 10 [40000/60000 (67%)]\tLoss: 288.713625\n",
            "Train Epoch: 10 [50000/60000 (83%)]\tLoss: 286.543187\n",
            "====> Epoch: 10 Average loss: 292.1033\n",
            "====> Test set loss: 278.3879\n"
          ],
          "name": "stdout"
        }
      ]
    },
    {
      "cell_type": "code",
      "metadata": {
        "id": "7tLMMZtgtEz4",
        "colab_type": "code",
        "outputId": "c2e2ed98-e051-4859-b9c0-c2f47596f110",
        "colab": {
          "base_uri": "https://localhost:8080/",
          "height": 265
        }
      },
      "source": [
        "with torch.no_grad():\n",
        "    sample = torch.randn(1, latent_dims).to(device)\n",
        "    sample = model.decode(sample).cpu()\n",
        "plt.imshow(sample[0, 0, ...])\n",
        "plt.show()"
      ],
      "execution_count": 0,
      "outputs": [
        {
          "output_type": "display_data",
          "data": {
            "image/png": "[encoded data removed]",
            "text/plain": [
              "<Figure size 432x288 with 1 Axes>"
            ]
          },
          "metadata": {
            "tags": [],
            "needs_background": "light"
          }
        }
      ]
    },
    {
      "cell_type": "code",
      "metadata": {
        "id": "CzPtSlKcjcgJ",
        "colab_type": "code",
        "colab": {}
      },
      "source": [
        "##############\n",
        "#   5. GAN   #\n",
        "##############\n",
        "latent_dims = 100\n",
        "batch_size = 64\n",
        "epochs = 20"
      ],
      "execution_count": 0,
      "outputs": []
    },
    {
      "cell_type": "code",
      "metadata": {
        "id": "uZ7_zQ4G8z1A",
        "colab_type": "code",
        "colab": {}
      },
      "source": [
        "class Reshape(nn.Module):\n",
        "    def __init__(self, *shape):\n",
        "        super(Reshape, self).__init__()\n",
        "        self.shape = shape\n",
        "\n",
        "    def forward(self, X):\n",
        "        return X.view(-1, *self.shape)"
      ],
      "execution_count": 0,
      "outputs": []
    },
    {
      "cell_type": "code",
      "metadata": {
        "id": "aWawQr-qp46N",
        "colab_type": "code",
        "colab": {}
      },
      "source": [
        "class GAN(nn.Module):\n",
        "    def __init__(self, latent_dims):\n",
        "        super(GAN, self).__init__()\n",
        "\n",
        "        disc = nn.Sequential(OrderedDict([\n",
        "        ('disc_conv_layer_1', nn.Conv2d(1, 16, 5, 1)),                # 16 x 24 x 24\n",
        "        ('disc_relu_layer_1', nn.LeakyReLU(inplace=True)),\n",
        "        ('disc_batch_norm_1', nn.BatchNorm2d(16)),\n",
        "        ('disc_conv_layer_2', nn.Conv2d(16, 32, 5, 1)),               # 32 x 20 x 20\n",
        "        ('disc_relu_layer_2', nn.LeakyReLU(inplace=True)),\n",
        "        ('disc_batch_norm_2', nn.BatchNorm2d(32)),\n",
        "        ('disc_conv_layer_3', nn.Conv2d(32, 32, 11, 1)),              # 32 x 10 x 10\n",
        "        ('disc_relu_layer_3', nn.LeakyReLU(inplace=True)),\n",
        "        ('disc_batch_norm_3', nn.BatchNorm2d(32)),\n",
        "        ('disc_conv_layer_4', nn.Conv2d(32, 64, 5, 1)),               # 64 x 6 x 6\n",
        "        ('disc_relu_layer_4', nn.LeakyReLU(inplace=True)),\n",
        "        ('disc_batch_norm_4', nn.BatchNorm2d(64)),\n",
        "        ('disc_dropout_layer_1', nn.Dropout2d(p=0.75)),\n",
        "        ('disc_flatten_layer', nn.Flatten()),\n",
        "        ('disc_fc_layer_1', nn.Linear(64*6*6, 128)),\n",
        "        ('disc_fc_layer_2', nn.Linear(128, 64)),\n",
        "        ('disc_fc_layer_3', nn.Linear(64, 32)),\n",
        "        ('disc_out_layer', nn.Linear(32, 1))\n",
        "        ]))\n",
        "        self.add_module('disc', disc)\n",
        "\n",
        "        gen = nn.Sequential(OrderedDict([\n",
        "        ('inv_linear_layer_1', nn.Linear(latent_dims, 128*2*2)),   # 128 * 2 * 2\n",
        "        ('inv_relu_layer_5', nn.LeakyReLU(inplace=True)),\n",
        "        ('inv_flatten_layer', Reshape(128, 2, 2)),                 # 128 x 2 x 2\n",
        "        ('inv_conv_layer_5', nn.ConvTranspose2d(128, 64, 5, 1)),   # 64 x 6 x 6\n",
        "        ('inv_batch_norm_5', nn.BatchNorm2d(64)),\n",
        "        ('inv_relu_layer_4', nn.LeakyReLU(inplace=True)),\n",
        "        ('inv_conv_layer_4', nn.ConvTranspose2d(64, 32, 5, 1)),    # 32 x 10 x 10\n",
        "        ('inv_batch_norm_4', nn.BatchNorm2d(32)),\n",
        "        ('inv_relu_layer_3', nn.LeakyReLU(inplace=True)),\n",
        "        ('inv_conv_layer_3', nn.ConvTranspose2d(32, 32, 11, 1)),   # 32 x 20 x 20\n",
        "        ('inv_batch_norm_3', nn.BatchNorm2d(32)),\n",
        "        ('inv_relu_layer_2', nn.LeakyReLU(inplace=True)),\n",
        "        ('inv_conv_layer_2', nn.ConvTranspose2d(32, 16, 5, 1)),    # 16 x 24 x 24\n",
        "        ('inv_batch_norm_2', nn.BatchNorm2d(16)),\n",
        "        ('inv_relu_layer_1', nn.LeakyReLU(inplace=True)),\n",
        "        ('inv_conv_layer_1', nn.ConvTranspose2d(16, 1, 5, 1)),     # 1 x 28 x 28\n",
        "        ('inv_batch_norm_1', nn.BatchNorm2d(1)),\n",
        "        ('inv_out_layer', nn.Sigmoid())\n",
        "        ]))\n",
        "        self.add_module('gen', gen)\n",
        "\n",
        "        self.latent_dims = latent_dims\n",
        "\n",
        "    def forward(self, X):\n",
        "        z = torch.randn(X.shape[0], self.latent_dims, device='cuda')\n",
        "        gen_img = self.gen(z)\n",
        "        gen_labels = self.disc(gen_img)\n",
        "        img_labels = self.disc(X)\n",
        "        return img_labels, gen_labels"
      ],
      "execution_count": 0,
      "outputs": []
    },
    {
      "cell_type": "code",
      "metadata": {
        "id": "ErR56Ec_9Ap9",
        "colab_type": "code",
        "colab": {}
      },
      "source": [
        "torch.manual_seed(42)\n",
        "\n",
        "device = torch.device(\"cuda\")\n",
        "\n",
        "kwargs = {'num_workers': 1, 'pin_memory': True}\n",
        "train_loader = torch.utils.data.DataLoader(\n",
        "    datasets.MNIST('../data', train=True, download=True,\n",
        "                   transform=transforms.ToTensor()),\n",
        "    batch_size=batch_size, shuffle=True, **kwargs)\n",
        "test_loader = torch.utils.data.DataLoader(\n",
        "    datasets.MNIST('../data', train=False, transform=transforms.ToTensor()),\n",
        "    batch_size=batch_size, shuffle=True, **kwargs)\n",
        "\n",
        "model = GAN(latent_dims).to(device)\n",
        "optimizer = optim.Adam(model.parameters(), lr=1e-4)\n",
        "\n",
        "def loss_function(img_labels, gen_labels, turn='gen'):\n",
        "    if turn == 'gen':\n",
        "        return F.binary_cross_entropy_with_logits(gen_labels, torch.ones_like(gen_labels))\n",
        "    return (F.binary_cross_entropy_with_logits(img_labels, torch.ones_like(img_labels)) +\n",
        "            F.binary_cross_entropy_with_logits(gen_labels, torch.zeros_like(gen_labels)))\n",
        "\n",
        "def train(epoch):\n",
        "    model.train()\n",
        "    train_gen_loss, train_disc_loss = 0, 0\n",
        "    for batch_idx, (data, _) in enumerate(train_loader):\n",
        "        turn = ['gen' if batch_idx&2 == 0 else 'disc']\n",
        "        data = data.to(device)\n",
        "        optimizer.zero_grad()\n",
        "        img_labels, gen_labels = model(data)\n",
        "        loss = loss_function(img_labels, gen_labels, turn=turn)\n",
        "        loss.backward()\n",
        "        if turn == 'gen':\n",
        "            train_gen_loss += loss.item()\n",
        "        elif turn == 'disc':\n",
        "            train_disc_loss += loss.item()\n",
        "        optimizer.step()\n",
        "        if batch_idx % 50 == 0:\n",
        "            print('Train Epoch: {}\\tStep: [{}/{} ({:.0f}%)]\\tGen Loss: {:.6f}\\tDisc Loss: {:.6f}'.format(\n",
        "                epoch, batch_idx * len(data), len(train_loader.dataset),\n",
        "                100. * batch_idx / len(train_loader),\n",
        "                train_gen_loss  / (len(train_loader.dataset) / batch_size + 1),\n",
        "                train_disc_loss / (len(train_loader.dataset) / batch_size + 1)))\n",
        "\n",
        "\n",
        "def test(epoch):\n",
        "    model.eval()\n",
        "    disc_loss, gen_loss = 0, 0\n",
        "    with torch.no_grad():\n",
        "        for i, (data, _) in enumerate(test_loader):\n",
        "            data = data.to(device)\n",
        "            img_labels, gen_labels = model(data)\n",
        "            gen_loss += loss_function(img_labels, gen_labels, turn='gen').item()\n",
        "            disc_loss += loss_function(img_labels, gen_labels, turn='disc').item()\n",
        "\n",
        "    gen_loss /= len(test_loader.dataset)\n",
        "    disc_loss /= len(test_loader.dataset)\n",
        "    print('====> Test set gen loss : {:.4f}'.format(gen_loss))\n",
        "    print('====> Test set disc loss: {:.4f}'.format(disc_loss))"
      ],
      "execution_count": 0,
      "outputs": []
    },
    {
      "cell_type": "code",
      "metadata": {
        "id": "33IMDeSOGAiK",
        "colab_type": "code",
        "colab": {}
      },
      "source": [
        "for epoch in range(1, epochs + 1):\n",
        "    train(epoch)\n",
        "    test(epoch)\n",
        "    with torch.no_grad():\n",
        "        sample = torch.randn(9, latent_dims).to(device)\n",
        "        sample = model.gen(sample).cpu()\n",
        "        save_image(sample.view(9, 1, 28, 28),\n",
        "                    'sample_' + str(epoch) + '.png')"
      ],
      "execution_count": 0,
      "outputs": []
    },
    {
      "cell_type": "code",
      "metadata": {
        "id": "_v7ZIAzdKuoL",
        "colab_type": "code",
        "colab": {}
      },
      "source": [
        "with torch.no_grad():\n",
        "    sample = torch.randn(9, latent_dims).to(device)\n",
        "    sample = model.gen(sample).cpu()\n",
        "plt.imshow(sample[0, 0, ...])\n",
        "plt.show()"
      ],
      "execution_count": 0,
      "outputs": []
    },
    {
      "cell_type": "code",
      "metadata": {
        "id": "_S_rFgUFVbr6",
        "colab_type": "code",
        "colab": {}
      },
      "source": [
        ""
      ],
      "execution_count": 0,
      "outputs": []
    }
  ]
}
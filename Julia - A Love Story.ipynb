{
 "cells": [
  {
   "cell_type": "markdown",
   "metadata": {},
   "source": [
    "# Julia: A beautiful love story\n",
    "\n",
    "## Julia Babes\n",
    "\n",
    "Julia is my girlfriend and I love her ***unconditionally***. It is impossible to seperate two of us from each other. Try it bitch!!\n",
    "\n",
    "The best think is Julia says whatever I like!! Love you darling!"
   ]
  },
  {
   "cell_type": "code",
   "execution_count": 1,
   "metadata": {},
   "outputs": [
    {
     "name": "stdout",
     "output_type": "stream",
     "text": [
      "Love you Julia Babes! Please don't leave me! I am over my ex Python\n"
     ]
    }
   ],
   "source": [
    "println(\"Love you Julia Babes! Please don't leave me! I am over my ex Python\");"
   ]
  },
  {
   "cell_type": "markdown",
   "metadata": {},
   "source": [
    "## 1. Variables in Julia\n",
    "\n",
    "Variables in Julia are very straigtforward and look like that of python. You can just type `pi = 3.14159` and it will create a julia variable.\n",
    "\n",
    "This varaible, even though it looks like dynamically types, is a statically typed varaible. Julia automatically assigns the datatype much like c++'s `auto pi = 3.14159`."
   ]
  },
  {
   "cell_type": "code",
   "execution_count": 2,
   "metadata": {},
   "outputs": [
    {
     "name": "stdout",
     "output_type": "stream",
     "text": [
      "mypi : 3.14159\n",
      "datatype of mypi : Float64\n",
      "\n",
      "nig : Absolutely amaxing!\n",
      "datatype of nig : String\n",
      "\n",
      "nig : Absolutely amaxing!\n",
      "datatype of nig : String\n",
      "\n",
      "ch : c\n",
      "datatype of ch : Char\n"
     ]
    }
   ],
   "source": [
    "mypi = 3.14159;\n",
    "println(\"mypi : \", mypi);\n",
    "println(\"datatype of mypi : \", typeof(mypi));\n",
    "\n",
    "nig = \"Absolutely amaxing!\";\n",
    "println(\"\\nnig : \", nig);\n",
    "println(\"datatype of nig : \", typeof(nig));\n",
    "\n",
    "wow = nig\n",
    "println(\"\\nnig : \", nig);\n",
    "println(\"datatype of nig : \", typeof(nig));\n",
    "\n",
    "ch = 'c';\n",
    "println(\"\\nch : \", ch);\n",
    "println(\"datatype of ch : \", typeof(ch));"
   ]
  },
  {
   "cell_type": "markdown",
   "metadata": {},
   "source": [
    "## 2. Comments in Julia\n",
    "\n",
    "- Single line comment : `# ...`\n",
    "- Multiline Comment   : `#= ... =#`\n",
    "- Documantation Comment : `\"\"\" ... \"\"\"`"
   ]
  },
  {
   "cell_type": "code",
   "execution_count": 3,
   "metadata": {},
   "outputs": [
    {
     "name": "stdout",
     "output_type": "stream",
     "text": [
      "Amazing, right!\n"
     ]
    }
   ],
   "source": [
    "# Love you julia babes!\n",
    "#=\n",
    "Julia : Float64\n",
    "Me : Baby how can you drink 64 floats. You will get fat and probably diabetic\n",
    "Julia : I knew you are sleeping with python\n",
    "=#\n",
    "\n",
    "\"\"\"\n",
    "# Julia : A Love Story Docs\n",
    "\n",
    "## Introduction\n",
    "\n",
    "Julia is my girlfirent and I love her very much. I have\n",
    "also gotten over my ex python.\n",
    "\"\"\"\n",
    "\n",
    "println(\"Amazing, right!\");"
   ]
  },
  {
   "cell_type": "markdown",
   "metadata": {},
   "source": [
    "## 3. Mathematics in Julia\n",
    "\n",
    "\\+, \\-, \\*, \\/, \\^ (not xor but power like `**` in python), % => Obvious operations"
   ]
  },
  {
   "cell_type": "code",
   "execution_count": 4,
   "metadata": {},
   "outputs": [
    {
     "name": "stdout",
     "output_type": "stream",
     "text": [
      "13.14\n",
      "31.400000000000002\n",
      "6.859999999999999\n",
      "3.184713375796178\n",
      "1380.3842646028852\n",
      "0.5799999999999996\n"
     ]
    }
   ],
   "source": [
    "a = 10;\n",
    "b = 3.14;\n",
    "\n",
    "println(a + b); # Add\n",
    "println(a * b); # Multiply\n",
    "println(a - b); # Subtract\n",
    "println(a / b); # Devide\n",
    "println(a ^ b); # Power like **. It is not XOR operation\n",
    "println(a % b); # Flaot modulo operation supported"
   ]
  },
  {
   "cell_type": "markdown",
   "metadata": {},
   "source": [
    "## 4. Strings and Characters in Julia\n",
    "\n",
    "String can be declared using single quotation mark like this `\"` or triple quotation mark like this `\"\"\"`.\n",
    "\n",
    "Characters can be defined by using a single quote on quote like this `'c'`"
   ]
  },
  {
   "cell_type": "code",
   "execution_count": 5,
   "metadata": {},
   "outputs": [
    {
     "name": "stdout",
     "output_type": "stream",
     "text": [
      "This is a string\n",
      "This is another string with \"\" in it! \n",
      "c\n"
     ]
    }
   ],
   "source": [
    "something = \"This is a string\";\n",
    "\n",
    "somethingelse = \"\"\"This is another string with \"\" in it! \"\"\";\n",
    "\n",
    "println(something);\n",
    "println(somethingelse);\n",
    "\n",
    "char = 'c';\n",
    "\n",
    "println(char);"
   ]
  },
  {
   "cell_type": "markdown",
   "metadata": {},
   "source": [
    "## 5. String intepolation and concatenation\n",
    "\n",
    "\n",
    "- Inpterpolating variables in string : `println(\"this is how to interpolate a varaible : $pi\")`\n",
    "- Concatenating two strings\n",
    "    - Using string function (string function converts all the non-stirng objects into strings).\n",
    "    So, you can do `string(string1, 10, string2)`\n",
    "    - Using `*` operator. I hate this thing about my love `Julia`. Why did she think `*` operator is better that `+`? But whatever. You can do something like `string1 * string2`\n",
    "    - Using interpolation : `println(\"This is the $string1 and this is the $string2!\")`"
   ]
  },
  {
   "cell_type": "code",
   "execution_count": 6,
   "metadata": {},
   "outputs": [
    {
     "name": "stdout",
     "output_type": "stream",
     "text": [
      "I am tirth, I have 10 fingers and 10 toes.\n",
      "There are a total of 20 number of toes and fingers\n"
     ]
    }
   ],
   "source": [
    "name        = \"tirth\";\n",
    "num_fingers = 10;\n",
    "num_toes    = 10;\n",
    "\n",
    "# Using `$` to interpolate strings and other variables\n",
    "print(\"I am $name, \");\n",
    "println(\"I have $num_fingers fingers and $num_toes toes.\");\n",
    "println(\"There are a total of $(num_fingers + num_toes) number of toes and fingers\");"
   ]
  },
  {
   "cell_type": "code",
   "execution_count": 7,
   "metadata": {},
   "outputs": [
    {
     "name": "stdout",
     "output_type": "stream",
     "text": [
      "I am \"Tirth is the best\"\n"
     ]
    }
   ],
   "source": [
    "# Using `*` to concatenate strings\n",
    "str = \"Tirth\"*\" is the best\";\n",
    "\n",
    "println(\"I am \\\"$str\\\"\");"
   ]
  },
  {
   "cell_type": "code",
   "execution_count": 8,
   "metadata": {},
   "outputs": [
    {
     "name": "stdout",
     "output_type": "stream",
     "text": [
      "How many cats make a lot of cats? But 10 seems like too few!!\n"
     ]
    }
   ],
   "source": [
    "# Using `string(str1, str2, ...)` function\n",
    "str = string(\"How many cats\", \" make a lot of cats?\", \" But \", 10, \" seems like too few!!\");\n",
    "\n",
    "println(\"$str\");"
   ]
  },
  {
   "cell_type": "markdown",
   "metadata": {},
   "source": [
    "## 6. Other string functions\n",
    "\n",
    "1. `repeat(string, num_repeats)` : repeats `string` `num_repeats` times.\n",
    "2. `^` can be used on string to repeat itself multiple times."
   ]
  },
  {
   "cell_type": "code",
   "execution_count": 9,
   "metadata": {},
   "outputs": [],
   "source": [
    "hi = \"hi\" ^ 1000;\n",
    "\n",
    "hi = repeat(\"hi\", 1000);\n",
    "\n",
    "@assert hi == \"hihihihihihihihihihihihihihihihihihihihihihihihihihihihihihihihihihihihihihihihihihihihihihihihihihihihihihihihihihihihihihihihihihihihihihihihihihihihihihihihihihihihihihihihihihihihihihihihihihihihihihihihihihihihihihihihihihihihihihihihihihihihihihihihihihihihihihihihihihihihihihihihihihihihihihihihihihihihihihihihihihihihihihihihihihihihihihihihihihihihihihihihihihihihihihihihihihihihihihihihihihihihihihihihihihihihihihihihihihihihihihihihihihihihihihihihihihihihihihihihihihihihihihihihihihihihihihihihihihihihihihihihihihihihihihihihihihihihihihihihihihihihihihihihihihihihihihihihihihihihihihihihihihihihihihihihihihihihihihihihihihihihihihihihihihihihihihihihihihihihihihihihihihihihihihihihihihihihihihihihihihihihihihihihihihihihihihihihihihihihihihihihihihihihihihihihihihihihihihihihihihihihihihihihihihihihihihihihihihihihihihihihihihihihihihihihihihihihihihihihihihihihihihihihihihihihihihihihihihihihihihihihihihihihihihihihihihihihihihihihihihihihihihihihihihihihihihihihihihihihihihihihihihihihihihihihihihihihihihihihihihihihihihihihihihihihihihihihihihihihihihihihihihihihihihihihihihihihihihihihihihihihihihihihihihihihihihihihihihihihihihihihihihihihihihihihihihihihihihihihihihihihihihihihihihihihihihihihihihihihihihihihihihihihihihihihihihihihihihihihihihihihihihihihihihihihihihihihihihihihihihihihihihihihihihihihihihihihihihihihihihihihihihihihihihihihihihihihihihihihihihihihihihihihihihihihihihihihihihihihihihihihihihihihihihihihihihihihihihihihihihihihihihihihihihihihihihihihihihihihihihihihihihihihihihihihihihihihihihihihihihihihihihihihihihihihihihihihihihihihihihihihihihihihihihihihihihihihihihihihihihihihihihihihihihihihihihihihihihihihihihihihihihihihihihihihihihihihihihihihihihihihihihihihihihihihihihihihihihihihihihihihihihihihihihihihihihihihihihihihihihihihihihihihihihihihihihihihihihihihihihihihihihihihihihihihihihihihihihihihihihihihihihihihihihihihihihihihihihihihihihihihihihihihihihihihihihihihihihihihihihihihihihihihihihihihihihihihihihihihi\";"
   ]
  },
  {
   "cell_type": "markdown",
   "metadata": {},
   "source": [
    "## 7. Dictionaries in Julia\n",
    "\n",
    "Using `dict` keyword, we can create dictionaries and add elements to it on the go or after the object has been created!\n",
    "\n",
    "You cannot create dictionaries with arbitiary mapping like ``{\"Tirth\": 1, \"Zumi\": 2, 3: \"Ashesh\", 'c': 4}``.\n",
    "\n",
    "The object created is `Dict{String, Int64}` which means that it is a dictionary mapping string to integers\n",
    "\n",
    "Use `pop!` function to pop a key and return its value at the same time.\n",
    "\n",
    "**NOTE: Distionaries are Unordered but Mutable**"
   ]
  },
  {
   "cell_type": "code",
   "execution_count": 10,
   "metadata": {},
   "outputs": [
    {
     "name": "stdout",
     "output_type": "stream",
     "text": [
      "Dict(\"Ashesh\" => 3,\"Tirth\" => 2,\"Parinda\" => 1)\n",
      "Dict(\"Zumi\" => 4,\"Ashesh\" => 3,\"Tirth\" => 2,\"Parinda\" => 1)\n",
      "Parinda is 1\n",
      "Zumi is 4\n",
      "Dict(\"Ashesh\" => 3,\"Tirth\" => 2,\"Parinda\" => 1)\n"
     ]
    },
    {
     "data": {
      "text/plain": [
       "Dict{String,Int64} with 3 entries:\n",
       "  \"Ashesh\"  => 3\n",
       "  \"Tirth\"   => 2\n",
       "  \"Parinda\" => 1"
      ]
     },
     "execution_count": 10,
     "metadata": {},
     "output_type": "execute_result"
    }
   ],
   "source": [
    "d = Dict(\"Parinda\" => 1, \"Tirth\" => 2, \"Ashesh\" => 3);\n",
    "\n",
    "println(d);\n",
    "\n",
    "d[\"Zumi\"] = 4;\n",
    "\n",
    "println(d);\n",
    "\n",
    "println(\"Parinda is $(d[\"Parinda\"])\");\n",
    "\n",
    "val = pop!(d, \"Zumi\");\n",
    "\n",
    "println(\"Zumi is $val\");\n",
    "\n",
    "println(d);\n",
    "d"
   ]
  },
  {
   "cell_type": "markdown",
   "metadata": {},
   "source": [
    "## 8. Tuples in Julia\n",
    "\n",
    "Same as python but and hold different objects and elements with different datatypes unlike other julia containers!\n",
    "\n",
    "The worst nightmare is that it's indexing starts at 1. Why julia why?!!?! (but i still love you)\n",
    "\n",
    "**NOTE: Tuples are ordered but immutable**"
   ]
  },
  {
   "cell_type": "code",
   "execution_count": 11,
   "metadata": {},
   "outputs": [
    {
     "name": "stdout",
     "output_type": "stream",
     "text": [
      "(\"Parinda\", \"Tirth\", \"Zumi\", \"Ashesh\")\n",
      "Love you Parinda\n"
     ]
    }
   ],
   "source": [
    "t = (\"Parinda\", \"Tirth\", \"Zumi\", \"Ashesh\");\n",
    "\n",
    "println(t);\n",
    "println(\"Love you $(t[1])\");"
   ]
  },
  {
   "cell_type": "markdown",
   "metadata": {},
   "source": [
    "## 9. Arrays in Julia\n",
    "\n",
    "They are like arrays in C. Store only elements with one datatype or object and can be changes later. Not of variable length like that in python.\n",
    "\n",
    "They are also 1-indexed (cringe!).\n",
    "\n",
    "The object create is of type `Array{Int64, 1}` which says that it is a 1-dimentional array of integers.\n",
    "\n",
    "We can use `push!` and `pop!` functions to push and pop elements in and out of the array. `pop!` pops out the last element of the array.\n",
    "\n",
    "**NOTE: Arrays are ordered and mutable!**"
   ]
  },
  {
   "cell_type": "code",
   "execution_count": 12,
   "metadata": {},
   "outputs": [
    {
     "name": "stdout",
     "output_type": "stream",
     "text": [
      "[1, 2, 3, 4]\n",
      "1\n",
      "[100, 2, 3, 4]\n",
      "[100, 2, 3]\n",
      "[100, 2, 3, 200]\n"
     ]
    },
    {
     "data": {
      "text/plain": [
       "4-element Array{Int64,1}:\n",
       " 100\n",
       "   2\n",
       "   3\n",
       " 200"
      ]
     },
     "execution_count": 12,
     "metadata": {},
     "output_type": "execute_result"
    }
   ],
   "source": [
    "a = [1, 2, 3, 4];\n",
    "\n",
    "println(a);\n",
    "println(a[1]);\n",
    "\n",
    "# Uncomment below like to see the error\n",
    "# a[1] = \"Not allowed!\"\n",
    "\n",
    "a[1] = 100;\n",
    "println(a);\n",
    "\n",
    "pop!(a);\n",
    "println(a);\n",
    "\n",
    "push!(a, 200);\n",
    "println(a);\n",
    "a"
   ]
  },
  {
   "cell_type": "code",
   "execution_count": 13,
   "metadata": {},
   "outputs": [
    {
     "data": {
      "text/plain": [
       "5-element Array{Any,1}:\n",
       " 1\n",
       " 2\n",
       " 3\n",
       "  \"Mixing stinrg\"\n",
       " 3.14159"
      ]
     },
     "execution_count": 13,
     "metadata": {},
     "output_type": "execute_result"
    }
   ],
   "source": [
    "mix = [1, 2, 3, \"Mixing stinrg\", 3.14159];\n",
    "mix"
   ]
  },
  {
   "cell_type": "markdown",
   "metadata": {},
   "source": [
    "## 10. Multidimentional Arrays in Julia\n",
    "\n",
    "Yes you can do that and they dont have to be of the same size!"
   ]
  },
  {
   "cell_type": "code",
   "execution_count": 14,
   "metadata": {},
   "outputs": [
    {
     "data": {
      "text/plain": [
       "3-element Array{Array{Int64,1},1}:\n",
       " [1, 2, 3]\n",
       " [4, 5]\n",
       " [6, 7, 8]"
      ]
     },
     "execution_count": 14,
     "metadata": {},
     "output_type": "execute_result"
    }
   ],
   "source": [
    "a = [[1, 2, 3], [4, 5], [6, 7, 8]];\n",
    "a"
   ]
  },
  {
   "cell_type": "code",
   "execution_count": 15,
   "metadata": {},
   "outputs": [
    {
     "data": {
      "text/plain": [
       "3-element Array{Array{Float64,1},1}:\n",
       " [1.0, 2.0, 3.0]\n",
       " [4.0, 5.0, 6.0]\n",
       " [7.0, 8.0, 9.0]"
      ]
     },
     "execution_count": 15,
     "metadata": {},
     "output_type": "execute_result"
    }
   ],
   "source": [
    "b = [[1, 2, 3], [4, 5, 6.], [7, 8, 9.]];\n",
    "b"
   ]
  },
  {
   "cell_type": "code",
   "execution_count": 16,
   "metadata": {},
   "outputs": [
    {
     "data": {
      "text/plain": [
       "3×3 Array{Float64,2}:\n",
       " 0.805352  0.661828   0.455716\n",
       " 0.804043  0.934359   0.454444\n",
       " 0.106297  0.0191813  0.585965"
      ]
     },
     "execution_count": 16,
     "metadata": {},
     "output_type": "execute_result"
    }
   ],
   "source": [
    "rand(3, 3)"
   ]
  },
  {
   "cell_type": "code",
   "execution_count": 17,
   "metadata": {},
   "outputs": [
    {
     "data": {
      "text/plain": [
       "2×3×3 Array{Float64,3}:\n",
       "[:, :, 1] =\n",
       " 0.846234   0.0959893   0.900405\n",
       " 0.355042  -1.54863    -0.795592\n",
       "\n",
       "[:, :, 2] =\n",
       " -1.7592    -2.47598  0.789608\n",
       "  0.272502  -1.24372  1.29177\n",
       "\n",
       "[:, :, 3] =\n",
       " 0.340408  0.465604  -0.124156\n",
       " 0.784025  1.15339    1.16949"
      ]
     },
     "execution_count": 17,
     "metadata": {},
     "output_type": "execute_result"
    }
   ],
   "source": [
    "randn(2, 3, 3)"
   ]
  },
  {
   "cell_type": "code",
   "execution_count": 18,
   "metadata": {},
   "outputs": [
    {
     "name": "stdout",
     "output_type": "stream",
     "text": [
      "[[1, 2, 3], [4, 5], [6, 7, 8], [12], [13], [14]]\n"
     ]
    }
   ],
   "source": [
    "push!(a, [12], [13], [14]);\n",
    "println(a)\n",
    "pop!(a);"
   ]
  },
  {
   "cell_type": "markdown",
   "metadata": {},
   "source": [
    "## 11. While and For loops\n",
    "\n",
    "This makes julia go round! Trust me, she loves that. But please don't let her go in an infinite round...\n",
    "\n",
    "\n",
    "```julia\n",
    "\n",
    "while condition\n",
    "    # do something\n",
    "end\n",
    "```\n",
    "\n",
    "```julia\n",
    "\n",
    "for var [in/∈/=] iterable\n",
    "    # do something\n",
    "end\n",
    "```"
   ]
  },
  {
   "cell_type": "code",
   "execution_count": 19,
   "metadata": {},
   "outputs": [
    {
     "name": "stdout",
     "output_type": "stream",
     "text": [
      "1 2 3 4 5 6 7 8 9 10 "
     ]
    }
   ],
   "source": [
    "n = 0\n",
    "\n",
    "while n < 10\n",
    "    n += 1\n",
    "    print(n, \" \")\n",
    "end"
   ]
  },
  {
   "cell_type": "code",
   "execution_count": 20,
   "metadata": {},
   "outputs": [
    {
     "name": "stdout",
     "output_type": "stream",
     "text": [
      "Parinda is at index 1\n",
      "Tirth is at index 2\n",
      "Ashesh is at index 3\n",
      "Zumi is at index 4\n"
     ]
    }
   ],
   "source": [
    "a = [\"Parinda\", \"Tirth\", \"Ashesh\", \"Zumi\"]\n",
    "i = 1\n",
    "while i <= length(a)\n",
    "    println(\"$(a[i]) is at index $i\")\n",
    "    i += 1\n",
    "end"
   ]
  },
  {
   "cell_type": "code",
   "execution_count": 21,
   "metadata": {},
   "outputs": [
    {
     "name": "stdout",
     "output_type": "stream",
     "text": [
      "13579\n",
      "12345678910\n",
      "12345678910"
     ]
    }
   ],
   "source": [
    "for number in 1:2:10\n",
    "    print(number)\n",
    "end\n",
    "\n",
    "println()\n",
    "\n",
    "for i ∈ 1:10\n",
    "    print(i)\n",
    "end\n",
    "\n",
    "println()\n",
    "\n",
    "for i = 1:10\n",
    "    print(i)\n",
    "end"
   ]
  },
  {
   "cell_type": "code",
   "execution_count": 22,
   "metadata": {},
   "outputs": [
    {
     "data": {
      "text/plain": [
       "5×5 Array{Float64,2}:\n",
       " 2.0  3.0  4.0  5.0   6.0\n",
       " 3.0  4.0  5.0  6.0   7.0\n",
       " 4.0  5.0  6.0  7.0   8.0\n",
       " 5.0  6.0  7.0  8.0   9.0\n",
       " 6.0  7.0  8.0  9.0  10.0"
      ]
     },
     "execution_count": 22,
     "metadata": {},
     "output_type": "execute_result"
    }
   ],
   "source": [
    "m, n = 5, 5;\n",
    "A = zeros(m, n);\n",
    "\n",
    "for i in 1:m\n",
    "    for j in 1:n\n",
    "        A[i, j] = i + j;\n",
    "    end\n",
    "end\n",
    "\n",
    "A"
   ]
  },
  {
   "cell_type": "code",
   "execution_count": 23,
   "metadata": {},
   "outputs": [
    {
     "data": {
      "text/plain": [
       "5×5 Array{Float64,2}:\n",
       " 2.0  3.0  4.0  5.0   6.0\n",
       " 3.0  4.0  5.0  6.0   7.0\n",
       " 4.0  5.0  6.0  7.0   8.0\n",
       " 5.0  6.0  7.0  8.0   9.0\n",
       " 6.0  7.0  8.0  9.0  10.0"
      ]
     },
     "execution_count": 23,
     "metadata": {},
     "output_type": "execute_result"
    }
   ],
   "source": [
    "m, n = 5, 5\n",
    "B = zeros(m, n)\n",
    "\n",
    "for i in 1:m, j in 1:n\n",
    "    B[i, j] = i + j\n",
    "end\n",
    "\n",
    "B"
   ]
  },
  {
   "cell_type": "code",
   "execution_count": 24,
   "metadata": {},
   "outputs": [
    {
     "data": {
      "text/plain": [
       "5×5 Array{Float64,2}:\n",
       " 2.0  3.0  4.0  5.0   6.0\n",
       " 3.0  4.0  5.0  6.0   7.0\n",
       " 4.0  5.0  6.0  7.0   8.0\n",
       " 5.0  6.0  7.0  8.0   9.0\n",
       " 6.0  7.0  8.0  9.0  10.0"
      ]
     },
     "execution_count": 24,
     "metadata": {},
     "output_type": "execute_result"
    }
   ],
   "source": [
    "m, n = 5, 5;\n",
    "C = [float(i + j) for i in 1:m, j in 1:n]"
   ]
  },
  {
   "cell_type": "code",
   "execution_count": 25,
   "metadata": {},
   "outputs": [
    {
     "data": {
      "text/plain": [
       "1×1 Array{Int64,2}:\n",
       " 2"
      ]
     },
     "metadata": {},
     "output_type": "display_data"
    },
    {
     "data": {
      "text/plain": [
       "2×2 Array{Int64,2}:\n",
       " 2  3\n",
       " 3  4"
      ]
     },
     "metadata": {},
     "output_type": "display_data"
    },
    {
     "data": {
      "text/plain": [
       "3×3 Array{Int64,2}:\n",
       " 2  3  4\n",
       " 3  4  5\n",
       " 4  5  6"
      ]
     },
     "metadata": {},
     "output_type": "display_data"
    },
    {
     "data": {
      "text/plain": [
       "4×4 Array{Int64,2}:\n",
       " 2  3  4  5\n",
       " 3  4  5  6\n",
       " 4  5  6  7\n",
       " 5  6  7  8"
      ]
     },
     "metadata": {},
     "output_type": "display_data"
    },
    {
     "data": {
      "text/plain": [
       "5×5 Array{Int64,2}:\n",
       " 2  3  4  5   6\n",
       " 3  4  5  6   7\n",
       " 4  5  6  7   8\n",
       " 5  6  7  8   9\n",
       " 6  7  8  9  10"
      ]
     },
     "metadata": {},
     "output_type": "display_data"
    }
   ],
   "source": [
    "for i in 1:n\n",
    "    D = [j + k for j in 1:i, k in 1:i];\n",
    "    display(D);\n",
    "end"
   ]
  },
  {
   "cell_type": "markdown",
   "metadata": {},
   "source": [
    "## 12. Conditions in Julia\n",
    "\n",
    "```julia\n",
    "a > b ? a : b ;\n",
    "```\n",
    "\n",
    "```julia\n",
    "if condition\n",
    "    # do something\n",
    "elseif condition\n",
    "    # do something else\n",
    "else\n",
    "    # do something absolutely else\n",
    "end\n",
    "```\n",
    "\n",
    "```julia\n",
    "a && b # short circuit and operator\n",
    "a || b # short circuit or operator\n",
    "```"
   ]
  },
  {
   "cell_type": "code",
   "execution_count": 26,
   "metadata": {},
   "outputs": [
    {
     "name": "stdout",
     "output_type": "stream",
     "text": [
      "Prime Number found : 1\n",
      "Prime Number found : 2\n",
      "Prime Number found : 3\n",
      "Prime Number found : 5\n",
      "Prime Number found : 7\n",
      "Prime Number found : 11\n",
      "Prime Number found : 13\n",
      "Prime Number found : 17\n",
      "Prime Number found : 19\n",
      "Prime Number found : 23\n",
      "Prime Number found : 29\n",
      "Prime Number found : 31\n",
      "Prime Number found : 37\n",
      "Prime Number found : 41\n",
      "Prime Number found : 43\n",
      "Prime Number found : 47\n",
      "Prime Number found : 53\n",
      "Prime Number found : 59\n",
      "Prime Number found : 61\n",
      "Prime Number found : 67\n",
      "Prime Number found : 71\n",
      "Prime Number found : 73\n",
      "Prime Number found : 79\n",
      "Prime Number found : 83\n",
      "Prime Number found : 89\n",
      "Prime Number found : 97\n"
     ]
    }
   ],
   "source": [
    "n = 100\n",
    "\n",
    "for i in 1:n\n",
    "    flag = 1\n",
    "    for j in 2:Int(floor(i/2))\n",
    "        if i % j == 0\n",
    "            flag = 0\n",
    "            break\n",
    "        end\n",
    "    end\n",
    "    if flag == 1 # cant do `if flag` => non boolean not allowed\n",
    "        println(\"Prime Number found : $i\")\n",
    "    end\n",
    "end"
   ]
  },
  {
   "cell_type": "code",
   "execution_count": 27,
   "metadata": {},
   "outputs": [
    {
     "name": "stdout",
     "output_type": "stream",
     "text": [
      "20 is greater than 10\n",
      "20 is greater than 10\n"
     ]
    }
   ],
   "source": [
    "x = 10;\n",
    "y = 20;\n",
    "\n",
    "(x > y) && println(\"$x is greater than $y\");\n",
    "(x < y) && println(\"$y is greater than $x\");\n",
    "\n",
    "(x > y) ? (println(\"$x is greater than $y\")) : (println(\"$y is greater than $x\")) ;"
   ]
  },
  {
   "cell_type": "markdown",
   "metadata": {},
   "source": [
    "## 13. Functions in Julia!!\n",
    "\n",
    "1. Declaring a function, inline function and labda function!\n",
    "2. Duck-Typing in Julia - TODO\n",
    "3. Mutating vs non-mutating functions in Julia\n",
    "4. Broadcasting"
   ]
  },
  {
   "cell_type": "code",
   "execution_count": 28,
   "metadata": {},
   "outputs": [
    {
     "data": {
      "text/plain": [
       "f (generic function with 1 method)"
      ]
     },
     "execution_count": 28,
     "metadata": {},
     "output_type": "execute_result"
    }
   ],
   "source": [
    "function f(x)\n",
    "    return x ^ 2;\n",
    "end"
   ]
  },
  {
   "cell_type": "code",
   "execution_count": 29,
   "metadata": {},
   "outputs": [
    {
     "data": {
      "text/plain": [
       "5.289999999999999"
      ]
     },
     "metadata": {},
     "output_type": "display_data"
    },
    {
     "data": {
      "text/plain": [
       "f (generic function with 1 method)"
      ]
     },
     "execution_count": 29,
     "metadata": {},
     "output_type": "execute_result"
    }
   ],
   "source": [
    "display(f(2.3));\n",
    "f"
   ]
  },
  {
   "cell_type": "code",
   "execution_count": 30,
   "metadata": {},
   "outputs": [
    {
     "data": {
      "text/plain": [
       "100"
      ]
     },
     "metadata": {},
     "output_type": "display_data"
    },
    {
     "data": {
      "text/plain": [
       "f (generic function with 1 method)"
      ]
     },
     "execution_count": 30,
     "metadata": {},
     "output_type": "execute_result"
    }
   ],
   "source": [
    "# Inline functions!!\n",
    "f(x) = x^2;\n",
    "display(f(10));\n",
    "f"
   ]
  },
  {
   "cell_type": "code",
   "execution_count": 31,
   "metadata": {},
   "outputs": [
    {
     "data": {
      "text/plain": [
       "100"
      ]
     },
     "metadata": {},
     "output_type": "display_data"
    },
    {
     "data": {
      "text/plain": [
       "#7 (generic function with 1 method)"
      ]
     },
     "execution_count": 31,
     "metadata": {},
     "output_type": "execute_result"
    }
   ],
   "source": [
    "# Lambda Functions\n",
    "f2 = x -> x^2;\n",
    "display(f2(10));\n",
    "f2"
   ]
  },
  {
   "cell_type": "code",
   "execution_count": 32,
   "metadata": {},
   "outputs": [],
   "source": [
    "# TODO: If it quacks like a duck, it is a duck!"
   ]
  },
  {
   "cell_type": "code",
   "execution_count": 33,
   "metadata": {},
   "outputs": [
    {
     "data": {
      "text/plain": [
       "7-element Array{Int64,1}:\n",
       " 1\n",
       " 2\n",
       " 3\n",
       " 4\n",
       " 4\n",
       " 5\n",
       " 6"
      ]
     },
     "metadata": {},
     "output_type": "display_data"
    }
   ],
   "source": [
    "# Mutating functions take as argument a referance to\n",
    "# the objects, alters (writes to) the objects in-place.\n",
    "# Example : sort!\n",
    "\n",
    "\"\"\"\n",
    "CONVENTIONS : It is convention in Julia that fuctions\n",
    "              that end with a bang (!) are mutable or\n",
    "              in-place while others are immutable.\n",
    "\"\"\"\n",
    "\n",
    "a = [1, 4, 2, 5, 3, 6, 4];\n",
    "sort!(a);\n",
    "display(a);"
   ]
  },
  {
   "cell_type": "markdown",
   "metadata": {},
   "source": [
    "## 14. Higher order functions\n",
    "\n",
    "`map(callable, iterable)` is also persent in Julia and takes as an argument a function so it is called a higher orfer function."
   ]
  },
  {
   "cell_type": "code",
   "execution_count": 34,
   "metadata": {},
   "outputs": [
    {
     "data": {
      "text/plain": [
       "3-element Array{Int64,1}:\n",
       " 1\n",
       " 4\n",
       " 9"
      ]
     },
     "metadata": {},
     "output_type": "display_data"
    },
    {
     "data": {
      "text/plain": [
       "3-element Array{Int64,1}:\n",
       " 1\n",
       " 4\n",
       " 9"
      ]
     },
     "metadata": {},
     "output_type": "display_data"
    }
   ],
   "source": [
    "f(x) = x^2;\n",
    "\n",
    "display(map(f, [1, 2, 3]));\n",
    "\n",
    "# Using lambda functions\n",
    "display(map(x -> x^2, [1, 2, 3]))"
   ]
  },
  {
   "cell_type": "markdown",
   "metadata": {},
   "source": [
    "## 15. Eelement-Wise operations aka Broadcasting\n",
    "\n",
    "We can operate elementwie on matrices and vectors by using a `.` before a function call like this `f.(x)`. This syntax is similar to matlab's `x .* y` ehich means element wise operations. You can also use `broadcast()` function call to do the same thing. Yoy can also make addition and other operations elementwise by putting a `.` before them.\n",
    "\n",
    "It is also sometimes called broadcasting but the name is very mil-leading as it doesn't broadcast array but the operation"
   ]
  },
  {
   "cell_type": "code",
   "execution_count": 35,
   "metadata": {},
   "outputs": [
    {
     "data": {
      "text/plain": [
       "\"Matrix (x) is :\""
      ]
     },
     "metadata": {},
     "output_type": "display_data"
    },
    {
     "data": {
      "text/plain": [
       "3×3 Array{Int64,2}:\n",
       " 1  2  3\n",
       " 4  5  6\n",
       " 7  8  9"
      ]
     },
     "metadata": {},
     "output_type": "display_data"
    },
    {
     "data": {
      "text/plain": [
       "\"Matrix square (x @ x) is :\""
      ]
     },
     "metadata": {},
     "output_type": "display_data"
    },
    {
     "data": {
      "text/plain": [
       "3×3 Array{Int64,2}:\n",
       "  30   36   42\n",
       "  66   81   96\n",
       " 102  126  150"
      ]
     },
     "metadata": {},
     "output_type": "display_data"
    },
    {
     "data": {
      "text/plain": [
       "\"Element wise square of matrix (x * x) is :\""
      ]
     },
     "metadata": {},
     "output_type": "display_data"
    },
    {
     "data": {
      "text/plain": [
       "3×3 Array{Int64,2}:\n",
       "  1   4   9\n",
       " 16  25  36\n",
       " 49  64  81"
      ]
     },
     "metadata": {},
     "output_type": "display_data"
    }
   ],
   "source": [
    "f(x) = x^2;\n",
    "\n",
    "x = [i + 3*j for j in 0:2, i in 1:3]\n",
    "\n",
    "display(\"Matrix (x) is :\");\n",
    "display(x);\n",
    "display(\"Matrix square (x @ x) is :\");\n",
    "display(f(x));\n",
    "display(\"Element wise square of matrix (x * x) is :\");\n",
    "display(f.(x));"
   ]
  },
  {
   "cell_type": "code",
   "execution_count": 36,
   "metadata": {},
   "outputs": [
    {
     "data": {
      "text/plain": [
       "3-element Array{Int64,1}:\n",
       " 1\n",
       " 4\n",
       " 9"
      ]
     },
     "metadata": {},
     "output_type": "display_data"
    }
   ],
   "source": [
    "display(broadcast(f, [1, 2, 3]))"
   ]
  },
  {
   "cell_type": "code",
   "execution_count": 37,
   "metadata": {},
   "outputs": [
    {
     "data": {
      "text/plain": [
       "3×3 Array{Float64,2}:\n",
       " 2.91759   1.56347  0.0690458\n",
       " 2.56674   1.4629   0.979562\n",
       " 0.848725  1.59498  1.71334"
      ]
     },
     "execution_count": 37,
     "metadata": {},
     "output_type": "execute_result"
    }
   ],
   "source": [
    "A = rand(3, 3);\n",
    "A .+ 2 .* f.(A) ./ A"
   ]
  },
  {
   "cell_type": "markdown",
   "metadata": {},
   "source": [
    "## 16. Broadcasting\n",
    "\n",
    "Works exactly like numpy does!"
   ]
  },
  {
   "cell_type": "code",
   "execution_count": 38,
   "metadata": {},
   "outputs": [
    {
     "data": {
      "text/plain": [
       "3×3 Array{Float64,2}:\n",
       " 0.569632  0.150224  0.511467\n",
       " 0.895417  0.120068  0.0650799\n",
       " 0.758397  0.773306  0.281385"
      ]
     },
     "metadata": {},
     "output_type": "display_data"
    },
    {
     "data": {
      "text/plain": [
       "3×3 Array{Float64,2}:\n",
       " 1.56963  1.15022  1.51147\n",
       " 2.89542  2.12007  2.06508\n",
       " 3.7584   3.77331  3.28139"
      ]
     },
     "metadata": {},
     "output_type": "display_data"
    },
    {
     "data": {
      "text/plain": [
       "3×3 Array{Float64,2}:\n",
       " 1.56963  2.15022  3.51147\n",
       " 1.89542  2.12007  3.06508\n",
       " 1.7584   2.77331  3.28139"
      ]
     },
     "metadata": {},
     "output_type": "display_data"
    },
    {
     "data": {
      "text/plain": [
       "3×3 Array{Float64,2}:\n",
       " 1.56963  1.15022  1.51147\n",
       " 2.89542  2.12007  2.06508\n",
       " 3.7584   3.77331  3.28139"
      ]
     },
     "metadata": {},
     "output_type": "display_data"
    }
   ],
   "source": [
    "# Julia also follows right align broadcasting like numpy!!!\n",
    "\n",
    "x = rand(3, 3);\n",
    "y3 = [1, 2, 3];\n",
    "y13 = [i for j in 1:1, i in 1:3];\n",
    "y31 = [i for i in 1:3, j in 1:1];\n",
    "\n",
    "display(x);\n",
    "\n",
    "# In this case, the vector y which is a one dimensional array\n",
    "# first gets broadcasted to shape (1, 3) to align with the\n",
    "# shape (3, 3) and then is again broadcasted to shape (3, 3)\n",
    "# by repeating the same array 3 times and stacking them onto\n",
    "# each other.\n",
    "display(x .+ y3)\n",
    "# This performs the same operation as the arrays are already aligned\n",
    "display(x .+ y13)\n",
    "# In this case, the array y has shape (3, 1) and hence is\n",
    "# broadcasted to hape (3, 3) by horizontally stacking the\n",
    "# array 3 times.\n",
    "display(x .+ y31)"
   ]
  },
  {
   "cell_type": "markdown",
   "metadata": {},
   "source": [
    "## 17. Packaging in Julia\n",
    "\n",
    "```julia\n",
    "Pkg.add(\"Example\")\n",
    "```"
   ]
  },
  {
   "cell_type": "code",
   "execution_count": 39,
   "metadata": {},
   "outputs": [
    {
     "name": "stderr",
     "output_type": "stream",
     "text": [
      "\u001b[32m\u001b[1m   Updating\u001b[22m\u001b[39m registry at `C:\\Users\\tirth\\.julia\\registries\\General`\n"
     ]
    },
    {
     "name": "stdout",
     "output_type": "stream",
     "text": [
      "\u001b[?25l"
     ]
    },
    {
     "name": "stderr",
     "output_type": "stream",
     "text": [
      "\u001b[32m\u001b[1m   Updating\u001b[22m\u001b[39m git-repo `https://github.com/JuliaRegistries/General.git`\n"
     ]
    },
    {
     "name": "stdout",
     "output_type": "stream",
     "text": [
      "\u001b[2K\u001b[?25h[1mFetching:\u001b[22m\u001b[39m [========================================>]  100.0 %%             ]  65.6 % [=======================================> ]  95.6 %"
     ]
    },
    {
     "name": "stderr",
     "output_type": "stream",
     "text": [
      "\u001b[32m\u001b[1m  Resolving\u001b[22m\u001b[39m package versions...\n",
      "\u001b[32m\u001b[1m   Updating\u001b[22m\u001b[39m `C:\\Users\\tirth\\.julia\\environments\\v1.4\\Project.toml`\n",
      "\u001b[90m [no changes]\u001b[39m\n",
      "\u001b[32m\u001b[1m   Updating\u001b[22m\u001b[39m `C:\\Users\\tirth\\.julia\\environments\\v1.4\\Manifest.toml`\n",
      "\u001b[90m [no changes]\u001b[39m\n"
     ]
    }
   ],
   "source": [
    "import Pkg\n",
    "\n",
    "Pkg.add(\"Example\")"
   ]
  },
  {
   "cell_type": "code",
   "execution_count": 40,
   "metadata": {},
   "outputs": [
    {
     "data": {
      "text/plain": [
       "\"Hello, Hi nigga!!\""
      ]
     },
     "execution_count": 40,
     "metadata": {},
     "output_type": "execute_result"
    }
   ],
   "source": [
    "using Example\n",
    "\n",
    "hello(\"Hi nigga!!\")"
   ]
  },
  {
   "cell_type": "code",
   "execution_count": 41,
   "metadata": {},
   "outputs": [
    {
     "name": "stderr",
     "output_type": "stream",
     "text": [
      "\u001b[32m\u001b[1m  Resolving\u001b[22m\u001b[39m package versions...\n",
      "\u001b[32m\u001b[1m   Updating\u001b[22m\u001b[39m `C:\\Users\\tirth\\.julia\\environments\\v1.4\\Project.toml`\n",
      "\u001b[90m [no changes]\u001b[39m\n",
      "\u001b[32m\u001b[1m   Updating\u001b[22m\u001b[39m `C:\\Users\\tirth\\.julia\\environments\\v1.4\\Manifest.toml`\n",
      "\u001b[90m [no changes]\u001b[39m\n"
     ]
    }
   ],
   "source": [
    "Pkg.add(\"Colors\")"
   ]
  },
  {
   "cell_type": "code",
   "execution_count": 42,
   "metadata": {},
   "outputs": [],
   "source": [
    "using Colors"
   ]
  },
  {
   "cell_type": "code",
   "execution_count": 43,
   "metadata": {},
   "outputs": [
    {
     "data": {
      "image/svg+xml": [
       "<?xml version=\"1.0\" encoding=\"UTF-8\"?>\n",
       "<!DOCTYPE svg PUBLIC \"-//W3C//DTD SVG 1.1//EN\"\n",
       " \"http://www.w3.org/Graphics/SVG/1.1/DTD/svg11.dtd\">\n",
       "<svg xmlns=\"http://www.w3.org/2000/svg\" version=\"1.1\"\n",
       "     width=\"180mm\" height=\"25mm\"\n",
       "     viewBox=\"0 0 100 1\" preserveAspectRatio=\"none\"\n",
       "     shape-rendering=\"crispEdges\" stroke=\"none\">\n",
       "<rect width=\"1\" height=\".96\" x=\"0\" y=\"0\" fill=\"#000000\" />\n",
       "<rect width=\"1\" height=\".96\" x=\"1\" y=\"0\" fill=\"#FFFF74\" />\n",
       "<rect width=\"1\" height=\".96\" x=\"2\" y=\"0\" fill=\"#FF9BFF\" />\n",
       "<rect width=\"1\" height=\".96\" x=\"3\" y=\"0\" fill=\"#00D3FF\" />\n",
       "<rect width=\"1\" height=\".96\" x=\"4\" y=\"0\" fill=\"#E2630D\" />\n",
       "<rect width=\"1\" height=\".96\" x=\"5\" y=\"0\" fill=\"#007E00\" />\n",
       "<rect width=\"1\" height=\".96\" x=\"6\" y=\"0\" fill=\"#0050E6\" />\n",
       "<rect width=\"1\" height=\".96\" x=\"7\" y=\"0\" fill=\"#AC0047\" />\n",
       "<rect width=\"1\" height=\".96\" x=\"8\" y=\"0\" fill=\"#00FFC8\" />\n",
       "<rect width=\"1\" height=\".96\" x=\"9\" y=\"0\" fill=\"#006468\" />\n",
       "<rect width=\"1\" height=\".96\" x=\"10\" y=\"0\" fill=\"#FFD5C4\" />\n",
       "<rect width=\"1\" height=\".96\" x=\"11\" y=\"0\" fill=\"#6C5200\" />\n",
       "<rect width=\"1\" height=\".96\" x=\"12\" y=\"0\" fill=\"#7A7581\" />\n",
       "<rect width=\"1\" height=\".96\" x=\"13\" y=\"0\" fill=\"#44005C\" />\n",
       "<rect width=\"1\" height=\".96\" x=\"14\" y=\"0\" fill=\"#9E9E77\" />\n",
       "<rect width=\"1\" height=\".96\" x=\"15\" y=\"0\" fill=\"#FF5C78\" />\n",
       "<rect width=\"1\" height=\".96\" x=\"16\" y=\"0\" fill=\"#8197F1\" />\n",
       "<rect width=\"1\" height=\".96\" x=\"17\" y=\"0\" fill=\"#003200\" />\n",
       "<rect width=\"1\" height=\".96\" x=\"18\" y=\"0\" fill=\"#C721DD\" />\n",
       "<rect width=\"1\" height=\".96\" x=\"19\" y=\"0\" fill=\"#FFAD07\" />\n",
       "<rect width=\"1\" height=\".96\" x=\"20\" y=\"0\" fill=\"#611C00\" />\n",
       "<rect width=\"1\" height=\".96\" x=\"21\" y=\"0\" fill=\"#F3FFFA\" />\n",
       "<rect width=\"1\" height=\".96\" x=\"22\" y=\"0\" fill=\"#009E88\" />\n",
       "<rect width=\"1\" height=\".96\" x=\"23\" y=\"0\" fill=\"#5EC700\" />\n",
       "<rect width=\"1\" height=\".96\" x=\"24\" y=\"0\" fill=\"#002D54\" />\n",
       "<rect width=\"1\" height=\".96\" x=\"25\" y=\"0\" fill=\"#553C4A\" />\n",
       "<rect width=\"1\" height=\".96\" x=\"26\" y=\"0\" fill=\"#444439\" />\n",
       "<rect width=\"1\" height=\".96\" x=\"27\" y=\"0\" fill=\"#008FB6\" />\n",
       "<rect width=\"1\" height=\".96\" x=\"28\" y=\"0\" fill=\"#CFD4FD\" />\n",
       "<rect width=\"1\" height=\".96\" x=\"29\" y=\"0\" fill=\"#C40000\" />\n",
       "<rect width=\"1\" height=\".96\" x=\"30\" y=\"0\" fill=\"#A4675C\" />\n",
       "<rect width=\"1\" height=\".96\" x=\"31\" y=\"0\" fill=\"#BB8FA8\" />\n",
       "<rect width=\"1\" height=\".96\" x=\"32\" y=\"0\" fill=\"#290001\" />\n",
       "<rect width=\"1\" height=\".96\" x=\"33\" y=\"0\" fill=\"#A78600\" />\n",
       "<rect width=\"1\" height=\".96\" x=\"34\" y=\"0\" fill=\"#002D30\" />\n",
       "<rect width=\"1\" height=\".96\" x=\"35\" y=\"0\" fill=\"#C7DEAA\" />\n",
       "<rect width=\"1\" height=\".96\" x=\"36\" y=\"0\" fill=\"#8D9FA3\" />\n",
       "<rect width=\"1\" height=\".96\" x=\"37\" y=\"0\" fill=\"#6F5B95\" />\n",
       "<rect width=\"1\" height=\".96\" x=\"38\" y=\"0\" fill=\"#A1FFFF\" />\n",
       "<rect width=\"1\" height=\".96\" x=\"39\" y=\"0\" fill=\"#B39688\" />\n",
       "<rect width=\"1\" height=\".96\" x=\"40\" y=\"0\" fill=\"#4E6D50\" />\n",
       "<rect width=\"1\" height=\".96\" x=\"41\" y=\"0\" fill=\"#FF977B\" />\n",
       "<rect width=\"1\" height=\".96\" x=\"42\" y=\"0\" fill=\"#FFD1EC\" />\n",
       "<rect width=\"1\" height=\".96\" x=\"43\" y=\"0\" fill=\"#9E5100\" />\n",
       "<rect width=\"1\" height=\".96\" x=\"44\" y=\"0\" fill=\"#AE5B8E\" />\n",
       "<rect width=\"1\" height=\".96\" x=\"45\" y=\"0\" fill=\"#799400\" />\n",
       "<rect width=\"1\" height=\".96\" x=\"46\" y=\"0\" fill=\"#362200\" />\n",
       "<rect width=\"1\" height=\".96\" x=\"47\" y=\"0\" fill=\"#0E0026\" />\n",
       "<rect width=\"1\" height=\".96\" x=\"48\" y=\"0\" fill=\"#80765F\" />\n",
       "<rect width=\"1\" height=\".96\" x=\"49\" y=\"0\" fill=\"#485C00\" />\n",
       "<rect width=\"1\" height=\".96\" x=\"50\" y=\"0\" fill=\"#C8C2B5\" />\n",
       "<rect width=\"1\" height=\".96\" x=\"51\" y=\"0\" fill=\"#8800A1\" />\n",
       "<rect width=\"1\" height=\".96\" x=\"52\" y=\"0\" fill=\"#00A853\" />\n",
       "<rect width=\"1\" height=\".96\" x=\"53\" y=\"0\" fill=\"#FFE1AA\" />\n",
       "<rect width=\"1\" height=\".96\" x=\"54\" y=\"0\" fill=\"#674F42\" />\n",
       "<rect width=\"1\" height=\".96\" x=\"55\" y=\"0\" fill=\"#FF342D\" />\n",
       "<rect width=\"1\" height=\".96\" x=\"56\" y=\"0\" fill=\"#6B0041\" />\n",
       "<rect width=\"1\" height=\".96\" x=\"57\" y=\"0\" fill=\"#0806B1\" />\n",
       "<rect width=\"1\" height=\".96\" x=\"58\" y=\"0\" fill=\"#986DFF\" />\n",
       "<rect width=\"1\" height=\".96\" x=\"59\" y=\"0\" fill=\"#FF4EC7\" />\n",
       "<rect width=\"1\" height=\".96\" x=\"60\" y=\"0\" fill=\"#8AB9A2\" />\n",
       "<rect width=\"1\" height=\".96\" x=\"61\" y=\"0\" fill=\"#2EFF71\" />\n",
       "<rect width=\"1\" height=\".96\" x=\"62\" y=\"0\" fill=\"#005577\" />\n",
       "<rect width=\"1\" height=\".96\" x=\"63\" y=\"0\" fill=\"#0078E3\" />\n",
       "<rect width=\"1\" height=\".96\" x=\"64\" y=\"0\" fill=\"#B2ADB9\" />\n",
       "<rect width=\"1\" height=\".96\" x=\"65\" y=\"0\" fill=\"#00C3C6\" />\n",
       "<rect width=\"1\" height=\".96\" x=\"66\" y=\"0\" fill=\"#00AEFF\" />\n",
       "<rect width=\"1\" height=\".96\" x=\"67\" y=\"0\" fill=\"#4E545F\" />\n",
       "<rect width=\"1\" height=\".96\" x=\"68\" y=\"0\" fill=\"#FF9BB0\" />\n",
       "<rect width=\"1\" height=\".96\" x=\"69\" y=\"0\" fill=\"#FED206\" />\n",
       "<rect width=\"1\" height=\".96\" x=\"70\" y=\"0\" fill=\"#687B7A\" />\n",
       "<rect width=\"1\" height=\".96\" x=\"71\" y=\"0\" fill=\"#B1DCFC\" />\n",
       "<rect width=\"1\" height=\".96\" x=\"72\" y=\"0\" fill=\"#FFF6FF\" />\n",
       "<rect width=\"1\" height=\".96\" x=\"73\" y=\"0\" fill=\"#620019\" />\n",
       "<rect width=\"1\" height=\".96\" x=\"74\" y=\"0\" fill=\"#C79253\" />\n",
       "<rect width=\"1\" height=\".96\" x=\"75\" y=\"0\" fill=\"#A891CF\" />\n",
       "<rect width=\"1\" height=\".96\" x=\"76\" y=\"0\" fill=\"#EF007A\" />\n",
       "<rect width=\"1\" height=\".96\" x=\"77\" y=\"0\" fill=\"#B8CE00\" />\n",
       "<rect width=\"1\" height=\".96\" x=\"78\" y=\"0\" fill=\"#001700\" />\n",
       "<rect width=\"1\" height=\".96\" x=\"79\" y=\"0\" fill=\"#204B39\" />\n",
       "<rect width=\"1\" height=\".96\" x=\"80\" y=\"0\" fill=\"#875866\" />\n",
       "<rect width=\"1\" height=\".96\" x=\"81\" y=\"0\" fill=\"#B5FF4E\" />\n",
       "<rect width=\"1\" height=\".96\" x=\"82\" y=\"0\" fill=\"#B40080\" />\n",
       "<rect width=\"1\" height=\".96\" x=\"83\" y=\"0\" fill=\"#853F34\" />\n",
       "<rect width=\"1\" height=\".96\" x=\"84\" y=\"0\" fill=\"#69936B\" />\n",
       "<rect width=\"1\" height=\".96\" x=\"85\" y=\"0\" fill=\"#FFBC80\" />\n",
       "<rect width=\"1\" height=\".96\" x=\"86\" y=\"0\" fill=\"#4C3779\" />\n",
       "<rect width=\"1\" height=\".96\" x=\"87\" y=\"0\" fill=\"#323606\" />\n",
       "<rect width=\"1\" height=\".96\" x=\"88\" y=\"0\" fill=\"#008E94\" />\n",
       "<rect width=\"1\" height=\".96\" x=\"89\" y=\"0\" fill=\"#CAAC51\" />\n",
       "<rect width=\"1\" height=\".96\" x=\"90\" y=\"0\" fill=\"#787B3B\" />\n",
       "<rect width=\"1\" height=\".96\" x=\"91\" y=\"0\" fill=\"#B6F9D9\" />\n",
       "<rect width=\"1\" height=\".96\" x=\"92\" y=\"0\" fill=\"#DA003F\" />\n",
       "<rect width=\"1\" height=\".96\" x=\"93\" y=\"0\" fill=\"#2E2124\" />\n",
       "<rect width=\"1\" height=\".96\" x=\"94\" y=\"0\" fill=\"#005815\" />\n",
       "<rect width=\"1\" height=\".96\" x=\"95\" y=\"0\" fill=\"#FF8E1D\" />\n",
       "<rect width=\"1\" height=\".96\" x=\"96\" y=\"0\" fill=\"#6674B1\" />\n",
       "<rect width=\"1\" height=\".96\" x=\"97\" y=\"0\" fill=\"#00CDAD\" />\n",
       "<rect width=\"1\" height=\".96\" x=\"98\" y=\"0\" fill=\"#007F63\" />\n",
       "<rect width=\"1\" height=\".96\" x=\"99\" y=\"0\" fill=\"#996F3D\" />\n",
       "</svg>"
      ],
      "text/plain": [
       "100-element Array{RGB{N0f8},1} with eltype RGB{FixedPointNumbers.Normed{UInt8,8}}:\n",
       " RGB{N0f8}(0.0,0.0,0.0)\n",
       " RGB{N0f8}(1.0,1.0,0.455)\n",
       " RGB{N0f8}(1.0,0.608,1.0)\n",
       " RGB{N0f8}(0.0,0.827,1.0)\n",
       " RGB{N0f8}(0.886,0.388,0.051)\n",
       " RGB{N0f8}(0.0,0.494,0.0)\n",
       " RGB{N0f8}(0.0,0.314,0.902)\n",
       " RGB{N0f8}(0.675,0.0,0.278)\n",
       " RGB{N0f8}(0.0,1.0,0.784)\n",
       " RGB{N0f8}(0.0,0.392,0.408)\n",
       " RGB{N0f8}(1.0,0.835,0.769)\n",
       " RGB{N0f8}(0.424,0.322,0.0)\n",
       " RGB{N0f8}(0.478,0.459,0.506)\n",
       " ⋮\n",
       " RGB{N0f8}(0.0,0.557,0.58)\n",
       " RGB{N0f8}(0.792,0.675,0.318)\n",
       " RGB{N0f8}(0.471,0.482,0.231)\n",
       " RGB{N0f8}(0.714,0.976,0.851)\n",
       " RGB{N0f8}(0.855,0.0,0.247)\n",
       " RGB{N0f8}(0.18,0.129,0.141)\n",
       " RGB{N0f8}(0.0,0.345,0.082)\n",
       " RGB{N0f8}(1.0,0.557,0.114)\n",
       " RGB{N0f8}(0.4,0.455,0.694)\n",
       " RGB{N0f8}(0.0,0.804,0.678)\n",
       " RGB{N0f8}(0.0,0.498,0.388)\n",
       " RGB{N0f8}(0.6,0.435,0.239)"
      ]
     },
     "execution_count": 43,
     "metadata": {},
     "output_type": "execute_result"
    }
   ],
   "source": [
    "palatte = distinguishable_colors(100)"
   ]
  },
  {
   "cell_type": "code",
   "execution_count": 44,
   "metadata": {},
   "outputs": [
    {
     "data": {
      "image/svg+xml": [
       "<?xml version=\"1.0\" encoding=\"UTF-8\"?>\n",
       "<!DOCTYPE svg PUBLIC \"-//W3C//DTD SVG 1.1//EN\"\n",
       " \"http://www.w3.org/Graphics/SVG/1.1/DTD/svg11.dtd\">\n",
       "<svg xmlns=\"http://www.w3.org/2000/svg\" version=\"1.1\"\n",
       "     width=\"75mm\" height=\"75mm\"\n",
       "     viewBox=\"0 0 3 3\" preserveAspectRatio=\"none\"\n",
       "     shape-rendering=\"crispEdges\" stroke=\"none\">\n",
       "<rect width=\".96\" height=\".96\" x=\"0\" y=\"0\" fill=\"#B5FF4E\" />\n",
       "<rect width=\".96\" height=\".96\" x=\"1\" y=\"0\" fill=\"#009E88\" />\n",
       "<rect width=\".96\" height=\".96\" x=\"2\" y=\"0\" fill=\"#FF5C78\" />\n",
       "<rect width=\".96\" height=\".96\" x=\"0\" y=\"1\" fill=\"#00C3C6\" />\n",
       "<rect width=\".96\" height=\".96\" x=\"1\" y=\"1\" fill=\"#69936B\" />\n",
       "<rect width=\".96\" height=\".96\" x=\"2\" y=\"1\" fill=\"#FF5C78\" />\n",
       "<rect width=\".96\" height=\".96\" x=\"0\" y=\"2\" fill=\"#00A853\" />\n",
       "<rect width=\".96\" height=\".96\" x=\"1\" y=\"2\" fill=\"#00AEFF\" />\n",
       "<rect width=\".96\" height=\".96\" x=\"2\" y=\"2\" fill=\"#B6F9D9\" />\n",
       "</svg>"
      ],
      "text/plain": [
       "3×3 Array{RGB{N0f8},2} with eltype RGB{FixedPointNumbers.Normed{UInt8,8}}:\n",
       " RGB{N0f8}(0.71,1.0,0.306)   …  RGB{N0f8}(1.0,0.361,0.471)\n",
       " RGB{N0f8}(0.0,0.765,0.776)     RGB{N0f8}(1.0,0.361,0.471)\n",
       " RGB{N0f8}(0.0,0.659,0.325)     RGB{N0f8}(0.714,0.976,0.851)"
      ]
     },
     "execution_count": 44,
     "metadata": {},
     "output_type": "execute_result"
    }
   ],
   "source": [
    "# Fun Fact : rand can be used like np.random.choice!!!\n",
    "rand(palatte, 3, 3)"
   ]
  },
  {
   "cell_type": "code",
   "execution_count": 45,
   "metadata": {},
   "outputs": [
    {
     "name": "stderr",
     "output_type": "stream",
     "text": [
      "\u001b[32m\u001b[1m  Resolving\u001b[22m\u001b[39m package versions...\n",
      "\u001b[32m\u001b[1m   Updating\u001b[22m\u001b[39m `C:\\Users\\tirth\\.julia\\environments\\v1.4\\Project.toml`\n",
      "\u001b[90m [no changes]\u001b[39m\n",
      "\u001b[32m\u001b[1m   Updating\u001b[22m\u001b[39m `C:\\Users\\tirth\\.julia\\environments\\v1.4\\Manifest.toml`\n",
      "\u001b[90m [no changes]\u001b[39m\n"
     ]
    }
   ],
   "source": [
    "Pkg.add(\"Primes\")"
   ]
  },
  {
   "cell_type": "code",
   "execution_count": 46,
   "metadata": {},
   "outputs": [],
   "source": [
    "using Primes"
   ]
  },
  {
   "cell_type": "code",
   "execution_count": 47,
   "metadata": {},
   "outputs": [
    {
     "data": {
      "text/plain": [
       "78498-element Array{Int64,1}:\n",
       "      2\n",
       "      3\n",
       "      5\n",
       "      7\n",
       "     11\n",
       "     13\n",
       "     17\n",
       "     19\n",
       "     23\n",
       "     29\n",
       "     31\n",
       "     37\n",
       "     41\n",
       "      ⋮\n",
       " 999809\n",
       " 999853\n",
       " 999863\n",
       " 999883\n",
       " 999907\n",
       " 999917\n",
       " 999931\n",
       " 999953\n",
       " 999959\n",
       " 999961\n",
       " 999979\n",
       " 999983"
      ]
     },
     "execution_count": 47,
     "metadata": {},
     "output_type": "execute_result"
    }
   ],
   "source": [
    "primes_list = primes(1000000)"
   ]
  },
  {
   "cell_type": "markdown",
   "metadata": {},
   "source": [
    "## 18. Plotting in Julia using Plots\n",
    "\n",
    "`Plots` supports vide variety of backends without changing the user interface. This makes it particularly easy to demonstrate plotting. Other famous package that ports matplotlib to julia is `PyPlot`"
   ]
  },
  {
   "cell_type": "code",
   "execution_count": 48,
   "metadata": {},
   "outputs": [
    {
     "name": "stderr",
     "output_type": "stream",
     "text": [
      "\u001b[32m\u001b[1m  Resolving\u001b[22m\u001b[39m package versions...\n",
      "\u001b[32m\u001b[1m   Updating\u001b[22m\u001b[39m `C:\\Users\\tirth\\.julia\\environments\\v1.4\\Project.toml`\n",
      "\u001b[90m [no changes]\u001b[39m\n",
      "\u001b[32m\u001b[1m   Updating\u001b[22m\u001b[39m `C:\\Users\\tirth\\.julia\\environments\\v1.4\\Manifest.toml`\n",
      "\u001b[90m [no changes]\u001b[39m\n"
     ]
    }
   ],
   "source": [
    "Pkg.add(\"Plots\")"
   ]
  },
  {
   "cell_type": "code",
   "execution_count": 49,
   "metadata": {},
   "outputs": [
    {
     "data": {
      "image/svg+xml": [
       "<?xml version=\"1.0\" encoding=\"utf-8\"?>\n",
       "<svg xmlns=\"http://www.w3.org/2000/svg\" xmlns:xlink=\"http://www.w3.org/1999/xlink\" width=\"600\" height=\"400\" viewBox=\"0 0 2400 1600\">\n",
       "<defs>\n",
       "  <clipPath id=\"clip180\">\n",
       "    <rect x=\"0\" y=\"0\" width=\"2400\" height=\"1600\"/>\n",
       "  </clipPath>\n",
       "</defs>\n",
       "<path clip-path=\"url(#clip180)\" d=\"\n",
       "M0 1600 L2400 1600 L2400 0 L0 0  Z\n",
       "  \" fill=\"#ffffff\" fill-rule=\"evenodd\" fill-opacity=\"1\"/>\n",
       "<defs>\n",
       "  <clipPath id=\"clip181\">\n",
       "    <rect x=\"480\" y=\"0\" width=\"1681\" height=\"1600\"/>\n",
       "  </clipPath>\n",
       "</defs>\n",
       "<path clip-path=\"url(#clip180)\" d=\"\n",
       "M112.177 1486.45 L2352.76 1486.45 L2352.76 47.2441 L112.177 47.2441  Z\n",
       "  \" fill=\"#ffffff\" fill-rule=\"evenodd\" fill-opacity=\"1\"/>\n",
       "<defs>\n",
       "  <clipPath id=\"clip182\">\n",
       "    <rect x=\"112\" y=\"47\" width=\"2242\" height=\"1440\"/>\n",
       "  </clipPath>\n",
       "</defs>\n",
       "<polyline clip-path=\"url(#clip182)\" style=\"stroke:#000000; stroke-width:2; stroke-opacity:0.1; fill:none\" points=\"\n",
       "  175.59,1486.45 175.59,47.2441 \n",
       "  \"/>\n",
       "<polyline clip-path=\"url(#clip182)\" style=\"stroke:#000000; stroke-width:2; stroke-opacity:0.1; fill:none\" points=\"\n",
       "  527.882,1486.45 527.882,47.2441 \n",
       "  \"/>\n",
       "<polyline clip-path=\"url(#clip182)\" style=\"stroke:#000000; stroke-width:2; stroke-opacity:0.1; fill:none\" points=\"\n",
       "  880.174,1486.45 880.174,47.2441 \n",
       "  \"/>\n",
       "<polyline clip-path=\"url(#clip182)\" style=\"stroke:#000000; stroke-width:2; stroke-opacity:0.1; fill:none\" points=\"\n",
       "  1232.47,1486.45 1232.47,47.2441 \n",
       "  \"/>\n",
       "<polyline clip-path=\"url(#clip182)\" style=\"stroke:#000000; stroke-width:2; stroke-opacity:0.1; fill:none\" points=\"\n",
       "  1584.76,1486.45 1584.76,47.2441 \n",
       "  \"/>\n",
       "<polyline clip-path=\"url(#clip182)\" style=\"stroke:#000000; stroke-width:2; stroke-opacity:0.1; fill:none\" points=\"\n",
       "  1937.05,1486.45 1937.05,47.2441 \n",
       "  \"/>\n",
       "<polyline clip-path=\"url(#clip182)\" style=\"stroke:#000000; stroke-width:2; stroke-opacity:0.1; fill:none\" points=\"\n",
       "  2289.34,1486.45 2289.34,47.2441 \n",
       "  \"/>\n",
       "<polyline clip-path=\"url(#clip182)\" style=\"stroke:#000000; stroke-width:2; stroke-opacity:0.1; fill:none\" points=\"\n",
       "  112.177,1445.72 2352.76,1445.72 \n",
       "  \"/>\n",
       "<polyline clip-path=\"url(#clip182)\" style=\"stroke:#000000; stroke-width:2; stroke-opacity:0.1; fill:none\" points=\"\n",
       "  112.177,1144 2352.76,1144 \n",
       "  \"/>\n",
       "<polyline clip-path=\"url(#clip182)\" style=\"stroke:#000000; stroke-width:2; stroke-opacity:0.1; fill:none\" points=\"\n",
       "  112.177,842.276 2352.76,842.276 \n",
       "  \"/>\n",
       "<polyline clip-path=\"url(#clip182)\" style=\"stroke:#000000; stroke-width:2; stroke-opacity:0.1; fill:none\" points=\"\n",
       "  112.177,540.556 2352.76,540.556 \n",
       "  \"/>\n",
       "<polyline clip-path=\"url(#clip182)\" style=\"stroke:#000000; stroke-width:2; stroke-opacity:0.1; fill:none\" points=\"\n",
       "  112.177,238.836 2352.76,238.836 \n",
       "  \"/>\n",
       "<polyline clip-path=\"url(#clip180)\" style=\"stroke:#000000; stroke-width:4; stroke-opacity:1; fill:none\" points=\"\n",
       "  112.177,1486.45 2352.76,1486.45 \n",
       "  \"/>\n",
       "<polyline clip-path=\"url(#clip180)\" style=\"stroke:#000000; stroke-width:4; stroke-opacity:1; fill:none\" points=\"\n",
       "  112.177,1486.45 112.177,47.2441 \n",
       "  \"/>\n",
       "<polyline clip-path=\"url(#clip180)\" style=\"stroke:#000000; stroke-width:4; stroke-opacity:1; fill:none\" points=\"\n",
       "  175.59,1486.45 175.59,1469.18 \n",
       "  \"/>\n",
       "<polyline clip-path=\"url(#clip180)\" style=\"stroke:#000000; stroke-width:4; stroke-opacity:1; fill:none\" points=\"\n",
       "  527.882,1486.45 527.882,1469.18 \n",
       "  \"/>\n",
       "<polyline clip-path=\"url(#clip180)\" style=\"stroke:#000000; stroke-width:4; stroke-opacity:1; fill:none\" points=\"\n",
       "  880.174,1486.45 880.174,1469.18 \n",
       "  \"/>\n",
       "<polyline clip-path=\"url(#clip180)\" style=\"stroke:#000000; stroke-width:4; stroke-opacity:1; fill:none\" points=\"\n",
       "  1232.47,1486.45 1232.47,1469.18 \n",
       "  \"/>\n",
       "<polyline clip-path=\"url(#clip180)\" style=\"stroke:#000000; stroke-width:4; stroke-opacity:1; fill:none\" points=\"\n",
       "  1584.76,1486.45 1584.76,1469.18 \n",
       "  \"/>\n",
       "<polyline clip-path=\"url(#clip180)\" style=\"stroke:#000000; stroke-width:4; stroke-opacity:1; fill:none\" points=\"\n",
       "  1937.05,1486.45 1937.05,1469.18 \n",
       "  \"/>\n",
       "<polyline clip-path=\"url(#clip180)\" style=\"stroke:#000000; stroke-width:4; stroke-opacity:1; fill:none\" points=\"\n",
       "  2289.34,1486.45 2289.34,1469.18 \n",
       "  \"/>\n",
       "<polyline clip-path=\"url(#clip180)\" style=\"stroke:#000000; stroke-width:4; stroke-opacity:1; fill:none\" points=\"\n",
       "  112.177,1445.72 139.064,1445.72 \n",
       "  \"/>\n",
       "<polyline clip-path=\"url(#clip180)\" style=\"stroke:#000000; stroke-width:4; stroke-opacity:1; fill:none\" points=\"\n",
       "  112.177,1144 139.064,1144 \n",
       "  \"/>\n",
       "<polyline clip-path=\"url(#clip180)\" style=\"stroke:#000000; stroke-width:4; stroke-opacity:1; fill:none\" points=\"\n",
       "  112.177,842.276 139.064,842.276 \n",
       "  \"/>\n",
       "<polyline clip-path=\"url(#clip180)\" style=\"stroke:#000000; stroke-width:4; stroke-opacity:1; fill:none\" points=\"\n",
       "  112.177,540.556 139.064,540.556 \n",
       "  \"/>\n",
       "<polyline clip-path=\"url(#clip180)\" style=\"stroke:#000000; stroke-width:4; stroke-opacity:1; fill:none\" points=\"\n",
       "  112.177,238.836 139.064,238.836 \n",
       "  \"/>\n",
       "<path clip-path=\"url(#clip180)\" d=\"M 0 0 M156.169 1525.04 L168.645 1525.04 L168.645 1528.83 L156.169 1528.83 L156.169 1525.04 Z\" fill=\"#000000\" fill-rule=\"evenodd\" fill-opacity=\"1\" /><path clip-path=\"url(#clip180)\" d=\"M 0 0 M187.881 1521.29 Q191.238 1522 193.113 1524.27 Q195.011 1526.54 195.011 1529.87 Q195.011 1534.99 191.492 1537.79 Q187.974 1540.59 181.493 1540.59 Q179.317 1540.59 177.002 1540.15 Q174.71 1539.73 172.256 1538.88 L172.256 1534.36 Q174.201 1535.5 176.516 1536.08 Q178.831 1536.66 181.354 1536.66 Q185.752 1536.66 188.043 1534.92 Q190.358 1533.18 190.358 1529.87 Q190.358 1526.82 188.205 1525.11 Q186.076 1523.37 182.256 1523.37 L178.229 1523.37 L178.229 1519.53 L182.442 1519.53 Q185.891 1519.53 187.719 1518.16 Q189.548 1516.77 189.548 1514.18 Q189.548 1511.52 187.65 1510.11 Q185.775 1508.67 182.256 1508.67 Q180.335 1508.67 178.136 1509.09 Q175.937 1509.5 173.298 1510.38 L173.298 1506.22 Q175.96 1505.48 178.275 1505.11 Q180.613 1504.73 182.673 1504.73 Q187.997 1504.73 191.099 1507.17 Q194.201 1509.57 194.201 1513.69 Q194.201 1516.56 192.557 1518.55 Q190.914 1520.52 187.881 1521.29 Z\" fill=\"#000000\" fill-rule=\"evenodd\" fill-opacity=\"1\" /><path clip-path=\"url(#clip180)\" d=\"M 0 0 M508.935 1525.04 L521.412 1525.04 L521.412 1528.83 L508.935 1528.83 L508.935 1525.04 Z\" fill=\"#000000\" fill-rule=\"evenodd\" fill-opacity=\"1\" /><path clip-path=\"url(#clip180)\" d=\"M 0 0 M530.509 1535.98 L546.829 1535.98 L546.829 1539.92 L524.884 1539.92 L524.884 1535.98 Q527.546 1533.23 532.13 1528.6 Q536.736 1523.95 537.917 1522.61 Q540.162 1520.08 541.042 1518.35 Q541.944 1516.59 541.944 1514.9 Q541.944 1512.14 540 1510.41 Q538.079 1508.67 534.977 1508.67 Q532.778 1508.67 530.324 1509.43 Q527.894 1510.2 525.116 1511.75 L525.116 1507.03 Q527.94 1505.89 530.394 1505.31 Q532.847 1504.73 534.884 1504.73 Q540.255 1504.73 543.449 1507.42 Q546.644 1510.11 546.644 1514.6 Q546.644 1516.73 545.833 1518.65 Q545.046 1520.54 542.94 1523.14 Q542.361 1523.81 539.259 1527.03 Q536.157 1530.22 530.509 1535.98 Z\" fill=\"#000000\" fill-rule=\"evenodd\" fill-opacity=\"1\" /><path clip-path=\"url(#clip180)\" d=\"M 0 0 M861.042 1525.04 L873.519 1525.04 L873.519 1528.83 L861.042 1528.83 L861.042 1525.04 Z\" fill=\"#000000\" fill-rule=\"evenodd\" fill-opacity=\"1\" /><path clip-path=\"url(#clip180)\" d=\"M 0 0 M879.399 1535.98 L887.038 1535.98 L887.038 1509.62 L878.728 1511.29 L878.728 1507.03 L886.991 1505.36 L891.667 1505.36 L891.667 1535.98 L899.306 1535.98 L899.306 1539.92 L879.399 1539.92 L879.399 1535.98 Z\" fill=\"#000000\" fill-rule=\"evenodd\" fill-opacity=\"1\" /><path clip-path=\"url(#clip180)\" d=\"M 0 0 M1232.47 1508.44 Q1228.86 1508.44 1227.03 1512 Q1225.22 1515.55 1225.22 1522.67 Q1225.22 1529.78 1227.03 1533.35 Q1228.86 1536.89 1232.47 1536.89 Q1236.1 1536.89 1237.91 1533.35 Q1239.74 1529.78 1239.74 1522.67 Q1239.74 1515.55 1237.91 1512 Q1236.1 1508.44 1232.47 1508.44 M1232.47 1504.73 Q1238.28 1504.73 1241.33 1509.34 Q1244.41 1513.92 1244.41 1522.67 Q1244.41 1531.4 1241.33 1536.01 Q1238.28 1540.59 1232.47 1540.59 Q1226.66 1540.59 1223.58 1536.01 Q1220.52 1531.4 1220.52 1522.67 Q1220.52 1513.92 1223.58 1509.34 Q1226.66 1504.73 1232.47 1504.73 Z\" fill=\"#000000\" fill-rule=\"evenodd\" fill-opacity=\"1\" /><path clip-path=\"url(#clip180)\" d=\"M 0 0 M1575.14 1535.98 L1582.78 1535.98 L1582.78 1509.62 L1574.47 1511.29 L1574.47 1507.03 L1582.73 1505.36 L1587.41 1505.36 L1587.41 1535.98 L1595.05 1535.98 L1595.05 1539.92 L1575.14 1539.92 L1575.14 1535.98 Z\" fill=\"#000000\" fill-rule=\"evenodd\" fill-opacity=\"1\" /><path clip-path=\"url(#clip180)\" d=\"M 0 0 M1931.7 1535.98 L1948.02 1535.98 L1948.02 1539.92 L1926.08 1539.92 L1926.08 1535.98 Q1928.74 1533.23 1933.32 1528.6 Q1937.93 1523.95 1939.11 1522.61 Q1941.36 1520.08 1942.24 1518.35 Q1943.14 1516.59 1943.14 1514.9 Q1943.14 1512.14 1941.19 1510.41 Q1939.27 1508.67 1936.17 1508.67 Q1933.97 1508.67 1931.52 1509.43 Q1929.09 1510.2 1926.31 1511.75 L1926.31 1507.03 Q1929.13 1505.89 1931.59 1505.31 Q1934.04 1504.73 1936.08 1504.73 Q1941.45 1504.73 1944.64 1507.42 Q1947.84 1510.11 1947.84 1514.6 Q1947.84 1516.73 1947.03 1518.65 Q1946.24 1520.54 1944.13 1523.14 Q1943.56 1523.81 1940.45 1527.03 Q1937.35 1530.22 1931.7 1535.98 Z\" fill=\"#000000\" fill-rule=\"evenodd\" fill-opacity=\"1\" /><path clip-path=\"url(#clip180)\" d=\"M 0 0 M2293.59 1521.29 Q2296.95 1522 2298.82 1524.27 Q2300.72 1526.54 2300.72 1529.87 Q2300.72 1534.99 2297.2 1537.79 Q2293.68 1540.59 2287.2 1540.59 Q2285.03 1540.59 2282.71 1540.15 Q2280.42 1539.73 2277.97 1538.88 L2277.97 1534.36 Q2279.91 1535.5 2282.23 1536.08 Q2284.54 1536.66 2287.06 1536.66 Q2291.46 1536.66 2293.75 1534.92 Q2296.07 1533.18 2296.07 1529.87 Q2296.07 1526.82 2293.92 1525.11 Q2291.79 1523.37 2287.97 1523.37 L2283.94 1523.37 L2283.94 1519.53 L2288.15 1519.53 Q2291.6 1519.53 2293.43 1518.16 Q2295.26 1516.77 2295.26 1514.18 Q2295.26 1511.52 2293.36 1510.11 Q2291.48 1508.67 2287.97 1508.67 Q2286.04 1508.67 2283.85 1509.09 Q2281.65 1509.5 2279.01 1510.38 L2279.01 1506.22 Q2281.67 1505.48 2283.98 1505.11 Q2286.32 1504.73 2288.38 1504.73 Q2293.71 1504.73 2296.81 1507.17 Q2299.91 1509.57 2299.91 1513.69 Q2299.91 1516.56 2298.27 1518.55 Q2296.62 1520.52 2293.59 1521.29 Z\" fill=\"#000000\" fill-rule=\"evenodd\" fill-opacity=\"1\" /><path clip-path=\"url(#clip180)\" d=\"M 0 0 M76.2328 1431.51 Q72.6217 1431.51 70.793 1435.08 Q68.9875 1438.62 68.9875 1445.75 Q68.9875 1452.86 70.793 1456.42 Q72.6217 1459.96 76.2328 1459.96 Q79.867 1459.96 81.6726 1456.42 Q83.5013 1452.86 83.5013 1445.75 Q83.5013 1438.62 81.6726 1435.08 Q79.867 1431.51 76.2328 1431.51 M76.2328 1427.81 Q82.0429 1427.81 85.0985 1432.42 Q88.1772 1437 88.1772 1445.75 Q88.1772 1454.48 85.0985 1459.08 Q82.0429 1463.67 76.2328 1463.67 Q70.4226 1463.67 67.344 1459.08 Q64.2884 1454.48 64.2884 1445.75 Q64.2884 1437 67.344 1432.42 Q70.4226 1427.81 76.2328 1427.81 Z\" fill=\"#000000\" fill-rule=\"evenodd\" fill-opacity=\"1\" /><path clip-path=\"url(#clip180)\" d=\"M 0 0 M71.8578 1157.34 L88.1772 1157.34 L88.1772 1161.28 L66.2328 1161.28 L66.2328 1157.34 Q68.8949 1154.59 73.4782 1149.96 Q78.0846 1145.3 79.2652 1143.96 Q81.5105 1141.44 82.3902 1139.7 Q83.2929 1137.94 83.2929 1136.25 Q83.2929 1133.5 81.3485 1131.76 Q79.4272 1130.03 76.3254 1130.03 Q74.1263 1130.03 71.6726 1130.79 Q69.2421 1131.55 66.4643 1133.1 L66.4643 1128.38 Q69.2884 1127.25 71.7421 1126.67 Q74.1958 1126.09 76.2328 1126.09 Q81.6031 1126.09 84.7976 1128.78 Q87.992 1131.46 87.992 1135.95 Q87.992 1138.08 87.1818 1140 Q86.3948 1141.9 84.2883 1144.49 Q83.7096 1145.16 80.6078 1148.38 Q77.5059 1151.58 71.8578 1157.34 Z\" fill=\"#000000\" fill-rule=\"evenodd\" fill-opacity=\"1\" /><path clip-path=\"url(#clip180)\" d=\"M 0 0 M78.5939 829.07 L66.7884 847.519 L78.5939 847.519 L78.5939 829.07 M77.367 824.996 L83.2466 824.996 L83.2466 847.519 L88.1772 847.519 L88.1772 851.408 L83.2466 851.408 L83.2466 859.556 L78.5939 859.556 L78.5939 851.408 L62.9921 851.408 L62.9921 846.894 L77.367 824.996 Z\" fill=\"#000000\" fill-rule=\"evenodd\" fill-opacity=\"1\" /><path clip-path=\"url(#clip180)\" d=\"M 0 0 M76.6495 538.693 Q73.5013 538.693 71.6495 540.845 Q69.8208 542.998 69.8208 546.748 Q69.8208 550.475 71.6495 552.651 Q73.5013 554.804 76.6495 554.804 Q79.7976 554.804 81.6263 552.651 Q83.4781 550.475 83.4781 546.748 Q83.4781 542.998 81.6263 540.845 Q79.7976 538.693 76.6495 538.693 M85.9318 524.04 L85.9318 528.299 Q84.1726 527.466 82.367 527.026 Q80.5846 526.586 78.8254 526.586 Q74.1958 526.586 71.7421 529.711 Q69.3115 532.836 68.9643 539.156 Q70.33 537.142 72.3902 536.077 Q74.4504 534.989 76.9272 534.989 Q82.1355 534.989 85.1448 538.16 Q88.1772 541.308 88.1772 546.748 Q88.1772 552.072 85.029 555.29 Q81.8809 558.507 76.6495 558.507 Q70.6541 558.507 67.4828 553.924 Q64.3116 549.318 64.3116 540.591 Q64.3116 532.396 68.2004 527.535 Q72.0893 522.651 78.6402 522.651 Q80.3994 522.651 82.1818 522.998 Q83.9874 523.346 85.9318 524.04 Z\" fill=\"#000000\" fill-rule=\"evenodd\" fill-opacity=\"1\" /><path clip-path=\"url(#clip180)\" d=\"M 0 0 M76.3254 239.704 Q72.9921 239.704 71.0708 241.487 Q69.1726 243.269 69.1726 246.394 Q69.1726 249.519 71.0708 251.301 Q72.9921 253.084 76.3254 253.084 Q79.6587 253.084 81.58 251.301 Q83.5013 249.496 83.5013 246.394 Q83.5013 243.269 81.58 241.487 Q79.6819 239.704 76.3254 239.704 M71.6495 237.714 Q68.6402 236.973 66.9504 234.913 Q65.2838 232.852 65.2838 229.89 Q65.2838 225.746 68.2236 223.339 Q71.1865 220.931 76.3254 220.931 Q81.4874 220.931 84.4272 223.339 Q87.367 225.746 87.367 229.89 Q87.367 232.852 85.6772 234.913 Q84.0105 236.973 81.0244 237.714 Q84.404 238.501 86.279 240.792 Q88.1772 243.084 88.1772 246.394 Q88.1772 251.417 85.0985 254.102 Q82.0429 256.788 76.3254 256.788 Q70.6078 256.788 67.5291 254.102 Q64.4736 251.417 64.4736 246.394 Q64.4736 243.084 66.3717 240.792 Q68.2699 238.501 71.6495 237.714 M69.9365 230.329 Q69.9365 233.014 71.6032 234.519 Q73.293 236.024 76.3254 236.024 Q79.3346 236.024 81.0244 234.519 Q82.7374 233.014 82.7374 230.329 Q82.7374 227.644 81.0244 226.14 Q79.3346 224.635 76.3254 224.635 Q73.293 224.635 71.6032 226.14 Q69.9365 227.644 69.9365 230.329 Z\" fill=\"#000000\" fill-rule=\"evenodd\" fill-opacity=\"1\" /><polyline clip-path=\"url(#clip182)\" style=\"stroke:#009af9; stroke-width:4; stroke-opacity:1; fill:none\" points=\"\n",
       "  175.59,87.9763 210.819,176.984 246.048,262.974 281.277,345.947 316.507,425.903 351.736,502.841 386.965,576.762 422.194,647.667 457.424,715.554 492.653,780.423 \n",
       "  527.882,842.276 563.111,901.111 598.34,956.93 633.57,1009.73 668.799,1059.51 704.028,1106.28 739.257,1150.03 774.487,1190.76 809.716,1228.48 844.945,1263.18 \n",
       "  880.174,1294.86 915.404,1323.52 950.633,1349.17 985.862,1371.79 1021.09,1391.41 1056.32,1408 1091.55,1421.58 1126.78,1432.14 1162.01,1439.68 1197.24,1444.21 \n",
       "  1232.47,1445.72 1267.7,1444.21 1302.92,1439.68 1338.15,1432.14 1373.38,1421.58 1408.61,1408 1443.84,1391.41 1479.07,1371.79 1514.3,1349.17 1549.53,1323.52 \n",
       "  1584.76,1294.86 1619.99,1263.18 1655.22,1228.48 1690.45,1190.76 1725.68,1150.03 1760.9,1106.28 1796.13,1059.51 1831.36,1009.73 1866.59,956.93 1901.82,901.111 \n",
       "  1937.05,842.276 1972.28,780.423 2007.51,715.554 2042.74,647.667 2077.97,576.762 2113.2,502.841 2148.43,425.903 2183.66,345.947 2218.88,262.974 2254.11,176.984 \n",
       "  2289.34,87.9763 \n",
       "  \"/>\n",
       "<circle clip-path=\"url(#clip182)\" cx=\"175.59\" cy=\"87.9763\" r=\"14\" fill=\"#e26f46\" fill-rule=\"evenodd\" fill-opacity=\"1\" stroke=\"#000000\" stroke-opacity=\"1\" stroke-width=\"3.2\"/>\n",
       "<circle clip-path=\"url(#clip182)\" cx=\"210.819\" cy=\"176.984\" r=\"14\" fill=\"#e26f46\" fill-rule=\"evenodd\" fill-opacity=\"1\" stroke=\"#000000\" stroke-opacity=\"1\" stroke-width=\"3.2\"/>\n",
       "<circle clip-path=\"url(#clip182)\" cx=\"246.048\" cy=\"262.974\" r=\"14\" fill=\"#e26f46\" fill-rule=\"evenodd\" fill-opacity=\"1\" stroke=\"#000000\" stroke-opacity=\"1\" stroke-width=\"3.2\"/>\n",
       "<circle clip-path=\"url(#clip182)\" cx=\"281.277\" cy=\"345.947\" r=\"14\" fill=\"#e26f46\" fill-rule=\"evenodd\" fill-opacity=\"1\" stroke=\"#000000\" stroke-opacity=\"1\" stroke-width=\"3.2\"/>\n",
       "<circle clip-path=\"url(#clip182)\" cx=\"316.507\" cy=\"425.903\" r=\"14\" fill=\"#e26f46\" fill-rule=\"evenodd\" fill-opacity=\"1\" stroke=\"#000000\" stroke-opacity=\"1\" stroke-width=\"3.2\"/>\n",
       "<circle clip-path=\"url(#clip182)\" cx=\"351.736\" cy=\"502.841\" r=\"14\" fill=\"#e26f46\" fill-rule=\"evenodd\" fill-opacity=\"1\" stroke=\"#000000\" stroke-opacity=\"1\" stroke-width=\"3.2\"/>\n",
       "<circle clip-path=\"url(#clip182)\" cx=\"386.965\" cy=\"576.762\" r=\"14\" fill=\"#e26f46\" fill-rule=\"evenodd\" fill-opacity=\"1\" stroke=\"#000000\" stroke-opacity=\"1\" stroke-width=\"3.2\"/>\n",
       "<circle clip-path=\"url(#clip182)\" cx=\"422.194\" cy=\"647.667\" r=\"14\" fill=\"#e26f46\" fill-rule=\"evenodd\" fill-opacity=\"1\" stroke=\"#000000\" stroke-opacity=\"1\" stroke-width=\"3.2\"/>\n",
       "<circle clip-path=\"url(#clip182)\" cx=\"457.424\" cy=\"715.554\" r=\"14\" fill=\"#e26f46\" fill-rule=\"evenodd\" fill-opacity=\"1\" stroke=\"#000000\" stroke-opacity=\"1\" stroke-width=\"3.2\"/>\n",
       "<circle clip-path=\"url(#clip182)\" cx=\"492.653\" cy=\"780.423\" r=\"14\" fill=\"#e26f46\" fill-rule=\"evenodd\" fill-opacity=\"1\" stroke=\"#000000\" stroke-opacity=\"1\" stroke-width=\"3.2\"/>\n",
       "<circle clip-path=\"url(#clip182)\" cx=\"527.882\" cy=\"842.276\" r=\"14\" fill=\"#e26f46\" fill-rule=\"evenodd\" fill-opacity=\"1\" stroke=\"#000000\" stroke-opacity=\"1\" stroke-width=\"3.2\"/>\n",
       "<circle clip-path=\"url(#clip182)\" cx=\"563.111\" cy=\"901.111\" r=\"14\" fill=\"#e26f46\" fill-rule=\"evenodd\" fill-opacity=\"1\" stroke=\"#000000\" stroke-opacity=\"1\" stroke-width=\"3.2\"/>\n",
       "<circle clip-path=\"url(#clip182)\" cx=\"598.34\" cy=\"956.93\" r=\"14\" fill=\"#e26f46\" fill-rule=\"evenodd\" fill-opacity=\"1\" stroke=\"#000000\" stroke-opacity=\"1\" stroke-width=\"3.2\"/>\n",
       "<circle clip-path=\"url(#clip182)\" cx=\"633.57\" cy=\"1009.73\" r=\"14\" fill=\"#e26f46\" fill-rule=\"evenodd\" fill-opacity=\"1\" stroke=\"#000000\" stroke-opacity=\"1\" stroke-width=\"3.2\"/>\n",
       "<circle clip-path=\"url(#clip182)\" cx=\"668.799\" cy=\"1059.51\" r=\"14\" fill=\"#e26f46\" fill-rule=\"evenodd\" fill-opacity=\"1\" stroke=\"#000000\" stroke-opacity=\"1\" stroke-width=\"3.2\"/>\n",
       "<circle clip-path=\"url(#clip182)\" cx=\"704.028\" cy=\"1106.28\" r=\"14\" fill=\"#e26f46\" fill-rule=\"evenodd\" fill-opacity=\"1\" stroke=\"#000000\" stroke-opacity=\"1\" stroke-width=\"3.2\"/>\n",
       "<circle clip-path=\"url(#clip182)\" cx=\"739.257\" cy=\"1150.03\" r=\"14\" fill=\"#e26f46\" fill-rule=\"evenodd\" fill-opacity=\"1\" stroke=\"#000000\" stroke-opacity=\"1\" stroke-width=\"3.2\"/>\n",
       "<circle clip-path=\"url(#clip182)\" cx=\"774.487\" cy=\"1190.76\" r=\"14\" fill=\"#e26f46\" fill-rule=\"evenodd\" fill-opacity=\"1\" stroke=\"#000000\" stroke-opacity=\"1\" stroke-width=\"3.2\"/>\n",
       "<circle clip-path=\"url(#clip182)\" cx=\"809.716\" cy=\"1228.48\" r=\"14\" fill=\"#e26f46\" fill-rule=\"evenodd\" fill-opacity=\"1\" stroke=\"#000000\" stroke-opacity=\"1\" stroke-width=\"3.2\"/>\n",
       "<circle clip-path=\"url(#clip182)\" cx=\"844.945\" cy=\"1263.18\" r=\"14\" fill=\"#e26f46\" fill-rule=\"evenodd\" fill-opacity=\"1\" stroke=\"#000000\" stroke-opacity=\"1\" stroke-width=\"3.2\"/>\n",
       "<circle clip-path=\"url(#clip182)\" cx=\"880.174\" cy=\"1294.86\" r=\"14\" fill=\"#e26f46\" fill-rule=\"evenodd\" fill-opacity=\"1\" stroke=\"#000000\" stroke-opacity=\"1\" stroke-width=\"3.2\"/>\n",
       "<circle clip-path=\"url(#clip182)\" cx=\"915.404\" cy=\"1323.52\" r=\"14\" fill=\"#e26f46\" fill-rule=\"evenodd\" fill-opacity=\"1\" stroke=\"#000000\" stroke-opacity=\"1\" stroke-width=\"3.2\"/>\n",
       "<circle clip-path=\"url(#clip182)\" cx=\"950.633\" cy=\"1349.17\" r=\"14\" fill=\"#e26f46\" fill-rule=\"evenodd\" fill-opacity=\"1\" stroke=\"#000000\" stroke-opacity=\"1\" stroke-width=\"3.2\"/>\n",
       "<circle clip-path=\"url(#clip182)\" cx=\"985.862\" cy=\"1371.79\" r=\"14\" fill=\"#e26f46\" fill-rule=\"evenodd\" fill-opacity=\"1\" stroke=\"#000000\" stroke-opacity=\"1\" stroke-width=\"3.2\"/>\n",
       "<circle clip-path=\"url(#clip182)\" cx=\"1021.09\" cy=\"1391.41\" r=\"14\" fill=\"#e26f46\" fill-rule=\"evenodd\" fill-opacity=\"1\" stroke=\"#000000\" stroke-opacity=\"1\" stroke-width=\"3.2\"/>\n",
       "<circle clip-path=\"url(#clip182)\" cx=\"1056.32\" cy=\"1408\" r=\"14\" fill=\"#e26f46\" fill-rule=\"evenodd\" fill-opacity=\"1\" stroke=\"#000000\" stroke-opacity=\"1\" stroke-width=\"3.2\"/>\n",
       "<circle clip-path=\"url(#clip182)\" cx=\"1091.55\" cy=\"1421.58\" r=\"14\" fill=\"#e26f46\" fill-rule=\"evenodd\" fill-opacity=\"1\" stroke=\"#000000\" stroke-opacity=\"1\" stroke-width=\"3.2\"/>\n",
       "<circle clip-path=\"url(#clip182)\" cx=\"1126.78\" cy=\"1432.14\" r=\"14\" fill=\"#e26f46\" fill-rule=\"evenodd\" fill-opacity=\"1\" stroke=\"#000000\" stroke-opacity=\"1\" stroke-width=\"3.2\"/>\n",
       "<circle clip-path=\"url(#clip182)\" cx=\"1162.01\" cy=\"1439.68\" r=\"14\" fill=\"#e26f46\" fill-rule=\"evenodd\" fill-opacity=\"1\" stroke=\"#000000\" stroke-opacity=\"1\" stroke-width=\"3.2\"/>\n",
       "<circle clip-path=\"url(#clip182)\" cx=\"1197.24\" cy=\"1444.21\" r=\"14\" fill=\"#e26f46\" fill-rule=\"evenodd\" fill-opacity=\"1\" stroke=\"#000000\" stroke-opacity=\"1\" stroke-width=\"3.2\"/>\n",
       "<circle clip-path=\"url(#clip182)\" cx=\"1232.47\" cy=\"1445.72\" r=\"14\" fill=\"#e26f46\" fill-rule=\"evenodd\" fill-opacity=\"1\" stroke=\"#000000\" stroke-opacity=\"1\" stroke-width=\"3.2\"/>\n",
       "<circle clip-path=\"url(#clip182)\" cx=\"1267.7\" cy=\"1444.21\" r=\"14\" fill=\"#e26f46\" fill-rule=\"evenodd\" fill-opacity=\"1\" stroke=\"#000000\" stroke-opacity=\"1\" stroke-width=\"3.2\"/>\n",
       "<circle clip-path=\"url(#clip182)\" cx=\"1302.92\" cy=\"1439.68\" r=\"14\" fill=\"#e26f46\" fill-rule=\"evenodd\" fill-opacity=\"1\" stroke=\"#000000\" stroke-opacity=\"1\" stroke-width=\"3.2\"/>\n",
       "<circle clip-path=\"url(#clip182)\" cx=\"1338.15\" cy=\"1432.14\" r=\"14\" fill=\"#e26f46\" fill-rule=\"evenodd\" fill-opacity=\"1\" stroke=\"#000000\" stroke-opacity=\"1\" stroke-width=\"3.2\"/>\n",
       "<circle clip-path=\"url(#clip182)\" cx=\"1373.38\" cy=\"1421.58\" r=\"14\" fill=\"#e26f46\" fill-rule=\"evenodd\" fill-opacity=\"1\" stroke=\"#000000\" stroke-opacity=\"1\" stroke-width=\"3.2\"/>\n",
       "<circle clip-path=\"url(#clip182)\" cx=\"1408.61\" cy=\"1408\" r=\"14\" fill=\"#e26f46\" fill-rule=\"evenodd\" fill-opacity=\"1\" stroke=\"#000000\" stroke-opacity=\"1\" stroke-width=\"3.2\"/>\n",
       "<circle clip-path=\"url(#clip182)\" cx=\"1443.84\" cy=\"1391.41\" r=\"14\" fill=\"#e26f46\" fill-rule=\"evenodd\" fill-opacity=\"1\" stroke=\"#000000\" stroke-opacity=\"1\" stroke-width=\"3.2\"/>\n",
       "<circle clip-path=\"url(#clip182)\" cx=\"1479.07\" cy=\"1371.79\" r=\"14\" fill=\"#e26f46\" fill-rule=\"evenodd\" fill-opacity=\"1\" stroke=\"#000000\" stroke-opacity=\"1\" stroke-width=\"3.2\"/>\n",
       "<circle clip-path=\"url(#clip182)\" cx=\"1514.3\" cy=\"1349.17\" r=\"14\" fill=\"#e26f46\" fill-rule=\"evenodd\" fill-opacity=\"1\" stroke=\"#000000\" stroke-opacity=\"1\" stroke-width=\"3.2\"/>\n",
       "<circle clip-path=\"url(#clip182)\" cx=\"1549.53\" cy=\"1323.52\" r=\"14\" fill=\"#e26f46\" fill-rule=\"evenodd\" fill-opacity=\"1\" stroke=\"#000000\" stroke-opacity=\"1\" stroke-width=\"3.2\"/>\n",
       "<circle clip-path=\"url(#clip182)\" cx=\"1584.76\" cy=\"1294.86\" r=\"14\" fill=\"#e26f46\" fill-rule=\"evenodd\" fill-opacity=\"1\" stroke=\"#000000\" stroke-opacity=\"1\" stroke-width=\"3.2\"/>\n",
       "<circle clip-path=\"url(#clip182)\" cx=\"1619.99\" cy=\"1263.18\" r=\"14\" fill=\"#e26f46\" fill-rule=\"evenodd\" fill-opacity=\"1\" stroke=\"#000000\" stroke-opacity=\"1\" stroke-width=\"3.2\"/>\n",
       "<circle clip-path=\"url(#clip182)\" cx=\"1655.22\" cy=\"1228.48\" r=\"14\" fill=\"#e26f46\" fill-rule=\"evenodd\" fill-opacity=\"1\" stroke=\"#000000\" stroke-opacity=\"1\" stroke-width=\"3.2\"/>\n",
       "<circle clip-path=\"url(#clip182)\" cx=\"1690.45\" cy=\"1190.76\" r=\"14\" fill=\"#e26f46\" fill-rule=\"evenodd\" fill-opacity=\"1\" stroke=\"#000000\" stroke-opacity=\"1\" stroke-width=\"3.2\"/>\n",
       "<circle clip-path=\"url(#clip182)\" cx=\"1725.68\" cy=\"1150.03\" r=\"14\" fill=\"#e26f46\" fill-rule=\"evenodd\" fill-opacity=\"1\" stroke=\"#000000\" stroke-opacity=\"1\" stroke-width=\"3.2\"/>\n",
       "<circle clip-path=\"url(#clip182)\" cx=\"1760.9\" cy=\"1106.28\" r=\"14\" fill=\"#e26f46\" fill-rule=\"evenodd\" fill-opacity=\"1\" stroke=\"#000000\" stroke-opacity=\"1\" stroke-width=\"3.2\"/>\n",
       "<circle clip-path=\"url(#clip182)\" cx=\"1796.13\" cy=\"1059.51\" r=\"14\" fill=\"#e26f46\" fill-rule=\"evenodd\" fill-opacity=\"1\" stroke=\"#000000\" stroke-opacity=\"1\" stroke-width=\"3.2\"/>\n",
       "<circle clip-path=\"url(#clip182)\" cx=\"1831.36\" cy=\"1009.73\" r=\"14\" fill=\"#e26f46\" fill-rule=\"evenodd\" fill-opacity=\"1\" stroke=\"#000000\" stroke-opacity=\"1\" stroke-width=\"3.2\"/>\n",
       "<circle clip-path=\"url(#clip182)\" cx=\"1866.59\" cy=\"956.93\" r=\"14\" fill=\"#e26f46\" fill-rule=\"evenodd\" fill-opacity=\"1\" stroke=\"#000000\" stroke-opacity=\"1\" stroke-width=\"3.2\"/>\n",
       "<circle clip-path=\"url(#clip182)\" cx=\"1901.82\" cy=\"901.111\" r=\"14\" fill=\"#e26f46\" fill-rule=\"evenodd\" fill-opacity=\"1\" stroke=\"#000000\" stroke-opacity=\"1\" stroke-width=\"3.2\"/>\n",
       "<circle clip-path=\"url(#clip182)\" cx=\"1937.05\" cy=\"842.276\" r=\"14\" fill=\"#e26f46\" fill-rule=\"evenodd\" fill-opacity=\"1\" stroke=\"#000000\" stroke-opacity=\"1\" stroke-width=\"3.2\"/>\n",
       "<circle clip-path=\"url(#clip182)\" cx=\"1972.28\" cy=\"780.423\" r=\"14\" fill=\"#e26f46\" fill-rule=\"evenodd\" fill-opacity=\"1\" stroke=\"#000000\" stroke-opacity=\"1\" stroke-width=\"3.2\"/>\n",
       "<circle clip-path=\"url(#clip182)\" cx=\"2007.51\" cy=\"715.554\" r=\"14\" fill=\"#e26f46\" fill-rule=\"evenodd\" fill-opacity=\"1\" stroke=\"#000000\" stroke-opacity=\"1\" stroke-width=\"3.2\"/>\n",
       "<circle clip-path=\"url(#clip182)\" cx=\"2042.74\" cy=\"647.667\" r=\"14\" fill=\"#e26f46\" fill-rule=\"evenodd\" fill-opacity=\"1\" stroke=\"#000000\" stroke-opacity=\"1\" stroke-width=\"3.2\"/>\n",
       "<circle clip-path=\"url(#clip182)\" cx=\"2077.97\" cy=\"576.762\" r=\"14\" fill=\"#e26f46\" fill-rule=\"evenodd\" fill-opacity=\"1\" stroke=\"#000000\" stroke-opacity=\"1\" stroke-width=\"3.2\"/>\n",
       "<circle clip-path=\"url(#clip182)\" cx=\"2113.2\" cy=\"502.841\" r=\"14\" fill=\"#e26f46\" fill-rule=\"evenodd\" fill-opacity=\"1\" stroke=\"#000000\" stroke-opacity=\"1\" stroke-width=\"3.2\"/>\n",
       "<circle clip-path=\"url(#clip182)\" cx=\"2148.43\" cy=\"425.903\" r=\"14\" fill=\"#e26f46\" fill-rule=\"evenodd\" fill-opacity=\"1\" stroke=\"#000000\" stroke-opacity=\"1\" stroke-width=\"3.2\"/>\n",
       "<circle clip-path=\"url(#clip182)\" cx=\"2183.66\" cy=\"345.947\" r=\"14\" fill=\"#e26f46\" fill-rule=\"evenodd\" fill-opacity=\"1\" stroke=\"#000000\" stroke-opacity=\"1\" stroke-width=\"3.2\"/>\n",
       "<circle clip-path=\"url(#clip182)\" cx=\"2218.88\" cy=\"262.974\" r=\"14\" fill=\"#e26f46\" fill-rule=\"evenodd\" fill-opacity=\"1\" stroke=\"#000000\" stroke-opacity=\"1\" stroke-width=\"3.2\"/>\n",
       "<circle clip-path=\"url(#clip182)\" cx=\"2254.11\" cy=\"176.984\" r=\"14\" fill=\"#e26f46\" fill-rule=\"evenodd\" fill-opacity=\"1\" stroke=\"#000000\" stroke-opacity=\"1\" stroke-width=\"3.2\"/>\n",
       "<circle clip-path=\"url(#clip182)\" cx=\"2289.34\" cy=\"87.9763\" r=\"14\" fill=\"#e26f46\" fill-rule=\"evenodd\" fill-opacity=\"1\" stroke=\"#000000\" stroke-opacity=\"1\" stroke-width=\"3.2\"/>\n",
       "<path clip-path=\"url(#clip180)\" d=\"\n",
       "M1892.03 312.204 L2280.76 312.204 L2280.76 130.764 L1892.03 130.764  Z\n",
       "  \" fill=\"#ffffff\" fill-rule=\"evenodd\" fill-opacity=\"1\"/>\n",
       "<polyline clip-path=\"url(#clip180)\" style=\"stroke:#000000; stroke-width:4; stroke-opacity:1; fill:none\" points=\"\n",
       "  1892.03,312.204 2280.76,312.204 2280.76,130.764 1892.03,130.764 1892.03,312.204 \n",
       "  \"/>\n",
       "<polyline clip-path=\"url(#clip180)\" style=\"stroke:#009af9; stroke-width:4; stroke-opacity:1; fill:none\" points=\"\n",
       "  1916.03,191.244 2060.03,191.244 \n",
       "  \"/>\n",
       "<path clip-path=\"url(#clip180)\" d=\"M 0 0 M2084.03 172.506 L2088.29 172.506 L2088.29 208.524 L2084.03 208.524 L2084.03 172.506 Z\" fill=\"#000000\" fill-rule=\"evenodd\" fill-opacity=\"1\" /><path clip-path=\"url(#clip180)\" d=\"M 0 0 M2092.76 182.598 L2097.02 182.598 L2097.02 208.524 L2092.76 208.524 L2092.76 182.598 M2092.76 172.506 L2097.02 172.506 L2097.02 177.899 L2092.76 177.899 L2092.76 172.506 Z\" fill=\"#000000\" fill-rule=\"evenodd\" fill-opacity=\"1\" /><path clip-path=\"url(#clip180)\" d=\"M 0 0 M2123.03 192.876 L2123.03 208.524 L2118.78 208.524 L2118.78 193.015 Q2118.78 189.334 2117.34 187.506 Q2115.9 185.677 2113.03 185.677 Q2109.59 185.677 2107.59 187.876 Q2105.6 190.075 2105.6 193.871 L2105.6 208.524 L2101.32 208.524 L2101.32 182.598 L2105.6 182.598 L2105.6 186.626 Q2107.13 184.288 2109.19 183.131 Q2111.28 181.973 2113.98 181.973 Q2118.45 181.973 2120.74 184.751 Q2123.03 187.506 2123.03 192.876 Z\" fill=\"#000000\" fill-rule=\"evenodd\" fill-opacity=\"1\" /><path clip-path=\"url(#clip180)\" d=\"M 0 0 M2149.68 194.496 L2149.68 196.58 L2130.09 196.58 Q2130.37 200.978 2132.73 203.293 Q2135.12 205.584 2139.35 205.584 Q2141.81 205.584 2144.1 204.982 Q2146.41 204.381 2148.68 203.177 L2148.68 207.205 Q2146.39 208.177 2143.98 208.686 Q2141.58 209.195 2139.1 209.195 Q2132.9 209.195 2129.26 205.584 Q2125.65 201.973 2125.65 195.816 Q2125.65 189.45 2129.08 185.723 Q2132.52 181.973 2138.36 181.973 Q2143.59 181.973 2146.62 185.353 Q2149.68 188.709 2149.68 194.496 M2145.42 193.246 Q2145.37 189.751 2143.45 187.668 Q2141.55 185.584 2138.4 185.584 Q2134.84 185.584 2132.69 187.598 Q2130.56 189.612 2130.23 193.27 L2145.42 193.246 Z\" fill=\"#000000\" fill-rule=\"evenodd\" fill-opacity=\"1\" /><path clip-path=\"url(#clip180)\" d=\"M 0 0 M2170.67 183.362 L2170.67 187.39 Q2168.87 186.464 2166.92 186.001 Q2164.98 185.538 2162.9 185.538 Q2159.72 185.538 2158.13 186.51 Q2156.55 187.483 2156.55 189.427 Q2156.55 190.908 2157.69 191.765 Q2158.82 192.598 2162.25 193.362 L2163.71 193.686 Q2168.24 194.658 2170.14 196.441 Q2172.06 198.2 2172.06 201.371 Q2172.06 204.982 2169.19 207.089 Q2166.34 209.195 2161.34 209.195 Q2159.26 209.195 2156.99 208.779 Q2154.75 208.385 2152.25 207.575 L2152.25 203.177 Q2154.61 204.404 2156.9 205.029 Q2159.19 205.631 2161.44 205.631 Q2164.45 205.631 2166.07 204.612 Q2167.69 203.57 2167.69 201.695 Q2167.69 199.959 2166.51 199.033 Q2165.35 198.107 2161.39 197.251 L2159.91 196.904 Q2155.95 196.07 2154.19 194.358 Q2152.43 192.621 2152.43 189.612 Q2152.43 185.955 2155.02 183.964 Q2157.62 181.973 2162.39 181.973 Q2164.75 181.973 2166.83 182.321 Q2168.91 182.668 2170.67 183.362 Z\" fill=\"#000000\" fill-rule=\"evenodd\" fill-opacity=\"1\" /><circle clip-path=\"url(#clip180)\" cx=\"2000.03\" cy=\"251.724\" r=\"23\" fill=\"#e26f46\" fill-rule=\"evenodd\" fill-opacity=\"1\" stroke=\"#000000\" stroke-opacity=\"1\" stroke-width=\"5.12\"/>\n",
       "<path clip-path=\"url(#clip180)\" d=\"M 0 0 M2102.46 243.842 L2102.46 247.87 Q2100.65 246.944 2098.71 246.481 Q2096.76 246.018 2094.68 246.018 Q2091.51 246.018 2089.91 246.99 Q2088.34 247.963 2088.34 249.907 Q2088.34 251.388 2089.47 252.245 Q2090.6 253.078 2094.03 253.842 L2095.49 254.166 Q2100.03 255.138 2101.92 256.921 Q2103.84 258.68 2103.84 261.851 Q2103.84 265.462 2100.97 267.569 Q2098.13 269.675 2093.13 269.675 Q2091.04 269.675 2088.78 269.259 Q2086.53 268.865 2084.03 268.055 L2084.03 263.657 Q2086.39 264.884 2088.68 265.509 Q2090.97 266.111 2093.22 266.111 Q2096.23 266.111 2097.85 265.092 Q2099.47 264.05 2099.47 262.175 Q2099.47 260.439 2098.29 259.513 Q2097.13 258.587 2093.17 257.731 L2091.69 257.384 Q2087.73 256.55 2085.97 254.838 Q2084.22 253.101 2084.22 250.092 Q2084.22 246.435 2086.81 244.444 Q2089.4 242.453 2094.17 242.453 Q2096.53 242.453 2098.61 242.801 Q2100.7 243.148 2102.46 243.842 Z\" fill=\"#000000\" fill-rule=\"evenodd\" fill-opacity=\"1\" /><path clip-path=\"url(#clip180)\" d=\"M 0 0 M2126.97 244.074 L2126.97 248.055 Q2125.16 247.06 2123.34 246.574 Q2121.53 246.064 2119.68 246.064 Q2115.53 246.064 2113.24 248.703 Q2110.95 251.319 2110.95 256.064 Q2110.95 260.81 2113.24 263.449 Q2115.53 266.064 2119.68 266.064 Q2121.53 266.064 2123.34 265.578 Q2125.16 265.069 2126.97 264.074 L2126.97 268.009 Q2125.19 268.842 2123.27 269.259 Q2121.37 269.675 2119.21 269.675 Q2113.36 269.675 2109.91 265.995 Q2106.46 262.314 2106.46 256.064 Q2106.46 249.722 2109.93 246.088 Q2113.43 242.453 2119.49 242.453 Q2121.46 242.453 2123.34 242.87 Q2125.21 243.263 2126.97 244.074 Z\" fill=\"#000000\" fill-rule=\"evenodd\" fill-opacity=\"1\" /><path clip-path=\"url(#clip180)\" d=\"M 0 0 M2143.22 255.972 Q2138.06 255.972 2136.07 257.152 Q2134.08 258.333 2134.08 261.18 Q2134.08 263.449 2135.56 264.791 Q2137.06 266.111 2139.63 266.111 Q2143.17 266.111 2145.3 263.611 Q2147.46 261.087 2147.46 256.921 L2147.46 255.972 L2143.22 255.972 M2151.71 254.213 L2151.71 269.004 L2147.46 269.004 L2147.46 265.069 Q2146 267.43 2143.82 268.564 Q2141.65 269.675 2138.5 269.675 Q2134.52 269.675 2132.15 267.453 Q2129.82 265.208 2129.82 261.458 Q2129.82 257.083 2132.73 254.861 Q2135.67 252.638 2141.48 252.638 L2147.46 252.638 L2147.46 252.222 Q2147.46 249.282 2145.51 247.685 Q2143.59 246.064 2140.09 246.064 Q2137.87 246.064 2135.77 246.597 Q2133.66 247.129 2131.71 248.194 L2131.71 244.259 Q2134.05 243.356 2136.25 242.916 Q2138.45 242.453 2140.53 242.453 Q2146.16 242.453 2148.94 245.37 Q2151.71 248.287 2151.71 254.213 Z\" fill=\"#000000\" fill-rule=\"evenodd\" fill-opacity=\"1\" /><path clip-path=\"url(#clip180)\" d=\"M 0 0 M2160.4 235.717 L2160.4 243.078 L2169.17 243.078 L2169.17 246.388 L2160.4 246.388 L2160.4 260.462 Q2160.4 263.634 2161.25 264.537 Q2162.13 265.439 2164.79 265.439 L2169.17 265.439 L2169.17 269.004 L2164.79 269.004 Q2159.86 269.004 2157.99 267.175 Q2156.11 265.324 2156.11 260.462 L2156.11 246.388 L2152.99 246.388 L2152.99 243.078 L2156.11 243.078 L2156.11 235.717 L2160.4 235.717 Z\" fill=\"#000000\" fill-rule=\"evenodd\" fill-opacity=\"1\" /><path clip-path=\"url(#clip180)\" d=\"M 0 0 M2177.85 235.717 L2177.85 243.078 L2186.62 243.078 L2186.62 246.388 L2177.85 246.388 L2177.85 260.462 Q2177.85 263.634 2178.71 264.537 Q2179.58 265.439 2182.25 265.439 L2186.62 265.439 L2186.62 269.004 L2182.25 269.004 Q2177.32 269.004 2175.44 267.175 Q2173.57 265.324 2173.57 260.462 L2173.57 246.388 L2170.44 246.388 L2170.44 243.078 L2173.57 243.078 L2173.57 235.717 L2177.85 235.717 Z\" fill=\"#000000\" fill-rule=\"evenodd\" fill-opacity=\"1\" /><path clip-path=\"url(#clip180)\" d=\"M 0 0 M2213.27 254.976 L2213.27 257.06 L2193.68 257.06 Q2193.96 261.458 2196.32 263.773 Q2198.71 266.064 2202.94 266.064 Q2205.39 266.064 2207.69 265.462 Q2210 264.861 2212.27 263.657 L2212.27 267.685 Q2209.98 268.657 2207.57 269.166 Q2205.16 269.675 2202.69 269.675 Q2196.48 269.675 2192.85 266.064 Q2189.24 262.453 2189.24 256.296 Q2189.24 249.93 2192.66 246.203 Q2196.11 242.453 2201.95 242.453 Q2207.18 242.453 2210.21 245.833 Q2213.27 249.189 2213.27 254.976 M2209.01 253.726 Q2208.96 250.231 2207.04 248.148 Q2205.14 246.064 2201.99 246.064 Q2198.43 246.064 2196.27 248.078 Q2194.15 250.092 2193.82 253.75 L2209.01 253.726 Z\" fill=\"#000000\" fill-rule=\"evenodd\" fill-opacity=\"1\" /><path clip-path=\"url(#clip180)\" d=\"M 0 0 M2232.76 247.06 Q2232.04 246.643 2231.18 246.458 Q2230.35 246.25 2229.33 246.25 Q2225.72 246.25 2223.77 248.611 Q2221.85 250.949 2221.85 255.347 L2221.85 269.004 L2217.57 269.004 L2217.57 243.078 L2221.85 243.078 L2221.85 247.106 Q2223.2 244.745 2225.35 243.611 Q2227.5 242.453 2230.58 242.453 Q2231.02 242.453 2231.55 242.523 Q2232.08 242.569 2232.73 242.685 L2232.76 247.06 Z\" fill=\"#000000\" fill-rule=\"evenodd\" fill-opacity=\"1\" /></svg>\n"
      ]
     },
     "execution_count": 49,
     "metadata": {},
     "output_type": "execute_result"
    }
   ],
   "source": [
    "using Plots\n",
    "\n",
    "# Using GR backend\n",
    "gr()\n",
    "\n",
    "x = -3:0.1:3\n",
    "f(x) = x^2\n",
    "\n",
    "y = f.(x)\n",
    "\n",
    "plot(x, y, label=\"lines\")\n",
    "scatter!(x, y, label=\"scatter\")"
   ]
  },
  {
   "cell_type": "code",
   "execution_count": 50,
   "metadata": {},
   "outputs": [
    {
     "data": {
      "image/svg+xml": [
       "<?xml version=\"1.0\" encoding=\"utf-8\"?>\n",
       "<svg xmlns=\"http://www.w3.org/2000/svg\" xmlns:xlink=\"http://www.w3.org/1999/xlink\" width=\"600\" height=\"400\" viewBox=\"0 0 2400 1600\">\n",
       "<defs>\n",
       "  <clipPath id=\"clip220\">\n",
       "    <rect x=\"0\" y=\"0\" width=\"2400\" height=\"1600\"/>\n",
       "  </clipPath>\n",
       "</defs>\n",
       "<path clip-path=\"url(#clip220)\" d=\"\n",
       "M0 1600 L2400 1600 L2400 0 L0 0  Z\n",
       "  \" fill=\"#ffffff\" fill-rule=\"evenodd\" fill-opacity=\"1\"/>\n",
       "<defs>\n",
       "  <clipPath id=\"clip221\">\n",
       "    <rect x=\"480\" y=\"0\" width=\"1681\" height=\"1600\"/>\n",
       "  </clipPath>\n",
       "</defs>\n",
       "<path clip-path=\"url(#clip220)\" d=\"\n",
       "M278.986 1423.18 L2352.76 1423.18 L2352.76 123.472 L278.986 123.472  Z\n",
       "  \" fill=\"#ffffff\" fill-rule=\"evenodd\" fill-opacity=\"1\"/>\n",
       "<defs>\n",
       "  <clipPath id=\"clip222\">\n",
       "    <rect x=\"278\" y=\"123\" width=\"2075\" height=\"1301\"/>\n",
       "  </clipPath>\n",
       "</defs>\n",
       "<polyline clip-path=\"url(#clip222)\" style=\"stroke:#000000; stroke-width:2; stroke-opacity:0.1; fill:none\" points=\"\n",
       "  2154.32,1423.18 2154.32,123.472 \n",
       "  \"/>\n",
       "<polyline clip-path=\"url(#clip222)\" style=\"stroke:#000000; stroke-width:2; stroke-opacity:0.1; fill:none\" points=\"\n",
       "  1804.97,1423.18 1804.97,123.472 \n",
       "  \"/>\n",
       "<polyline clip-path=\"url(#clip222)\" style=\"stroke:#000000; stroke-width:2; stroke-opacity:0.1; fill:none\" points=\"\n",
       "  1455.61,1423.18 1455.61,123.472 \n",
       "  \"/>\n",
       "<polyline clip-path=\"url(#clip222)\" style=\"stroke:#000000; stroke-width:2; stroke-opacity:0.1; fill:none\" points=\"\n",
       "  1106.26,1423.18 1106.26,123.472 \n",
       "  \"/>\n",
       "<polyline clip-path=\"url(#clip222)\" style=\"stroke:#000000; stroke-width:2; stroke-opacity:0.1; fill:none\" points=\"\n",
       "  756.904,1423.18 756.904,123.472 \n",
       "  \"/>\n",
       "<polyline clip-path=\"url(#clip222)\" style=\"stroke:#000000; stroke-width:2; stroke-opacity:0.1; fill:none\" points=\"\n",
       "  407.549,1423.18 407.549,123.472 \n",
       "  \"/>\n",
       "<polyline clip-path=\"url(#clip222)\" style=\"stroke:#000000; stroke-width:2; stroke-opacity:0.1; fill:none\" points=\"\n",
       "  2352.76,1386.86 278.986,1386.86 \n",
       "  \"/>\n",
       "<polyline clip-path=\"url(#clip222)\" style=\"stroke:#000000; stroke-width:2; stroke-opacity:0.1; fill:none\" points=\"\n",
       "  2352.76,1114.28 278.986,1114.28 \n",
       "  \"/>\n",
       "<polyline clip-path=\"url(#clip222)\" style=\"stroke:#000000; stroke-width:2; stroke-opacity:0.1; fill:none\" points=\"\n",
       "  2352.76,841.702 278.986,841.702 \n",
       "  \"/>\n",
       "<polyline clip-path=\"url(#clip222)\" style=\"stroke:#000000; stroke-width:2; stroke-opacity:0.1; fill:none\" points=\"\n",
       "  2352.76,569.124 278.986,569.124 \n",
       "  \"/>\n",
       "<polyline clip-path=\"url(#clip222)\" style=\"stroke:#000000; stroke-width:2; stroke-opacity:0.1; fill:none\" points=\"\n",
       "  2352.76,296.545 278.986,296.545 \n",
       "  \"/>\n",
       "<polyline clip-path=\"url(#clip220)\" style=\"stroke:#000000; stroke-width:4; stroke-opacity:1; fill:none\" points=\"\n",
       "  2352.76,1423.18 278.986,1423.18 \n",
       "  \"/>\n",
       "<polyline clip-path=\"url(#clip220)\" style=\"stroke:#000000; stroke-width:4; stroke-opacity:1; fill:none\" points=\"\n",
       "  278.986,1423.18 278.986,123.472 \n",
       "  \"/>\n",
       "<polyline clip-path=\"url(#clip220)\" style=\"stroke:#000000; stroke-width:4; stroke-opacity:1; fill:none\" points=\"\n",
       "  2154.32,1423.18 2154.32,1407.58 \n",
       "  \"/>\n",
       "<polyline clip-path=\"url(#clip220)\" style=\"stroke:#000000; stroke-width:4; stroke-opacity:1; fill:none\" points=\"\n",
       "  1804.97,1423.18 1804.97,1407.58 \n",
       "  \"/>\n",
       "<polyline clip-path=\"url(#clip220)\" style=\"stroke:#000000; stroke-width:4; stroke-opacity:1; fill:none\" points=\"\n",
       "  1455.61,1423.18 1455.61,1407.58 \n",
       "  \"/>\n",
       "<polyline clip-path=\"url(#clip220)\" style=\"stroke:#000000; stroke-width:4; stroke-opacity:1; fill:none\" points=\"\n",
       "  1106.26,1423.18 1106.26,1407.58 \n",
       "  \"/>\n",
       "<polyline clip-path=\"url(#clip220)\" style=\"stroke:#000000; stroke-width:4; stroke-opacity:1; fill:none\" points=\"\n",
       "  756.904,1423.18 756.904,1407.58 \n",
       "  \"/>\n",
       "<polyline clip-path=\"url(#clip220)\" style=\"stroke:#000000; stroke-width:4; stroke-opacity:1; fill:none\" points=\"\n",
       "  407.549,1423.18 407.549,1407.58 \n",
       "  \"/>\n",
       "<polyline clip-path=\"url(#clip220)\" style=\"stroke:#000000; stroke-width:4; stroke-opacity:1; fill:none\" points=\"\n",
       "  278.986,1386.86 303.872,1386.86 \n",
       "  \"/>\n",
       "<polyline clip-path=\"url(#clip220)\" style=\"stroke:#000000; stroke-width:4; stroke-opacity:1; fill:none\" points=\"\n",
       "  278.986,1114.28 303.872,1114.28 \n",
       "  \"/>\n",
       "<polyline clip-path=\"url(#clip220)\" style=\"stroke:#000000; stroke-width:4; stroke-opacity:1; fill:none\" points=\"\n",
       "  278.986,841.702 303.872,841.702 \n",
       "  \"/>\n",
       "<polyline clip-path=\"url(#clip220)\" style=\"stroke:#000000; stroke-width:4; stroke-opacity:1; fill:none\" points=\"\n",
       "  278.986,569.124 303.872,569.124 \n",
       "  \"/>\n",
       "<polyline clip-path=\"url(#clip220)\" style=\"stroke:#000000; stroke-width:4; stroke-opacity:1; fill:none\" points=\"\n",
       "  278.986,296.545 303.872,296.545 \n",
       "  \"/>\n",
       "<path clip-path=\"url(#clip220)\" d=\"M 0 0 M2099.46 1472.72 L2107.1 1472.72 L2107.1 1446.35 L2098.79 1448.02 L2098.79 1443.76 L2107.05 1442.09 L2111.73 1442.09 L2111.73 1472.72 L2119.37 1472.72 L2119.37 1476.65 L2099.46 1476.65 L2099.46 1472.72 Z\" fill=\"#000000\" fill-rule=\"evenodd\" fill-opacity=\"1\" /><path clip-path=\"url(#clip220)\" d=\"M 0 0 M2137.29 1446.17 L2125.48 1464.61 L2137.29 1464.61 L2137.29 1446.17 M2136.06 1442.09 L2141.94 1442.09 L2141.94 1464.61 L2146.87 1464.61 L2146.87 1468.5 L2141.94 1468.5 L2141.94 1476.65 L2137.29 1476.65 L2137.29 1468.5 L2121.68 1468.5 L2121.68 1463.99 L2136.06 1442.09 Z\" fill=\"#000000\" fill-rule=\"evenodd\" fill-opacity=\"1\" /><path clip-path=\"url(#clip220)\" d=\"M 0 0 M2151.94 1470.77 L2156.82 1470.77 L2156.82 1476.65 L2151.94 1476.65 L2151.94 1470.77 Z\" fill=\"#000000\" fill-rule=\"evenodd\" fill-opacity=\"1\" /><path clip-path=\"url(#clip220)\" d=\"M 0 0 M2161.94 1442.09 L2180.29 1442.09 L2180.29 1446.03 L2166.22 1446.03 L2166.22 1454.5 Q2167.24 1454.15 2168.26 1453.99 Q2169.28 1453.8 2170.29 1453.8 Q2176.08 1453.8 2179.46 1456.98 Q2182.84 1460.15 2182.84 1465.56 Q2182.84 1471.14 2179.37 1474.24 Q2175.9 1477.32 2169.58 1477.32 Q2167.4 1477.32 2165.13 1476.95 Q2162.89 1476.58 2160.48 1475.84 L2160.48 1471.14 Q2162.56 1472.28 2164.79 1472.83 Q2167.01 1473.39 2169.48 1473.39 Q2173.49 1473.39 2175.83 1471.28 Q2178.16 1469.18 2178.16 1465.56 Q2178.16 1461.95 2175.83 1459.85 Q2173.49 1457.74 2169.48 1457.74 Q2167.61 1457.74 2165.73 1458.16 Q2163.88 1458.57 2161.94 1459.45 L2161.94 1442.09 Z\" fill=\"#000000\" fill-rule=\"evenodd\" fill-opacity=\"1\" /><path clip-path=\"url(#clip220)\" d=\"M 0 0 M2197.91 1445.17 Q2194.3 1445.17 2192.47 1448.74 Q2190.66 1452.28 2190.66 1459.41 Q2190.66 1466.51 2192.47 1470.08 Q2194.3 1473.62 2197.91 1473.62 Q2201.54 1473.62 2203.35 1470.08 Q2205.18 1466.51 2205.18 1459.41 Q2205.18 1452.28 2203.35 1448.74 Q2201.54 1445.17 2197.91 1445.17 M2197.91 1441.47 Q2203.72 1441.47 2206.78 1446.07 Q2209.85 1450.66 2209.85 1459.41 Q2209.85 1468.13 2206.78 1472.74 Q2203.72 1477.32 2197.91 1477.32 Q2192.1 1477.32 2189.02 1472.74 Q2185.97 1468.13 2185.97 1459.41 Q2185.97 1450.66 2189.02 1446.07 Q2192.1 1441.47 2197.91 1441.47 Z\" fill=\"#000000\" fill-rule=\"evenodd\" fill-opacity=\"1\" /><path clip-path=\"url(#clip220)\" d=\"M 0 0 M1750.56 1472.72 L1758.2 1472.72 L1758.2 1446.35 L1749.89 1448.02 L1749.89 1443.76 L1758.15 1442.09 L1762.83 1442.09 L1762.83 1472.72 L1770.47 1472.72 L1770.47 1476.65 L1750.56 1476.65 L1750.56 1472.72 Z\" fill=\"#000000\" fill-rule=\"evenodd\" fill-opacity=\"1\" /><path clip-path=\"url(#clip220)\" d=\"M 0 0 M1788.38 1446.17 L1776.58 1464.61 L1788.38 1464.61 L1788.38 1446.17 M1787.16 1442.09 L1793.03 1442.09 L1793.03 1464.61 L1797.97 1464.61 L1797.97 1468.5 L1793.03 1468.5 L1793.03 1476.65 L1788.38 1476.65 L1788.38 1468.5 L1772.78 1468.5 L1772.78 1463.99 L1787.16 1442.09 Z\" fill=\"#000000\" fill-rule=\"evenodd\" fill-opacity=\"1\" /><path clip-path=\"url(#clip220)\" d=\"M 0 0 M1803.03 1470.77 L1807.92 1470.77 L1807.92 1476.65 L1803.03 1476.65 L1803.03 1470.77 Z\" fill=\"#000000\" fill-rule=\"evenodd\" fill-opacity=\"1\" /><path clip-path=\"url(#clip220)\" d=\"M 0 0 M1811.81 1442.09 L1834.03 1442.09 L1834.03 1444.08 L1821.48 1476.65 L1816.6 1476.65 L1828.41 1446.03 L1811.81 1446.03 L1811.81 1442.09 Z\" fill=\"#000000\" fill-rule=\"evenodd\" fill-opacity=\"1\" /><path clip-path=\"url(#clip220)\" d=\"M 0 0 M1839.15 1442.09 L1857.5 1442.09 L1857.5 1446.03 L1843.43 1446.03 L1843.43 1454.5 Q1844.45 1454.15 1845.47 1453.99 Q1846.48 1453.8 1847.5 1453.8 Q1853.29 1453.8 1856.67 1456.98 Q1860.05 1460.15 1860.05 1465.56 Q1860.05 1471.14 1856.58 1474.24 Q1853.1 1477.32 1846.78 1477.32 Q1844.61 1477.32 1842.34 1476.95 Q1840.09 1476.58 1837.69 1475.84 L1837.69 1471.14 Q1839.77 1472.28 1841.99 1472.83 Q1844.22 1473.39 1846.69 1473.39 Q1850.7 1473.39 1853.03 1471.28 Q1855.37 1469.18 1855.37 1465.56 Q1855.37 1461.95 1853.03 1459.85 Q1850.7 1457.74 1846.69 1457.74 Q1844.82 1457.74 1842.94 1458.16 Q1841.09 1458.57 1839.15 1459.45 L1839.15 1442.09 Z\" fill=\"#000000\" fill-rule=\"evenodd\" fill-opacity=\"1\" /><path clip-path=\"url(#clip220)\" d=\"M 0 0 M1401 1472.72 L1408.63 1472.72 L1408.63 1446.35 L1400.32 1448.02 L1400.32 1443.76 L1408.59 1442.09 L1413.26 1442.09 L1413.26 1472.72 L1420.9 1472.72 L1420.9 1476.65 L1401 1476.65 L1401 1472.72 Z\" fill=\"#000000\" fill-rule=\"evenodd\" fill-opacity=\"1\" /><path clip-path=\"url(#clip220)\" d=\"M 0 0 M1426.02 1442.09 L1444.37 1442.09 L1444.37 1446.03 L1430.3 1446.03 L1430.3 1454.5 Q1431.32 1454.15 1432.34 1453.99 Q1433.36 1453.8 1434.37 1453.8 Q1440.16 1453.8 1443.54 1456.98 Q1446.92 1460.15 1446.92 1465.56 Q1446.92 1471.14 1443.45 1474.24 Q1439.98 1477.32 1433.66 1477.32 Q1431.48 1477.32 1429.21 1476.95 Q1426.97 1476.58 1424.56 1475.84 L1424.56 1471.14 Q1426.64 1472.28 1428.87 1472.83 Q1431.09 1473.39 1433.56 1473.39 Q1437.57 1473.39 1439.91 1471.28 Q1442.25 1469.18 1442.25 1465.56 Q1442.25 1461.95 1439.91 1459.85 Q1437.57 1457.74 1433.56 1457.74 Q1431.69 1457.74 1429.81 1458.16 Q1427.96 1458.57 1426.02 1459.45 L1426.02 1442.09 Z\" fill=\"#000000\" fill-rule=\"evenodd\" fill-opacity=\"1\" /><path clip-path=\"url(#clip220)\" d=\"M 0 0 M1451.99 1470.77 L1456.87 1470.77 L1456.87 1476.65 L1451.99 1476.65 L1451.99 1470.77 Z\" fill=\"#000000\" fill-rule=\"evenodd\" fill-opacity=\"1\" /><path clip-path=\"url(#clip220)\" d=\"M 0 0 M1471.94 1445.17 Q1468.33 1445.17 1466.5 1448.74 Q1464.7 1452.28 1464.7 1459.41 Q1464.7 1466.51 1466.5 1470.08 Q1468.33 1473.62 1471.94 1473.62 Q1475.58 1473.62 1477.38 1470.08 Q1479.21 1466.51 1479.21 1459.41 Q1479.21 1452.28 1477.38 1448.74 Q1475.58 1445.17 1471.94 1445.17 M1471.94 1441.47 Q1477.75 1441.47 1480.81 1446.07 Q1483.89 1450.66 1483.89 1459.41 Q1483.89 1468.13 1480.81 1472.74 Q1477.75 1477.32 1471.94 1477.32 Q1466.13 1477.32 1463.06 1472.74 Q1460 1468.13 1460 1459.41 Q1460 1450.66 1463.06 1446.07 Q1466.13 1441.47 1471.94 1441.47 Z\" fill=\"#000000\" fill-rule=\"evenodd\" fill-opacity=\"1\" /><path clip-path=\"url(#clip220)\" d=\"M 0 0 M1498.96 1445.17 Q1495.35 1445.17 1493.52 1448.74 Q1491.71 1452.28 1491.71 1459.41 Q1491.71 1466.51 1493.52 1470.08 Q1495.35 1473.62 1498.96 1473.62 Q1502.59 1473.62 1504.4 1470.08 Q1506.23 1466.51 1506.23 1459.41 Q1506.23 1452.28 1504.4 1448.74 Q1502.59 1445.17 1498.96 1445.17 M1498.96 1441.47 Q1504.77 1441.47 1507.82 1446.07 Q1510.9 1450.66 1510.9 1459.41 Q1510.9 1468.13 1507.82 1472.74 Q1504.77 1477.32 1498.96 1477.32 Q1493.15 1477.32 1490.07 1472.74 Q1487.01 1468.13 1487.01 1459.41 Q1487.01 1450.66 1490.07 1446.07 Q1493.15 1441.47 1498.96 1441.47 Z\" fill=\"#000000\" fill-rule=\"evenodd\" fill-opacity=\"1\" /><path clip-path=\"url(#clip220)\" d=\"M 0 0 M1052.94 1472.72 L1060.58 1472.72 L1060.58 1446.35 L1052.27 1448.02 L1052.27 1443.76 L1060.53 1442.09 L1065.21 1442.09 L1065.21 1472.72 L1072.84 1472.72 L1072.84 1476.65 L1052.94 1476.65 L1052.94 1472.72 Z\" fill=\"#000000\" fill-rule=\"evenodd\" fill-opacity=\"1\" /><path clip-path=\"url(#clip220)\" d=\"M 0 0 M1077.96 1442.09 L1096.32 1442.09 L1096.32 1446.03 L1082.24 1446.03 L1082.24 1454.5 Q1083.26 1454.15 1084.28 1453.99 Q1085.3 1453.8 1086.32 1453.8 Q1092.1 1453.8 1095.48 1456.98 Q1098.86 1460.15 1098.86 1465.56 Q1098.86 1471.14 1095.39 1474.24 Q1091.92 1477.32 1085.6 1477.32 Q1083.42 1477.32 1081.15 1476.95 Q1078.91 1476.58 1076.5 1475.84 L1076.5 1471.14 Q1078.58 1472.28 1080.81 1472.83 Q1083.03 1473.39 1085.51 1473.39 Q1089.51 1473.39 1091.85 1471.28 Q1094.19 1469.18 1094.19 1465.56 Q1094.19 1461.95 1091.85 1459.85 Q1089.51 1457.74 1085.51 1457.74 Q1083.63 1457.74 1081.76 1458.16 Q1079.9 1458.57 1077.96 1459.45 L1077.96 1442.09 Z\" fill=\"#000000\" fill-rule=\"evenodd\" fill-opacity=\"1\" /><path clip-path=\"url(#clip220)\" d=\"M 0 0 M1103.93 1470.77 L1108.82 1470.77 L1108.82 1476.65 L1103.93 1476.65 L1103.93 1470.77 Z\" fill=\"#000000\" fill-rule=\"evenodd\" fill-opacity=\"1\" /><path clip-path=\"url(#clip220)\" d=\"M 0 0 M1117.91 1472.72 L1134.23 1472.72 L1134.23 1476.65 L1112.29 1476.65 L1112.29 1472.72 Q1114.95 1469.96 1119.53 1465.33 Q1124.14 1460.68 1125.32 1459.34 Q1127.57 1456.81 1128.45 1455.08 Q1129.35 1453.32 1129.35 1451.63 Q1129.35 1448.87 1127.4 1447.14 Q1125.48 1445.4 1122.38 1445.4 Q1120.18 1445.4 1117.73 1446.17 Q1115.3 1446.93 1112.52 1448.48 L1112.52 1443.76 Q1115.34 1442.62 1117.8 1442.05 Q1120.25 1441.47 1122.29 1441.47 Q1127.66 1441.47 1130.85 1444.15 Q1134.05 1446.84 1134.05 1451.33 Q1134.05 1453.46 1133.24 1455.38 Q1132.45 1457.28 1130.34 1459.87 Q1129.77 1460.54 1126.66 1463.76 Q1123.56 1466.95 1117.91 1472.72 Z\" fill=\"#000000\" fill-rule=\"evenodd\" fill-opacity=\"1\" /><path clip-path=\"url(#clip220)\" d=\"M 0 0 M1139.35 1442.09 L1157.7 1442.09 L1157.7 1446.03 L1143.63 1446.03 L1143.63 1454.5 Q1144.65 1454.15 1145.67 1453.99 Q1146.69 1453.8 1147.7 1453.8 Q1153.49 1453.8 1156.87 1456.98 Q1160.25 1460.15 1160.25 1465.56 Q1160.25 1471.14 1156.78 1474.24 Q1153.31 1477.32 1146.99 1477.32 Q1144.81 1477.32 1142.54 1476.95 Q1140.3 1476.58 1137.89 1475.84 L1137.89 1471.14 Q1139.97 1472.28 1142.2 1472.83 Q1144.42 1473.39 1146.89 1473.39 Q1150.9 1473.39 1153.24 1471.28 Q1155.58 1469.18 1155.58 1465.56 Q1155.58 1461.95 1153.24 1459.85 Q1150.9 1457.74 1146.89 1457.74 Q1145.02 1457.74 1143.14 1458.16 Q1141.29 1458.57 1139.35 1459.45 L1139.35 1442.09 Z\" fill=\"#000000\" fill-rule=\"evenodd\" fill-opacity=\"1\" /><path clip-path=\"url(#clip220)\" d=\"M 0 0 M702.783 1472.72 L710.422 1472.72 L710.422 1446.35 L702.112 1448.02 L702.112 1443.76 L710.376 1442.09 L715.052 1442.09 L715.052 1472.72 L722.691 1472.72 L722.691 1476.65 L702.783 1476.65 L702.783 1472.72 Z\" fill=\"#000000\" fill-rule=\"evenodd\" fill-opacity=\"1\" /><path clip-path=\"url(#clip220)\" d=\"M 0 0 M727.807 1442.09 L746.163 1442.09 L746.163 1446.03 L732.089 1446.03 L732.089 1454.5 Q733.107 1454.15 734.126 1453.99 Q735.144 1453.8 736.163 1453.8 Q741.95 1453.8 745.33 1456.98 Q748.709 1460.15 748.709 1465.56 Q748.709 1471.14 745.237 1474.24 Q741.765 1477.32 735.445 1477.32 Q733.269 1477.32 731.001 1476.95 Q728.756 1476.58 726.348 1475.84 L726.348 1471.14 Q728.431 1472.28 730.654 1472.83 Q732.876 1473.39 735.353 1473.39 Q739.357 1473.39 741.695 1471.28 Q744.033 1469.18 744.033 1465.56 Q744.033 1461.95 741.695 1459.85 Q739.357 1457.74 735.353 1457.74 Q733.478 1457.74 731.603 1458.16 Q729.751 1458.57 727.807 1459.45 L727.807 1442.09 Z\" fill=\"#000000\" fill-rule=\"evenodd\" fill-opacity=\"1\" /><path clip-path=\"url(#clip220)\" d=\"M 0 0 M753.779 1470.77 L758.663 1470.77 L758.663 1476.65 L753.779 1476.65 L753.779 1470.77 Z\" fill=\"#000000\" fill-rule=\"evenodd\" fill-opacity=\"1\" /><path clip-path=\"url(#clip220)\" d=\"M 0 0 M763.779 1442.09 L782.135 1442.09 L782.135 1446.03 L768.061 1446.03 L768.061 1454.5 Q769.079 1454.15 770.098 1453.99 Q771.116 1453.8 772.135 1453.8 Q777.922 1453.8 781.302 1456.98 Q784.681 1460.15 784.681 1465.56 Q784.681 1471.14 781.209 1474.24 Q777.737 1477.32 771.417 1477.32 Q769.241 1477.32 766.973 1476.95 Q764.728 1476.58 762.32 1475.84 L762.32 1471.14 Q764.404 1472.28 766.626 1472.83 Q768.848 1473.39 771.325 1473.39 Q775.329 1473.39 777.667 1471.28 Q780.005 1469.18 780.005 1465.56 Q780.005 1461.95 777.667 1459.85 Q775.329 1457.74 771.325 1457.74 Q769.45 1457.74 767.575 1458.16 Q765.723 1458.57 763.779 1459.45 L763.779 1442.09 Z\" fill=\"#000000\" fill-rule=\"evenodd\" fill-opacity=\"1\" /><path clip-path=\"url(#clip220)\" d=\"M 0 0 M799.751 1445.17 Q796.139 1445.17 794.311 1448.74 Q792.505 1452.28 792.505 1459.41 Q792.505 1466.51 794.311 1470.08 Q796.139 1473.62 799.751 1473.62 Q803.385 1473.62 805.19 1470.08 Q807.019 1466.51 807.019 1459.41 Q807.019 1452.28 805.19 1448.74 Q803.385 1445.17 799.751 1445.17 M799.751 1441.47 Q805.561 1441.47 808.616 1446.07 Q811.695 1450.66 811.695 1459.41 Q811.695 1468.13 808.616 1472.74 Q805.561 1477.32 799.751 1477.32 Q793.94 1477.32 790.862 1472.74 Q787.806 1468.13 787.806 1459.41 Q787.806 1450.66 790.862 1446.07 Q793.94 1441.47 799.751 1441.47 Z\" fill=\"#000000\" fill-rule=\"evenodd\" fill-opacity=\"1\" /><path clip-path=\"url(#clip220)\" d=\"M 0 0 M353.88 1472.72 L361.519 1472.72 L361.519 1446.35 L353.209 1448.02 L353.209 1443.76 L361.473 1442.09 L366.149 1442.09 L366.149 1472.72 L373.787 1472.72 L373.787 1476.65 L353.88 1476.65 L353.88 1472.72 Z\" fill=\"#000000\" fill-rule=\"evenodd\" fill-opacity=\"1\" /><path clip-path=\"url(#clip220)\" d=\"M 0 0 M378.903 1442.09 L397.26 1442.09 L397.26 1446.03 L383.186 1446.03 L383.186 1454.5 Q384.204 1454.15 385.223 1453.99 Q386.241 1453.8 387.26 1453.8 Q393.047 1453.8 396.426 1456.98 Q399.806 1460.15 399.806 1465.56 Q399.806 1471.14 396.334 1474.24 Q392.861 1477.32 386.542 1477.32 Q384.366 1477.32 382.098 1476.95 Q379.852 1476.58 377.445 1475.84 L377.445 1471.14 Q379.528 1472.28 381.75 1472.83 Q383.973 1473.39 386.449 1473.39 Q390.454 1473.39 392.792 1471.28 Q395.13 1469.18 395.13 1465.56 Q395.13 1461.95 392.792 1459.85 Q390.454 1457.74 386.449 1457.74 Q384.574 1457.74 382.699 1458.16 Q380.848 1458.57 378.903 1459.45 L378.903 1442.09 Z\" fill=\"#000000\" fill-rule=\"evenodd\" fill-opacity=\"1\" /><path clip-path=\"url(#clip220)\" d=\"M 0 0 M404.875 1470.77 L409.759 1470.77 L409.759 1476.65 L404.875 1476.65 L404.875 1470.77 Z\" fill=\"#000000\" fill-rule=\"evenodd\" fill-opacity=\"1\" /><path clip-path=\"url(#clip220)\" d=\"M 0 0 M413.648 1442.09 L435.87 1442.09 L435.87 1444.08 L423.324 1476.65 L418.44 1476.65 L430.245 1446.03 L413.648 1446.03 L413.648 1442.09 Z\" fill=\"#000000\" fill-rule=\"evenodd\" fill-opacity=\"1\" /><path clip-path=\"url(#clip220)\" d=\"M 0 0 M440.986 1442.09 L459.343 1442.09 L459.343 1446.03 L445.269 1446.03 L445.269 1454.5 Q446.287 1454.15 447.306 1453.99 Q448.324 1453.8 449.343 1453.8 Q455.13 1453.8 458.509 1456.98 Q461.889 1460.15 461.889 1465.56 Q461.889 1471.14 458.417 1474.24 Q454.944 1477.32 448.625 1477.32 Q446.449 1477.32 444.181 1476.95 Q441.935 1476.58 439.528 1475.84 L439.528 1471.14 Q441.611 1472.28 443.833 1472.83 Q446.056 1473.39 448.532 1473.39 Q452.537 1473.39 454.875 1471.28 Q457.213 1469.18 457.213 1465.56 Q457.213 1461.95 454.875 1459.85 Q452.537 1457.74 448.532 1457.74 Q446.657 1457.74 444.782 1458.16 Q442.931 1458.57 440.986 1459.45 L440.986 1442.09 Z\" fill=\"#000000\" fill-rule=\"evenodd\" fill-opacity=\"1\" /><path clip-path=\"url(#clip220)\" d=\"M 0 0 M243.042 1372.66 Q239.431 1372.66 237.602 1376.22 Q235.797 1379.76 235.797 1386.89 Q235.797 1394 237.602 1397.57 Q239.431 1401.11 243.042 1401.11 Q246.676 1401.11 248.482 1397.57 Q250.31 1394 250.31 1386.89 Q250.31 1379.76 248.482 1376.22 Q246.676 1372.66 243.042 1372.66 M243.042 1368.95 Q248.852 1368.95 251.908 1373.56 Q254.986 1378.14 254.986 1386.89 Q254.986 1395.62 251.908 1400.23 Q248.852 1404.81 243.042 1404.81 Q237.232 1404.81 234.153 1400.23 Q231.098 1395.62 231.098 1386.89 Q231.098 1378.14 234.153 1373.56 Q237.232 1368.95 243.042 1368.95 Z\" fill=\"#000000\" fill-rule=\"evenodd\" fill-opacity=\"1\" /><path clip-path=\"url(#clip220)\" d=\"M 0 0 M128.575 1134.07 L136.214 1134.07 L136.214 1107.71 L127.904 1109.37 L127.904 1105.11 L136.168 1103.45 L140.843 1103.45 L140.843 1134.07 L148.482 1134.07 L148.482 1138.01 L128.575 1138.01 L128.575 1134.07 Z\" fill=\"#000000\" fill-rule=\"evenodd\" fill-opacity=\"1\" /><path clip-path=\"url(#clip220)\" d=\"M 0 0 M181.723 1112.55 L171.144 1123.17 L181.723 1133.75 L178.968 1136.55 L168.343 1125.92 L157.718 1136.55 L154.987 1133.75 L165.542 1123.17 L154.987 1112.55 L157.718 1109.74 L168.343 1120.37 L178.968 1109.74 L181.723 1112.55 Z\" fill=\"#000000\" fill-rule=\"evenodd\" fill-opacity=\"1\" /><path clip-path=\"url(#clip220)\" d=\"M 0 0 M187.602 1134.07 L195.241 1134.07 L195.241 1107.71 L186.931 1109.37 L186.931 1105.11 L195.195 1103.45 L199.871 1103.45 L199.871 1134.07 L207.51 1134.07 L207.51 1138.01 L187.602 1138.01 L187.602 1134.07 Z\" fill=\"#000000\" fill-rule=\"evenodd\" fill-opacity=\"1\" /><path clip-path=\"url(#clip220)\" d=\"M 0 0 M222.579 1106.53 Q218.968 1106.53 217.139 1110.09 Q215.334 1113.63 215.334 1120.76 Q215.334 1127.87 217.139 1131.43 Q218.968 1134.98 222.579 1134.98 Q226.213 1134.98 228.019 1131.43 Q229.848 1127.87 229.848 1120.76 Q229.848 1113.63 228.019 1110.09 Q226.213 1106.53 222.579 1106.53 M222.579 1102.82 Q228.389 1102.82 231.445 1107.43 Q234.523 1112.01 234.523 1120.76 Q234.523 1129.49 231.445 1134.1 Q228.389 1138.68 222.579 1138.68 Q216.769 1138.68 213.69 1134.1 Q210.635 1129.49 210.635 1120.76 Q210.635 1112.01 213.69 1107.43 Q216.769 1102.82 222.579 1102.82 Z\" fill=\"#000000\" fill-rule=\"evenodd\" fill-opacity=\"1\" /><path clip-path=\"url(#clip220)\" d=\"M 0 0 M247.2 1085.83 L237.608 1100.82 L247.2 1100.82 L247.2 1085.83 M246.203 1082.52 L250.98 1082.52 L250.98 1100.82 L254.986 1100.82 L254.986 1103.98 L250.98 1103.98 L250.98 1110.6 L247.2 1110.6 L247.2 1103.98 L234.523 1103.98 L234.523 1100.31 L246.203 1082.52 Z\" fill=\"#000000\" fill-rule=\"evenodd\" fill-opacity=\"1\" /><path clip-path=\"url(#clip220)\" d=\"M 0 0 M132.163 861.495 L148.482 861.495 L148.482 865.43 L126.538 865.43 L126.538 861.495 Q129.2 858.74 133.783 854.11 Q138.39 849.458 139.57 848.115 Q141.816 845.592 142.695 843.856 Q143.598 842.097 143.598 840.407 Q143.598 837.652 141.654 835.916 Q139.732 834.18 136.63 834.18 Q134.431 834.18 131.978 834.944 Q129.547 835.708 126.769 837.259 L126.769 832.537 Q129.593 831.402 132.047 830.824 Q134.501 830.245 136.538 830.245 Q141.908 830.245 145.103 832.93 Q148.297 835.615 148.297 840.106 Q148.297 842.236 147.487 844.157 Q146.7 846.055 144.593 848.648 Q144.015 849.319 140.913 852.536 Q137.811 855.731 132.163 861.495 Z\" fill=\"#000000\" fill-rule=\"evenodd\" fill-opacity=\"1\" /><path clip-path=\"url(#clip220)\" d=\"M 0 0 M181.723 839.967 L171.144 850.592 L181.723 861.171 L178.968 863.972 L168.343 853.347 L157.718 863.972 L154.987 861.171 L165.542 850.592 L154.987 839.967 L157.718 837.166 L168.343 847.791 L178.968 837.166 L181.723 839.967 Z\" fill=\"#000000\" fill-rule=\"evenodd\" fill-opacity=\"1\" /><path clip-path=\"url(#clip220)\" d=\"M 0 0 M187.602 861.495 L195.241 861.495 L195.241 835.129 L186.931 836.796 L186.931 832.537 L195.195 830.87 L199.871 830.87 L199.871 861.495 L207.51 861.495 L207.51 865.43 L187.602 865.43 L187.602 861.495 Z\" fill=\"#000000\" fill-rule=\"evenodd\" fill-opacity=\"1\" /><path clip-path=\"url(#clip220)\" d=\"M 0 0 M222.579 833.949 Q218.968 833.949 217.139 837.513 Q215.334 841.055 215.334 848.185 Q215.334 855.291 217.139 858.856 Q218.968 862.397 222.579 862.397 Q226.213 862.397 228.019 858.856 Q229.848 855.291 229.848 848.185 Q229.848 841.055 228.019 837.513 Q226.213 833.949 222.579 833.949 M222.579 830.245 Q228.389 830.245 231.445 834.851 Q234.523 839.435 234.523 848.185 Q234.523 856.911 231.445 861.518 Q228.389 866.101 222.579 866.101 Q216.769 866.101 213.69 861.518 Q210.635 856.911 210.635 848.185 Q210.635 839.435 213.69 834.851 Q216.769 830.245 222.579 830.245 Z\" fill=\"#000000\" fill-rule=\"evenodd\" fill-opacity=\"1\" /><path clip-path=\"url(#clip220)\" d=\"M 0 0 M247.2 813.25 L237.608 828.239 L247.2 828.239 L247.2 813.25 M246.203 809.939 L250.98 809.939 L250.98 828.239 L254.986 828.239 L254.986 831.399 L250.98 831.399 L250.98 838.019 L247.2 838.019 L247.2 831.399 L234.523 831.399 L234.523 827.732 L246.203 809.939 Z\" fill=\"#000000\" fill-rule=\"evenodd\" fill-opacity=\"1\" /><path clip-path=\"url(#clip220)\" d=\"M 0 0 M141.353 574.217 Q144.709 574.935 146.584 577.203 Q148.482 579.472 148.482 582.805 Q148.482 587.921 144.964 590.722 Q141.445 593.523 134.964 593.523 Q132.788 593.523 130.473 593.083 Q128.181 592.666 125.728 591.81 L125.728 587.296 Q127.672 588.43 129.987 589.009 Q132.302 589.588 134.825 589.588 Q139.223 589.588 141.515 587.852 Q143.83 586.115 143.83 582.805 Q143.83 579.75 141.677 578.037 Q139.547 576.301 135.728 576.301 L131.7 576.301 L131.7 572.458 L135.913 572.458 Q139.362 572.458 141.191 571.092 Q143.019 569.703 143.019 567.111 Q143.019 564.449 141.121 563.037 Q139.246 561.602 135.728 561.602 Q133.806 561.602 131.607 562.018 Q129.408 562.435 126.769 563.315 L126.769 559.148 Q129.431 558.407 131.746 558.037 Q134.084 557.666 136.144 557.666 Q141.468 557.666 144.57 560.097 Q147.672 562.504 147.672 566.625 Q147.672 569.495 146.029 571.486 Q144.385 573.453 141.353 574.217 Z\" fill=\"#000000\" fill-rule=\"evenodd\" fill-opacity=\"1\" /><path clip-path=\"url(#clip220)\" d=\"M 0 0 M181.723 567.389 L171.144 578.014 L181.723 588.592 L178.968 591.393 L168.343 580.768 L157.718 591.393 L154.987 588.592 L165.542 578.014 L154.987 567.389 L157.718 564.588 L168.343 575.213 L178.968 564.588 L181.723 567.389 Z\" fill=\"#000000\" fill-rule=\"evenodd\" fill-opacity=\"1\" /><path clip-path=\"url(#clip220)\" d=\"M 0 0 M187.602 588.916 L195.241 588.916 L195.241 562.551 L186.931 564.217 L186.931 559.958 L195.195 558.291 L199.871 558.291 L199.871 588.916 L207.51 588.916 L207.51 592.851 L187.602 592.851 L187.602 588.916 Z\" fill=\"#000000\" fill-rule=\"evenodd\" fill-opacity=\"1\" /><path clip-path=\"url(#clip220)\" d=\"M 0 0 M222.579 561.37 Q218.968 561.37 217.139 564.935 Q215.334 568.477 215.334 575.606 Q215.334 582.713 217.139 586.277 Q218.968 589.819 222.579 589.819 Q226.213 589.819 228.019 586.277 Q229.848 582.713 229.848 575.606 Q229.848 568.477 228.019 564.935 Q226.213 561.37 222.579 561.37 M222.579 557.666 Q228.389 557.666 231.445 562.273 Q234.523 566.856 234.523 575.606 Q234.523 584.333 231.445 588.939 Q228.389 593.523 222.579 593.523 Q216.769 593.523 213.69 588.939 Q210.635 584.333 210.635 575.606 Q210.635 566.856 213.69 562.273 Q216.769 557.666 222.579 557.666 Z\" fill=\"#000000\" fill-rule=\"evenodd\" fill-opacity=\"1\" /><path clip-path=\"url(#clip220)\" d=\"M 0 0 M247.2 540.671 L237.608 555.661 L247.2 555.661 L247.2 540.671 M246.203 537.361 L250.98 537.361 L250.98 555.661 L254.986 555.661 L254.986 558.821 L250.98 558.821 L250.98 565.441 L247.2 565.441 L247.2 558.821 L234.523 558.821 L234.523 555.153 L246.203 537.361 Z\" fill=\"#000000\" fill-rule=\"evenodd\" fill-opacity=\"1\" /><path clip-path=\"url(#clip220)\" d=\"M 0 0 M138.899 289.787 L127.093 308.236 L138.899 308.236 L138.899 289.787 M137.672 285.713 L143.552 285.713 L143.552 308.236 L148.482 308.236 L148.482 312.125 L143.552 312.125 L143.552 320.273 L138.899 320.273 L138.899 312.125 L123.297 312.125 L123.297 307.611 L137.672 285.713 Z\" fill=\"#000000\" fill-rule=\"evenodd\" fill-opacity=\"1\" /><path clip-path=\"url(#clip220)\" d=\"M 0 0 M181.723 294.81 L171.144 305.435 L181.723 316.014 L178.968 318.815 L168.343 308.19 L157.718 318.815 L154.987 316.014 L165.542 305.435 L154.987 294.81 L157.718 292.009 L168.343 302.634 L178.968 292.009 L181.723 294.81 Z\" fill=\"#000000\" fill-rule=\"evenodd\" fill-opacity=\"1\" /><path clip-path=\"url(#clip220)\" d=\"M 0 0 M187.602 316.338 L195.241 316.338 L195.241 289.972 L186.931 291.639 L186.931 287.38 L195.195 285.713 L199.871 285.713 L199.871 316.338 L207.51 316.338 L207.51 320.273 L187.602 320.273 L187.602 316.338 Z\" fill=\"#000000\" fill-rule=\"evenodd\" fill-opacity=\"1\" /><path clip-path=\"url(#clip220)\" d=\"M 0 0 M222.579 288.792 Q218.968 288.792 217.139 292.357 Q215.334 295.898 215.334 303.028 Q215.334 310.134 217.139 313.699 Q218.968 317.241 222.579 317.241 Q226.213 317.241 228.019 313.699 Q229.848 310.134 229.848 303.028 Q229.848 295.898 228.019 292.357 Q226.213 288.792 222.579 288.792 M222.579 285.088 Q228.389 285.088 231.445 289.695 Q234.523 294.278 234.523 303.028 Q234.523 311.755 231.445 316.361 Q228.389 320.944 222.579 320.944 Q216.769 320.944 213.69 316.361 Q210.635 311.755 210.635 303.028 Q210.635 294.278 213.69 289.695 Q216.769 285.088 222.579 285.088 Z\" fill=\"#000000\" fill-rule=\"evenodd\" fill-opacity=\"1\" /><path clip-path=\"url(#clip220)\" d=\"M 0 0 M247.2 268.093 L237.608 283.083 L247.2 283.083 L247.2 268.093 M246.203 264.783 L250.98 264.783 L250.98 283.083 L254.986 283.083 L254.986 286.242 L250.98 286.242 L250.98 292.863 L247.2 292.863 L247.2 286.242 L234.523 286.242 L234.523 282.575 L246.203 264.783 Z\" fill=\"#000000\" fill-rule=\"evenodd\" fill-opacity=\"1\" /><path clip-path=\"url(#clip220)\" d=\"M 0 0 M509.903 12.096 L518.086 12.096 L518.086 72.576 L509.903 72.576 L509.903 12.096 Z\" fill=\"#000000\" fill-rule=\"evenodd\" fill-opacity=\"1\" /><path clip-path=\"url(#clip220)\" d=\"M 0 0 M563.618 45.1919 L563.618 72.576 L556.165 72.576 L556.165 45.4349 Q556.165 38.994 553.653 35.7938 Q551.141 32.5936 546.118 32.5936 Q540.082 32.5936 536.599 36.4419 Q533.115 40.2903 533.115 46.9338 L533.115 72.576 L525.621 72.576 L525.621 27.2059 L533.115 27.2059 L533.115 34.2544 Q535.788 30.163 539.394 28.1376 Q543.04 26.1121 547.779 26.1121 Q555.597 26.1121 559.608 30.9732 Q563.618 35.7938 563.618 45.1919 Z\" fill=\"#000000\" fill-rule=\"evenodd\" fill-opacity=\"1\" /><path clip-path=\"url(#clip220)\" d=\"M 0 0 M594.405 9.54393 L594.405 15.7418 L587.275 15.7418 Q583.265 15.7418 581.685 17.3622 Q580.146 18.9825 580.146 23.1955 L580.146 27.2059 L592.42 27.2059 L592.42 32.9987 L580.146 32.9987 L580.146 72.576 L572.652 72.576 L572.652 32.9987 L565.522 32.9987 L565.522 27.2059 L572.652 27.2059 L572.652 24.0462 Q572.652 16.471 576.176 13.0277 Q579.7 9.54393 587.356 9.54393 L594.405 9.54393 Z\" fill=\"#000000\" fill-rule=\"evenodd\" fill-opacity=\"1\" /><path clip-path=\"url(#clip220)\" d=\"M 0 0 M602.223 9.54393 L609.677 9.54393 L609.677 72.576 L602.223 72.576 L602.223 9.54393 Z\" fill=\"#000000\" fill-rule=\"evenodd\" fill-opacity=\"1\" /><path clip-path=\"url(#clip220)\" d=\"M 0 0 M616.726 54.671 L616.726 27.2059 L624.179 27.2059 L624.179 54.3874 Q624.179 60.8284 626.691 64.0691 Q629.202 67.2693 634.225 67.2693 Q640.261 67.2693 643.745 63.421 Q647.269 59.5726 647.269 52.9291 L647.269 27.2059 L654.723 27.2059 L654.723 72.576 L647.269 72.576 L647.269 65.6084 Q644.555 69.7404 640.95 71.7658 Q637.385 73.7508 632.646 73.7508 Q624.827 73.7508 620.776 68.8897 Q616.726 64.0286 616.726 54.671 M635.481 26.1121 L635.481 26.1121 Z\" fill=\"#000000\" fill-rule=\"evenodd\" fill-opacity=\"1\" /><path clip-path=\"url(#clip220)\" d=\"M 0 0 M701.349 48.0275 L701.349 51.6733 L667.078 51.6733 Q667.564 59.3701 671.696 63.421 Q675.869 67.4314 683.282 67.4314 Q687.576 67.4314 691.586 66.3781 Q695.637 65.3249 699.607 63.2184 L699.607 70.267 Q695.597 71.9684 691.384 72.8596 Q687.171 73.7508 682.836 73.7508 Q671.98 73.7508 665.62 67.4314 Q659.301 61.1119 659.301 50.3365 Q659.301 39.1965 665.296 32.6746 Q671.332 26.1121 681.54 26.1121 Q690.695 26.1121 696.002 32.0264 Q701.349 37.9003 701.349 48.0275 M693.895 45.84 Q693.814 39.7232 690.452 36.0774 Q687.13 32.4315 681.621 32.4315 Q675.383 32.4315 671.615 35.9558 Q667.888 39.4801 667.321 45.8805 L693.895 45.84 Z\" fill=\"#000000\" fill-rule=\"evenodd\" fill-opacity=\"1\" /><path clip-path=\"url(#clip220)\" d=\"M 0 0 M746.881 45.1919 L746.881 72.576 L739.427 72.576 L739.427 45.4349 Q739.427 38.994 736.916 35.7938 Q734.404 32.5936 729.381 32.5936 Q723.345 32.5936 719.862 36.4419 Q716.378 40.2903 716.378 46.9338 L716.378 72.576 L708.884 72.576 L708.884 27.2059 L716.378 27.2059 L716.378 34.2544 Q719.051 30.163 722.657 28.1376 Q726.303 26.1121 731.042 26.1121 Q738.86 26.1121 742.871 30.9732 Q746.881 35.7938 746.881 45.1919 Z\" fill=\"#000000\" fill-rule=\"evenodd\" fill-opacity=\"1\" /><path clip-path=\"url(#clip220)\" d=\"M 0 0 M787.35 28.9478 L787.35 35.9153 Q784.19 34.1734 780.99 33.3227 Q777.83 32.4315 774.589 32.4315 Q767.338 32.4315 763.328 37.0496 Q759.317 41.6271 759.317 49.9314 Q759.317 58.2358 763.328 62.8538 Q767.338 67.4314 774.589 67.4314 Q777.83 67.4314 780.99 66.5807 Q784.19 65.6895 787.35 63.9476 L787.35 70.8341 Q784.23 72.2924 780.868 73.0216 Q777.546 73.7508 773.779 73.7508 Q763.53 73.7508 757.494 67.3098 Q751.459 60.8689 751.459 49.9314 Q751.459 38.832 757.535 32.472 Q763.652 26.1121 774.265 26.1121 Q777.708 26.1121 780.99 26.8413 Q784.271 27.5299 787.35 28.9478 Z\" fill=\"#000000\" fill-rule=\"evenodd\" fill-opacity=\"1\" /><path clip-path=\"url(#clip220)\" d=\"M 0 0 M833.976 48.0275 L833.976 51.6733 L799.705 51.6733 Q800.191 59.3701 804.323 63.421 Q808.495 67.4314 815.909 67.4314 Q820.202 67.4314 824.213 66.3781 Q828.264 65.3249 832.234 63.2184 L832.234 70.267 Q828.223 71.9684 824.01 72.8596 Q819.797 73.7508 815.463 73.7508 Q804.606 73.7508 798.247 67.4314 Q791.927 61.1119 791.927 50.3365 Q791.927 39.1965 797.922 32.6746 Q803.958 26.1121 814.167 26.1121 Q823.322 26.1121 828.628 32.0264 Q833.976 37.9003 833.976 48.0275 M826.522 45.84 Q826.441 39.7232 823.079 36.0774 Q819.757 32.4315 814.248 32.4315 Q808.009 32.4315 804.242 35.9558 Q800.515 39.4801 799.948 45.8805 L826.522 45.84 Z\" fill=\"#000000\" fill-rule=\"evenodd\" fill-opacity=\"1\" /><path clip-path=\"url(#clip220)\" d=\"M 0 0 M885.746 32.4315 Q879.751 32.4315 876.267 37.1306 Q872.783 41.7891 872.783 49.9314 Q872.783 58.0738 876.226 62.7728 Q879.71 67.4314 885.746 67.4314 Q891.701 67.4314 895.185 62.7323 Q898.668 58.0333 898.668 49.9314 Q898.668 41.8701 895.185 37.1711 Q891.701 32.4315 885.746 32.4315 M885.746 26.1121 Q895.468 26.1121 901.018 32.4315 Q906.568 38.7509 906.568 49.9314 Q906.568 61.0714 901.018 67.4314 Q895.468 73.7508 885.746 73.7508 Q875.983 73.7508 870.434 67.4314 Q864.924 61.0714 864.924 49.9314 Q864.924 38.7509 870.434 32.4315 Q875.983 26.1121 885.746 26.1121 Z\" fill=\"#000000\" fill-rule=\"evenodd\" fill-opacity=\"1\" /><path clip-path=\"url(#clip220)\" d=\"M 0 0 M937.355 9.54393 L937.355 15.7418 L930.225 15.7418 Q926.215 15.7418 924.635 17.3622 Q923.095 18.9825 923.095 23.1955 L923.095 27.2059 L935.37 27.2059 L935.37 32.9987 L923.095 32.9987 L923.095 72.576 L915.601 72.576 L915.601 32.9987 L908.472 32.9987 L908.472 27.2059 L915.601 27.2059 L915.601 24.0462 Q915.601 16.471 919.126 13.0277 Q922.65 9.54393 930.306 9.54393 L937.355 9.54393 Z\" fill=\"#000000\" fill-rule=\"evenodd\" fill-opacity=\"1\" /><path clip-path=\"url(#clip220)\" d=\"M 0 0 M978.755 65.7705 L978.755 89.8329 L971.261 89.8329 L971.261 27.2059 L978.755 27.2059 L978.755 34.0924 Q981.104 30.0415 984.669 28.0971 Q988.274 26.1121 993.257 26.1121 Q1001.52 26.1121 1006.67 32.6746 Q1011.85 39.2371 1011.85 49.9314 Q1011.85 60.6258 1006.67 67.1883 Q1001.52 73.7508 993.257 73.7508 Q988.274 73.7508 984.669 71.8063 Q981.104 69.8214 978.755 65.7705 M1004.11 49.9314 Q1004.11 41.7081 1000.71 37.0496 Q997.349 32.3505 991.434 32.3505 Q985.52 32.3505 982.117 37.0496 Q978.755 41.7081 978.755 49.9314 Q978.755 58.1548 982.117 62.8538 Q985.52 67.5124 991.434 67.5124 Q997.349 67.5124 1000.71 62.8538 Q1004.11 58.1548 1004.11 49.9314 Z\" fill=\"#000000\" fill-rule=\"evenodd\" fill-opacity=\"1\" /><path clip-path=\"url(#clip220)\" d=\"M 0 0 M1019.67 27.2059 L1027.12 27.2059 L1027.12 72.576 L1019.67 72.576 L1019.67 27.2059 M1019.67 9.54393 L1027.12 9.54393 L1027.12 18.9825 L1019.67 18.9825 L1019.67 9.54393 Z\" fill=\"#000000\" fill-rule=\"evenodd\" fill-opacity=\"1\" /><path clip-path=\"url(#clip220)\" d=\"M 0 0 M1061.23 34.1734 Q1059.98 33.4443 1058.48 33.1202 Q1057.02 32.7556 1055.24 32.7556 Q1048.92 32.7556 1045.51 36.8875 Q1042.15 40.9789 1042.15 48.6757 L1042.15 72.576 L1034.66 72.576 L1034.66 27.2059 L1042.15 27.2059 L1042.15 34.2544 Q1044.5 30.1225 1048.27 28.1376 Q1052.04 26.1121 1057.42 26.1121 Q1058.19 26.1121 1059.12 26.2337 Q1060.06 26.3147 1061.19 26.5172 L1061.23 34.1734 Z\" fill=\"#000000\" fill-rule=\"evenodd\" fill-opacity=\"1\" /><path clip-path=\"url(#clip220)\" d=\"M 0 0 M1089.67 49.7694 Q1080.64 49.7694 1077.15 51.8354 Q1073.67 53.9013 1073.67 58.8839 Q1073.67 62.8538 1076.26 65.2034 Q1078.89 67.5124 1083.39 67.5124 Q1089.59 67.5124 1093.31 63.1374 Q1097.08 58.7219 1097.08 51.4303 L1097.08 49.7694 L1089.67 49.7694 M1104.54 46.6907 L1104.54 72.576 L1097.08 72.576 L1097.08 65.6895 Q1094.53 69.8214 1090.72 71.8063 Q1086.91 73.7508 1081.4 73.7508 Q1074.44 73.7508 1070.31 69.8619 Q1066.21 65.9325 1066.21 59.3701 Q1066.21 51.7138 1071.32 47.825 Q1076.46 43.9361 1086.63 43.9361 L1097.08 43.9361 L1097.08 43.2069 Q1097.08 38.0623 1093.68 35.2672 Q1090.32 32.4315 1084.2 32.4315 Q1080.31 32.4315 1076.62 33.3632 Q1072.94 34.295 1069.54 36.1584 L1069.54 29.2718 Q1073.63 27.692 1077.48 26.9223 Q1081.32 26.1121 1084.97 26.1121 Q1094.81 26.1121 1099.67 31.2163 Q1104.54 36.3204 1104.54 46.6907 Z\" fill=\"#000000\" fill-rule=\"evenodd\" fill-opacity=\"1\" /><path clip-path=\"url(#clip220)\" d=\"M 0 0 M1119.73 14.324 L1119.73 27.2059 L1135.08 27.2059 L1135.08 32.9987 L1119.73 32.9987 L1119.73 57.6282 Q1119.73 63.1779 1121.23 64.7578 Q1122.76 66.3376 1127.42 66.3376 L1135.08 66.3376 L1135.08 72.576 L1127.42 72.576 Q1118.79 72.576 1115.51 69.3758 Q1112.23 66.1351 1112.23 57.6282 L1112.23 32.9987 L1106.76 32.9987 L1106.76 27.2059 L1112.23 27.2059 L1112.23 14.324 L1119.73 14.324 Z\" fill=\"#000000\" fill-rule=\"evenodd\" fill-opacity=\"1\" /><path clip-path=\"url(#clip220)\" d=\"M 0 0 M1181.71 48.0275 L1181.71 51.6733 L1147.43 51.6733 Q1147.92 59.3701 1152.05 63.421 Q1156.22 67.4314 1163.64 67.4314 Q1167.93 67.4314 1171.94 66.3781 Q1175.99 65.3249 1179.96 63.2184 L1179.96 70.267 Q1175.95 71.9684 1171.74 72.8596 Q1167.53 73.7508 1163.19 73.7508 Q1152.34 73.7508 1145.98 67.4314 Q1139.66 61.1119 1139.66 50.3365 Q1139.66 39.1965 1145.65 32.6746 Q1151.69 26.1121 1161.9 26.1121 Q1171.05 26.1121 1176.36 32.0264 Q1181.71 37.9003 1181.71 48.0275 M1174.25 45.84 Q1174.17 39.7232 1170.81 36.0774 Q1167.49 32.4315 1161.98 32.4315 Q1155.74 32.4315 1151.97 35.9558 Q1148.24 39.4801 1147.68 45.8805 L1174.25 45.84 Z\" fill=\"#000000\" fill-rule=\"evenodd\" fill-opacity=\"1\" /><path clip-path=\"url(#clip220)\" d=\"M 0 0 M1218.45 28.5427 L1218.45 35.5912 Q1215.29 33.9709 1211.88 33.1607 Q1208.48 32.3505 1204.84 32.3505 Q1199.29 32.3505 1196.49 34.0519 Q1193.74 35.7533 1193.74 39.156 Q1193.74 41.7486 1195.72 43.2475 Q1197.71 44.7058 1203.7 46.0426 L1206.25 46.6097 Q1214.19 48.3111 1217.52 51.4303 Q1220.88 54.509 1220.88 60.0587 Q1220.88 66.3781 1215.85 70.0644 Q1210.87 73.7508 1202.12 73.7508 Q1198.48 73.7508 1194.51 73.0216 Q1190.58 72.3329 1186.2 70.9151 L1186.2 63.2184 Q1190.33 65.3654 1194.34 66.4591 Q1198.35 67.5124 1202.28 67.5124 Q1207.55 67.5124 1210.39 65.73 Q1213.22 63.9071 1213.22 60.6258 Q1213.22 57.5877 1211.16 55.9673 Q1209.13 54.3469 1202.2 52.8481 L1199.61 52.2405 Q1192.68 50.7821 1189.6 47.7845 Q1186.53 44.7463 1186.53 39.4801 Q1186.53 33.0797 1191.06 29.5959 Q1195.6 26.1121 1203.94 26.1121 Q1208.08 26.1121 1211.72 26.7198 Q1215.37 27.3274 1218.45 28.5427 Z\" fill=\"#000000\" fill-rule=\"evenodd\" fill-opacity=\"1\" /><path clip-path=\"url(#clip220)\" d=\"M 0 0 M1272.65 32.4315 Q1266.65 32.4315 1263.17 37.1306 Q1259.69 41.7891 1259.69 49.9314 Q1259.69 58.0738 1263.13 62.7728 Q1266.61 67.4314 1272.65 67.4314 Q1278.6 67.4314 1282.09 62.7323 Q1285.57 58.0333 1285.57 49.9314 Q1285.57 41.8701 1282.09 37.1711 Q1278.6 32.4315 1272.65 32.4315 M1272.65 26.1121 Q1282.37 26.1121 1287.92 32.4315 Q1293.47 38.7509 1293.47 49.9314 Q1293.47 61.0714 1287.92 67.4314 Q1282.37 73.7508 1272.65 73.7508 Q1262.89 73.7508 1257.34 67.4314 Q1251.83 61.0714 1251.83 49.9314 Q1251.83 38.7509 1257.34 32.4315 Q1262.89 26.1121 1272.65 26.1121 Z\" fill=\"#000000\" fill-rule=\"evenodd\" fill-opacity=\"1\" /><path clip-path=\"url(#clip220)\" d=\"M 0 0 M1339 45.1919 L1339 72.576 L1331.55 72.576 L1331.55 45.4349 Q1331.55 38.994 1329.04 35.7938 Q1326.52 32.5936 1321.5 32.5936 Q1315.47 32.5936 1311.98 36.4419 Q1308.5 40.2903 1308.5 46.9338 L1308.5 72.576 L1301 72.576 L1301 27.2059 L1308.5 27.2059 L1308.5 34.2544 Q1311.17 30.163 1314.78 28.1376 Q1318.42 26.1121 1323.16 26.1121 Q1330.98 26.1121 1334.99 30.9732 Q1339 35.7938 1339 45.1919 Z\" fill=\"#000000\" fill-rule=\"evenodd\" fill-opacity=\"1\" /><path clip-path=\"url(#clip220)\" d=\"M 0 0 M1403.05 49.3643 Q1403.05 41.2625 1399.68 36.8065 Q1396.36 32.3505 1390.33 32.3505 Q1384.33 32.3505 1380.97 36.8065 Q1377.65 41.2625 1377.65 49.3643 Q1377.65 57.4256 1380.97 61.8816 Q1384.33 66.3376 1390.33 66.3376 Q1396.36 66.3376 1399.68 61.8816 Q1403.05 57.4256 1403.05 49.3643 M1410.5 66.9452 Q1410.5 78.5308 1405.36 84.1616 Q1400.21 89.8329 1389.6 89.8329 Q1385.67 89.8329 1382.18 89.2252 Q1378.7 88.6581 1375.42 87.4428 L1375.42 80.1917 Q1378.7 81.9741 1381.9 82.8248 Q1385.1 83.6755 1388.42 83.6755 Q1395.75 83.6755 1399.4 79.8271 Q1403.05 76.0193 1403.05 68.282 L1403.05 64.5957 Q1400.74 68.6061 1397.13 70.5911 Q1393.53 72.576 1388.5 72.576 Q1380.16 72.576 1375.05 66.2161 Q1369.95 59.8562 1369.95 49.3643 Q1369.95 38.832 1375.05 32.472 Q1380.16 26.1121 1388.5 26.1121 Q1393.53 26.1121 1397.13 28.0971 Q1400.74 30.082 1403.05 34.0924 L1403.05 27.2059 L1410.5 27.2059 L1410.5 66.9452 Z\" fill=\"#000000\" fill-rule=\"evenodd\" fill-opacity=\"1\" /><path clip-path=\"url(#clip220)\" d=\"M 0 0 M1418.32 9.54393 L1425.77 9.54393 L1425.77 72.576 L1418.32 72.576 L1418.32 9.54393 Z\" fill=\"#000000\" fill-rule=\"evenodd\" fill-opacity=\"1\" /><path clip-path=\"url(#clip220)\" d=\"M 0 0 M1451.17 32.4315 Q1445.18 32.4315 1441.69 37.1306 Q1438.21 41.7891 1438.21 49.9314 Q1438.21 58.0738 1441.65 62.7728 Q1445.14 67.4314 1451.17 67.4314 Q1457.13 67.4314 1460.61 62.7323 Q1464.09 58.0333 1464.09 49.9314 Q1464.09 41.8701 1460.61 37.1711 Q1457.13 32.4315 1451.17 32.4315 M1451.17 26.1121 Q1460.89 26.1121 1466.44 32.4315 Q1471.99 38.7509 1471.99 49.9314 Q1471.99 61.0714 1466.44 67.4314 Q1460.89 73.7508 1451.17 73.7508 Q1441.41 73.7508 1435.86 67.4314 Q1430.35 61.0714 1430.35 49.9314 Q1430.35 38.7509 1435.86 32.4315 Q1441.41 26.1121 1451.17 26.1121 Z\" fill=\"#000000\" fill-rule=\"evenodd\" fill-opacity=\"1\" /><path clip-path=\"url(#clip220)\" d=\"M 0 0 M1512.38 49.9314 Q1512.38 41.7081 1508.98 37.0496 Q1505.62 32.3505 1499.7 32.3505 Q1493.79 32.3505 1490.38 37.0496 Q1487.02 41.7081 1487.02 49.9314 Q1487.02 58.1548 1490.38 62.8538 Q1493.79 67.5124 1499.7 67.5124 Q1505.62 67.5124 1508.98 62.8538 Q1512.38 58.1548 1512.38 49.9314 M1487.02 34.0924 Q1489.37 30.0415 1492.94 28.0971 Q1496.54 26.1121 1501.52 26.1121 Q1509.79 26.1121 1514.93 32.6746 Q1520.12 39.2371 1520.12 49.9314 Q1520.12 60.6258 1514.93 67.1883 Q1509.79 73.7508 1501.52 73.7508 Q1496.54 73.7508 1492.94 71.8063 Q1489.37 69.8214 1487.02 65.7705 L1487.02 72.576 L1479.53 72.576 L1479.53 9.54393 L1487.02 9.54393 L1487.02 34.0924 Z\" fill=\"#000000\" fill-rule=\"evenodd\" fill-opacity=\"1\" /><path clip-path=\"url(#clip220)\" d=\"M 0 0 M1548.56 49.7694 Q1539.52 49.7694 1536.04 51.8354 Q1532.55 53.9013 1532.55 58.8839 Q1532.55 62.8538 1535.15 65.2034 Q1537.78 67.5124 1542.28 67.5124 Q1548.47 67.5124 1552.2 63.1374 Q1555.97 58.7219 1555.97 51.4303 L1555.97 49.7694 L1548.56 49.7694 M1563.42 46.6907 L1563.42 72.576 L1555.97 72.576 L1555.97 65.6895 Q1553.42 69.8214 1549.61 71.8063 Q1545.8 73.7508 1540.29 73.7508 Q1533.32 73.7508 1529.19 69.8619 Q1525.1 65.9325 1525.1 59.3701 Q1525.1 51.7138 1530.2 47.825 Q1535.35 43.9361 1545.52 43.9361 L1555.97 43.9361 L1555.97 43.2069 Q1555.97 38.0623 1552.57 35.2672 Q1549.2 32.4315 1543.09 32.4315 Q1539.2 32.4315 1535.51 33.3632 Q1531.82 34.295 1528.42 36.1584 L1528.42 29.2718 Q1532.51 27.692 1536.36 26.9223 Q1540.21 26.1121 1543.86 26.1121 Q1553.7 26.1121 1558.56 31.2163 Q1563.42 36.3204 1563.42 46.6907 Z\" fill=\"#000000\" fill-rule=\"evenodd\" fill-opacity=\"1\" /><path clip-path=\"url(#clip220)\" d=\"M 0 0 M1571.24 9.54393 L1578.69 9.54393 L1578.69 72.576 L1571.24 72.576 L1571.24 9.54393 Z\" fill=\"#000000\" fill-rule=\"evenodd\" fill-opacity=\"1\" /><path clip-path=\"url(#clip220)\" d=\"M 0 0 M1620.26 14.324 L1620.26 27.2059 L1635.61 27.2059 L1635.61 32.9987 L1620.26 32.9987 L1620.26 57.6282 Q1620.26 63.1779 1621.75 64.7578 Q1623.29 66.3376 1627.95 66.3376 L1635.61 66.3376 L1635.61 72.576 L1627.95 72.576 Q1619.32 72.576 1616.04 69.3758 Q1612.76 66.1351 1612.76 57.6282 L1612.76 32.9987 L1607.29 32.9987 L1607.29 27.2059 L1612.76 27.2059 L1612.76 14.324 L1620.26 14.324 Z\" fill=\"#000000\" fill-rule=\"evenodd\" fill-opacity=\"1\" /><path clip-path=\"url(#clip220)\" d=\"M 0 0 M1682.23 48.0275 L1682.23 51.6733 L1647.96 51.6733 Q1648.45 59.3701 1652.58 63.421 Q1656.75 67.4314 1664.17 67.4314 Q1668.46 67.4314 1672.47 66.3781 Q1676.52 65.3249 1680.49 63.2184 L1680.49 70.267 Q1676.48 71.9684 1672.27 72.8596 Q1668.06 73.7508 1663.72 73.7508 Q1652.87 73.7508 1646.51 67.4314 Q1640.19 61.1119 1640.19 50.3365 Q1640.19 39.1965 1646.18 32.6746 Q1652.22 26.1121 1662.43 26.1121 Q1671.58 26.1121 1676.89 32.0264 Q1682.23 37.9003 1682.23 48.0275 M1674.78 45.84 Q1674.7 39.7232 1671.34 36.0774 Q1668.02 32.4315 1662.51 32.4315 Q1656.27 32.4315 1652.5 35.9558 Q1648.77 39.4801 1648.21 45.8805 L1674.78 45.84 Z\" fill=\"#000000\" fill-rule=\"evenodd\" fill-opacity=\"1\" /><path clip-path=\"url(#clip220)\" d=\"M 0 0 M1725.38 35.9153 Q1728.17 30.8922 1732.06 28.5022 Q1735.95 26.1121 1741.22 26.1121 Q1748.31 26.1121 1752.15 31.0947 Q1756 36.0368 1756 45.1919 L1756 72.576 L1748.51 72.576 L1748.51 45.4349 Q1748.51 38.913 1746.2 35.7533 Q1743.89 32.5936 1739.15 32.5936 Q1733.36 32.5936 1730 36.4419 Q1726.63 40.2903 1726.63 46.9338 L1726.63 72.576 L1719.14 72.576 L1719.14 45.4349 Q1719.14 38.8725 1716.83 35.7533 Q1714.52 32.5936 1709.7 32.5936 Q1703.99 32.5936 1700.63 36.4824 Q1697.26 40.3308 1697.26 46.9338 L1697.26 72.576 L1689.77 72.576 L1689.77 27.2059 L1697.26 27.2059 L1697.26 34.2544 Q1699.82 30.082 1703.38 28.0971 Q1706.95 26.1121 1711.85 26.1121 Q1716.79 26.1121 1720.23 28.6237 Q1723.72 31.1352 1725.38 35.9153 Z\" fill=\"#000000\" fill-rule=\"evenodd\" fill-opacity=\"1\" /><path clip-path=\"url(#clip220)\" d=\"M 0 0 M1771.03 65.7705 L1771.03 89.8329 L1763.54 89.8329 L1763.54 27.2059 L1771.03 27.2059 L1771.03 34.0924 Q1773.38 30.0415 1776.95 28.0971 Q1780.55 26.1121 1785.53 26.1121 Q1793.8 26.1121 1798.94 32.6746 Q1804.13 39.2371 1804.13 49.9314 Q1804.13 60.6258 1798.94 67.1883 Q1793.8 73.7508 1785.53 73.7508 Q1780.55 73.7508 1776.95 71.8063 Q1773.38 69.8214 1771.03 65.7705 M1796.39 49.9314 Q1796.39 41.7081 1792.99 37.0496 Q1789.62 32.3505 1783.71 32.3505 Q1777.8 32.3505 1774.39 37.0496 Q1771.03 41.7081 1771.03 49.9314 Q1771.03 58.1548 1774.39 62.8538 Q1777.8 67.5124 1783.71 67.5124 Q1789.62 67.5124 1792.99 62.8538 Q1796.39 58.1548 1796.39 49.9314 Z\" fill=\"#000000\" fill-rule=\"evenodd\" fill-opacity=\"1\" /><path clip-path=\"url(#clip220)\" d=\"M 0 0 M1850.75 48.0275 L1850.75 51.6733 L1816.48 51.6733 Q1816.97 59.3701 1821.1 63.421 Q1825.27 67.4314 1832.69 67.4314 Q1836.98 67.4314 1840.99 66.3781 Q1845.04 65.3249 1849.01 63.2184 L1849.01 70.267 Q1845 71.9684 1840.79 72.8596 Q1836.57 73.7508 1832.24 73.7508 Q1821.38 73.7508 1815.02 67.4314 Q1808.7 61.1119 1808.7 50.3365 Q1808.7 39.1965 1814.7 32.6746 Q1820.74 26.1121 1830.94 26.1121 Q1840.1 26.1121 1845.41 32.0264 Q1850.75 37.9003 1850.75 48.0275 M1843.3 45.84 Q1843.22 39.7232 1839.86 36.0774 Q1836.53 32.4315 1831.02 32.4315 Q1824.79 32.4315 1821.02 35.9558 Q1817.29 39.4801 1816.72 45.8805 L1843.3 45.84 Z\" fill=\"#000000\" fill-rule=\"evenodd\" fill-opacity=\"1\" /><path clip-path=\"url(#clip220)\" d=\"M 0 0 M1884.86 34.1734 Q1883.61 33.4443 1882.11 33.1202 Q1880.65 32.7556 1878.87 32.7556 Q1872.55 32.7556 1869.14 36.8875 Q1865.78 40.9789 1865.78 48.6757 L1865.78 72.576 L1858.29 72.576 L1858.29 27.2059 L1865.78 27.2059 L1865.78 34.2544 Q1868.13 30.1225 1871.9 28.1376 Q1875.67 26.1121 1881.05 26.1121 Q1881.82 26.1121 1882.75 26.2337 Q1883.69 26.3147 1884.82 26.5172 L1884.86 34.1734 Z\" fill=\"#000000\" fill-rule=\"evenodd\" fill-opacity=\"1\" /><path clip-path=\"url(#clip220)\" d=\"M 0 0 M1913.3 49.7694 Q1904.26 49.7694 1900.78 51.8354 Q1897.3 53.9013 1897.3 58.8839 Q1897.3 62.8538 1899.89 65.2034 Q1902.52 67.5124 1907.02 67.5124 Q1913.22 67.5124 1916.94 63.1374 Q1920.71 58.7219 1920.71 51.4303 L1920.71 49.7694 L1913.3 49.7694 M1928.17 46.6907 L1928.17 72.576 L1920.71 72.576 L1920.71 65.6895 Q1918.16 69.8214 1914.35 71.8063 Q1910.54 73.7508 1905.03 73.7508 Q1898.07 73.7508 1893.94 69.8619 Q1889.84 65.9325 1889.84 59.3701 Q1889.84 51.7138 1894.95 47.825 Q1900.09 43.9361 1910.26 43.9361 L1920.71 43.9361 L1920.71 43.2069 Q1920.71 38.0623 1917.31 35.2672 Q1913.95 32.4315 1907.83 32.4315 Q1903.94 32.4315 1900.25 33.3632 Q1896.57 34.295 1893.17 36.1584 L1893.17 29.2718 Q1897.26 27.692 1901.11 26.9223 Q1904.95 26.1121 1908.6 26.1121 Q1918.44 26.1121 1923.3 31.2163 Q1928.17 36.3204 1928.17 46.6907 Z\" fill=\"#000000\" fill-rule=\"evenodd\" fill-opacity=\"1\" /><path clip-path=\"url(#clip220)\" d=\"M 0 0 M1943.36 14.324 L1943.36 27.2059 L1958.71 27.2059 L1958.71 32.9987 L1943.36 32.9987 L1943.36 57.6282 Q1943.36 63.1779 1944.86 64.7578 Q1946.39 66.3376 1951.05 66.3376 L1958.71 66.3376 L1958.71 72.576 L1951.05 72.576 Q1942.42 72.576 1939.14 69.3758 Q1935.86 66.1351 1935.86 57.6282 L1935.86 32.9987 L1930.39 32.9987 L1930.39 27.2059 L1935.86 27.2059 L1935.86 14.324 L1943.36 14.324 Z\" fill=\"#000000\" fill-rule=\"evenodd\" fill-opacity=\"1\" /><path clip-path=\"url(#clip220)\" d=\"M 0 0 M1965.76 54.671 L1965.76 27.2059 L1973.21 27.2059 L1973.21 54.3874 Q1973.21 60.8284 1975.72 64.0691 Q1978.23 67.2693 1983.26 67.2693 Q1989.29 67.2693 1992.78 63.421 Q1996.3 59.5726 1996.3 52.9291 L1996.3 27.2059 L2003.76 27.2059 L2003.76 72.576 L1996.3 72.576 L1996.3 65.6084 Q1993.59 69.7404 1989.98 71.7658 Q1986.42 73.7508 1981.68 73.7508 Q1973.86 73.7508 1969.81 68.8897 Q1965.76 64.0286 1965.76 54.671 M1984.51 26.1121 L1984.51 26.1121 Z\" fill=\"#000000\" fill-rule=\"evenodd\" fill-opacity=\"1\" /><path clip-path=\"url(#clip220)\" d=\"M 0 0 M2037.86 34.1734 Q2036.61 33.4443 2035.11 33.1202 Q2033.65 32.7556 2031.87 32.7556 Q2025.55 32.7556 2022.15 36.8875 Q2018.78 40.9789 2018.78 48.6757 L2018.78 72.576 L2011.29 72.576 L2011.29 27.2059 L2018.78 27.2059 L2018.78 34.2544 Q2021.13 30.1225 2024.9 28.1376 Q2028.67 26.1121 2034.06 26.1121 Q2034.83 26.1121 2035.76 26.2337 Q2036.69 26.3147 2037.82 26.5172 L2037.86 34.1734 Z\" fill=\"#000000\" fill-rule=\"evenodd\" fill-opacity=\"1\" /><path clip-path=\"url(#clip220)\" d=\"M 0 0 M2082.67 48.0275 L2082.67 51.6733 L2048.4 51.6733 Q2048.88 59.3701 2053.01 63.421 Q2057.19 67.4314 2064.6 67.4314 Q2068.89 67.4314 2072.9 66.3781 Q2076.95 65.3249 2080.92 63.2184 L2080.92 70.267 Q2076.91 71.9684 2072.7 72.8596 Q2068.49 73.7508 2064.15 73.7508 Q2053.3 73.7508 2046.94 67.4314 Q2040.62 61.1119 2040.62 50.3365 Q2040.62 39.1965 2046.61 32.6746 Q2052.65 26.1121 2062.86 26.1121 Q2072.01 26.1121 2077.32 32.0264 Q2082.67 37.9003 2082.67 48.0275 M2075.21 45.84 Q2075.13 39.7232 2071.77 36.0774 Q2068.45 32.4315 2062.94 32.4315 Q2056.7 32.4315 2052.93 35.9558 Q2049.21 39.4801 2048.64 45.8805 L2075.21 45.84 Z\" fill=\"#000000\" fill-rule=\"evenodd\" fill-opacity=\"1\" /><path clip-path=\"url(#clip220)\" d=\"M 0 0 M2119.41 28.5427 L2119.41 35.5912 Q2116.25 33.9709 2112.85 33.1607 Q2109.44 32.3505 2105.8 32.3505 Q2100.25 32.3505 2097.45 34.0519 Q2094.7 35.7533 2094.7 39.156 Q2094.7 41.7486 2096.68 43.2475 Q2098.67 44.7058 2104.66 46.0426 L2107.22 46.6097 Q2115.16 48.3111 2118.48 51.4303 Q2121.84 54.509 2121.84 60.0587 Q2121.84 66.3781 2116.82 70.0644 Q2111.83 73.7508 2103.08 73.7508 Q2099.44 73.7508 2095.47 73.0216 Q2091.54 72.3329 2087.16 70.9151 L2087.16 63.2184 Q2091.3 65.3654 2095.31 66.4591 Q2099.32 67.5124 2103.25 67.5124 Q2108.51 67.5124 2111.35 65.73 Q2114.18 63.9071 2114.18 60.6258 Q2114.18 57.5877 2112.12 55.9673 Q2110.09 54.3469 2103.16 52.8481 L2100.57 52.2405 Q2093.64 50.7821 2090.57 47.7845 Q2087.49 44.7463 2087.49 39.4801 Q2087.49 33.0797 2092.02 29.5959 Q2096.56 26.1121 2104.91 26.1121 Q2109.04 26.1121 2112.68 26.7198 Q2116.33 27.3274 2119.41 28.5427 Z\" fill=\"#000000\" fill-rule=\"evenodd\" fill-opacity=\"1\" /><path clip-path=\"url(#clip220)\" d=\"M 0 0 M1049.67 1508.52 L1058.33 1508.52 L1079.4 1548.28 L1079.4 1508.52 L1085.64 1508.52 L1085.64 1556.04 L1076.98 1556.04 L1055.91 1516.29 L1055.91 1556.04 L1049.67 1556.04 L1049.67 1508.52 Z\" fill=\"#000000\" fill-rule=\"evenodd\" fill-opacity=\"1\" /><path clip-path=\"url(#clip220)\" d=\"M 0 0 M1091.18 1541.98 L1091.18 1520.4 L1097.03 1520.4 L1097.03 1541.75 Q1097.03 1546.81 1099.01 1549.36 Q1100.98 1551.87 1104.93 1551.87 Q1109.67 1551.87 1112.41 1548.85 Q1115.18 1545.83 1115.18 1540.61 L1115.18 1520.4 L1121.03 1520.4 L1121.03 1556.04 L1115.18 1556.04 L1115.18 1550.57 Q1113.04 1553.82 1110.21 1555.41 Q1107.41 1556.97 1103.69 1556.97 Q1097.54 1556.97 1094.36 1553.15 Q1091.18 1549.33 1091.18 1541.98 M1105.91 1519.54 L1105.91 1519.54 Z\" fill=\"#000000\" fill-rule=\"evenodd\" fill-opacity=\"1\" /><path clip-path=\"url(#clip220)\" d=\"M 0 0 M1154.93 1527.24 Q1157.13 1523.29 1160.18 1521.41 Q1163.24 1519.54 1167.38 1519.54 Q1172.95 1519.54 1175.97 1523.45 Q1178.99 1527.33 1178.99 1534.53 L1178.99 1556.04 L1173.1 1556.04 L1173.1 1534.72 Q1173.1 1529.59 1171.29 1527.11 Q1169.48 1524.63 1165.75 1524.63 Q1161.2 1524.63 1158.56 1527.65 Q1155.92 1530.68 1155.92 1535.9 L1155.92 1556.04 L1150.03 1556.04 L1150.03 1534.72 Q1150.03 1529.56 1148.21 1527.11 Q1146.4 1524.63 1142.61 1524.63 Q1138.12 1524.63 1135.48 1527.68 Q1132.84 1530.71 1132.84 1535.9 L1132.84 1556.04 L1126.95 1556.04 L1126.95 1520.4 L1132.84 1520.4 L1132.84 1525.93 Q1134.85 1522.66 1137.65 1521.1 Q1140.45 1519.54 1144.3 1519.54 Q1148.18 1519.54 1150.89 1521.51 Q1153.63 1523.48 1154.93 1527.24 Z\" fill=\"#000000\" fill-rule=\"evenodd\" fill-opacity=\"1\" /><path clip-path=\"url(#clip220)\" d=\"M 0 0 M1210.73 1538.25 Q1210.73 1531.79 1208.05 1528.13 Q1205.41 1524.44 1200.76 1524.44 Q1196.12 1524.44 1193.44 1528.13 Q1190.8 1531.79 1190.8 1538.25 Q1190.8 1544.71 1193.44 1548.4 Q1196.12 1552.07 1200.76 1552.07 Q1205.41 1552.07 1208.05 1548.4 Q1210.73 1544.71 1210.73 1538.25 M1190.8 1525.81 Q1192.65 1522.62 1195.45 1521.1 Q1198.28 1519.54 1202.2 1519.54 Q1208.69 1519.54 1212.73 1524.69 Q1216.8 1529.85 1216.8 1538.25 Q1216.8 1546.65 1212.73 1551.81 Q1208.69 1556.97 1202.2 1556.97 Q1198.28 1556.97 1195.45 1555.44 Q1192.65 1553.88 1190.8 1550.7 L1190.8 1556.04 L1184.91 1556.04 L1184.91 1506.52 L1190.8 1506.52 L1190.8 1525.81 Z\" fill=\"#000000\" fill-rule=\"evenodd\" fill-opacity=\"1\" /><path clip-path=\"url(#clip220)\" d=\"M 0 0 M1253.44 1536.76 L1253.44 1539.62 L1226.51 1539.62 Q1226.89 1545.67 1230.14 1548.85 Q1233.42 1552 1239.24 1552 Q1242.62 1552 1245.77 1551.17 Q1248.95 1550.35 1252.07 1548.69 L1252.07 1554.23 Q1248.92 1555.57 1245.61 1556.27 Q1242.3 1556.97 1238.89 1556.97 Q1230.36 1556.97 1225.37 1552 Q1220.4 1547.04 1220.4 1538.57 Q1220.4 1529.82 1225.11 1524.69 Q1229.85 1519.54 1237.88 1519.54 Q1245.07 1519.54 1249.24 1524.18 Q1253.44 1528.8 1253.44 1536.76 M1247.58 1535.04 Q1247.52 1530.23 1244.88 1527.37 Q1242.27 1524.5 1237.94 1524.5 Q1233.04 1524.5 1230.08 1527.27 Q1227.15 1530.04 1226.7 1535.07 L1247.58 1535.04 Z\" fill=\"#000000\" fill-rule=\"evenodd\" fill-opacity=\"1\" /><path clip-path=\"url(#clip220)\" d=\"M 0 0 M1280.24 1525.87 Q1279.25 1525.3 1278.07 1525.04 Q1276.93 1524.76 1275.53 1524.76 Q1270.56 1524.76 1267.89 1528 Q1265.25 1531.22 1265.25 1537.27 L1265.25 1556.04 L1259.36 1556.04 L1259.36 1520.4 L1265.25 1520.4 L1265.25 1525.93 Q1267.09 1522.69 1270.05 1521.13 Q1273.01 1519.54 1277.25 1519.54 Q1277.85 1519.54 1278.58 1519.63 Q1279.32 1519.7 1280.21 1519.85 L1280.24 1525.87 Z\" fill=\"#000000\" fill-rule=\"evenodd\" fill-opacity=\"1\" /><path clip-path=\"url(#clip220)\" d=\"M 0 0 M1320.92 1524.5 Q1316.21 1524.5 1313.47 1528.19 Q1310.73 1531.85 1310.73 1538.25 Q1310.73 1544.65 1313.44 1548.34 Q1316.17 1552 1320.92 1552 Q1325.59 1552 1328.33 1548.31 Q1331.07 1544.62 1331.07 1538.25 Q1331.07 1531.92 1328.33 1528.23 Q1325.59 1524.5 1320.92 1524.5 M1320.92 1519.54 Q1328.55 1519.54 1332.92 1524.5 Q1337.28 1529.47 1337.28 1538.25 Q1337.28 1547 1332.92 1552 Q1328.55 1556.97 1320.92 1556.97 Q1313.25 1556.97 1308.88 1552 Q1304.56 1547 1304.56 1538.25 Q1304.56 1529.47 1308.88 1524.5 Q1313.25 1519.54 1320.92 1519.54 Z\" fill=\"#000000\" fill-rule=\"evenodd\" fill-opacity=\"1\" /><path clip-path=\"url(#clip220)\" d=\"M 0 0 M1361.47 1506.52 L1361.47 1511.39 L1355.86 1511.39 Q1352.71 1511.39 1351.47 1512.66 Q1350.26 1513.93 1350.26 1517.24 L1350.26 1520.4 L1359.91 1520.4 L1359.91 1524.95 L1350.26 1524.95 L1350.26 1556.04 L1344.37 1556.04 L1344.37 1524.95 L1338.77 1524.95 L1338.77 1520.4 L1344.37 1520.4 L1344.37 1517.91 Q1344.37 1511.96 1347.14 1509.26 Q1349.91 1506.52 1355.93 1506.52 L1361.47 1506.52 Z\" fill=\"#000000\" fill-rule=\"evenodd\" fill-opacity=\"1\" /><path clip-path=\"url(#clip220)\" d=\"M 0 0 M1395.01 1513.81 L1395.01 1531.66 L1403.1 1531.66 Q1407.59 1531.66 1410.04 1529.34 Q1412.49 1527.02 1412.49 1522.72 Q1412.49 1518.45 1410.04 1516.13 Q1407.59 1513.81 1403.1 1513.81 L1395.01 1513.81 M1388.58 1508.52 L1403.1 1508.52 Q1411.09 1508.52 1415.16 1512.15 Q1419.27 1515.75 1419.27 1522.72 Q1419.27 1529.75 1415.16 1533.35 Q1411.09 1536.95 1403.1 1536.95 L1395.01 1536.95 L1395.01 1556.04 L1388.58 1556.04 L1388.58 1508.52 Z\" fill=\"#000000\" fill-rule=\"evenodd\" fill-opacity=\"1\" /><path clip-path=\"url(#clip220)\" d=\"M 0 0 M1423.98 1520.4 L1429.83 1520.4 L1429.83 1556.04 L1423.98 1556.04 L1423.98 1520.4 M1423.98 1506.52 L1429.83 1506.52 L1429.83 1513.93 L1423.98 1513.93 L1423.98 1506.52 Z\" fill=\"#000000\" fill-rule=\"evenodd\" fill-opacity=\"1\" /><path clip-path=\"url(#clip220)\" d=\"M 0 0 M1456.63 1525.87 Q1455.65 1525.3 1454.47 1525.04 Q1453.32 1524.76 1451.92 1524.76 Q1446.96 1524.76 1444.28 1528 Q1441.64 1531.22 1441.64 1537.27 L1441.64 1556.04 L1435.75 1556.04 L1435.75 1520.4 L1441.64 1520.4 L1441.64 1525.93 Q1443.49 1522.69 1446.45 1521.13 Q1449.41 1519.54 1453.64 1519.54 Q1454.25 1519.54 1454.98 1519.63 Q1455.71 1519.7 1456.6 1519.85 L1456.63 1525.87 Z\" fill=\"#000000\" fill-rule=\"evenodd\" fill-opacity=\"1\" /><path clip-path=\"url(#clip220)\" d=\"M 0 0 M1478.98 1538.12 Q1471.88 1538.12 1469.14 1539.75 Q1466.4 1541.37 1466.4 1545.29 Q1466.4 1548.4 1468.44 1550.25 Q1470.51 1552.07 1474.04 1552.07 Q1478.91 1552.07 1481.84 1548.63 Q1484.8 1545.16 1484.8 1539.43 L1484.8 1538.12 L1478.98 1538.12 M1490.66 1535.71 L1490.66 1556.04 L1484.8 1556.04 L1484.8 1550.63 Q1482.8 1553.88 1479.8 1555.44 Q1476.81 1556.97 1472.48 1556.97 Q1467.01 1556.97 1463.76 1553.91 Q1460.55 1550.82 1460.55 1545.67 Q1460.55 1539.65 1464.56 1536.6 Q1468.6 1533.54 1476.59 1533.54 L1484.8 1533.54 L1484.8 1532.97 Q1484.8 1528.93 1482.13 1526.73 Q1479.49 1524.5 1474.68 1524.5 Q1471.62 1524.5 1468.73 1525.23 Q1465.83 1525.97 1463.16 1527.43 L1463.16 1522.02 Q1466.37 1520.78 1469.4 1520.17 Q1472.42 1519.54 1475.28 1519.54 Q1483.02 1519.54 1486.84 1523.55 Q1490.66 1527.56 1490.66 1535.71 Z\" fill=\"#000000\" fill-rule=\"evenodd\" fill-opacity=\"1\" /><path clip-path=\"url(#clip220)\" d=\"M 0 0 M1502.59 1510.27 L1502.59 1520.4 L1514.66 1520.4 L1514.66 1524.95 L1502.59 1524.95 L1502.59 1544.3 Q1502.59 1548.66 1503.77 1549.9 Q1504.98 1551.14 1508.64 1551.14 L1514.66 1551.14 L1514.66 1556.04 L1508.64 1556.04 Q1501.86 1556.04 1499.28 1553.53 Q1496.7 1550.98 1496.7 1544.3 L1496.7 1524.95 L1492.41 1524.95 L1492.41 1520.4 L1496.7 1520.4 L1496.7 1510.27 L1502.59 1510.27 Z\" fill=\"#000000\" fill-rule=\"evenodd\" fill-opacity=\"1\" /><path clip-path=\"url(#clip220)\" d=\"M 0 0 M1551.29 1536.76 L1551.29 1539.62 L1524.36 1539.62 Q1524.75 1545.67 1527.99 1548.85 Q1531.27 1552 1537.1 1552 Q1540.47 1552 1543.62 1551.17 Q1546.8 1550.35 1549.92 1548.69 L1549.92 1554.23 Q1546.77 1555.57 1543.46 1556.27 Q1540.15 1556.97 1536.75 1556.97 Q1528.22 1556.97 1523.22 1552 Q1518.25 1547.04 1518.25 1538.57 Q1518.25 1529.82 1522.96 1524.69 Q1527.71 1519.54 1535.73 1519.54 Q1542.92 1519.54 1547.09 1524.18 Q1551.29 1528.8 1551.29 1536.76 M1545.43 1535.04 Q1545.37 1530.23 1542.73 1527.37 Q1540.12 1524.5 1535.79 1524.5 Q1530.89 1524.5 1527.93 1527.27 Q1525 1530.04 1524.55 1535.07 L1545.43 1535.04 Z\" fill=\"#000000\" fill-rule=\"evenodd\" fill-opacity=\"1\" /><path clip-path=\"url(#clip220)\" d=\"M 0 0 M1580.16 1521.45 L1580.16 1526.98 Q1577.68 1525.71 1575 1525.07 Q1572.33 1524.44 1569.46 1524.44 Q1565.1 1524.44 1562.91 1525.77 Q1560.74 1527.11 1560.74 1529.79 Q1560.74 1531.82 1562.3 1533 Q1563.86 1534.15 1568.57 1535.2 L1570.58 1535.64 Q1576.82 1536.98 1579.43 1539.43 Q1582.07 1541.85 1582.07 1546.21 Q1582.07 1551.17 1578.12 1554.07 Q1574.21 1556.97 1567.33 1556.97 Q1564.47 1556.97 1561.35 1556.39 Q1558.26 1555.85 1554.82 1554.74 L1554.82 1548.69 Q1558.07 1550.38 1561.22 1551.24 Q1564.37 1552.07 1567.46 1552.07 Q1571.6 1552.07 1573.83 1550.66 Q1576.05 1549.23 1576.05 1546.65 Q1576.05 1544.27 1574.43 1542.99 Q1572.84 1541.72 1567.4 1540.54 L1565.36 1540.07 Q1559.92 1538.92 1557.5 1536.56 Q1555.08 1534.18 1555.08 1530.04 Q1555.08 1525.01 1558.64 1522.27 Q1562.21 1519.54 1568.76 1519.54 Q1572.01 1519.54 1574.88 1520.01 Q1577.74 1520.49 1580.16 1521.45 Z\" fill=\"#000000\" fill-rule=\"evenodd\" fill-opacity=\"1\" /><path clip-path=\"url(#clip220)\" d=\"M 0 0 M81.2247 1040.86 L68.4614 1040.86 L68.4614 1051.36 L63.1779 1051.36 L63.1779 1034.5 L83.58 1034.5 Q86.2218 1038.22 87.5904 1042.71 Q88.9272 1047.19 88.9272 1052.29 Q88.9272 1063.43 82.4342 1069.73 Q75.9093 1076 64.2919 1076 Q52.6427 1076 46.1496 1069.73 Q39.6248 1063.43 39.6248 1052.29 Q39.6248 1047.64 40.7706 1043.47 Q41.9164 1039.27 44.1444 1035.74 L50.9876 1035.74 Q47.9639 1039.3 46.4361 1043.31 Q44.9083 1047.32 44.9083 1051.75 Q44.9083 1060.47 49.7781 1064.86 Q54.6479 1069.22 64.2919 1069.22 Q73.9041 1069.22 78.7739 1064.86 Q83.6436 1060.47 83.6436 1051.75 Q83.6436 1048.34 83.0707 1045.67 Q82.466 1042.99 81.2247 1040.86 Z\" fill=\"#000000\" fill-rule=\"evenodd\" fill-opacity=\"1\" /><path clip-path=\"url(#clip220)\" d=\"M 0 0 M38.479 1028.35 L38.479 1022.5 L88.0042 1022.5 L88.0042 1028.35 L38.479 1028.35 Z\" fill=\"#000000\" fill-rule=\"evenodd\" fill-opacity=\"1\" /><path clip-path=\"url(#clip220)\" d=\"M 0 0 M56.4621 1002.54 Q56.4621 1007.25 60.1542 1009.99 Q63.8145 1012.72 70.212 1012.72 Q76.6095 1012.72 80.3017 1010.02 Q83.9619 1007.28 83.9619 1002.54 Q83.9619 997.86 80.2698 995.123 Q76.5777 992.386 70.212 992.386 Q63.8781 992.386 60.186 995.123 Q56.4621 997.86 56.4621 1002.54 M51.4968 1002.54 Q51.4968 994.9 56.4621 990.54 Q61.4273 986.179 70.212 986.179 Q78.9649 986.179 83.9619 990.54 Q88.9272 994.9 88.9272 1002.54 Q88.9272 1010.21 83.9619 1014.57 Q78.9649 1018.9 70.212 1018.9 Q61.4273 1018.9 56.4621 1014.57 Q51.4968 1010.21 51.4968 1002.54 Z\" fill=\"#000000\" fill-rule=\"evenodd\" fill-opacity=\"1\" /><path clip-path=\"url(#clip220)\" d=\"M 0 0 M70.212 954.446 Q63.7508 954.446 60.0905 957.12 Q56.3984 959.762 56.3984 964.409 Q56.3984 969.056 60.0905 971.729 Q63.7508 974.371 70.212 974.371 Q76.6732 974.371 80.3653 971.729 Q84.0256 969.056 84.0256 964.409 Q84.0256 959.762 80.3653 957.12 Q76.6732 954.446 70.212 954.446 M57.7671 974.371 Q54.5842 972.525 53.0564 969.724 Q51.4968 966.891 51.4968 962.976 Q51.4968 956.483 56.6531 952.441 Q61.8093 948.367 70.212 948.367 Q78.6147 948.367 83.771 952.441 Q88.9272 956.483 88.9272 962.976 Q88.9272 966.891 87.3994 969.724 Q85.8398 972.525 82.657 974.371 L88.0042 974.371 L88.0042 980.259 L38.479 980.259 L38.479 974.371 L57.7671 974.371 Z\" fill=\"#000000\" fill-rule=\"evenodd\" fill-opacity=\"1\" /><path clip-path=\"url(#clip220)\" d=\"M 0 0 M70.0847 926.023 Q70.0847 933.121 71.7079 935.858 Q73.3312 938.596 77.2461 938.596 Q80.3653 938.596 82.2114 936.559 Q84.0256 934.49 84.0256 930.957 Q84.0256 926.087 80.5881 923.159 Q77.1188 920.199 71.3897 920.199 L70.0847 920.199 L70.0847 926.023 M67.6657 914.342 L88.0042 914.342 L88.0042 920.199 L82.5933 920.199 Q85.8398 922.204 87.3994 925.196 Q88.9272 928.188 88.9272 932.516 Q88.9272 937.991 85.8716 941.237 Q82.7843 944.452 77.6281 944.452 Q71.6125 944.452 68.5569 940.442 Q65.5014 936.399 65.5014 928.411 L65.5014 920.199 L64.9285 920.199 Q60.8862 920.199 58.6901 922.872 Q56.4621 925.514 56.4621 930.32 Q56.4621 933.376 57.1941 936.272 Q57.9262 939.169 59.3903 941.842 L53.9795 941.842 Q52.7381 938.627 52.1334 935.604 Q51.4968 932.58 51.4968 929.715 Q51.4968 921.981 55.5072 918.162 Q59.5176 914.342 67.6657 914.342 Z\" fill=\"#000000\" fill-rule=\"evenodd\" fill-opacity=\"1\" /><path clip-path=\"url(#clip220)\" d=\"M 0 0 M38.479 908.199 L38.479 902.343 L88.0042 902.343 L88.0042 908.199 L38.479 908.199 Z\" fill=\"#000000\" fill-rule=\"evenodd\" fill-opacity=\"1\" /><path clip-path=\"url(#clip220)\" d=\"M 0 0 M40.4842 881.814 L40.4842 841.614 L45.895 841.614 L45.895 858.483 L88.0042 858.483 L88.0042 864.944 L45.895 864.944 L45.895 881.814 L40.4842 881.814 Z\" fill=\"#000000\" fill-rule=\"evenodd\" fill-opacity=\"1\" /><path clip-path=\"url(#clip220)\" d=\"M 0 0 M68.7161 816.056 L71.5806 816.056 L71.5806 842.983 Q77.6281 842.601 80.8109 839.354 Q83.9619 836.076 83.9619 830.251 Q83.9619 826.877 83.1344 823.726 Q82.3069 820.544 80.6518 817.424 L86.1899 817.424 Q87.5267 820.575 88.227 823.886 Q88.9272 827.196 88.9272 830.601 Q88.9272 839.131 83.9619 844.129 Q78.9967 849.094 70.5303 849.094 Q61.7774 849.094 56.6531 844.383 Q51.4968 839.641 51.4968 831.62 Q51.4968 824.427 56.1438 820.257 Q60.7589 816.056 68.7161 816.056 M66.9973 821.912 Q62.1912 821.976 59.3266 824.618 Q56.4621 827.228 56.4621 831.556 Q56.4621 836.458 59.2312 839.418 Q62.0002 842.346 67.0292 842.792 L66.9973 821.912 Z\" fill=\"#000000\" fill-rule=\"evenodd\" fill-opacity=\"1\" /><path clip-path=\"url(#clip220)\" d=\"M 0 0 M59.1993 782.158 Q55.2526 779.962 53.3747 776.907 Q51.4968 773.851 51.4968 769.713 Q51.4968 764.143 55.4117 761.12 Q59.2948 758.096 66.4881 758.096 L88.0042 758.096 L88.0042 763.984 L66.679 763.984 Q61.5546 763.984 59.072 765.799 Q56.5894 767.613 56.5894 771.337 Q56.5894 775.888 59.6131 778.53 Q62.6368 781.172 67.8567 781.172 L88.0042 781.172 L88.0042 787.06 L66.679 787.06 Q61.5228 787.06 59.072 788.874 Q56.5894 790.688 56.5894 794.476 Q56.5894 798.964 59.6449 801.606 Q62.6686 804.247 67.8567 804.247 L88.0042 804.247 L88.0042 810.136 L52.3562 810.136 L52.3562 804.247 L57.8944 804.247 Q54.616 802.242 53.0564 799.441 Q51.4968 796.64 51.4968 792.789 Q51.4968 788.906 53.4702 786.201 Q55.4436 783.463 59.1993 782.158 Z\" fill=\"#000000\" fill-rule=\"evenodd\" fill-opacity=\"1\" /><path clip-path=\"url(#clip220)\" d=\"M 0 0 M82.657 746.288 L101.563 746.288 L101.563 752.176 L52.3562 752.176 L52.3562 746.288 L57.7671 746.288 Q54.5842 744.442 53.0564 741.641 Q51.4968 738.808 51.4968 734.893 Q51.4968 728.4 56.6531 724.358 Q61.8093 720.284 70.212 720.284 Q78.6147 720.284 83.771 724.358 Q88.9272 728.4 88.9272 734.893 Q88.9272 738.808 87.3994 741.641 Q85.8398 744.442 82.657 746.288 M70.212 726.363 Q63.7508 726.363 60.0905 729.037 Q56.3984 731.678 56.3984 736.325 Q56.3984 740.972 60.0905 743.646 Q63.7508 746.288 70.212 746.288 Q76.6732 746.288 80.3653 743.646 Q84.0256 740.972 84.0256 736.325 Q84.0256 731.678 80.3653 729.037 Q76.6732 726.363 70.212 726.363 Z\" fill=\"#000000\" fill-rule=\"evenodd\" fill-opacity=\"1\" /><path clip-path=\"url(#clip220)\" d=\"M 0 0 M68.7161 683.649 L71.5806 683.649 L71.5806 710.576 Q77.6281 710.194 80.8109 706.948 Q83.9619 703.669 83.9619 697.845 Q83.9619 694.471 83.1344 691.32 Q82.3069 688.137 80.6518 685.018 L86.1899 685.018 Q87.5267 688.169 88.227 691.479 Q88.9272 694.789 88.9272 698.195 Q88.9272 706.725 83.9619 711.722 Q78.9967 716.687 70.5303 716.687 Q61.7774 716.687 56.6531 711.976 Q51.4968 707.234 51.4968 699.213 Q51.4968 692.02 56.1438 687.85 Q60.7589 683.649 68.7161 683.649 M66.9973 689.506 Q62.1912 689.569 59.3266 692.211 Q56.4621 694.821 56.4621 699.15 Q56.4621 704.051 59.2312 707.011 Q62.0002 709.939 67.0292 710.385 L66.9973 689.506 Z\" fill=\"#000000\" fill-rule=\"evenodd\" fill-opacity=\"1\" /><path clip-path=\"url(#clip220)\" d=\"M 0 0 M57.8307 656.849 Q57.2578 657.836 57.0032 659.014 Q56.7167 660.16 56.7167 661.56 Q56.7167 666.525 59.9632 669.199 Q63.1779 671.841 69.2253 671.841 L88.0042 671.841 L88.0042 677.729 L52.3562 677.729 L52.3562 671.841 L57.8944 671.841 Q54.6479 669.995 53.0883 667.035 Q51.4968 664.075 51.4968 659.841 Q51.4968 659.237 51.5923 658.505 Q51.656 657.772 51.8151 656.881 L57.8307 656.849 Z\" fill=\"#000000\" fill-rule=\"evenodd\" fill-opacity=\"1\" /><path clip-path=\"url(#clip220)\" d=\"M 0 0 M70.0847 634.506 Q70.0847 641.604 71.7079 644.341 Q73.3312 647.078 77.2461 647.078 Q80.3653 647.078 82.2114 645.041 Q84.0256 642.972 84.0256 639.439 Q84.0256 634.569 80.5881 631.641 Q77.1188 628.681 71.3897 628.681 L70.0847 628.681 L70.0847 634.506 M67.6657 622.825 L88.0042 622.825 L88.0042 628.681 L82.5933 628.681 Q85.8398 630.686 87.3994 633.678 Q88.9272 636.67 88.9272 640.999 Q88.9272 646.473 85.8716 649.72 Q82.7843 652.935 77.6281 652.935 Q71.6125 652.935 68.5569 648.924 Q65.5014 644.882 65.5014 636.893 L65.5014 628.681 L64.9285 628.681 Q60.8862 628.681 58.6901 631.355 Q56.4621 633.997 56.4621 638.803 Q56.4621 641.858 57.1941 644.755 Q57.9262 647.651 59.3903 650.325 L53.9795 650.325 Q52.7381 647.11 52.1334 644.086 Q51.4968 641.063 51.4968 638.198 Q51.4968 630.464 55.5072 626.644 Q59.5176 622.825 67.6657 622.825 Z\" fill=\"#000000\" fill-rule=\"evenodd\" fill-opacity=\"1\" /><path clip-path=\"url(#clip220)\" d=\"M 0 0 M42.2347 610.889 L52.3562 610.889 L52.3562 598.826 L56.9077 598.826 L56.9077 610.889 L76.2594 610.889 Q80.6199 610.889 81.8613 609.711 Q83.1026 608.502 83.1026 604.842 L83.1026 598.826 L88.0042 598.826 L88.0042 604.842 Q88.0042 611.621 85.4897 614.199 Q82.9434 616.777 76.2594 616.777 L56.9077 616.777 L56.9077 621.074 L52.3562 621.074 L52.3562 616.777 L42.2347 616.777 L42.2347 610.889 Z\" fill=\"#000000\" fill-rule=\"evenodd\" fill-opacity=\"1\" /><path clip-path=\"url(#clip220)\" d=\"M 0 0 M73.9359 593.288 L52.3562 593.288 L52.3562 587.431 L73.7131 587.431 Q78.7739 587.431 81.3202 585.458 Q83.8346 583.485 83.8346 579.538 Q83.8346 574.796 80.8109 572.058 Q77.7872 569.289 72.5673 569.289 L52.3562 569.289 L52.3562 563.433 L88.0042 563.433 L88.0042 569.289 L82.5296 569.289 Q85.7762 571.422 87.3676 574.254 Q88.9272 577.055 88.9272 580.779 Q88.9272 586.922 85.1078 590.105 Q81.2883 593.288 73.9359 593.288 M51.4968 578.551 L51.4968 578.551 Z\" fill=\"#000000\" fill-rule=\"evenodd\" fill-opacity=\"1\" /><path clip-path=\"url(#clip220)\" d=\"M 0 0 M57.8307 536.633 Q57.2578 537.62 57.0032 538.797 Q56.7167 539.943 56.7167 541.344 Q56.7167 546.309 59.9632 548.983 Q63.1779 551.624 69.2253 551.624 L88.0042 551.624 L88.0042 557.513 L52.3562 557.513 L52.3562 551.624 L57.8944 551.624 Q54.6479 549.778 53.0883 546.818 Q51.4968 543.858 51.4968 539.625 Q51.4968 539.02 51.5923 538.288 Q51.656 537.556 51.8151 536.665 L57.8307 536.633 Z\" fill=\"#000000\" fill-rule=\"evenodd\" fill-opacity=\"1\" /><path clip-path=\"url(#clip220)\" d=\"M 0 0 M68.7161 501.431 L71.5806 501.431 L71.5806 528.358 Q77.6281 527.976 80.8109 524.729 Q83.9619 521.451 83.9619 515.626 Q83.9619 512.252 83.1344 509.101 Q82.3069 505.919 80.6518 502.799 L86.1899 502.799 Q87.5267 505.95 88.227 509.261 Q88.9272 512.571 88.9272 515.976 Q88.9272 524.506 83.9619 529.504 Q78.9967 534.469 70.5303 534.469 Q61.7774 534.469 56.6531 529.758 Q51.4968 525.016 51.4968 516.995 Q51.4968 509.802 56.1438 505.632 Q60.7589 501.431 68.7161 501.431 M66.9973 507.287 Q62.1912 507.351 59.3266 509.993 Q56.4621 512.603 56.4621 516.931 Q56.4621 521.833 59.2312 524.793 Q62.0002 527.721 67.0292 528.167 L66.9973 507.287 Z\" fill=\"#000000\" fill-rule=\"evenodd\" fill-opacity=\"1\" /><path clip-path=\"url(#clip220)\" d=\"M 0 0 M53.4065 472.562 L58.9447 472.562 Q57.6716 475.045 57.035 477.718 Q56.3984 480.392 56.3984 483.257 Q56.3984 487.617 57.7352 489.813 Q59.072 491.978 61.7456 491.978 Q63.7826 491.978 64.9603 490.418 Q66.1061 488.858 67.1565 484.148 L67.6021 482.143 Q68.9389 475.904 71.3897 473.294 Q73.8086 470.653 78.1691 470.653 Q83.1344 470.653 86.0308 474.599 Q88.9272 478.514 88.9272 485.389 Q88.9272 488.254 88.3543 491.373 Q87.8132 494.46 86.6992 497.898 L80.6518 497.898 Q82.3387 494.651 83.198 491.5 Q84.0256 488.349 84.0256 485.262 Q84.0256 481.124 82.6251 478.896 Q81.1929 476.668 78.6147 476.668 Q76.2276 476.668 74.9545 478.291 Q73.6813 479.883 72.5037 485.326 L72.0262 487.363 Q70.8804 492.805 68.5251 495.224 Q66.138 497.643 62.0002 497.643 Q56.9713 497.643 54.2341 494.078 Q51.4968 490.514 51.4968 483.957 Q51.4968 480.71 51.9743 477.846 Q52.4517 474.981 53.4065 472.562 Z\" fill=\"#000000\" fill-rule=\"evenodd\" fill-opacity=\"1\" /><polyline clip-path=\"url(#clip222)\" style=\"stroke:#009af9; stroke-width:4; stroke-opacity:1; fill:none\" points=\"\n",
       "  2294.06,160.256 2154.32,841.702 1735.1,977.991 1176.13,1250.57 756.904,1375.96 337.678,1386.4 \n",
       "  \"/>\n",
       "<circle clip-path=\"url(#clip222)\" cx=\"2294.06\" cy=\"160.256\" r=\"14\" fill=\"#e26f46\" fill-rule=\"evenodd\" fill-opacity=\"1\" stroke=\"#000000\" stroke-opacity=\"1\" stroke-width=\"3.2\"/>\n",
       "<circle clip-path=\"url(#clip222)\" cx=\"2154.32\" cy=\"841.702\" r=\"14\" fill=\"#e26f46\" fill-rule=\"evenodd\" fill-opacity=\"1\" stroke=\"#000000\" stroke-opacity=\"1\" stroke-width=\"3.2\"/>\n",
       "<circle clip-path=\"url(#clip222)\" cx=\"1735.1\" cy=\"977.991\" r=\"14\" fill=\"#e26f46\" fill-rule=\"evenodd\" fill-opacity=\"1\" stroke=\"#000000\" stroke-opacity=\"1\" stroke-width=\"3.2\"/>\n",
       "<circle clip-path=\"url(#clip222)\" cx=\"1176.13\" cy=\"1250.57\" r=\"14\" fill=\"#e26f46\" fill-rule=\"evenodd\" fill-opacity=\"1\" stroke=\"#000000\" stroke-opacity=\"1\" stroke-width=\"3.2\"/>\n",
       "<circle clip-path=\"url(#clip222)\" cx=\"756.904\" cy=\"1375.96\" r=\"14\" fill=\"#e26f46\" fill-rule=\"evenodd\" fill-opacity=\"1\" stroke=\"#000000\" stroke-opacity=\"1\" stroke-width=\"3.2\"/>\n",
       "<circle clip-path=\"url(#clip222)\" cx=\"337.678\" cy=\"1386.4\" r=\"14\" fill=\"#e26f46\" fill-rule=\"evenodd\" fill-opacity=\"1\" stroke=\"#000000\" stroke-opacity=\"1\" stroke-width=\"3.2\"/>\n",
       "<path clip-path=\"url(#clip220)\" d=\"\n",
       "M1989.74 388.432 L2280.76 388.432 L2280.76 206.992 L1989.74 206.992  Z\n",
       "  \" fill=\"#ffffff\" fill-rule=\"evenodd\" fill-opacity=\"1\"/>\n",
       "<polyline clip-path=\"url(#clip220)\" style=\"stroke:#000000; stroke-width:4; stroke-opacity:1; fill:none\" points=\"\n",
       "  1989.74,388.432 2280.76,388.432 2280.76,206.992 1989.74,206.992 1989.74,388.432 \n",
       "  \"/>\n",
       "<polyline clip-path=\"url(#clip220)\" style=\"stroke:#009af9; stroke-width:4; stroke-opacity:1; fill:none\" points=\"\n",
       "  2013.74,267.472 2157.74,267.472 \n",
       "  \"/>\n",
       "<path clip-path=\"url(#clip220)\" d=\"M 0 0 M2195.58 287.16 Q2193.77 291.789 2192.06 293.201 Q2190.35 294.613 2187.48 294.613 L2184.08 294.613 L2184.08 291.048 L2186.58 291.048 Q2188.33 291.048 2189.31 290.215 Q2190.28 289.382 2191.46 286.28 L2192.22 284.335 L2181.74 258.826 L2186.25 258.826 L2194.35 279.104 L2202.46 258.826 L2206.97 258.826 L2195.58 287.16 Z\" fill=\"#000000\" fill-rule=\"evenodd\" fill-opacity=\"1\" /><path clip-path=\"url(#clip220)\" d=\"M 0 0 M2212.85 280.817 L2220.49 280.817 L2220.49 254.451 L2212.18 256.118 L2212.18 251.859 L2220.44 250.192 L2225.12 250.192 L2225.12 280.817 L2232.76 280.817 L2232.76 284.752 L2212.85 284.752 L2212.85 280.817 Z\" fill=\"#000000\" fill-rule=\"evenodd\" fill-opacity=\"1\" /><circle clip-path=\"url(#clip220)\" cx=\"2097.74\" cy=\"327.952\" r=\"23\" fill=\"#e26f46\" fill-rule=\"evenodd\" fill-opacity=\"1\" stroke=\"#000000\" stroke-opacity=\"1\" stroke-width=\"5.12\"/>\n",
       "<path clip-path=\"url(#clip220)\" d=\"M 0 0 M2195.58 347.64 Q2193.77 352.269 2192.06 353.681 Q2190.35 355.093 2187.48 355.093 L2184.08 355.093 L2184.08 351.528 L2186.58 351.528 Q2188.33 351.528 2189.31 350.695 Q2190.28 349.862 2191.46 346.76 L2192.22 344.815 L2181.74 319.306 L2186.25 319.306 L2194.35 339.584 L2202.46 319.306 L2206.97 319.306 L2195.58 347.64 Z\" fill=\"#000000\" fill-rule=\"evenodd\" fill-opacity=\"1\" /><path clip-path=\"url(#clip220)\" d=\"M 0 0 M2216.07 341.297 L2232.39 341.297 L2232.39 345.232 L2210.44 345.232 L2210.44 341.297 Q2213.1 338.542 2217.69 333.913 Q2222.29 329.26 2223.47 327.917 Q2225.72 325.394 2226.6 323.658 Q2227.5 321.899 2227.5 320.209 Q2227.5 317.454 2225.56 315.718 Q2223.64 313.982 2220.53 313.982 Q2218.33 313.982 2215.88 314.746 Q2213.45 315.51 2210.67 317.061 L2210.67 312.339 Q2213.5 311.205 2215.95 310.626 Q2218.4 310.047 2220.44 310.047 Q2225.81 310.047 2229.01 312.732 Q2232.2 315.417 2232.2 319.908 Q2232.2 322.038 2231.39 323.959 Q2230.6 325.857 2228.5 328.45 Q2227.92 329.121 2224.82 332.339 Q2221.71 335.533 2216.07 341.297 Z\" fill=\"#000000\" fill-rule=\"evenodd\" fill-opacity=\"1\" /></svg>\n"
      ]
     },
     "execution_count": 50,
     "metadata": {},
     "output_type": "execute_result"
    }
   ],
   "source": [
    "# Doing some more plotting!!\n",
    "globaltemperatures = [14.4, 14.5, 14.8, 15.2, 15.5, 15.8]\n",
    "numpirates = [45000, 20000, 15000, 5000, 400, 17]\n",
    "\n",
    "plot(globaltemperatures, numpirates)\n",
    "scatter!(globaltemperatures, numpirates)\n",
    "\n",
    "xflip!()\n",
    "\n",
    "xlabel!(\"Number of Pirates\")\n",
    "ylabel!(\"Global Temperatures\")\n",
    "title!(\"Influence of pirates on global temperatures\")"
   ]
  },
  {
   "cell_type": "code",
   "execution_count": 51,
   "metadata": {},
   "outputs": [
    {
     "data": {
      "image/svg+xml": [
       "<?xml version=\"1.0\" encoding=\"utf-8\"?>\n",
       "<svg xmlns=\"http://www.w3.org/2000/svg\" xmlns:xlink=\"http://www.w3.org/1999/xlink\" width=\"600\" height=\"400\" viewBox=\"0 0 2400 1600\">\n",
       "<defs>\n",
       "  <clipPath id=\"clip260\">\n",
       "    <rect x=\"0\" y=\"0\" width=\"2400\" height=\"1600\"/>\n",
       "  </clipPath>\n",
       "</defs>\n",
       "<path clip-path=\"url(#clip260)\" d=\"\n",
       "M0 1600 L2400 1600 L2400 0 L0 0  Z\n",
       "  \" fill=\"#ffffff\" fill-rule=\"evenodd\" fill-opacity=\"1\"/>\n",
       "<defs>\n",
       "  <clipPath id=\"clip261\">\n",
       "    <rect x=\"480\" y=\"0\" width=\"1681\" height=\"1600\"/>\n",
       "  </clipPath>\n",
       "</defs>\n",
       "<path clip-path=\"url(#clip260)\" d=\"\n",
       "M152.27 686.448 L1159.3 686.448 L1159.3 47.2441 L152.27 47.2441  Z\n",
       "  \" fill=\"#ffffff\" fill-rule=\"evenodd\" fill-opacity=\"1\"/>\n",
       "<defs>\n",
       "  <clipPath id=\"clip262\">\n",
       "    <rect x=\"152\" y=\"47\" width=\"1008\" height=\"640\"/>\n",
       "  </clipPath>\n",
       "</defs>\n",
       "<polyline clip-path=\"url(#clip262)\" style=\"stroke:#000000; stroke-width:2; stroke-opacity:0.1; fill:none\" points=\"\n",
       "  180.77,686.448 180.77,47.2441 \n",
       "  \"/>\n",
       "<polyline clip-path=\"url(#clip262)\" style=\"stroke:#000000; stroke-width:2; stroke-opacity:0.1; fill:none\" points=\"\n",
       "  339.108,686.448 339.108,47.2441 \n",
       "  \"/>\n",
       "<polyline clip-path=\"url(#clip262)\" style=\"stroke:#000000; stroke-width:2; stroke-opacity:0.1; fill:none\" points=\"\n",
       "  497.445,686.448 497.445,47.2441 \n",
       "  \"/>\n",
       "<polyline clip-path=\"url(#clip262)\" style=\"stroke:#000000; stroke-width:2; stroke-opacity:0.1; fill:none\" points=\"\n",
       "  655.782,686.448 655.782,47.2441 \n",
       "  \"/>\n",
       "<polyline clip-path=\"url(#clip262)\" style=\"stroke:#000000; stroke-width:2; stroke-opacity:0.1; fill:none\" points=\"\n",
       "  814.12,686.448 814.12,47.2441 \n",
       "  \"/>\n",
       "<polyline clip-path=\"url(#clip262)\" style=\"stroke:#000000; stroke-width:2; stroke-opacity:0.1; fill:none\" points=\"\n",
       "  972.457,686.448 972.457,47.2441 \n",
       "  \"/>\n",
       "<polyline clip-path=\"url(#clip262)\" style=\"stroke:#000000; stroke-width:2; stroke-opacity:0.1; fill:none\" points=\"\n",
       "  1130.79,686.448 1130.79,47.2441 \n",
       "  \"/>\n",
       "<polyline clip-path=\"url(#clip262)\" style=\"stroke:#000000; stroke-width:2; stroke-opacity:0.1; fill:none\" points=\"\n",
       "  152.27,668.357 1159.3,668.357 \n",
       "  \"/>\n",
       "<polyline clip-path=\"url(#clip262)\" style=\"stroke:#000000; stroke-width:2; stroke-opacity:0.1; fill:none\" points=\"\n",
       "  152.27,567.853 1159.3,567.853 \n",
       "  \"/>\n",
       "<polyline clip-path=\"url(#clip262)\" style=\"stroke:#000000; stroke-width:2; stroke-opacity:0.1; fill:none\" points=\"\n",
       "  152.27,467.35 1159.3,467.35 \n",
       "  \"/>\n",
       "<polyline clip-path=\"url(#clip262)\" style=\"stroke:#000000; stroke-width:2; stroke-opacity:0.1; fill:none\" points=\"\n",
       "  152.27,366.846 1159.3,366.846 \n",
       "  \"/>\n",
       "<polyline clip-path=\"url(#clip262)\" style=\"stroke:#000000; stroke-width:2; stroke-opacity:0.1; fill:none\" points=\"\n",
       "  152.27,266.342 1159.3,266.342 \n",
       "  \"/>\n",
       "<polyline clip-path=\"url(#clip262)\" style=\"stroke:#000000; stroke-width:2; stroke-opacity:0.1; fill:none\" points=\"\n",
       "  152.27,165.839 1159.3,165.839 \n",
       "  \"/>\n",
       "<polyline clip-path=\"url(#clip262)\" style=\"stroke:#000000; stroke-width:2; stroke-opacity:0.1; fill:none\" points=\"\n",
       "  152.27,65.3348 1159.3,65.3348 \n",
       "  \"/>\n",
       "<polyline clip-path=\"url(#clip260)\" style=\"stroke:#000000; stroke-width:4; stroke-opacity:1; fill:none\" points=\"\n",
       "  152.27,686.448 1159.3,686.448 \n",
       "  \"/>\n",
       "<polyline clip-path=\"url(#clip260)\" style=\"stroke:#000000; stroke-width:4; stroke-opacity:1; fill:none\" points=\"\n",
       "  152.27,686.448 152.27,47.2441 \n",
       "  \"/>\n",
       "<polyline clip-path=\"url(#clip260)\" style=\"stroke:#000000; stroke-width:4; stroke-opacity:1; fill:none\" points=\"\n",
       "  180.77,686.448 180.77,678.777 \n",
       "  \"/>\n",
       "<polyline clip-path=\"url(#clip260)\" style=\"stroke:#000000; stroke-width:4; stroke-opacity:1; fill:none\" points=\"\n",
       "  339.108,686.448 339.108,678.777 \n",
       "  \"/>\n",
       "<polyline clip-path=\"url(#clip260)\" style=\"stroke:#000000; stroke-width:4; stroke-opacity:1; fill:none\" points=\"\n",
       "  497.445,686.448 497.445,678.777 \n",
       "  \"/>\n",
       "<polyline clip-path=\"url(#clip260)\" style=\"stroke:#000000; stroke-width:4; stroke-opacity:1; fill:none\" points=\"\n",
       "  655.782,686.448 655.782,678.777 \n",
       "  \"/>\n",
       "<polyline clip-path=\"url(#clip260)\" style=\"stroke:#000000; stroke-width:4; stroke-opacity:1; fill:none\" points=\"\n",
       "  814.12,686.448 814.12,678.777 \n",
       "  \"/>\n",
       "<polyline clip-path=\"url(#clip260)\" style=\"stroke:#000000; stroke-width:4; stroke-opacity:1; fill:none\" points=\"\n",
       "  972.457,686.448 972.457,678.777 \n",
       "  \"/>\n",
       "<polyline clip-path=\"url(#clip260)\" style=\"stroke:#000000; stroke-width:4; stroke-opacity:1; fill:none\" points=\"\n",
       "  1130.79,686.448 1130.79,678.777 \n",
       "  \"/>\n",
       "<polyline clip-path=\"url(#clip260)\" style=\"stroke:#000000; stroke-width:4; stroke-opacity:1; fill:none\" points=\"\n",
       "  152.27,668.357 164.354,668.357 \n",
       "  \"/>\n",
       "<polyline clip-path=\"url(#clip260)\" style=\"stroke:#000000; stroke-width:4; stroke-opacity:1; fill:none\" points=\"\n",
       "  152.27,567.853 164.354,567.853 \n",
       "  \"/>\n",
       "<polyline clip-path=\"url(#clip260)\" style=\"stroke:#000000; stroke-width:4; stroke-opacity:1; fill:none\" points=\"\n",
       "  152.27,467.35 164.354,467.35 \n",
       "  \"/>\n",
       "<polyline clip-path=\"url(#clip260)\" style=\"stroke:#000000; stroke-width:4; stroke-opacity:1; fill:none\" points=\"\n",
       "  152.27,366.846 164.354,366.846 \n",
       "  \"/>\n",
       "<polyline clip-path=\"url(#clip260)\" style=\"stroke:#000000; stroke-width:4; stroke-opacity:1; fill:none\" points=\"\n",
       "  152.27,266.342 164.354,266.342 \n",
       "  \"/>\n",
       "<polyline clip-path=\"url(#clip260)\" style=\"stroke:#000000; stroke-width:4; stroke-opacity:1; fill:none\" points=\"\n",
       "  152.27,165.839 164.354,165.839 \n",
       "  \"/>\n",
       "<polyline clip-path=\"url(#clip260)\" style=\"stroke:#000000; stroke-width:4; stroke-opacity:1; fill:none\" points=\"\n",
       "  152.27,65.3348 164.354,65.3348 \n",
       "  \"/>\n",
       "<path clip-path=\"url(#clip260)\" d=\"M 0 0 M161.349 725.036 L173.826 725.036 L173.826 728.832 L161.349 728.832 L161.349 725.036 Z\" fill=\"#000000\" fill-rule=\"evenodd\" fill-opacity=\"1\" /><path clip-path=\"url(#clip260)\" d=\"M 0 0 M193.062 721.286 Q196.418 722.003 198.293 724.272 Q200.191 726.54 200.191 729.874 Q200.191 734.989 196.673 737.79 Q193.154 740.591 186.673 740.591 Q184.497 740.591 182.182 740.151 Q179.891 739.735 177.437 738.878 L177.437 734.364 Q179.381 735.499 181.696 736.077 Q184.011 736.656 186.534 736.656 Q190.932 736.656 193.224 734.92 Q195.539 733.184 195.539 729.874 Q195.539 726.818 193.386 725.105 Q191.256 723.369 187.437 723.369 L183.409 723.369 L183.409 719.526 L187.622 719.526 Q191.071 719.526 192.9 718.161 Q194.729 716.772 194.729 714.179 Q194.729 711.517 192.83 710.105 Q190.955 708.67 187.437 708.67 Q185.516 708.67 183.317 709.087 Q181.118 709.503 178.479 710.383 L178.479 706.216 Q181.141 705.476 183.455 705.105 Q185.793 704.735 187.854 704.735 Q193.178 704.735 196.279 707.165 Q199.381 709.573 199.381 713.693 Q199.381 716.564 197.738 718.554 Q196.094 720.522 193.062 721.286 Z\" fill=\"#000000\" fill-rule=\"evenodd\" fill-opacity=\"1\" /><path clip-path=\"url(#clip260)\" d=\"M 0 0 M320.161 725.036 L332.638 725.036 L332.638 728.832 L320.161 728.832 L320.161 725.036 Z\" fill=\"#000000\" fill-rule=\"evenodd\" fill-opacity=\"1\" /><path clip-path=\"url(#clip260)\" d=\"M 0 0 M341.735 735.985 L358.054 735.985 L358.054 739.92 L336.11 739.92 L336.11 735.985 Q338.772 733.23 343.355 728.6 Q347.962 723.948 349.142 722.605 Q351.388 720.082 352.267 718.346 Q353.17 716.587 353.17 714.897 Q353.17 712.142 351.226 710.406 Q349.304 708.67 346.203 708.67 Q344.003 708.67 341.55 709.434 Q339.119 710.198 336.341 711.749 L336.341 707.027 Q339.166 705.892 341.619 705.314 Q344.073 704.735 346.11 704.735 Q351.48 704.735 354.675 707.42 Q357.869 710.105 357.869 714.596 Q357.869 716.726 357.059 718.647 Q356.272 720.545 354.165 723.138 Q353.587 723.809 350.485 727.026 Q347.383 730.221 341.735 735.985 Z\" fill=\"#000000\" fill-rule=\"evenodd\" fill-opacity=\"1\" /><path clip-path=\"url(#clip260)\" d=\"M 0 0 M478.313 725.036 L490.79 725.036 L490.79 728.832 L478.313 728.832 L478.313 725.036 Z\" fill=\"#000000\" fill-rule=\"evenodd\" fill-opacity=\"1\" /><path clip-path=\"url(#clip260)\" d=\"M 0 0 M496.67 735.985 L504.308 735.985 L504.308 709.619 L495.998 711.286 L495.998 707.027 L504.262 705.36 L508.938 705.36 L508.938 735.985 L516.577 735.985 L516.577 739.92 L496.67 739.92 L496.67 735.985 Z\" fill=\"#000000\" fill-rule=\"evenodd\" fill-opacity=\"1\" /><path clip-path=\"url(#clip260)\" d=\"M 0 0 M655.782 708.439 Q652.171 708.439 650.343 712.003 Q648.537 715.545 648.537 722.675 Q648.537 729.781 650.343 733.346 Q652.171 736.887 655.782 736.887 Q659.417 736.887 661.222 733.346 Q663.051 729.781 663.051 722.675 Q663.051 715.545 661.222 712.003 Q659.417 708.439 655.782 708.439 M655.782 704.735 Q661.593 704.735 664.648 709.341 Q667.727 713.925 667.727 722.675 Q667.727 731.401 664.648 736.008 Q661.593 740.591 655.782 740.591 Q649.972 740.591 646.894 736.008 Q643.838 731.401 643.838 722.675 Q643.838 713.925 646.894 709.341 Q649.972 704.735 655.782 704.735 Z\" fill=\"#000000\" fill-rule=\"evenodd\" fill-opacity=\"1\" /><path clip-path=\"url(#clip260)\" d=\"M 0 0 M804.502 735.985 L812.141 735.985 L812.141 709.619 L803.83 711.286 L803.83 707.027 L812.094 705.36 L816.77 705.36 L816.77 735.985 L824.409 735.985 L824.409 739.92 L804.502 739.92 L804.502 735.985 Z\" fill=\"#000000\" fill-rule=\"evenodd\" fill-opacity=\"1\" /><path clip-path=\"url(#clip260)\" d=\"M 0 0 M967.11 735.985 L983.429 735.985 L983.429 739.92 L961.485 739.92 L961.485 735.985 Q964.147 733.23 968.73 728.6 Q973.337 723.948 974.517 722.605 Q976.763 720.082 977.642 718.346 Q978.545 716.587 978.545 714.897 Q978.545 712.142 976.601 710.406 Q974.679 708.67 971.578 708.67 Q969.378 708.67 966.925 709.434 Q964.494 710.198 961.716 711.749 L961.716 707.027 Q964.541 705.892 966.994 705.314 Q969.448 704.735 971.485 704.735 Q976.855 704.735 980.05 707.42 Q983.244 710.105 983.244 714.596 Q983.244 716.726 982.434 718.647 Q981.647 720.545 979.54 723.138 Q978.962 723.809 975.86 727.026 Q972.758 730.221 967.11 735.985 Z\" fill=\"#000000\" fill-rule=\"evenodd\" fill-opacity=\"1\" /><path clip-path=\"url(#clip260)\" d=\"M 0 0 M1135.04 721.286 Q1138.4 722.003 1140.27 724.272 Q1142.17 726.54 1142.17 729.874 Q1142.17 734.989 1138.65 737.79 Q1135.13 740.591 1128.65 740.591 Q1126.48 740.591 1124.16 740.151 Q1121.87 739.735 1119.42 738.878 L1119.42 734.364 Q1121.36 735.499 1123.68 736.077 Q1125.99 736.656 1128.51 736.656 Q1132.91 736.656 1135.2 734.92 Q1137.52 733.184 1137.52 729.874 Q1137.52 726.818 1135.37 725.105 Q1133.24 723.369 1129.42 723.369 L1125.39 723.369 L1125.39 719.526 L1129.6 719.526 Q1133.05 719.526 1134.88 718.161 Q1136.71 716.772 1136.71 714.179 Q1136.71 711.517 1134.81 710.105 Q1132.94 708.67 1129.42 708.67 Q1127.5 708.67 1125.3 709.087 Q1123.1 709.503 1120.46 710.383 L1120.46 706.216 Q1123.12 705.476 1125.44 705.105 Q1127.77 704.735 1129.83 704.735 Q1135.16 704.735 1138.26 707.165 Q1141.36 709.573 1141.36 713.693 Q1141.36 716.564 1139.72 718.554 Q1138.07 720.522 1135.04 721.286 Z\" fill=\"#000000\" fill-rule=\"evenodd\" fill-opacity=\"1\" /><path clip-path=\"url(#clip260)\" d=\"M 0 0 M89.4272 670.753 L101.904 670.753 L101.904 674.549 L89.4272 674.549 L89.4272 670.753 Z\" fill=\"#000000\" fill-rule=\"evenodd\" fill-opacity=\"1\" /><path clip-path=\"url(#clip260)\" d=\"M 0 0 M121.14 667.003 Q124.496 667.721 126.371 669.989 Q128.27 672.258 128.27 675.591 Q128.27 680.707 124.751 683.508 Q121.233 686.308 114.751 686.308 Q112.575 686.308 110.26 685.869 Q107.969 685.452 105.515 684.596 L105.515 680.082 Q107.459 681.216 109.774 681.795 Q112.089 682.373 114.612 682.373 Q119.01 682.373 121.302 680.637 Q123.617 678.901 123.617 675.591 Q123.617 672.535 121.464 670.822 Q119.334 669.086 115.515 669.086 L111.487 669.086 L111.487 665.244 L115.7 665.244 Q119.149 665.244 120.978 663.878 Q122.807 662.489 122.807 659.897 Q122.807 657.235 120.908 655.823 Q119.033 654.387 115.515 654.387 Q113.594 654.387 111.395 654.804 Q109.196 655.221 106.557 656.1 L106.557 651.934 Q109.219 651.193 111.534 650.823 Q113.871 650.452 115.932 650.452 Q121.256 650.452 124.358 652.883 Q127.459 655.29 127.459 659.41 Q127.459 662.281 125.816 664.272 Q124.172 666.239 121.14 667.003 Z\" fill=\"#000000\" fill-rule=\"evenodd\" fill-opacity=\"1\" /><path clip-path=\"url(#clip260)\" d=\"M 0 0 M90.3762 570.249 L102.853 570.249 L102.853 574.046 L90.3762 574.046 L90.3762 570.249 Z\" fill=\"#000000\" fill-rule=\"evenodd\" fill-opacity=\"1\" /><path clip-path=\"url(#clip260)\" d=\"M 0 0 M111.95 581.198 L128.27 581.198 L128.27 585.133 L106.325 585.133 L106.325 581.198 Q108.987 578.444 113.571 573.814 Q118.177 569.161 119.358 567.819 Q121.603 565.296 122.483 563.56 Q123.385 561.8 123.385 560.11 Q123.385 557.356 121.441 555.62 Q119.52 553.884 116.418 553.884 Q114.219 553.884 111.765 554.648 Q109.334 555.411 106.557 556.962 L106.557 552.24 Q109.381 551.106 111.834 550.527 Q114.288 549.948 116.325 549.948 Q121.696 549.948 124.89 552.634 Q128.084 555.319 128.084 559.81 Q128.084 561.939 127.274 563.86 Q126.487 565.759 124.381 568.351 Q123.802 569.022 120.7 572.24 Q117.598 575.434 111.95 581.198 Z\" fill=\"#000000\" fill-rule=\"evenodd\" fill-opacity=\"1\" /><path clip-path=\"url(#clip260)\" d=\"M 0 0 M90.0059 469.746 L102.483 469.746 L102.483 473.542 L90.0059 473.542 L90.0059 469.746 Z\" fill=\"#000000\" fill-rule=\"evenodd\" fill-opacity=\"1\" /><path clip-path=\"url(#clip260)\" d=\"M 0 0 M108.362 480.695 L116.001 480.695 L116.001 454.329 L107.691 455.996 L107.691 451.736 L115.955 450.07 L120.631 450.07 L120.631 480.695 L128.27 480.695 L128.27 484.63 L108.362 484.63 L108.362 480.695 Z\" fill=\"#000000\" fill-rule=\"evenodd\" fill-opacity=\"1\" /><path clip-path=\"url(#clip260)\" d=\"M 0 0 M116.325 352.645 Q112.714 352.645 110.885 356.209 Q109.08 359.751 109.08 366.881 Q109.08 373.987 110.885 377.552 Q112.714 381.094 116.325 381.094 Q119.959 381.094 121.765 377.552 Q123.594 373.987 123.594 366.881 Q123.594 359.751 121.765 356.209 Q119.959 352.645 116.325 352.645 M116.325 348.941 Q122.135 348.941 125.191 353.547 Q128.27 358.131 128.27 366.881 Q128.27 375.608 125.191 380.214 Q122.135 384.797 116.325 384.797 Q110.515 384.797 107.436 380.214 Q104.381 375.608 104.381 366.881 Q104.381 358.131 107.436 353.547 Q110.515 348.941 116.325 348.941 Z\" fill=\"#000000\" fill-rule=\"evenodd\" fill-opacity=\"1\" /><path clip-path=\"url(#clip260)\" d=\"M 0 0 M108.362 279.687 L116.001 279.687 L116.001 253.321 L107.691 254.988 L107.691 250.729 L115.955 249.062 L120.631 249.062 L120.631 279.687 L128.27 279.687 L128.27 283.622 L108.362 283.622 L108.362 279.687 Z\" fill=\"#000000\" fill-rule=\"evenodd\" fill-opacity=\"1\" /><path clip-path=\"url(#clip260)\" d=\"M 0 0 M111.95 179.183 L128.27 179.183 L128.27 183.119 L106.325 183.119 L106.325 179.183 Q108.987 176.429 113.571 171.799 Q118.177 167.146 119.358 165.804 Q121.603 163.281 122.483 161.545 Q123.385 159.785 123.385 158.095 Q123.385 155.341 121.441 153.605 Q119.52 151.869 116.418 151.869 Q114.219 151.869 111.765 152.633 Q109.334 153.396 106.557 154.947 L106.557 150.225 Q109.381 149.091 111.834 148.512 Q114.288 147.934 116.325 147.934 Q121.696 147.934 124.89 150.619 Q128.084 153.304 128.084 157.795 Q128.084 159.924 127.274 161.845 Q126.487 163.744 124.381 166.336 Q123.802 167.007 120.7 170.225 Q117.598 173.419 111.95 179.183 Z\" fill=\"#000000\" fill-rule=\"evenodd\" fill-opacity=\"1\" /><path clip-path=\"url(#clip260)\" d=\"M 0 0 M121.14 63.9806 Q124.496 64.6982 126.371 66.9667 Q128.27 69.2352 128.27 72.5685 Q128.27 77.6842 124.751 80.4851 Q121.233 83.2861 114.751 83.2861 Q112.575 83.2861 110.26 82.8462 Q107.969 82.4296 105.515 81.5731 L105.515 77.0592 Q107.459 78.1935 109.774 78.7722 Q112.089 79.3509 114.612 79.3509 Q119.01 79.3509 121.302 77.6148 Q123.617 75.8787 123.617 72.5685 Q123.617 69.513 121.464 67.8 Q119.334 66.0639 115.515 66.0639 L111.487 66.0639 L111.487 62.2214 L115.7 62.2214 Q119.149 62.2214 120.978 60.8556 Q122.807 59.4667 122.807 56.8742 Q122.807 54.2121 120.908 52.8001 Q119.033 51.3649 115.515 51.3649 Q113.594 51.3649 111.395 51.7816 Q109.196 52.1983 106.557 53.0779 L106.557 48.9112 Q109.219 48.1705 111.534 47.8001 Q113.871 47.4298 115.932 47.4298 Q121.256 47.4298 124.358 49.8603 Q127.459 52.2677 127.459 56.3881 Q127.459 59.2584 125.816 61.2491 Q124.172 63.2167 121.14 63.9806 Z\" fill=\"#000000\" fill-rule=\"evenodd\" fill-opacity=\"1\" /><polyline clip-path=\"url(#clip262)\" style=\"stroke:#009af9; stroke-width:4; stroke-opacity:1; fill:none\" points=\"\n",
       "  180.77,668.357 196.604,658.307 212.438,648.256 228.271,638.206 244.105,628.156 259.939,618.105 275.773,608.055 291.606,598.005 307.44,587.954 323.274,577.904 \n",
       "  339.108,567.853 354.941,557.803 370.775,547.753 386.609,537.702 402.443,527.652 418.276,517.602 434.11,507.551 449.944,497.501 465.778,487.45 481.611,477.4 \n",
       "  497.445,467.35 513.279,457.299 529.112,447.249 544.946,437.199 560.78,427.148 576.614,417.098 592.447,407.047 608.281,396.997 624.115,386.947 639.949,376.896 \n",
       "  655.782,366.846 671.616,356.796 687.45,346.745 703.284,336.695 719.117,326.644 734.951,316.594 750.785,306.544 766.619,296.493 782.452,286.443 798.286,276.393 \n",
       "  814.12,266.342 829.953,256.292 845.787,246.241 861.621,236.191 877.455,226.141 893.288,216.09 909.122,206.04 924.956,195.99 940.79,185.939 956.623,175.889 \n",
       "  972.457,165.839 988.291,155.788 1004.12,145.738 1019.96,135.687 1035.79,125.637 1051.63,115.587 1067.46,105.536 1083.29,95.4859 1099.13,85.4355 1114.96,75.3851 \n",
       "  1130.79,65.3348 \n",
       "  \"/>\n",
       "<path clip-path=\"url(#clip260)\" d=\"\n",
       "M1318.72 686.448 L2352.76 686.448 L2352.76 47.2441 L1318.72 47.2441  Z\n",
       "  \" fill=\"#ffffff\" fill-rule=\"evenodd\" fill-opacity=\"1\"/>\n",
       "<defs>\n",
       "  <clipPath id=\"clip263\">\n",
       "    <rect x=\"1318\" y=\"47\" width=\"1035\" height=\"640\"/>\n",
       "  </clipPath>\n",
       "</defs>\n",
       "<polyline clip-path=\"url(#clip263)\" style=\"stroke:#000000; stroke-width:2; stroke-opacity:0.1; fill:none\" points=\"\n",
       "  1347.98,686.448 1347.98,47.2441 \n",
       "  \"/>\n",
       "<polyline clip-path=\"url(#clip263)\" style=\"stroke:#000000; stroke-width:2; stroke-opacity:0.1; fill:none\" points=\"\n",
       "  1510.57,686.448 1510.57,47.2441 \n",
       "  \"/>\n",
       "<polyline clip-path=\"url(#clip263)\" style=\"stroke:#000000; stroke-width:2; stroke-opacity:0.1; fill:none\" points=\"\n",
       "  1673.15,686.448 1673.15,47.2441 \n",
       "  \"/>\n",
       "<polyline clip-path=\"url(#clip263)\" style=\"stroke:#000000; stroke-width:2; stroke-opacity:0.1; fill:none\" points=\"\n",
       "  1835.74,686.448 1835.74,47.2441 \n",
       "  \"/>\n",
       "<polyline clip-path=\"url(#clip263)\" style=\"stroke:#000000; stroke-width:2; stroke-opacity:0.1; fill:none\" points=\"\n",
       "  1998.32,686.448 1998.32,47.2441 \n",
       "  \"/>\n",
       "<polyline clip-path=\"url(#clip263)\" style=\"stroke:#000000; stroke-width:2; stroke-opacity:0.1; fill:none\" points=\"\n",
       "  2160.91,686.448 2160.91,47.2441 \n",
       "  \"/>\n",
       "<polyline clip-path=\"url(#clip263)\" style=\"stroke:#000000; stroke-width:2; stroke-opacity:0.1; fill:none\" points=\"\n",
       "  2323.49,686.448 2323.49,47.2441 \n",
       "  \"/>\n",
       "<polyline clip-path=\"url(#clip263)\" style=\"stroke:#000000; stroke-width:2; stroke-opacity:0.1; fill:none\" points=\"\n",
       "  1318.72,668.357 2352.76,668.357 \n",
       "  \"/>\n",
       "<polyline clip-path=\"url(#clip263)\" style=\"stroke:#000000; stroke-width:2; stroke-opacity:0.1; fill:none\" points=\"\n",
       "  1318.72,534.352 2352.76,534.352 \n",
       "  \"/>\n",
       "<polyline clip-path=\"url(#clip263)\" style=\"stroke:#000000; stroke-width:2; stroke-opacity:0.1; fill:none\" points=\"\n",
       "  1318.72,400.347 2352.76,400.347 \n",
       "  \"/>\n",
       "<polyline clip-path=\"url(#clip263)\" style=\"stroke:#000000; stroke-width:2; stroke-opacity:0.1; fill:none\" points=\"\n",
       "  1318.72,266.342 2352.76,266.342 \n",
       "  \"/>\n",
       "<polyline clip-path=\"url(#clip263)\" style=\"stroke:#000000; stroke-width:2; stroke-opacity:0.1; fill:none\" points=\"\n",
       "  1318.72,132.337 2352.76,132.337 \n",
       "  \"/>\n",
       "<polyline clip-path=\"url(#clip260)\" style=\"stroke:#000000; stroke-width:4; stroke-opacity:1; fill:none\" points=\"\n",
       "  1318.72,686.448 2352.76,686.448 \n",
       "  \"/>\n",
       "<polyline clip-path=\"url(#clip260)\" style=\"stroke:#000000; stroke-width:4; stroke-opacity:1; fill:none\" points=\"\n",
       "  1318.72,686.448 1318.72,47.2441 \n",
       "  \"/>\n",
       "<polyline clip-path=\"url(#clip260)\" style=\"stroke:#000000; stroke-width:4; stroke-opacity:1; fill:none\" points=\"\n",
       "  1347.98,686.448 1347.98,678.777 \n",
       "  \"/>\n",
       "<polyline clip-path=\"url(#clip260)\" style=\"stroke:#000000; stroke-width:4; stroke-opacity:1; fill:none\" points=\"\n",
       "  1510.57,686.448 1510.57,678.777 \n",
       "  \"/>\n",
       "<polyline clip-path=\"url(#clip260)\" style=\"stroke:#000000; stroke-width:4; stroke-opacity:1; fill:none\" points=\"\n",
       "  1673.15,686.448 1673.15,678.777 \n",
       "  \"/>\n",
       "<polyline clip-path=\"url(#clip260)\" style=\"stroke:#000000; stroke-width:4; stroke-opacity:1; fill:none\" points=\"\n",
       "  1835.74,686.448 1835.74,678.777 \n",
       "  \"/>\n",
       "<polyline clip-path=\"url(#clip260)\" style=\"stroke:#000000; stroke-width:4; stroke-opacity:1; fill:none\" points=\"\n",
       "  1998.32,686.448 1998.32,678.777 \n",
       "  \"/>\n",
       "<polyline clip-path=\"url(#clip260)\" style=\"stroke:#000000; stroke-width:4; stroke-opacity:1; fill:none\" points=\"\n",
       "  2160.91,686.448 2160.91,678.777 \n",
       "  \"/>\n",
       "<polyline clip-path=\"url(#clip260)\" style=\"stroke:#000000; stroke-width:4; stroke-opacity:1; fill:none\" points=\"\n",
       "  2323.49,686.448 2323.49,678.777 \n",
       "  \"/>\n",
       "<polyline clip-path=\"url(#clip260)\" style=\"stroke:#000000; stroke-width:4; stroke-opacity:1; fill:none\" points=\"\n",
       "  1318.72,668.357 1331.12,668.357 \n",
       "  \"/>\n",
       "<polyline clip-path=\"url(#clip260)\" style=\"stroke:#000000; stroke-width:4; stroke-opacity:1; fill:none\" points=\"\n",
       "  1318.72,534.352 1331.12,534.352 \n",
       "  \"/>\n",
       "<polyline clip-path=\"url(#clip260)\" style=\"stroke:#000000; stroke-width:4; stroke-opacity:1; fill:none\" points=\"\n",
       "  1318.72,400.347 1331.12,400.347 \n",
       "  \"/>\n",
       "<polyline clip-path=\"url(#clip260)\" style=\"stroke:#000000; stroke-width:4; stroke-opacity:1; fill:none\" points=\"\n",
       "  1318.72,266.342 1331.12,266.342 \n",
       "  \"/>\n",
       "<polyline clip-path=\"url(#clip260)\" style=\"stroke:#000000; stroke-width:4; stroke-opacity:1; fill:none\" points=\"\n",
       "  1318.72,132.337 1331.12,132.337 \n",
       "  \"/>\n",
       "<path clip-path=\"url(#clip260)\" d=\"M 0 0 M1328.56 725.036 L1341.04 725.036 L1341.04 728.832 L1328.56 728.832 L1328.56 725.036 Z\" fill=\"#000000\" fill-rule=\"evenodd\" fill-opacity=\"1\" /><path clip-path=\"url(#clip260)\" d=\"M 0 0 M1360.27 721.286 Q1363.63 722.003 1365.5 724.272 Q1367.4 726.54 1367.4 729.874 Q1367.4 734.989 1363.88 737.79 Q1360.37 740.591 1353.88 740.591 Q1351.71 740.591 1349.39 740.151 Q1347.1 739.735 1344.65 738.878 L1344.65 734.364 Q1346.59 735.499 1348.91 736.077 Q1351.22 736.656 1353.75 736.656 Q1358.14 736.656 1360.44 734.92 Q1362.75 733.184 1362.75 729.874 Q1362.75 726.818 1360.6 725.105 Q1358.47 723.369 1354.65 723.369 L1350.62 723.369 L1350.62 719.526 L1354.83 719.526 Q1358.28 719.526 1360.11 718.161 Q1361.94 716.772 1361.94 714.179 Q1361.94 711.517 1360.04 710.105 Q1358.17 708.67 1354.65 708.67 Q1352.73 708.67 1350.53 709.087 Q1348.33 709.503 1345.69 710.383 L1345.69 706.216 Q1348.35 705.476 1350.67 705.105 Q1353 704.735 1355.07 704.735 Q1360.39 704.735 1363.49 707.165 Q1366.59 709.573 1366.59 713.693 Q1366.59 716.564 1364.95 718.554 Q1363.31 720.522 1360.27 721.286 Z\" fill=\"#000000\" fill-rule=\"evenodd\" fill-opacity=\"1\" /><path clip-path=\"url(#clip260)\" d=\"M 0 0 M1491.62 725.036 L1504.1 725.036 L1504.1 728.832 L1491.62 728.832 L1491.62 725.036 Z\" fill=\"#000000\" fill-rule=\"evenodd\" fill-opacity=\"1\" /><path clip-path=\"url(#clip260)\" d=\"M 0 0 M1513.19 735.985 L1529.51 735.985 L1529.51 739.92 L1507.57 739.92 L1507.57 735.985 Q1510.23 733.23 1514.81 728.6 Q1519.42 723.948 1520.6 722.605 Q1522.85 720.082 1523.73 718.346 Q1524.63 716.587 1524.63 714.897 Q1524.63 712.142 1522.68 710.406 Q1520.76 708.67 1517.66 708.67 Q1515.46 708.67 1513.01 709.434 Q1510.58 710.198 1507.8 711.749 L1507.8 707.027 Q1510.62 705.892 1513.08 705.314 Q1515.53 704.735 1517.57 704.735 Q1522.94 704.735 1526.13 707.42 Q1529.33 710.105 1529.33 714.596 Q1529.33 716.726 1528.52 718.647 Q1527.73 720.545 1525.62 723.138 Q1525.05 723.809 1521.94 727.026 Q1518.84 730.221 1513.19 735.985 Z\" fill=\"#000000\" fill-rule=\"evenodd\" fill-opacity=\"1\" /><path clip-path=\"url(#clip260)\" d=\"M 0 0 M1654.02 725.036 L1666.5 725.036 L1666.5 728.832 L1654.02 728.832 L1654.02 725.036 Z\" fill=\"#000000\" fill-rule=\"evenodd\" fill-opacity=\"1\" /><path clip-path=\"url(#clip260)\" d=\"M 0 0 M1672.38 735.985 L1680.01 735.985 L1680.01 709.619 L1671.7 711.286 L1671.7 707.027 L1679.97 705.36 L1684.64 705.36 L1684.64 735.985 L1692.28 735.985 L1692.28 739.92 L1672.38 739.92 L1672.38 735.985 Z\" fill=\"#000000\" fill-rule=\"evenodd\" fill-opacity=\"1\" /><path clip-path=\"url(#clip260)\" d=\"M 0 0 M1835.74 708.439 Q1832.13 708.439 1830.3 712.003 Q1828.49 715.545 1828.49 722.675 Q1828.49 729.781 1830.3 733.346 Q1832.13 736.887 1835.74 736.887 Q1839.37 736.887 1841.18 733.346 Q1843 729.781 1843 722.675 Q1843 715.545 1841.18 712.003 Q1839.37 708.439 1835.74 708.439 M1835.74 704.735 Q1841.55 704.735 1844.6 709.341 Q1847.68 713.925 1847.68 722.675 Q1847.68 731.401 1844.6 736.008 Q1841.55 740.591 1835.74 740.591 Q1829.93 740.591 1826.85 736.008 Q1823.79 731.401 1823.79 722.675 Q1823.79 713.925 1826.85 709.341 Q1829.93 704.735 1835.74 704.735 Z\" fill=\"#000000\" fill-rule=\"evenodd\" fill-opacity=\"1\" /><path clip-path=\"url(#clip260)\" d=\"M 0 0 M1988.7 735.985 L1996.34 735.985 L1996.34 709.619 L1988.03 711.286 L1988.03 707.027 L1996.3 705.36 L2000.97 705.36 L2000.97 735.985 L2008.61 735.985 L2008.61 739.92 L1988.7 739.92 L1988.7 735.985 Z\" fill=\"#000000\" fill-rule=\"evenodd\" fill-opacity=\"1\" /><path clip-path=\"url(#clip260)\" d=\"M 0 0 M2155.56 735.985 L2171.88 735.985 L2171.88 739.92 L2149.93 739.92 L2149.93 735.985 Q2152.6 733.23 2157.18 728.6 Q2161.79 723.948 2162.97 722.605 Q2165.21 720.082 2166.09 718.346 Q2166.99 716.587 2166.99 714.897 Q2166.99 712.142 2165.05 710.406 Q2163.13 708.67 2160.03 708.67 Q2157.83 708.67 2155.37 709.434 Q2152.94 710.198 2150.17 711.749 L2150.17 707.027 Q2152.99 705.892 2155.44 705.314 Q2157.9 704.735 2159.93 704.735 Q2165.3 704.735 2168.5 707.42 Q2171.69 710.105 2171.69 714.596 Q2171.69 716.726 2170.88 718.647 Q2170.1 720.545 2167.99 723.138 Q2167.41 723.809 2164.31 727.026 Q2161.21 730.221 2155.56 735.985 Z\" fill=\"#000000\" fill-rule=\"evenodd\" fill-opacity=\"1\" /><path clip-path=\"url(#clip260)\" d=\"M 0 0 M2327.74 721.286 Q2331.09 722.003 2332.97 724.272 Q2334.87 726.54 2334.87 729.874 Q2334.87 734.989 2331.35 737.79 Q2327.83 740.591 2321.35 740.591 Q2319.17 740.591 2316.86 740.151 Q2314.57 739.735 2312.11 738.878 L2312.11 734.364 Q2314.06 735.499 2316.37 736.077 Q2318.69 736.656 2321.21 736.656 Q2325.61 736.656 2327.9 734.92 Q2330.22 733.184 2330.22 729.874 Q2330.22 726.818 2328.06 725.105 Q2325.93 723.369 2322.11 723.369 L2318.09 723.369 L2318.09 719.526 L2322.3 719.526 Q2325.75 719.526 2327.58 718.161 Q2329.4 716.772 2329.4 714.179 Q2329.4 711.517 2327.51 710.105 Q2325.63 708.67 2322.11 708.67 Q2320.19 708.67 2317.99 709.087 Q2315.79 709.503 2313.16 710.383 L2313.16 706.216 Q2315.82 705.476 2318.13 705.105 Q2320.47 704.735 2322.53 704.735 Q2327.85 704.735 2330.96 707.165 Q2334.06 709.573 2334.06 713.693 Q2334.06 716.564 2332.41 718.554 Q2330.77 720.522 2327.74 721.286 Z\" fill=\"#000000\" fill-rule=\"evenodd\" fill-opacity=\"1\" /><path clip-path=\"url(#clip260)\" d=\"M 0 0 M1282.77 654.156 Q1279.16 654.156 1277.33 657.721 Q1275.53 661.262 1275.53 668.392 Q1275.53 675.498 1277.33 679.063 Q1279.16 682.605 1282.77 682.605 Q1286.41 682.605 1288.21 679.063 Q1290.04 675.498 1290.04 668.392 Q1290.04 661.262 1288.21 657.721 Q1286.41 654.156 1282.77 654.156 M1282.77 650.452 Q1288.58 650.452 1291.64 655.059 Q1294.72 659.642 1294.72 668.392 Q1294.72 677.119 1291.64 681.725 Q1288.58 686.308 1282.77 686.308 Q1276.96 686.308 1273.88 681.725 Q1270.83 677.119 1270.83 668.392 Q1270.83 659.642 1273.88 655.059 Q1276.96 650.452 1282.77 650.452 Z\" fill=\"#000000\" fill-rule=\"evenodd\" fill-opacity=\"1\" /><path clip-path=\"url(#clip260)\" d=\"M 0 0 M1278.4 547.697 L1294.72 547.697 L1294.72 551.632 L1272.77 551.632 L1272.77 547.697 Q1275.43 544.942 1280.02 540.313 Q1284.62 535.66 1285.8 534.317 Q1288.05 531.794 1288.93 530.058 Q1289.83 528.299 1289.83 526.609 Q1289.83 523.855 1287.89 522.118 Q1285.97 520.382 1282.86 520.382 Q1280.67 520.382 1278.21 521.146 Q1275.78 521.91 1273 523.461 L1273 518.739 Q1275.83 517.605 1278.28 517.026 Q1280.74 516.447 1282.77 516.447 Q1288.14 516.447 1291.34 519.132 Q1294.53 521.818 1294.53 526.308 Q1294.53 528.438 1293.72 530.359 Q1292.93 532.257 1290.83 534.85 Q1290.25 535.521 1287.15 538.739 Q1284.05 541.933 1278.4 547.697 Z\" fill=\"#000000\" fill-rule=\"evenodd\" fill-opacity=\"1\" /><path clip-path=\"url(#clip260)\" d=\"M 0 0 M1285.13 387.141 L1273.33 405.59 L1285.13 405.59 L1285.13 387.141 M1283.91 383.067 L1289.79 383.067 L1289.79 405.59 L1294.72 405.59 L1294.72 409.479 L1289.79 409.479 L1289.79 417.627 L1285.13 417.627 L1285.13 409.479 L1269.53 409.479 L1269.53 404.965 L1283.91 383.067 Z\" fill=\"#000000\" fill-rule=\"evenodd\" fill-opacity=\"1\" /><path clip-path=\"url(#clip260)\" d=\"M 0 0 M1283.19 264.479 Q1280.04 264.479 1278.19 266.632 Q1276.36 268.784 1276.36 272.534 Q1276.36 276.261 1278.19 278.437 Q1280.04 280.59 1283.19 280.59 Q1286.34 280.59 1288.17 278.437 Q1290.02 276.261 1290.02 272.534 Q1290.02 268.784 1288.17 266.632 Q1286.34 264.479 1283.19 264.479 M1292.47 249.826 L1292.47 254.085 Q1290.71 253.252 1288.91 252.812 Q1287.12 252.372 1285.36 252.372 Q1280.74 252.372 1278.28 255.497 Q1275.85 258.622 1275.5 264.942 Q1276.87 262.928 1278.93 261.863 Q1280.99 260.775 1283.47 260.775 Q1288.67 260.775 1291.68 263.946 Q1294.72 267.095 1294.72 272.534 Q1294.72 277.858 1291.57 281.076 Q1288.42 284.294 1283.19 284.294 Q1277.19 284.294 1274.02 279.71 Q1270.85 275.104 1270.85 266.377 Q1270.85 258.183 1274.74 253.321 Q1278.63 248.437 1285.18 248.437 Q1286.94 248.437 1288.72 248.784 Q1290.53 249.132 1292.47 249.826 Z\" fill=\"#000000\" fill-rule=\"evenodd\" fill-opacity=\"1\" /><path clip-path=\"url(#clip260)\" d=\"M 0 0 M1282.86 133.205 Q1279.53 133.205 1277.61 134.988 Q1275.71 136.77 1275.71 139.895 Q1275.71 143.02 1277.61 144.802 Q1279.53 146.585 1282.86 146.585 Q1286.2 146.585 1288.12 144.802 Q1290.04 142.997 1290.04 139.895 Q1290.04 136.77 1288.12 134.988 Q1286.22 133.205 1282.86 133.205 M1278.19 131.215 Q1275.18 130.474 1273.49 128.414 Q1271.82 126.353 1271.82 123.391 Q1271.82 119.247 1274.76 116.84 Q1277.73 114.432 1282.86 114.432 Q1288.03 114.432 1290.97 116.84 Q1293.91 119.247 1293.91 123.391 Q1293.91 126.353 1292.22 128.414 Q1290.55 130.474 1287.56 131.215 Q1290.94 132.002 1292.82 134.293 Q1294.72 136.585 1294.72 139.895 Q1294.72 144.918 1291.64 147.603 Q1288.58 150.289 1282.86 150.289 Q1277.15 150.289 1274.07 147.603 Q1271.01 144.918 1271.01 139.895 Q1271.01 136.585 1272.91 134.293 Q1274.81 132.002 1278.19 131.215 M1276.48 123.83 Q1276.48 126.516 1278.14 128.02 Q1279.83 129.525 1282.86 129.525 Q1285.87 129.525 1287.56 128.02 Q1289.28 126.516 1289.28 123.83 Q1289.28 121.145 1287.56 119.641 Q1285.87 118.136 1282.86 118.136 Q1279.83 118.136 1278.14 119.641 Q1276.48 121.145 1276.48 123.83 Z\" fill=\"#000000\" fill-rule=\"evenodd\" fill-opacity=\"1\" /><polyline clip-path=\"url(#clip263)\" style=\"stroke:#009af9; stroke-width:4; stroke-opacity:1; fill:none\" points=\"\n",
       "  1347.98,65.3348 1364.24,104.866 1380.5,143.058 1396.76,179.909 1413.02,215.42 1429.27,249.592 1445.53,282.423 1461.79,313.914 1478.05,344.065 1494.31,372.876 \n",
       "  1510.57,400.347 1526.83,426.478 1543.08,451.269 1559.34,474.72 1575.6,496.831 1591.86,517.602 1608.12,537.032 1624.38,555.123 1640.63,571.874 1656.89,587.284 \n",
       "  1673.15,601.355 1689.41,614.085 1705.67,625.476 1721.93,635.526 1738.19,644.236 1754.44,651.607 1770.7,657.637 1786.96,662.327 1803.22,665.677 1819.48,667.687 \n",
       "  1835.74,668.357 1851.99,667.687 1868.25,665.677 1884.51,662.327 1900.77,657.637 1917.03,651.607 1933.29,644.236 1949.55,635.526 1965.8,625.476 1982.06,614.085 \n",
       "  1998.32,601.355 2014.58,587.284 2030.84,571.874 2047.1,555.123 2063.35,537.032 2079.61,517.602 2095.87,496.831 2112.13,474.72 2128.39,451.269 2144.65,426.478 \n",
       "  2160.91,400.347 2177.16,372.876 2193.42,344.065 2209.68,313.914 2225.94,282.423 2242.2,249.592 2258.46,215.42 2274.72,179.909 2290.97,143.058 2307.23,104.866 \n",
       "  2323.49,65.3348 \n",
       "  \"/>\n",
       "<path clip-path=\"url(#clip260)\" d=\"\n",
       "M152.27 1486.45 L1159.3 1486.45 L1159.3 847.244 L152.27 847.244  Z\n",
       "  \" fill=\"#ffffff\" fill-rule=\"evenodd\" fill-opacity=\"1\"/>\n",
       "<defs>\n",
       "  <clipPath id=\"clip264\">\n",
       "    <rect x=\"152\" y=\"847\" width=\"1008\" height=\"640\"/>\n",
       "  </clipPath>\n",
       "</defs>\n",
       "<polyline clip-path=\"url(#clip264)\" style=\"stroke:#000000; stroke-width:2; stroke-opacity:0.1; fill:none\" points=\"\n",
       "  180.77,1486.45 180.77,847.244 \n",
       "  \"/>\n",
       "<polyline clip-path=\"url(#clip264)\" style=\"stroke:#000000; stroke-width:2; stroke-opacity:0.1; fill:none\" points=\"\n",
       "  339.108,1486.45 339.108,847.244 \n",
       "  \"/>\n",
       "<polyline clip-path=\"url(#clip264)\" style=\"stroke:#000000; stroke-width:2; stroke-opacity:0.1; fill:none\" points=\"\n",
       "  497.445,1486.45 497.445,847.244 \n",
       "  \"/>\n",
       "<polyline clip-path=\"url(#clip264)\" style=\"stroke:#000000; stroke-width:2; stroke-opacity:0.1; fill:none\" points=\"\n",
       "  655.782,1486.45 655.782,847.244 \n",
       "  \"/>\n",
       "<polyline clip-path=\"url(#clip264)\" style=\"stroke:#000000; stroke-width:2; stroke-opacity:0.1; fill:none\" points=\"\n",
       "  814.12,1486.45 814.12,847.244 \n",
       "  \"/>\n",
       "<polyline clip-path=\"url(#clip264)\" style=\"stroke:#000000; stroke-width:2; stroke-opacity:0.1; fill:none\" points=\"\n",
       "  972.457,1486.45 972.457,847.244 \n",
       "  \"/>\n",
       "<polyline clip-path=\"url(#clip264)\" style=\"stroke:#000000; stroke-width:2; stroke-opacity:0.1; fill:none\" points=\"\n",
       "  1130.79,1486.45 1130.79,847.244 \n",
       "  \"/>\n",
       "<polyline clip-path=\"url(#clip264)\" style=\"stroke:#000000; stroke-width:2; stroke-opacity:0.1; fill:none\" points=\"\n",
       "  152.27,1390.19 1159.3,1390.19 \n",
       "  \"/>\n",
       "<polyline clip-path=\"url(#clip264)\" style=\"stroke:#000000; stroke-width:2; stroke-opacity:0.1; fill:none\" points=\"\n",
       "  152.27,1278.52 1159.3,1278.52 \n",
       "  \"/>\n",
       "<polyline clip-path=\"url(#clip264)\" style=\"stroke:#000000; stroke-width:2; stroke-opacity:0.1; fill:none\" points=\"\n",
       "  152.27,1166.85 1159.3,1166.85 \n",
       "  \"/>\n",
       "<polyline clip-path=\"url(#clip264)\" style=\"stroke:#000000; stroke-width:2; stroke-opacity:0.1; fill:none\" points=\"\n",
       "  152.27,1055.18 1159.3,1055.18 \n",
       "  \"/>\n",
       "<polyline clip-path=\"url(#clip264)\" style=\"stroke:#000000; stroke-width:2; stroke-opacity:0.1; fill:none\" points=\"\n",
       "  152.27,943.504 1159.3,943.504 \n",
       "  \"/>\n",
       "<polyline clip-path=\"url(#clip260)\" style=\"stroke:#000000; stroke-width:4; stroke-opacity:1; fill:none\" points=\"\n",
       "  152.27,1486.45 1159.3,1486.45 \n",
       "  \"/>\n",
       "<polyline clip-path=\"url(#clip260)\" style=\"stroke:#000000; stroke-width:4; stroke-opacity:1; fill:none\" points=\"\n",
       "  152.27,1486.45 152.27,847.244 \n",
       "  \"/>\n",
       "<polyline clip-path=\"url(#clip260)\" style=\"stroke:#000000; stroke-width:4; stroke-opacity:1; fill:none\" points=\"\n",
       "  180.77,1486.45 180.77,1478.78 \n",
       "  \"/>\n",
       "<polyline clip-path=\"url(#clip260)\" style=\"stroke:#000000; stroke-width:4; stroke-opacity:1; fill:none\" points=\"\n",
       "  339.108,1486.45 339.108,1478.78 \n",
       "  \"/>\n",
       "<polyline clip-path=\"url(#clip260)\" style=\"stroke:#000000; stroke-width:4; stroke-opacity:1; fill:none\" points=\"\n",
       "  497.445,1486.45 497.445,1478.78 \n",
       "  \"/>\n",
       "<polyline clip-path=\"url(#clip260)\" style=\"stroke:#000000; stroke-width:4; stroke-opacity:1; fill:none\" points=\"\n",
       "  655.782,1486.45 655.782,1478.78 \n",
       "  \"/>\n",
       "<polyline clip-path=\"url(#clip260)\" style=\"stroke:#000000; stroke-width:4; stroke-opacity:1; fill:none\" points=\"\n",
       "  814.12,1486.45 814.12,1478.78 \n",
       "  \"/>\n",
       "<polyline clip-path=\"url(#clip260)\" style=\"stroke:#000000; stroke-width:4; stroke-opacity:1; fill:none\" points=\"\n",
       "  972.457,1486.45 972.457,1478.78 \n",
       "  \"/>\n",
       "<polyline clip-path=\"url(#clip260)\" style=\"stroke:#000000; stroke-width:4; stroke-opacity:1; fill:none\" points=\"\n",
       "  1130.79,1486.45 1130.79,1478.78 \n",
       "  \"/>\n",
       "<polyline clip-path=\"url(#clip260)\" style=\"stroke:#000000; stroke-width:4; stroke-opacity:1; fill:none\" points=\"\n",
       "  152.27,1390.19 164.354,1390.19 \n",
       "  \"/>\n",
       "<polyline clip-path=\"url(#clip260)\" style=\"stroke:#000000; stroke-width:4; stroke-opacity:1; fill:none\" points=\"\n",
       "  152.27,1278.52 164.354,1278.52 \n",
       "  \"/>\n",
       "<polyline clip-path=\"url(#clip260)\" style=\"stroke:#000000; stroke-width:4; stroke-opacity:1; fill:none\" points=\"\n",
       "  152.27,1166.85 164.354,1166.85 \n",
       "  \"/>\n",
       "<polyline clip-path=\"url(#clip260)\" style=\"stroke:#000000; stroke-width:4; stroke-opacity:1; fill:none\" points=\"\n",
       "  152.27,1055.18 164.354,1055.18 \n",
       "  \"/>\n",
       "<polyline clip-path=\"url(#clip260)\" style=\"stroke:#000000; stroke-width:4; stroke-opacity:1; fill:none\" points=\"\n",
       "  152.27,943.504 164.354,943.504 \n",
       "  \"/>\n",
       "<path clip-path=\"url(#clip260)\" d=\"M 0 0 M161.349 1525.04 L173.826 1525.04 L173.826 1528.83 L161.349 1528.83 L161.349 1525.04 Z\" fill=\"#000000\" fill-rule=\"evenodd\" fill-opacity=\"1\" /><path clip-path=\"url(#clip260)\" d=\"M 0 0 M193.062 1521.29 Q196.418 1522 198.293 1524.27 Q200.191 1526.54 200.191 1529.87 Q200.191 1534.99 196.673 1537.79 Q193.154 1540.59 186.673 1540.59 Q184.497 1540.59 182.182 1540.15 Q179.891 1539.73 177.437 1538.88 L177.437 1534.36 Q179.381 1535.5 181.696 1536.08 Q184.011 1536.66 186.534 1536.66 Q190.932 1536.66 193.224 1534.92 Q195.539 1533.18 195.539 1529.87 Q195.539 1526.82 193.386 1525.11 Q191.256 1523.37 187.437 1523.37 L183.409 1523.37 L183.409 1519.53 L187.622 1519.53 Q191.071 1519.53 192.9 1518.16 Q194.729 1516.77 194.729 1514.18 Q194.729 1511.52 192.83 1510.11 Q190.955 1508.67 187.437 1508.67 Q185.516 1508.67 183.317 1509.09 Q181.118 1509.5 178.479 1510.38 L178.479 1506.22 Q181.141 1505.48 183.455 1505.11 Q185.793 1504.73 187.854 1504.73 Q193.178 1504.73 196.279 1507.17 Q199.381 1509.57 199.381 1513.69 Q199.381 1516.56 197.738 1518.55 Q196.094 1520.52 193.062 1521.29 Z\" fill=\"#000000\" fill-rule=\"evenodd\" fill-opacity=\"1\" /><path clip-path=\"url(#clip260)\" d=\"M 0 0 M320.161 1525.04 L332.638 1525.04 L332.638 1528.83 L320.161 1528.83 L320.161 1525.04 Z\" fill=\"#000000\" fill-rule=\"evenodd\" fill-opacity=\"1\" /><path clip-path=\"url(#clip260)\" d=\"M 0 0 M341.735 1535.98 L358.054 1535.98 L358.054 1539.92 L336.11 1539.92 L336.11 1535.98 Q338.772 1533.23 343.355 1528.6 Q347.962 1523.95 349.142 1522.61 Q351.388 1520.08 352.267 1518.35 Q353.17 1516.59 353.17 1514.9 Q353.17 1512.14 351.226 1510.41 Q349.304 1508.67 346.203 1508.67 Q344.003 1508.67 341.55 1509.43 Q339.119 1510.2 336.341 1511.75 L336.341 1507.03 Q339.166 1505.89 341.619 1505.31 Q344.073 1504.73 346.11 1504.73 Q351.48 1504.73 354.675 1507.42 Q357.869 1510.11 357.869 1514.6 Q357.869 1516.73 357.059 1518.65 Q356.272 1520.54 354.165 1523.14 Q353.587 1523.81 350.485 1527.03 Q347.383 1530.22 341.735 1535.98 Z\" fill=\"#000000\" fill-rule=\"evenodd\" fill-opacity=\"1\" /><path clip-path=\"url(#clip260)\" d=\"M 0 0 M478.313 1525.04 L490.79 1525.04 L490.79 1528.83 L478.313 1528.83 L478.313 1525.04 Z\" fill=\"#000000\" fill-rule=\"evenodd\" fill-opacity=\"1\" /><path clip-path=\"url(#clip260)\" d=\"M 0 0 M496.67 1535.98 L504.308 1535.98 L504.308 1509.62 L495.998 1511.29 L495.998 1507.03 L504.262 1505.36 L508.938 1505.36 L508.938 1535.98 L516.577 1535.98 L516.577 1539.92 L496.67 1539.92 L496.67 1535.98 Z\" fill=\"#000000\" fill-rule=\"evenodd\" fill-opacity=\"1\" /><path clip-path=\"url(#clip260)\" d=\"M 0 0 M655.782 1508.44 Q652.171 1508.44 650.343 1512 Q648.537 1515.55 648.537 1522.67 Q648.537 1529.78 650.343 1533.35 Q652.171 1536.89 655.782 1536.89 Q659.417 1536.89 661.222 1533.35 Q663.051 1529.78 663.051 1522.67 Q663.051 1515.55 661.222 1512 Q659.417 1508.44 655.782 1508.44 M655.782 1504.73 Q661.593 1504.73 664.648 1509.34 Q667.727 1513.92 667.727 1522.67 Q667.727 1531.4 664.648 1536.01 Q661.593 1540.59 655.782 1540.59 Q649.972 1540.59 646.894 1536.01 Q643.838 1531.4 643.838 1522.67 Q643.838 1513.92 646.894 1509.34 Q649.972 1504.73 655.782 1504.73 Z\" fill=\"#000000\" fill-rule=\"evenodd\" fill-opacity=\"1\" /><path clip-path=\"url(#clip260)\" d=\"M 0 0 M804.502 1535.98 L812.141 1535.98 L812.141 1509.62 L803.83 1511.29 L803.83 1507.03 L812.094 1505.36 L816.77 1505.36 L816.77 1535.98 L824.409 1535.98 L824.409 1539.92 L804.502 1539.92 L804.502 1535.98 Z\" fill=\"#000000\" fill-rule=\"evenodd\" fill-opacity=\"1\" /><path clip-path=\"url(#clip260)\" d=\"M 0 0 M967.11 1535.98 L983.429 1535.98 L983.429 1539.92 L961.485 1539.92 L961.485 1535.98 Q964.147 1533.23 968.73 1528.6 Q973.337 1523.95 974.517 1522.61 Q976.763 1520.08 977.642 1518.35 Q978.545 1516.59 978.545 1514.9 Q978.545 1512.14 976.601 1510.41 Q974.679 1508.67 971.578 1508.67 Q969.378 1508.67 966.925 1509.43 Q964.494 1510.2 961.716 1511.75 L961.716 1507.03 Q964.541 1505.89 966.994 1505.31 Q969.448 1504.73 971.485 1504.73 Q976.855 1504.73 980.05 1507.42 Q983.244 1510.11 983.244 1514.6 Q983.244 1516.73 982.434 1518.65 Q981.647 1520.54 979.54 1523.14 Q978.962 1523.81 975.86 1527.03 Q972.758 1530.22 967.11 1535.98 Z\" fill=\"#000000\" fill-rule=\"evenodd\" fill-opacity=\"1\" /><path clip-path=\"url(#clip260)\" d=\"M 0 0 M1135.04 1521.29 Q1138.4 1522 1140.27 1524.27 Q1142.17 1526.54 1142.17 1529.87 Q1142.17 1534.99 1138.65 1537.79 Q1135.13 1540.59 1128.65 1540.59 Q1126.48 1540.59 1124.16 1540.15 Q1121.87 1539.73 1119.42 1538.88 L1119.42 1534.36 Q1121.36 1535.5 1123.68 1536.08 Q1125.99 1536.66 1128.51 1536.66 Q1132.91 1536.66 1135.2 1534.92 Q1137.52 1533.18 1137.52 1529.87 Q1137.52 1526.82 1135.37 1525.11 Q1133.24 1523.37 1129.42 1523.37 L1125.39 1523.37 L1125.39 1519.53 L1129.6 1519.53 Q1133.05 1519.53 1134.88 1518.16 Q1136.71 1516.77 1136.71 1514.18 Q1136.71 1511.52 1134.81 1510.11 Q1132.94 1508.67 1129.42 1508.67 Q1127.5 1508.67 1125.3 1509.09 Q1123.1 1509.5 1120.46 1510.38 L1120.46 1506.22 Q1123.12 1505.48 1125.44 1505.11 Q1127.77 1504.73 1129.83 1504.73 Q1135.16 1504.73 1138.26 1507.17 Q1141.36 1509.57 1141.36 1513.69 Q1141.36 1516.56 1139.72 1518.55 Q1138.07 1520.52 1135.04 1521.29 Z\" fill=\"#000000\" fill-rule=\"evenodd\" fill-opacity=\"1\" /><path clip-path=\"url(#clip260)\" d=\"M 0 0 M63.3625 1392.58 L75.8393 1392.58 L75.8393 1396.38 L63.3625 1396.38 L63.3625 1392.58 Z\" fill=\"#000000\" fill-rule=\"evenodd\" fill-opacity=\"1\" /><path clip-path=\"url(#clip260)\" d=\"M 0 0 M84.9365 1403.53 L101.256 1403.53 L101.256 1407.47 L79.3115 1407.47 L79.3115 1403.53 Q81.9735 1400.78 86.5568 1396.15 Q91.1633 1391.5 92.3438 1390.15 Q94.5892 1387.63 95.4688 1385.89 Q96.3716 1384.13 96.3716 1382.44 Q96.3716 1379.69 94.4271 1377.95 Q92.5059 1376.22 89.404 1376.22 Q87.205 1376.22 84.7513 1376.98 Q82.3207 1377.75 79.543 1379.3 L79.543 1374.57 Q82.367 1373.44 84.8207 1372.86 Q87.2744 1372.28 89.3114 1372.28 Q94.6818 1372.28 97.8762 1374.97 Q101.071 1377.65 101.071 1382.14 Q101.071 1384.27 100.26 1386.19 Q99.4734 1388.09 97.3669 1390.69 Q96.7882 1391.36 93.6864 1394.57 Q90.5846 1397.77 84.9365 1403.53 Z\" fill=\"#000000\" fill-rule=\"evenodd\" fill-opacity=\"1\" /><path clip-path=\"url(#clip260)\" d=\"M 0 0 M116.325 1375.99 Q112.714 1375.99 110.885 1379.55 Q109.08 1383.09 109.08 1390.22 Q109.08 1397.33 110.885 1400.89 Q112.714 1404.44 116.325 1404.44 Q119.959 1404.44 121.765 1400.89 Q123.594 1397.33 123.594 1390.22 Q123.594 1383.09 121.765 1379.55 Q119.959 1375.99 116.325 1375.99 M116.325 1372.28 Q122.135 1372.28 125.191 1376.89 Q128.27 1381.47 128.27 1390.22 Q128.27 1398.95 125.191 1403.56 Q122.135 1408.14 116.325 1408.14 Q110.515 1408.14 107.436 1403.56 Q104.381 1398.95 104.381 1390.22 Q104.381 1381.47 107.436 1376.89 Q110.515 1372.28 116.325 1372.28 Z\" fill=\"#000000\" fill-rule=\"evenodd\" fill-opacity=\"1\" /><path clip-path=\"url(#clip260)\" d=\"M 0 0 M62.9921 1280.91 L75.4689 1280.91 L75.4689 1284.71 L62.9921 1284.71 L62.9921 1280.91 Z\" fill=\"#000000\" fill-rule=\"evenodd\" fill-opacity=\"1\" /><path clip-path=\"url(#clip260)\" d=\"M 0 0 M81.3485 1291.86 L88.9874 1291.86 L88.9874 1265.5 L80.6772 1267.16 L80.6772 1262.9 L88.9411 1261.24 L93.617 1261.24 L93.617 1291.86 L101.256 1291.86 L101.256 1295.8 L81.3485 1295.8 L81.3485 1291.86 Z\" fill=\"#000000\" fill-rule=\"evenodd\" fill-opacity=\"1\" /><path clip-path=\"url(#clip260)\" d=\"M 0 0 M116.325 1264.32 Q112.714 1264.32 110.885 1267.88 Q109.08 1271.42 109.08 1278.55 Q109.08 1285.66 110.885 1289.22 Q112.714 1292.76 116.325 1292.76 Q119.959 1292.76 121.765 1289.22 Q123.594 1285.66 123.594 1278.55 Q123.594 1271.42 121.765 1267.88 Q119.959 1264.32 116.325 1264.32 M116.325 1260.61 Q122.135 1260.61 125.191 1265.22 Q128.27 1269.8 128.27 1278.55 Q128.27 1287.28 125.191 1291.88 Q122.135 1296.47 116.325 1296.47 Q110.515 1296.47 107.436 1291.88 Q104.381 1287.28 104.381 1278.55 Q104.381 1269.8 107.436 1265.22 Q110.515 1260.61 116.325 1260.61 Z\" fill=\"#000000\" fill-rule=\"evenodd\" fill-opacity=\"1\" /><path clip-path=\"url(#clip260)\" d=\"M 0 0 M116.325 1152.64 Q112.714 1152.64 110.885 1156.21 Q109.08 1159.75 109.08 1166.88 Q109.08 1173.99 110.885 1177.55 Q112.714 1181.09 116.325 1181.09 Q119.959 1181.09 121.765 1177.55 Q123.594 1173.99 123.594 1166.88 Q123.594 1159.75 121.765 1156.21 Q119.959 1152.64 116.325 1152.64 M116.325 1148.94 Q122.135 1148.94 125.191 1153.55 Q128.27 1158.13 128.27 1166.88 Q128.27 1175.61 125.191 1180.21 Q122.135 1184.8 116.325 1184.8 Q110.515 1184.8 107.436 1180.21 Q104.381 1175.61 104.381 1166.88 Q104.381 1158.13 107.436 1153.55 Q110.515 1148.94 116.325 1148.94 Z\" fill=\"#000000\" fill-rule=\"evenodd\" fill-opacity=\"1\" /><path clip-path=\"url(#clip260)\" d=\"M 0 0 M81.3485 1068.52 L88.9874 1068.52 L88.9874 1042.15 L80.6772 1043.82 L80.6772 1039.56 L88.9411 1037.9 L93.617 1037.9 L93.617 1068.52 L101.256 1068.52 L101.256 1072.46 L81.3485 1072.46 L81.3485 1068.52 Z\" fill=\"#000000\" fill-rule=\"evenodd\" fill-opacity=\"1\" /><path clip-path=\"url(#clip260)\" d=\"M 0 0 M116.325 1040.97 Q112.714 1040.97 110.885 1044.54 Q109.08 1048.08 109.08 1055.21 Q109.08 1062.32 110.885 1065.88 Q112.714 1069.42 116.325 1069.42 Q119.959 1069.42 121.765 1065.88 Q123.594 1062.32 123.594 1055.21 Q123.594 1048.08 121.765 1044.54 Q119.959 1040.97 116.325 1040.97 M116.325 1037.27 Q122.135 1037.27 125.191 1041.88 Q128.27 1046.46 128.27 1055.21 Q128.27 1063.94 125.191 1068.54 Q122.135 1073.13 116.325 1073.13 Q110.515 1073.13 107.436 1068.54 Q104.381 1063.94 104.381 1055.21 Q104.381 1046.46 107.436 1041.88 Q110.515 1037.27 116.325 1037.27 Z\" fill=\"#000000\" fill-rule=\"evenodd\" fill-opacity=\"1\" /><path clip-path=\"url(#clip260)\" d=\"M 0 0 M84.9365 956.849 L101.256 956.849 L101.256 960.784 L79.3115 960.784 L79.3115 956.849 Q81.9735 954.095 86.5568 949.465 Q91.1633 944.812 92.3438 943.47 Q94.5892 940.946 95.4688 939.21 Q96.3716 937.451 96.3716 935.761 Q96.3716 933.007 94.4271 931.271 Q92.5059 929.535 89.404 929.535 Q87.205 929.535 84.7513 930.298 Q82.3207 931.062 79.543 932.613 L79.543 927.891 Q82.367 926.757 84.8207 926.178 Q87.2744 925.599 89.3114 925.599 Q94.6818 925.599 97.8762 928.285 Q101.071 930.97 101.071 935.46 Q101.071 937.59 100.26 939.511 Q99.4734 941.409 97.3669 944.002 Q96.7882 944.673 93.6864 947.891 Q90.5846 951.085 84.9365 956.849 Z\" fill=\"#000000\" fill-rule=\"evenodd\" fill-opacity=\"1\" /><path clip-path=\"url(#clip260)\" d=\"M 0 0 M116.325 929.303 Q112.714 929.303 110.885 932.868 Q109.08 936.409 109.08 943.539 Q109.08 950.646 110.885 954.21 Q112.714 957.752 116.325 957.752 Q119.959 957.752 121.765 954.21 Q123.594 950.646 123.594 943.539 Q123.594 936.409 121.765 932.868 Q119.959 929.303 116.325 929.303 M116.325 925.599 Q122.135 925.599 125.191 930.206 Q128.27 934.789 128.27 943.539 Q128.27 952.266 125.191 956.872 Q122.135 961.456 116.325 961.456 Q110.515 961.456 107.436 956.872 Q104.381 952.266 104.381 943.539 Q104.381 934.789 107.436 930.206 Q110.515 925.599 116.325 925.599 Z\" fill=\"#000000\" fill-rule=\"evenodd\" fill-opacity=\"1\" /><polyline clip-path=\"url(#clip264)\" style=\"stroke:#009af9; stroke-width:4; stroke-opacity:1; fill:none\" points=\"\n",
       "  180.77,1468.36 196.604,1439.2 212.438,1411.99 228.271,1386.65 244.105,1363.12 259.939,1341.33 275.773,1321.22 291.606,1302.72 307.44,1285.75 323.274,1270.26 \n",
       "  339.108,1256.18 354.941,1243.44 370.775,1231.97 386.609,1221.71 402.443,1212.59 418.276,1204.53 434.11,1197.49 449.944,1191.38 465.778,1186.14 481.611,1181.71 \n",
       "  497.445,1178.01 513.279,1174.99 529.112,1172.56 544.946,1170.68 560.78,1169.26 576.614,1168.24 592.447,1167.56 608.281,1167.15 624.115,1166.94 639.949,1166.86 \n",
       "  655.782,1166.85 671.616,1166.83 687.45,1166.76 703.284,1166.54 719.117,1166.13 734.951,1165.45 750.785,1164.43 766.619,1163.02 782.452,1161.13 798.286,1158.71 \n",
       "  814.12,1155.68 829.953,1151.98 845.787,1147.55 861.621,1142.31 877.455,1136.2 893.288,1129.16 909.122,1121.11 924.956,1111.98 940.79,1101.72 956.623,1090.25 \n",
       "  972.457,1077.51 988.291,1063.43 1004.12,1047.94 1019.96,1030.98 1035.79,1012.47 1051.63,992.36 1067.46,970.573 1083.29,947.044 1099.13,921.706 1114.96,894.492 \n",
       "  1130.79,865.335 \n",
       "  \"/>\n",
       "<path clip-path=\"url(#clip260)\" d=\"\n",
       "M1345.73 1486.45 L2352.76 1486.45 L2352.76 847.244 L1345.73 847.244  Z\n",
       "  \" fill=\"#ffffff\" fill-rule=\"evenodd\" fill-opacity=\"1\"/>\n",
       "<defs>\n",
       "  <clipPath id=\"clip265\">\n",
       "    <rect x=\"1345\" y=\"847\" width=\"1008\" height=\"640\"/>\n",
       "  </clipPath>\n",
       "</defs>\n",
       "<polyline clip-path=\"url(#clip265)\" style=\"stroke:#000000; stroke-width:2; stroke-opacity:0.1; fill:none\" points=\"\n",
       "  1374.23,1486.45 1374.23,847.244 \n",
       "  \"/>\n",
       "<polyline clip-path=\"url(#clip265)\" style=\"stroke:#000000; stroke-width:2; stroke-opacity:0.1; fill:none\" points=\"\n",
       "  1532.57,1486.45 1532.57,847.244 \n",
       "  \"/>\n",
       "<polyline clip-path=\"url(#clip265)\" style=\"stroke:#000000; stroke-width:2; stroke-opacity:0.1; fill:none\" points=\"\n",
       "  1690.91,1486.45 1690.91,847.244 \n",
       "  \"/>\n",
       "<polyline clip-path=\"url(#clip265)\" style=\"stroke:#000000; stroke-width:2; stroke-opacity:0.1; fill:none\" points=\"\n",
       "  1849.24,1486.45 1849.24,847.244 \n",
       "  \"/>\n",
       "<polyline clip-path=\"url(#clip265)\" style=\"stroke:#000000; stroke-width:2; stroke-opacity:0.1; fill:none\" points=\"\n",
       "  2007.58,1486.45 2007.58,847.244 \n",
       "  \"/>\n",
       "<polyline clip-path=\"url(#clip265)\" style=\"stroke:#000000; stroke-width:2; stroke-opacity:0.1; fill:none\" points=\"\n",
       "  2165.92,1486.45 2165.92,847.244 \n",
       "  \"/>\n",
       "<polyline clip-path=\"url(#clip265)\" style=\"stroke:#000000; stroke-width:2; stroke-opacity:0.1; fill:none\" points=\"\n",
       "  2324.26,1486.45 2324.26,847.244 \n",
       "  \"/>\n",
       "<polyline clip-path=\"url(#clip265)\" style=\"stroke:#000000; stroke-width:2; stroke-opacity:0.1; fill:none\" points=\"\n",
       "  1345.73,1468.36 2352.76,1468.36 \n",
       "  \"/>\n",
       "<polyline clip-path=\"url(#clip265)\" style=\"stroke:#000000; stroke-width:2; stroke-opacity:0.1; fill:none\" points=\"\n",
       "  1345.73,1319.46 2352.76,1319.46 \n",
       "  \"/>\n",
       "<polyline clip-path=\"url(#clip265)\" style=\"stroke:#000000; stroke-width:2; stroke-opacity:0.1; fill:none\" points=\"\n",
       "  1345.73,1170.57 2352.76,1170.57 \n",
       "  \"/>\n",
       "<polyline clip-path=\"url(#clip265)\" style=\"stroke:#000000; stroke-width:2; stroke-opacity:0.1; fill:none\" points=\"\n",
       "  1345.73,1021.67 2352.76,1021.67 \n",
       "  \"/>\n",
       "<polyline clip-path=\"url(#clip265)\" style=\"stroke:#000000; stroke-width:2; stroke-opacity:0.1; fill:none\" points=\"\n",
       "  1345.73,872.779 2352.76,872.779 \n",
       "  \"/>\n",
       "<polyline clip-path=\"url(#clip260)\" style=\"stroke:#000000; stroke-width:4; stroke-opacity:1; fill:none\" points=\"\n",
       "  1345.73,1486.45 2352.76,1486.45 \n",
       "  \"/>\n",
       "<polyline clip-path=\"url(#clip260)\" style=\"stroke:#000000; stroke-width:4; stroke-opacity:1; fill:none\" points=\"\n",
       "  1345.73,1486.45 1345.73,847.244 \n",
       "  \"/>\n",
       "<polyline clip-path=\"url(#clip260)\" style=\"stroke:#000000; stroke-width:4; stroke-opacity:1; fill:none\" points=\"\n",
       "  1374.23,1486.45 1374.23,1478.78 \n",
       "  \"/>\n",
       "<polyline clip-path=\"url(#clip260)\" style=\"stroke:#000000; stroke-width:4; stroke-opacity:1; fill:none\" points=\"\n",
       "  1532.57,1486.45 1532.57,1478.78 \n",
       "  \"/>\n",
       "<polyline clip-path=\"url(#clip260)\" style=\"stroke:#000000; stroke-width:4; stroke-opacity:1; fill:none\" points=\"\n",
       "  1690.91,1486.45 1690.91,1478.78 \n",
       "  \"/>\n",
       "<polyline clip-path=\"url(#clip260)\" style=\"stroke:#000000; stroke-width:4; stroke-opacity:1; fill:none\" points=\"\n",
       "  1849.24,1486.45 1849.24,1478.78 \n",
       "  \"/>\n",
       "<polyline clip-path=\"url(#clip260)\" style=\"stroke:#000000; stroke-width:4; stroke-opacity:1; fill:none\" points=\"\n",
       "  2007.58,1486.45 2007.58,1478.78 \n",
       "  \"/>\n",
       "<polyline clip-path=\"url(#clip260)\" style=\"stroke:#000000; stroke-width:4; stroke-opacity:1; fill:none\" points=\"\n",
       "  2165.92,1486.45 2165.92,1478.78 \n",
       "  \"/>\n",
       "<polyline clip-path=\"url(#clip260)\" style=\"stroke:#000000; stroke-width:4; stroke-opacity:1; fill:none\" points=\"\n",
       "  2324.26,1486.45 2324.26,1478.78 \n",
       "  \"/>\n",
       "<polyline clip-path=\"url(#clip260)\" style=\"stroke:#000000; stroke-width:4; stroke-opacity:1; fill:none\" points=\"\n",
       "  1345.73,1468.36 1357.81,1468.36 \n",
       "  \"/>\n",
       "<polyline clip-path=\"url(#clip260)\" style=\"stroke:#000000; stroke-width:4; stroke-opacity:1; fill:none\" points=\"\n",
       "  1345.73,1319.46 1357.81,1319.46 \n",
       "  \"/>\n",
       "<polyline clip-path=\"url(#clip260)\" style=\"stroke:#000000; stroke-width:4; stroke-opacity:1; fill:none\" points=\"\n",
       "  1345.73,1170.57 1357.81,1170.57 \n",
       "  \"/>\n",
       "<polyline clip-path=\"url(#clip260)\" style=\"stroke:#000000; stroke-width:4; stroke-opacity:1; fill:none\" points=\"\n",
       "  1345.73,1021.67 1357.81,1021.67 \n",
       "  \"/>\n",
       "<polyline clip-path=\"url(#clip260)\" style=\"stroke:#000000; stroke-width:4; stroke-opacity:1; fill:none\" points=\"\n",
       "  1345.73,872.779 1357.81,872.779 \n",
       "  \"/>\n",
       "<path clip-path=\"url(#clip260)\" d=\"M 0 0 M1354.81 1525.04 L1367.29 1525.04 L1367.29 1528.83 L1354.81 1528.83 L1354.81 1525.04 Z\" fill=\"#000000\" fill-rule=\"evenodd\" fill-opacity=\"1\" /><path clip-path=\"url(#clip260)\" d=\"M 0 0 M1386.52 1521.29 Q1389.88 1522 1391.75 1524.27 Q1393.65 1526.54 1393.65 1529.87 Q1393.65 1534.99 1390.13 1537.79 Q1386.62 1540.59 1380.13 1540.59 Q1377.96 1540.59 1375.64 1540.15 Q1373.35 1539.73 1370.9 1538.88 L1370.9 1534.36 Q1372.84 1535.5 1375.16 1536.08 Q1377.47 1536.66 1379.99 1536.66 Q1384.39 1536.66 1386.68 1534.92 Q1389 1533.18 1389 1529.87 Q1389 1526.82 1386.85 1525.11 Q1384.72 1523.37 1380.9 1523.37 L1376.87 1523.37 L1376.87 1519.53 L1381.08 1519.53 Q1384.53 1519.53 1386.36 1518.16 Q1388.19 1516.77 1388.19 1514.18 Q1388.19 1511.52 1386.29 1510.11 Q1384.42 1508.67 1380.9 1508.67 Q1378.98 1508.67 1376.78 1509.09 Q1374.58 1509.5 1371.94 1510.38 L1371.94 1506.22 Q1374.6 1505.48 1376.92 1505.11 Q1379.25 1504.73 1381.31 1504.73 Q1386.64 1504.73 1389.74 1507.17 Q1392.84 1509.57 1392.84 1513.69 Q1392.84 1516.56 1391.2 1518.55 Q1389.55 1520.52 1386.52 1521.29 Z\" fill=\"#000000\" fill-rule=\"evenodd\" fill-opacity=\"1\" /><path clip-path=\"url(#clip260)\" d=\"M 0 0 M1513.62 1525.04 L1526.1 1525.04 L1526.1 1528.83 L1513.62 1528.83 L1513.62 1525.04 Z\" fill=\"#000000\" fill-rule=\"evenodd\" fill-opacity=\"1\" /><path clip-path=\"url(#clip260)\" d=\"M 0 0 M1535.2 1535.98 L1551.51 1535.98 L1551.51 1539.92 L1529.57 1539.92 L1529.57 1535.98 Q1532.23 1533.23 1536.82 1528.6 Q1541.42 1523.95 1542.6 1522.61 Q1544.85 1520.08 1545.73 1518.35 Q1546.63 1516.59 1546.63 1514.9 Q1546.63 1512.14 1544.69 1510.41 Q1542.77 1508.67 1539.66 1508.67 Q1537.46 1508.67 1535.01 1509.43 Q1532.58 1510.2 1529.8 1511.75 L1529.8 1507.03 Q1532.63 1505.89 1535.08 1505.31 Q1537.53 1504.73 1539.57 1504.73 Q1544.94 1504.73 1548.14 1507.42 Q1551.33 1510.11 1551.33 1514.6 Q1551.33 1516.73 1550.52 1518.65 Q1549.73 1520.54 1547.63 1523.14 Q1547.05 1523.81 1543.95 1527.03 Q1540.84 1530.22 1535.2 1535.98 Z\" fill=\"#000000\" fill-rule=\"evenodd\" fill-opacity=\"1\" /><path clip-path=\"url(#clip260)\" d=\"M 0 0 M1671.77 1525.04 L1684.25 1525.04 L1684.25 1528.83 L1671.77 1528.83 L1671.77 1525.04 Z\" fill=\"#000000\" fill-rule=\"evenodd\" fill-opacity=\"1\" /><path clip-path=\"url(#clip260)\" d=\"M 0 0 M1690.13 1535.98 L1697.77 1535.98 L1697.77 1509.62 L1689.46 1511.29 L1689.46 1507.03 L1697.72 1505.36 L1702.4 1505.36 L1702.4 1535.98 L1710.04 1535.98 L1710.04 1539.92 L1690.13 1539.92 L1690.13 1535.98 Z\" fill=\"#000000\" fill-rule=\"evenodd\" fill-opacity=\"1\" /><path clip-path=\"url(#clip260)\" d=\"M 0 0 M1849.24 1508.44 Q1845.63 1508.44 1843.8 1512 Q1842 1515.55 1842 1522.67 Q1842 1529.78 1843.8 1533.35 Q1845.63 1536.89 1849.24 1536.89 Q1852.88 1536.89 1854.68 1533.35 Q1856.51 1529.78 1856.51 1522.67 Q1856.51 1515.55 1854.68 1512 Q1852.88 1508.44 1849.24 1508.44 M1849.24 1504.73 Q1855.05 1504.73 1858.11 1509.34 Q1861.19 1513.92 1861.19 1522.67 Q1861.19 1531.4 1858.11 1536.01 Q1855.05 1540.59 1849.24 1540.59 Q1843.43 1540.59 1840.35 1536.01 Q1837.3 1531.4 1837.3 1522.67 Q1837.3 1513.92 1840.35 1509.34 Q1843.43 1504.73 1849.24 1504.73 Z\" fill=\"#000000\" fill-rule=\"evenodd\" fill-opacity=\"1\" /><path clip-path=\"url(#clip260)\" d=\"M 0 0 M1997.96 1535.98 L2005.6 1535.98 L2005.6 1509.62 L1997.29 1511.29 L1997.29 1507.03 L2005.55 1505.36 L2010.23 1505.36 L2010.23 1535.98 L2017.87 1535.98 L2017.87 1539.92 L1997.96 1539.92 L1997.96 1535.98 Z\" fill=\"#000000\" fill-rule=\"evenodd\" fill-opacity=\"1\" /><path clip-path=\"url(#clip260)\" d=\"M 0 0 M2160.57 1535.98 L2176.89 1535.98 L2176.89 1539.92 L2154.95 1539.92 L2154.95 1535.98 Q2157.61 1533.23 2162.19 1528.6 Q2166.8 1523.95 2167.98 1522.61 Q2170.22 1520.08 2171.1 1518.35 Q2172.01 1516.59 2172.01 1514.9 Q2172.01 1512.14 2170.06 1510.41 Q2168.14 1508.67 2165.04 1508.67 Q2162.84 1508.67 2160.39 1509.43 Q2157.95 1510.2 2155.18 1511.75 L2155.18 1507.03 Q2158 1505.89 2160.45 1505.31 Q2162.91 1504.73 2164.95 1504.73 Q2170.32 1504.73 2173.51 1507.42 Q2176.7 1510.11 2176.7 1514.6 Q2176.7 1516.73 2175.89 1518.65 Q2175.11 1520.54 2173 1523.14 Q2172.42 1523.81 2169.32 1527.03 Q2166.22 1530.22 2160.57 1535.98 Z\" fill=\"#000000\" fill-rule=\"evenodd\" fill-opacity=\"1\" /><path clip-path=\"url(#clip260)\" d=\"M 0 0 M2328.5 1521.29 Q2331.86 1522 2333.73 1524.27 Q2335.63 1526.54 2335.63 1529.87 Q2335.63 1534.99 2332.11 1537.79 Q2328.6 1540.59 2322.11 1540.59 Q2319.94 1540.59 2317.62 1540.15 Q2315.33 1539.73 2312.88 1538.88 L2312.88 1534.36 Q2314.82 1535.5 2317.14 1536.08 Q2319.45 1536.66 2321.98 1536.66 Q2326.37 1536.66 2328.66 1534.92 Q2330.98 1533.18 2330.98 1529.87 Q2330.98 1526.82 2328.83 1525.11 Q2326.7 1523.37 2322.88 1523.37 L2318.85 1523.37 L2318.85 1519.53 L2323.06 1519.53 Q2326.51 1519.53 2328.34 1518.16 Q2330.17 1516.77 2330.17 1514.18 Q2330.17 1511.52 2328.27 1510.11 Q2326.4 1508.67 2322.88 1508.67 Q2320.96 1508.67 2318.76 1509.09 Q2316.56 1509.5 2313.92 1510.38 L2313.92 1506.22 Q2316.58 1505.48 2318.9 1505.11 Q2321.23 1504.73 2323.29 1504.73 Q2328.62 1504.73 2331.72 1507.17 Q2334.82 1509.57 2334.82 1513.69 Q2334.82 1516.56 2333.18 1518.55 Q2331.54 1520.52 2328.5 1521.29 Z\" fill=\"#000000\" fill-rule=\"evenodd\" fill-opacity=\"1\" /><path clip-path=\"url(#clip260)\" d=\"M 0 0 M1309.79 1454.16 Q1306.17 1454.16 1304.35 1457.72 Q1302.54 1461.26 1302.54 1468.39 Q1302.54 1475.5 1304.35 1479.06 Q1306.17 1482.6 1309.79 1482.6 Q1313.42 1482.6 1315.23 1479.06 Q1317.05 1475.5 1317.05 1468.39 Q1317.05 1461.26 1315.23 1457.72 Q1313.42 1454.16 1309.79 1454.16 M1309.79 1450.45 Q1315.6 1450.45 1318.65 1455.06 Q1321.73 1459.64 1321.73 1468.39 Q1321.73 1477.12 1318.65 1481.73 Q1315.6 1486.31 1309.79 1486.31 Q1303.98 1486.31 1300.9 1481.73 Q1297.84 1477.12 1297.84 1468.39 Q1297.84 1459.64 1300.9 1455.06 Q1303.98 1450.45 1309.79 1450.45 Z\" fill=\"#000000\" fill-rule=\"evenodd\" fill-opacity=\"1\" /><path clip-path=\"url(#clip260)\" d=\"M 0 0 M1278.4 1332.81 L1294.72 1332.81 L1294.72 1336.74 L1272.77 1336.74 L1272.77 1332.81 Q1275.43 1330.05 1280.02 1325.42 Q1284.62 1320.77 1285.8 1319.43 Q1288.05 1316.9 1288.93 1315.17 Q1289.83 1313.41 1289.83 1311.72 Q1289.83 1308.97 1287.89 1307.23 Q1285.97 1305.49 1282.86 1305.49 Q1280.67 1305.49 1278.21 1306.26 Q1275.78 1307.02 1273 1308.57 L1273 1303.85 Q1275.83 1302.72 1278.28 1302.14 Q1280.74 1301.56 1282.77 1301.56 Q1288.14 1301.56 1291.34 1304.24 Q1294.53 1306.93 1294.53 1311.42 Q1294.53 1313.55 1293.72 1315.47 Q1292.93 1317.37 1290.83 1319.96 Q1290.25 1320.63 1287.15 1323.85 Q1284.05 1327.04 1278.4 1332.81 Z\" fill=\"#000000\" fill-rule=\"evenodd\" fill-opacity=\"1\" /><path clip-path=\"url(#clip260)\" d=\"M 0 0 M1309.79 1305.26 Q1306.17 1305.26 1304.35 1308.83 Q1302.54 1312.37 1302.54 1319.5 Q1302.54 1326.6 1304.35 1330.17 Q1306.17 1333.71 1309.79 1333.71 Q1313.42 1333.71 1315.23 1330.17 Q1317.05 1326.6 1317.05 1319.5 Q1317.05 1312.37 1315.23 1308.83 Q1313.42 1305.26 1309.79 1305.26 M1309.79 1301.56 Q1315.6 1301.56 1318.65 1306.16 Q1321.73 1310.75 1321.73 1319.5 Q1321.73 1328.22 1318.65 1332.83 Q1315.6 1337.41 1309.79 1337.41 Q1303.98 1337.41 1300.9 1332.83 Q1297.84 1328.22 1297.84 1319.5 Q1297.84 1310.75 1300.9 1306.16 Q1303.98 1301.56 1309.79 1301.56 Z\" fill=\"#000000\" fill-rule=\"evenodd\" fill-opacity=\"1\" /><path clip-path=\"url(#clip260)\" d=\"M 0 0 M1285.13 1157.36 L1273.33 1175.81 L1285.13 1175.81 L1285.13 1157.36 M1283.91 1153.29 L1289.79 1153.29 L1289.79 1175.81 L1294.72 1175.81 L1294.72 1179.7 L1289.79 1179.7 L1289.79 1187.85 L1285.13 1187.85 L1285.13 1179.7 L1269.53 1179.7 L1269.53 1175.19 L1283.91 1153.29 Z\" fill=\"#000000\" fill-rule=\"evenodd\" fill-opacity=\"1\" /><path clip-path=\"url(#clip260)\" d=\"M 0 0 M1309.79 1156.37 Q1306.17 1156.37 1304.35 1159.93 Q1302.54 1163.47 1302.54 1170.6 Q1302.54 1177.71 1304.35 1181.27 Q1306.17 1184.82 1309.79 1184.82 Q1313.42 1184.82 1315.23 1181.27 Q1317.05 1177.71 1317.05 1170.6 Q1317.05 1163.47 1315.23 1159.93 Q1313.42 1156.37 1309.79 1156.37 M1309.79 1152.66 Q1315.6 1152.66 1318.65 1157.27 Q1321.73 1161.85 1321.73 1170.6 Q1321.73 1179.33 1318.65 1183.94 Q1315.6 1188.52 1309.79 1188.52 Q1303.98 1188.52 1300.9 1183.94 Q1297.84 1179.33 1297.84 1170.6 Q1297.84 1161.85 1300.9 1157.27 Q1303.98 1152.66 1309.79 1152.66 Z\" fill=\"#000000\" fill-rule=\"evenodd\" fill-opacity=\"1\" /><path clip-path=\"url(#clip260)\" d=\"M 0 0 M1283.19 1019.81 Q1280.04 1019.81 1278.19 1021.96 Q1276.36 1024.12 1276.36 1027.87 Q1276.36 1031.59 1278.19 1033.77 Q1280.04 1035.92 1283.19 1035.92 Q1286.34 1035.92 1288.17 1033.77 Q1290.02 1031.59 1290.02 1027.87 Q1290.02 1024.12 1288.17 1021.96 Q1286.34 1019.81 1283.19 1019.81 M1292.47 1005.16 L1292.47 1009.42 Q1290.71 1008.58 1288.91 1008.14 Q1287.12 1007.7 1285.36 1007.7 Q1280.74 1007.7 1278.28 1010.83 Q1275.85 1013.95 1275.5 1020.27 Q1276.87 1018.26 1278.93 1017.19 Q1280.99 1016.11 1283.47 1016.11 Q1288.67 1016.11 1291.68 1019.28 Q1294.72 1022.43 1294.72 1027.87 Q1294.72 1033.19 1291.57 1036.41 Q1288.42 1039.63 1283.19 1039.63 Q1277.19 1039.63 1274.02 1035.04 Q1270.85 1030.44 1270.85 1021.71 Q1270.85 1013.51 1274.74 1008.65 Q1278.63 1003.77 1285.18 1003.77 Q1286.94 1003.77 1288.72 1004.12 Q1290.53 1004.46 1292.47 1005.16 Z\" fill=\"#000000\" fill-rule=\"evenodd\" fill-opacity=\"1\" /><path clip-path=\"url(#clip260)\" d=\"M 0 0 M1309.79 1007.47 Q1306.17 1007.47 1304.35 1011.04 Q1302.54 1014.58 1302.54 1021.71 Q1302.54 1028.82 1304.35 1032.38 Q1306.17 1035.92 1309.79 1035.92 Q1313.42 1035.92 1315.23 1032.38 Q1317.05 1028.82 1317.05 1021.71 Q1317.05 1014.58 1315.23 1011.04 Q1313.42 1007.47 1309.79 1007.47 M1309.79 1003.77 Q1315.6 1003.77 1318.65 1008.38 Q1321.73 1012.96 1321.73 1021.71 Q1321.73 1030.44 1318.65 1035.04 Q1315.6 1039.63 1309.79 1039.63 Q1303.98 1039.63 1300.9 1035.04 Q1297.84 1030.44 1297.84 1021.71 Q1297.84 1012.96 1300.9 1008.38 Q1303.98 1003.77 1309.79 1003.77 Z\" fill=\"#000000\" fill-rule=\"evenodd\" fill-opacity=\"1\" /><path clip-path=\"url(#clip260)\" d=\"M 0 0 M1282.86 873.648 Q1279.53 873.648 1277.61 875.43 Q1275.71 877.212 1275.71 880.337 Q1275.71 883.462 1277.61 885.245 Q1279.53 887.027 1282.86 887.027 Q1286.2 887.027 1288.12 885.245 Q1290.04 883.439 1290.04 880.337 Q1290.04 877.212 1288.12 875.43 Q1286.22 873.648 1282.86 873.648 M1278.19 871.657 Q1275.18 870.916 1273.49 868.856 Q1271.82 866.796 1271.82 863.833 Q1271.82 859.689 1274.76 857.282 Q1277.73 854.874 1282.86 854.874 Q1288.03 854.874 1290.97 857.282 Q1293.91 859.689 1293.91 863.833 Q1293.91 866.796 1292.22 868.856 Q1290.55 870.916 1287.56 871.657 Q1290.94 872.444 1292.82 874.735 Q1294.72 877.027 1294.72 880.337 Q1294.72 885.36 1291.64 888.046 Q1288.58 890.731 1282.86 890.731 Q1277.15 890.731 1274.07 888.046 Q1271.01 885.36 1271.01 880.337 Q1271.01 877.027 1272.91 874.735 Q1274.81 872.444 1278.19 871.657 M1276.48 864.273 Q1276.48 866.958 1278.14 868.462 Q1279.83 869.967 1282.86 869.967 Q1285.87 869.967 1287.56 868.462 Q1289.28 866.958 1289.28 864.273 Q1289.28 861.587 1287.56 860.083 Q1285.87 858.578 1282.86 858.578 Q1279.83 858.578 1278.14 860.083 Q1276.48 861.587 1276.48 864.273 Z\" fill=\"#000000\" fill-rule=\"evenodd\" fill-opacity=\"1\" /><path clip-path=\"url(#clip260)\" d=\"M 0 0 M1309.79 858.578 Q1306.17 858.578 1304.35 862.143 Q1302.54 865.685 1302.54 872.814 Q1302.54 879.921 1304.35 883.485 Q1306.17 887.027 1309.79 887.027 Q1313.42 887.027 1315.23 883.485 Q1317.05 879.921 1317.05 872.814 Q1317.05 865.685 1315.23 862.143 Q1313.42 858.578 1309.79 858.578 M1309.79 854.874 Q1315.6 854.874 1318.65 859.481 Q1321.73 864.064 1321.73 872.814 Q1321.73 881.541 1318.65 886.147 Q1315.6 890.731 1309.79 890.731 Q1303.98 890.731 1300.9 886.147 Q1297.84 881.541 1297.84 872.814 Q1297.84 864.064 1300.9 859.481 Q1303.98 854.874 1309.79 854.874 Z\" fill=\"#000000\" fill-rule=\"evenodd\" fill-opacity=\"1\" /><polyline clip-path=\"url(#clip265)\" style=\"stroke:#009af9; stroke-width:4; stroke-opacity:1; fill:none\" points=\"\n",
       "  1374.23,865.335 1390.06,941.806 1405.9,1010.76 1421.73,1072.71 1437.57,1128.15 1453.4,1177.55 1469.23,1221.36 1485.07,1260.02 1500.9,1293.96 1516.73,1323.57 \n",
       "  1532.57,1349.24 1548.4,1371.34 1564.24,1390.21 1580.07,1406.18 1595.9,1419.57 1611.74,1430.67 1627.57,1439.76 1643.4,1447.09 1659.24,1452.92 1675.07,1457.46 \n",
       "  1690.91,1460.91 1706.74,1463.47 1722.57,1465.31 1738.41,1466.57 1754.24,1467.39 1770.07,1467.89 1785.91,1468.17 1801.74,1468.3 1817.58,1468.35 1833.41,1468.36 \n",
       "  1849.24,1468.36 1865.08,1468.36 1880.91,1468.35 1896.74,1468.3 1912.58,1468.17 1928.41,1467.89 1944.25,1467.39 1960.08,1466.57 1975.91,1465.31 1991.75,1463.47 \n",
       "  2007.58,1460.91 2023.41,1457.46 2039.25,1452.92 2055.08,1447.09 2070.92,1439.76 2086.75,1430.67 2102.58,1419.57 2118.42,1406.18 2134.25,1390.21 2150.08,1371.34 \n",
       "  2165.92,1349.24 2181.75,1323.57 2197.59,1293.96 2213.42,1260.02 2229.25,1221.36 2245.09,1177.55 2260.92,1128.15 2276.75,1072.71 2292.59,1010.76 2308.42,941.806 \n",
       "  2324.26,865.335 \n",
       "  \"/>\n",
       "</svg>\n"
      ]
     },
     "execution_count": 51,
     "metadata": {},
     "output_type": "execute_result"
    }
   ],
   "source": [
    "# Subplots!!\n",
    "\n",
    "p1 = plot(x, x)\n",
    "p2 = plot(x, x.^2)\n",
    "p3 = plot(x, x.^3)\n",
    "p4 = plot(x, x.^4)\n",
    "plot(p1, p2, p3, p4, layout=(2, 2), legend=false)"
   ]
  },
  {
   "cell_type": "code",
   "execution_count": 52,
   "metadata": {},
   "outputs": [
    {
     "name": "stderr",
     "output_type": "stream",
     "text": [
      "\u001b[32m\u001b[1m  Resolving\u001b[22m\u001b[39m package versions...\n",
      "\u001b[32m\u001b[1m   Updating\u001b[22m\u001b[39m `C:\\Users\\tirth\\.julia\\environments\\v1.4\\Project.toml`\n",
      "\u001b[90m [no changes]\u001b[39m\n",
      "\u001b[32m\u001b[1m   Updating\u001b[22m\u001b[39m `C:\\Users\\tirth\\.julia\\environments\\v1.4\\Manifest.toml`\n",
      "\u001b[90m [no changes]\u001b[39m\n"
     ]
    }
   ],
   "source": [
    "Pkg.add(\"UnicodePlots\")"
   ]
  },
  {
   "cell_type": "code",
   "execution_count": 53,
   "metadata": {},
   "outputs": [
    {
     "name": "stderr",
     "output_type": "stream",
     "text": [
      "WARNING: using UnicodePlots.xlabel! in module Main conflicts with an existing identifier.\n",
      "WARNING: using UnicodePlots.title! in module Main conflicts with an existing identifier.\n",
      "WARNING: using UnicodePlots.ylabel! in module Main conflicts with an existing identifier.\n"
     ]
    },
    {
     "data": {
      "text/plain": [
       "                                       Influence of pirates on global temperatures\n",
       "                              +------------------------------------------------------------+       \n",
       "                       15.842 | |                                                          | line  \n",
       "                              | |                                                          | points\n",
       "                              | |                                                          |       \n",
       "                              | ||                                                         |       \n",
       "                              | ||                                                         |       \n",
       "                              | |\".                                                        |       \n",
       "                              | |  \\.                                                      |       \n",
       "                              | |   '.                                                     |       \n",
       "                              | |     `.                                                   |       \n",
       "   Global Temperatures        | |      \"\\.                                                 |       \n",
       "                              | |         \"..                                              |       \n",
       "                              | |           '`.                                            |       \n",
       "                              | |             \"\\.                                          |       \n",
       "                              | |                \"..                                       |       \n",
       "                              | |                  '.                                      |       \n",
       "                              | |                    \\.                                    |       \n",
       "                              | |                     \".                                   |       \n",
       "                              | |                       \\.                                 |       \n",
       "                              | |                        \"\"\"\"\"\"`-------._______            |       \n",
       "                       14.358 | |                                              \"\"\"\"\"\"\"\\--/ |       \n",
       "                              +------------------------------------------------------------+       \n",
       "                              -1332.49                                              46349.49\n",
       "                                                    Number of Pirates"
      ]
     },
     "execution_count": 53,
     "metadata": {},
     "output_type": "execute_result"
    }
   ],
   "source": [
    "using UnicodePlots\n",
    "\n",
    "unicodeplots()\n",
    "\n",
    "plot(numpirates, globaltemperatures, label=\"line\")\n",
    "scatter!(numpirates, globaltemperatures, label=\"points\")\n",
    "xlabel!(\"Number of Pirates\")\n",
    "ylabel!(\"Global Temperatures\")\n",
    "title!(\"Influence of pirates on global temperatures\")"
   ]
  },
  {
   "cell_type": "markdown",
   "metadata": {},
   "source": [
    "## 19. Multiple Dispatch in Julia!!\n",
    "\n",
    "Multiple Dispatch makes software\n",
    " - Fast\n",
    " - Extensible\n",
    " - Programmable\n",
    " - Fun to play with\n",
    " \n",
    "Multiple Dispatch is a fancy name for method, function and operator overloading! It got me for a second there!"
   ]
  },
  {
   "cell_type": "code",
   "execution_count": 54,
   "metadata": {},
   "outputs": [
    {
     "data": {
      "text/html": [
       "# 185 methods for generic function <b>+</b>:<ul><li> +(x::<b>Bool</b>, z::<b>Complex{Bool}</b>) in Base at <a href=\"https://github.com/JuliaLang/julia/tree/44fa15b1502a45eac76c9017af94332d4557b251/base/complex.jl#L286\" target=\"_blank\">complex.jl:286</a></li> <li> +(x::<b>Bool</b>, y::<b>Bool</b>) in Base at <a href=\"https://github.com/JuliaLang/julia/tree/44fa15b1502a45eac76c9017af94332d4557b251/base/bool.jl#L96\" target=\"_blank\">bool.jl:96</a></li> <li> +(x::<b>Bool</b>) in Base at <a href=\"https://github.com/JuliaLang/julia/tree/44fa15b1502a45eac76c9017af94332d4557b251/base/bool.jl#L93\" target=\"_blank\">bool.jl:93</a></li> <li> +(x::<b>Bool</b>, y::<b>T</b>)<i> where T<:AbstractFloat</i> in Base at <a href=\"https://github.com/JuliaLang/julia/tree/44fa15b1502a45eac76c9017af94332d4557b251/base/bool.jl#L104\" target=\"_blank\">bool.jl:104</a></li> <li> +(x::<b>Bool</b>, z::<b>Complex</b>) in Base at <a href=\"https://github.com/JuliaLang/julia/tree/44fa15b1502a45eac76c9017af94332d4557b251/base/complex.jl#L293\" target=\"_blank\">complex.jl:293</a></li> <li> +(a::<b>Float16</b>, b::<b>Float16</b>) in Base at <a href=\"https://github.com/JuliaLang/julia/tree/44fa15b1502a45eac76c9017af94332d4557b251/base/float.jl#L398\" target=\"_blank\">float.jl:398</a></li> <li> +(x::<b>Float32</b>, y::<b>Float32</b>) in Base at <a href=\"https://github.com/JuliaLang/julia/tree/44fa15b1502a45eac76c9017af94332d4557b251/base/float.jl#L400\" target=\"_blank\">float.jl:400</a></li> <li> +(x::<b>Float64</b>, y::<b>Float64</b>) in Base at <a href=\"https://github.com/JuliaLang/julia/tree/44fa15b1502a45eac76c9017af94332d4557b251/base/float.jl#L401\" target=\"_blank\">float.jl:401</a></li> <li> +(z::<b>Complex{Bool}</b>, x::<b>Bool</b>) in Base at <a href=\"https://github.com/JuliaLang/julia/tree/44fa15b1502a45eac76c9017af94332d4557b251/base/complex.jl#L287\" target=\"_blank\">complex.jl:287</a></li> <li> +(z::<b>Complex{Bool}</b>, x::<b>Real</b>) in Base at <a href=\"https://github.com/JuliaLang/julia/tree/44fa15b1502a45eac76c9017af94332d4557b251/base/complex.jl#L301\" target=\"_blank\">complex.jl:301</a></li> <li> +(::<b>Missing</b>, ::<b>Missing</b>) in Base at <a href=\"https://github.com/JuliaLang/julia/tree/44fa15b1502a45eac76c9017af94332d4557b251/base/missing.jl#L114\" target=\"_blank\">missing.jl:114</a></li> <li> +(::<b>Missing</b>) in Base at <a href=\"https://github.com/JuliaLang/julia/tree/44fa15b1502a45eac76c9017af94332d4557b251/base/missing.jl#L100\" target=\"_blank\">missing.jl:100</a></li> <li> +(::<b>Missing</b>, ::<b>Number</b>) in Base at <a href=\"https://github.com/JuliaLang/julia/tree/44fa15b1502a45eac76c9017af94332d4557b251/base/missing.jl#L115\" target=\"_blank\">missing.jl:115</a></li> <li> +(level::<b>Base.CoreLogging.LogLevel</b>, inc::<b>Integer</b>) in Base.CoreLogging at <a href=\"https://github.com/JuliaLang/julia/tree/44fa15b1502a45eac76c9017af94332d4557b251/base/logging.jl#L107\" target=\"_blank\">logging.jl:107</a></li> <li> +(c::<b>BigInt</b>, x::<b>BigFloat</b>) in Base.MPFR at <a href=\"https://github.com/JuliaLang/julia/tree/44fa15b1502a45eac76c9017af94332d4557b251/base/mpfr.jl#L414\" target=\"_blank\">mpfr.jl:414</a></li> <li> +(a::<b>BigInt</b>, b::<b>BigInt</b>, c::<b>BigInt</b>, d::<b>BigInt</b>, e::<b>BigInt</b>) in Base.GMP at <a href=\"https://github.com/JuliaLang/julia/tree/44fa15b1502a45eac76c9017af94332d4557b251/base/gmp.jl#L515\" target=\"_blank\">gmp.jl:515</a></li> <li> +(a::<b>BigInt</b>, b::<b>BigInt</b>, c::<b>BigInt</b>, d::<b>BigInt</b>) in Base.GMP at <a href=\"https://github.com/JuliaLang/julia/tree/44fa15b1502a45eac76c9017af94332d4557b251/base/gmp.jl#L514\" target=\"_blank\">gmp.jl:514</a></li> <li> +(a::<b>BigInt</b>, b::<b>BigInt</b>, c::<b>BigInt</b>) in Base.GMP at <a href=\"https://github.com/JuliaLang/julia/tree/44fa15b1502a45eac76c9017af94332d4557b251/base/gmp.jl#L513\" target=\"_blank\">gmp.jl:513</a></li> <li> +(x::<b>BigInt</b>, y::<b>BigInt</b>) in Base.GMP at <a href=\"https://github.com/JuliaLang/julia/tree/44fa15b1502a45eac76c9017af94332d4557b251/base/gmp.jl#L473\" target=\"_blank\">gmp.jl:473</a></li> <li> +(x::<b>BigInt</b>, c::<b>Union{UInt16, UInt32, UInt8}</b>) in Base.GMP at <a href=\"https://github.com/JuliaLang/julia/tree/44fa15b1502a45eac76c9017af94332d4557b251/base/gmp.jl#L521\" target=\"_blank\">gmp.jl:521</a></li> <li> +(x::<b>BigInt</b>, c::<b>Union{Int16, Int32, Int8}</b>) in Base.GMP at <a href=\"https://github.com/JuliaLang/julia/tree/44fa15b1502a45eac76c9017af94332d4557b251/base/gmp.jl#L527\" target=\"_blank\">gmp.jl:527</a></li> <li> +(a::<b>BigFloat</b>, b::<b>BigFloat</b>, c::<b>BigFloat</b>, d::<b>BigFloat</b>, e::<b>BigFloat</b>) in Base.MPFR at <a href=\"https://github.com/JuliaLang/julia/tree/44fa15b1502a45eac76c9017af94332d4557b251/base/mpfr.jl#L564\" target=\"_blank\">mpfr.jl:564</a></li> <li> +(a::<b>BigFloat</b>, b::<b>BigFloat</b>, c::<b>BigFloat</b>, d::<b>BigFloat</b>) in Base.MPFR at <a href=\"https://github.com/JuliaLang/julia/tree/44fa15b1502a45eac76c9017af94332d4557b251/base/mpfr.jl#L557\" target=\"_blank\">mpfr.jl:557</a></li> <li> +(a::<b>BigFloat</b>, b::<b>BigFloat</b>, c::<b>BigFloat</b>) in Base.MPFR at <a href=\"https://github.com/JuliaLang/julia/tree/44fa15b1502a45eac76c9017af94332d4557b251/base/mpfr.jl#L551\" target=\"_blank\">mpfr.jl:551</a></li> <li> +(x::<b>BigFloat</b>, c::<b>BigInt</b>) in Base.MPFR at <a href=\"https://github.com/JuliaLang/julia/tree/44fa15b1502a45eac76c9017af94332d4557b251/base/mpfr.jl#L410\" target=\"_blank\">mpfr.jl:410</a></li> <li> +(x::<b>BigFloat</b>, y::<b>BigFloat</b>) in Base.MPFR at <a href=\"https://github.com/JuliaLang/julia/tree/44fa15b1502a45eac76c9017af94332d4557b251/base/mpfr.jl#L379\" target=\"_blank\">mpfr.jl:379</a></li> <li> +(x::<b>BigFloat</b>, c::<b>Union{UInt16, UInt32, UInt8}</b>) in Base.MPFR at <a href=\"https://github.com/JuliaLang/julia/tree/44fa15b1502a45eac76c9017af94332d4557b251/base/mpfr.jl#L386\" target=\"_blank\">mpfr.jl:386</a></li> <li> +(x::<b>BigFloat</b>, c::<b>Union{Int16, Int32, Int8}</b>) in Base.MPFR at <a href=\"https://github.com/JuliaLang/julia/tree/44fa15b1502a45eac76c9017af94332d4557b251/base/mpfr.jl#L394\" target=\"_blank\">mpfr.jl:394</a></li> <li> +(x::<b>BigFloat</b>, c::<b>Union{Float16, Float32, Float64}</b>) in Base.MPFR at <a href=\"https://github.com/JuliaLang/julia/tree/44fa15b1502a45eac76c9017af94332d4557b251/base/mpfr.jl#L402\" target=\"_blank\">mpfr.jl:402</a></li> <li> +(x::<b>Dates.CompoundPeriod</b>, y::<b>Dates.CompoundPeriod</b>) in Dates at <a href=\"file://D:/buildbot/worker/package_win64/build/usr/share/julia/stdlib/v1.4/Dates/src/periods.jl\" target=\"_blank\">C:\\Users\\tirth\\AppData\\Local\\Programs\\Julia\\Julia-1.4.2\\share\\julia\\stdlib\\v1.4\\Dates\\src\\periods.jl:341</a></li> <li> +(x::<b>Dates.CompoundPeriod</b>, y::<b>Dates.Period</b>) in Dates at <a href=\"file://D:/buildbot/worker/package_win64/build/usr/share/julia/stdlib/v1.4/Dates/src/periods.jl\" target=\"_blank\">C:\\Users\\tirth\\AppData\\Local\\Programs\\Julia\\Julia-1.4.2\\share\\julia\\stdlib\\v1.4\\Dates\\src\\periods.jl:339</a></li> <li> +(x::<b>Dates.CompoundPeriod</b>, y::<b>Dates.TimeType</b>) in Dates at <a href=\"file://D:/buildbot/worker/package_win64/build/usr/share/julia/stdlib/v1.4/Dates/src/periods.jl\" target=\"_blank\">C:\\Users\\tirth\\AppData\\Local\\Programs\\Julia\\Julia-1.4.2\\share\\julia\\stdlib\\v1.4\\Dates\\src\\periods.jl:369</a></li> <li> +(x::<b>Dates.Date</b>, y::<b>Dates.Day</b>) in Dates at <a href=\"file://D:/buildbot/worker/package_win64/build/usr/share/julia/stdlib/v1.4/Dates/src/arithmetic.jl\" target=\"_blank\">C:\\Users\\tirth\\AppData\\Local\\Programs\\Julia\\Julia-1.4.2\\share\\julia\\stdlib\\v1.4\\Dates\\src\\arithmetic.jl:74</a></li> <li> +(x::<b>Dates.Date</b>, y::<b>Dates.Week</b>) in Dates at <a href=\"file://D:/buildbot/worker/package_win64/build/usr/share/julia/stdlib/v1.4/Dates/src/arithmetic.jl\" target=\"_blank\">C:\\Users\\tirth\\AppData\\Local\\Programs\\Julia\\Julia-1.4.2\\share\\julia\\stdlib\\v1.4\\Dates\\src\\arithmetic.jl:72</a></li> <li> +(dt::<b>Dates.Date</b>, z::<b>Dates.Month</b>) in Dates at <a href=\"file://D:/buildbot/worker/package_win64/build/usr/share/julia/stdlib/v1.4/Dates/src/arithmetic.jl\" target=\"_blank\">C:\\Users\\tirth\\AppData\\Local\\Programs\\Julia\\Julia-1.4.2\\share\\julia\\stdlib\\v1.4\\Dates\\src\\arithmetic.jl:55</a></li> <li> +(dt::<b>Dates.Date</b>, y::<b>Dates.Year</b>) in Dates at <a href=\"file://D:/buildbot/worker/package_win64/build/usr/share/julia/stdlib/v1.4/Dates/src/arithmetic.jl\" target=\"_blank\">C:\\Users\\tirth\\AppData\\Local\\Programs\\Julia\\Julia-1.4.2\\share\\julia\\stdlib\\v1.4\\Dates\\src\\arithmetic.jl:28</a></li> <li> +(dt::<b>Dates.Date</b>, t::<b>Dates.Time</b>) in Dates at <a href=\"file://D:/buildbot/worker/package_win64/build/usr/share/julia/stdlib/v1.4/Dates/src/arithmetic.jl\" target=\"_blank\">C:\\Users\\tirth\\AppData\\Local\\Programs\\Julia\\Julia-1.4.2\\share\\julia\\stdlib\\v1.4\\Dates\\src\\arithmetic.jl:19</a></li> <li> +(t::<b>Dates.Time</b>, dt::<b>Dates.Date</b>) in Dates at <a href=\"file://D:/buildbot/worker/package_win64/build/usr/share/julia/stdlib/v1.4/Dates/src/arithmetic.jl\" target=\"_blank\">C:\\Users\\tirth\\AppData\\Local\\Programs\\Julia\\Julia-1.4.2\\share\\julia\\stdlib\\v1.4\\Dates\\src\\arithmetic.jl:20</a></li> <li> +(x::<b>Dates.Time</b>, y::<b>Dates.TimePeriod</b>) in Dates at <a href=\"file://D:/buildbot/worker/package_win64/build/usr/share/julia/stdlib/v1.4/Dates/src/arithmetic.jl\" target=\"_blank\">C:\\Users\\tirth\\AppData\\Local\\Programs\\Julia\\Julia-1.4.2\\share\\julia\\stdlib\\v1.4\\Dates\\src\\arithmetic.jl:78</a></li> <li> +(dt::<b>Dates.DateTime</b>, z::<b>Dates.Month</b>) in Dates at <a href=\"file://D:/buildbot/worker/package_win64/build/usr/share/julia/stdlib/v1.4/Dates/src/arithmetic.jl\" target=\"_blank\">C:\\Users\\tirth\\AppData\\Local\\Programs\\Julia\\Julia-1.4.2\\share\\julia\\stdlib\\v1.4\\Dates\\src\\arithmetic.jl:48</a></li> <li> +(dt::<b>Dates.DateTime</b>, y::<b>Dates.Year</b>) in Dates at <a href=\"file://D:/buildbot/worker/package_win64/build/usr/share/julia/stdlib/v1.4/Dates/src/arithmetic.jl\" target=\"_blank\">C:\\Users\\tirth\\AppData\\Local\\Programs\\Julia\\Julia-1.4.2\\share\\julia\\stdlib\\v1.4\\Dates\\src\\arithmetic.jl:24</a></li> <li> +(x::<b>Dates.DateTime</b>, y::<b>Dates.Period</b>) in Dates at <a href=\"file://D:/buildbot/worker/package_win64/build/usr/share/julia/stdlib/v1.4/Dates/src/arithmetic.jl\" target=\"_blank\">C:\\Users\\tirth\\AppData\\Local\\Programs\\Julia\\Julia-1.4.2\\share\\julia\\stdlib\\v1.4\\Dates\\src\\arithmetic.jl:76</a></li> <li> +(B::<b>BitArray{2}</b>, J::<b>LinearAlgebra.UniformScaling</b>) in LinearAlgebra at <a href=\"file://D:/buildbot/worker/package_win64/build/usr/share/julia/stdlib/v1.4/LinearAlgebra/src/uniformscaling.jl\" target=\"_blank\">C:\\Users\\tirth\\AppData\\Local\\Programs\\Julia\\Julia-1.4.2\\share\\julia\\stdlib\\v1.4\\LinearAlgebra\\src\\uniformscaling.jl:115</a></li> <li> +(a::<b>Pkg.Resolve.VersionWeight</b>, b::<b>Pkg.Resolve.VersionWeight</b>) in Pkg.Resolve at <a href=\"file://D:/buildbot/worker/package_win64/build/usr/share/julia/stdlib/v1.4/Pkg/src/Resolve/versionweights.jl\" target=\"_blank\">C:\\Users\\tirth\\AppData\\Local\\Programs\\Julia\\Julia-1.4.2\\share\\julia\\stdlib\\v1.4\\Pkg\\src\\Resolve\\versionweights.jl:22</a></li> <li> +(a::<b>Pkg.Resolve.FieldValue</b>, b::<b>Pkg.Resolve.FieldValue</b>) in Pkg.Resolve at <a href=\"file://D:/buildbot/worker/package_win64/build/usr/share/julia/stdlib/v1.4/Pkg/src/Resolve/fieldvalues.jl\" target=\"_blank\">C:\\Users\\tirth\\AppData\\Local\\Programs\\Julia\\Julia-1.4.2\\share\\julia\\stdlib\\v1.4\\Pkg\\src\\Resolve\\fieldvalues.jl:43</a></li> <li> +(y::<b>AbstractFloat</b>, x::<b>Bool</b>) in Base at <a href=\"https://github.com/JuliaLang/julia/tree/44fa15b1502a45eac76c9017af94332d4557b251/base/bool.jl#L106\" target=\"_blank\">bool.jl:106</a></li> <li> +(x::<b>T</b>, y::<b>T</b>)<i> where T<:Union{Int128, Int16, Int32, Int64, Int8, UInt128, UInt16, UInt32, UInt64, UInt8}</i> in Base at <a href=\"https://github.com/JuliaLang/julia/tree/44fa15b1502a45eac76c9017af94332d4557b251/base/int.jl#L53\" target=\"_blank\">int.jl:53</a></li> <li> +(c::<b>Union{UInt16, UInt32, UInt8}</b>, x::<b>BigInt</b>) in Base.GMP at <a href=\"https://github.com/JuliaLang/julia/tree/44fa15b1502a45eac76c9017af94332d4557b251/base/gmp.jl#L522\" target=\"_blank\">gmp.jl:522</a></li> <li> +(c::<b>Union{Int16, Int32, Int8}</b>, x::<b>BigInt</b>) in Base.GMP at <a href=\"https://github.com/JuliaLang/julia/tree/44fa15b1502a45eac76c9017af94332d4557b251/base/gmp.jl#L528\" target=\"_blank\">gmp.jl:528</a></li> <li> +(x::<b>GeometryTypes.OffsetInteger{O,T} where T<:Integer</b>, y::<b>GeometryTypes.OffsetInteger{O,T} where T<:Integer</b>)<i> where O</i> in GeometryTypes at <a href=\"file://C:/Users/tirth/.julia/packages/GeometryTypes/gpBFp/src/faces.jl\" target=\"_blank\">C:\\Users\\tirth\\.julia\\packages\\GeometryTypes\\gpBFp\\src\\faces.jl:32</a></li> <li> +(a::<b>Integer</b>, b::<b>Integer</b>) in Base at <a href=\"https://github.com/JuliaLang/julia/tree/44fa15b1502a45eac76c9017af94332d4557b251/base/int.jl#L857\" target=\"_blank\">int.jl:857</a></li> <li> +(x::<b>Integer</b>, y::<b>Ptr</b>) in Base at <a href=\"https://github.com/JuliaLang/julia/tree/44fa15b1502a45eac76c9017af94332d4557b251/base/pointer.jl#L161\" target=\"_blank\">pointer.jl:161</a></li> <li> +(z::<b>Complex</b>) in Base at <a href=\"https://github.com/JuliaLang/julia/tree/44fa15b1502a45eac76c9017af94332d4557b251/base/complex.jl#L273\" target=\"_blank\">complex.jl:273</a></li> <li> +(z::<b>Complex</b>, w::<b>Complex</b>) in Base at <a href=\"https://github.com/JuliaLang/julia/tree/44fa15b1502a45eac76c9017af94332d4557b251/base/complex.jl#L275\" target=\"_blank\">complex.jl:275</a></li> <li> +(z::<b>Complex</b>, x::<b>Bool</b>) in Base at <a href=\"https://github.com/JuliaLang/julia/tree/44fa15b1502a45eac76c9017af94332d4557b251/base/complex.jl#L294\" target=\"_blank\">complex.jl:294</a></li> <li> +(x::<b>Rational</b>) in Base at <a href=\"https://github.com/JuliaLang/julia/tree/44fa15b1502a45eac76c9017af94332d4557b251/base/rational.jl#L247\" target=\"_blank\">rational.jl:247</a></li> <li> +(x::<b>Real</b>, z::<b>Complex{Bool}</b>) in Base at <a href=\"https://github.com/JuliaLang/julia/tree/44fa15b1502a45eac76c9017af94332d4557b251/base/complex.jl#L300\" target=\"_blank\">complex.jl:300</a></li> <li> +(x::<b>Real</b>, z::<b>Complex</b>) in Base at <a href=\"https://github.com/JuliaLang/julia/tree/44fa15b1502a45eac76c9017af94332d4557b251/base/complex.jl#L312\" target=\"_blank\">complex.jl:312</a></li> <li> +(z::<b>Complex</b>, x::<b>Real</b>) in Base at <a href=\"https://github.com/JuliaLang/julia/tree/44fa15b1502a45eac76c9017af94332d4557b251/base/complex.jl#L313\" target=\"_blank\">complex.jl:313</a></li> <li> +(x::<b>Rational</b>, y::<b>Rational</b>) in Base at <a href=\"https://github.com/JuliaLang/julia/tree/44fa15b1502a45eac76c9017af94332d4557b251/base/rational.jl#L263\" target=\"_blank\">rational.jl:263</a></li> <li> +(x::<b>Integer</b>, y::<b>AbstractChar</b>) in Base at <a href=\"https://github.com/JuliaLang/julia/tree/44fa15b1502a45eac76c9017af94332d4557b251/base/char.jl#L224\" target=\"_blank\">char.jl:224</a></li> <li> +(c::<b>Union{UInt16, UInt32, UInt8}</b>, x::<b>BigFloat</b>) in Base.MPFR at <a href=\"https://github.com/JuliaLang/julia/tree/44fa15b1502a45eac76c9017af94332d4557b251/base/mpfr.jl#L390\" target=\"_blank\">mpfr.jl:390</a></li> <li> +(c::<b>Union{Int16, Int32, Int8}</b>, x::<b>BigFloat</b>) in Base.MPFR at <a href=\"https://github.com/JuliaLang/julia/tree/44fa15b1502a45eac76c9017af94332d4557b251/base/mpfr.jl#L398\" target=\"_blank\">mpfr.jl:398</a></li> <li> +(c::<b>Union{Float16, Float32, Float64}</b>, x::<b>BigFloat</b>) in Base.MPFR at <a href=\"https://github.com/JuliaLang/julia/tree/44fa15b1502a45eac76c9017af94332d4557b251/base/mpfr.jl#L406\" target=\"_blank\">mpfr.jl:406</a></li> <li> +(x::<b>AbstractIrrational</b>, y::<b>AbstractIrrational</b>) in Base at <a href=\"https://github.com/JuliaLang/julia/tree/44fa15b1502a45eac76c9017af94332d4557b251/base/irrationals.jl#L137\" target=\"_blank\">irrationals.jl:137</a></li> <li> +(x::<b>X</b>, y::<b>X</b>)<i> where X<:FixedPointNumbers.FixedPoint</i> in FixedPointNumbers at <a href=\"file://C:/Users/tirth/.julia/packages/FixedPointNumbers/w2pxG/src/FixedPointNumbers.jl\" target=\"_blank\">C:\\Users\\tirth\\.julia\\packages\\FixedPointNumbers\\w2pxG\\src\\FixedPointNumbers.jl:165</a></li> <li> +(x::<b>Number</b>) in Base at <a href=\"https://github.com/JuliaLang/julia/tree/44fa15b1502a45eac76c9017af94332d4557b251/base/operators.jl#L504\" target=\"_blank\">operators.jl:504</a></li> <li> +(x::<b>T</b>, y::<b>T</b>)<i> where T<:Number</i> in Base at <a href=\"https://github.com/JuliaLang/julia/tree/44fa15b1502a45eac76c9017af94332d4557b251/base/promotion.jl#L384\" target=\"_blank\">promotion.jl:384</a></li> <li> +(x::<b>Number</b>, y::<b>Number</b>) in Base at <a href=\"https://github.com/JuliaLang/julia/tree/44fa15b1502a45eac76c9017af94332d4557b251/base/promotion.jl#L311\" target=\"_blank\">promotion.jl:311</a></li> <li> +(r1::<b>OrdinalRange</b>, r2::<b>OrdinalRange</b>) in Base at <a href=\"https://github.com/JuliaLang/julia/tree/44fa15b1502a45eac76c9017af94332d4557b251/base/range.jl#L1011\" target=\"_blank\">range.jl:1011</a></li> <li> +(r1::<b>LinRange{T}</b>, r2::<b>LinRange{T}</b>)<i> where T</i> in Base at <a href=\"https://github.com/JuliaLang/julia/tree/44fa15b1502a45eac76c9017af94332d4557b251/base/range.jl#L1018\" target=\"_blank\">range.jl:1018</a></li> <li> +(r1::<b>StepRangeLen{T,R,S} where S</b>, r2::<b>StepRangeLen{T,R,S} where S</b>)<i> where {R<:Base.TwicePrecision, T}</i> in Base at <a href=\"https://github.com/JuliaLang/julia/tree/44fa15b1502a45eac76c9017af94332d4557b251/base/twiceprecision.jl#L557\" target=\"_blank\">twiceprecision.jl:557</a></li> <li> +(r1::<b>StepRangeLen{T,S,S1} where S1</b>, r2::<b>StepRangeLen{T,S,S1} where S1</b>)<i> where {T, S}</i> in Base at <a href=\"https://github.com/JuliaLang/julia/tree/44fa15b1502a45eac76c9017af94332d4557b251/base/range.jl#L1034\" target=\"_blank\">range.jl:1034</a></li> <li> +(r1::<b>Union{LinRange, OrdinalRange, StepRangeLen}</b>, r2::<b>Union{LinRange, OrdinalRange, StepRangeLen}</b>) in Base at <a href=\"https://github.com/JuliaLang/julia/tree/44fa15b1502a45eac76c9017af94332d4557b251/base/range.jl#L1026\" target=\"_blank\">range.jl:1026</a></li> <li> +(x::<b>Ptr</b>, y::<b>Integer</b>) in Base at <a href=\"https://github.com/JuliaLang/julia/tree/44fa15b1502a45eac76c9017af94332d4557b251/base/pointer.jl#L159\" target=\"_blank\">pointer.jl:159</a></li> <li> +(x::<b>Base.TwicePrecision</b>, y::<b>Number</b>) in Base at <a href=\"https://github.com/JuliaLang/julia/tree/44fa15b1502a45eac76c9017af94332d4557b251/base/twiceprecision.jl#L265\" target=\"_blank\">twiceprecision.jl:265</a></li> <li> +(x::<b>Number</b>, y::<b>Base.TwicePrecision</b>) in Base at <a href=\"https://github.com/JuliaLang/julia/tree/44fa15b1502a45eac76c9017af94332d4557b251/base/twiceprecision.jl#L268\" target=\"_blank\">twiceprecision.jl:268</a></li> <li> +(x::<b>Base.TwicePrecision{T}</b>, y::<b>Base.TwicePrecision{T}</b>)<i> where T</i> in Base at <a href=\"https://github.com/JuliaLang/julia/tree/44fa15b1502a45eac76c9017af94332d4557b251/base/twiceprecision.jl#L271\" target=\"_blank\">twiceprecision.jl:271</a></li> <li> +(x::<b>Base.TwicePrecision</b>, y::<b>Base.TwicePrecision</b>) in Base at <a href=\"https://github.com/JuliaLang/julia/tree/44fa15b1502a45eac76c9017af94332d4557b251/base/twiceprecision.jl#L275\" target=\"_blank\">twiceprecision.jl:275</a></li> <li> +(A::<b>Array</b>, Bs::<b>Array...</b>) in Base at <a href=\"https://github.com/JuliaLang/julia/tree/44fa15b1502a45eac76c9017af94332d4557b251/base/arraymath.jl#L44\" target=\"_blank\">arraymath.jl:44</a></li> <li> +(A::<b>BitArray</b>, B::<b>BitArray</b>) in Base at <a href=\"https://github.com/JuliaLang/julia/tree/44fa15b1502a45eac76c9017af94332d4557b251/base/bitarray.jl#L1106\" target=\"_blank\">bitarray.jl:1106</a></li> <li> +(r::<b>AbstractRange{#s662} where #s662<:Dates.TimeType</b>, x::<b>Dates.Period</b>) in Dates at <a href=\"file://D:/buildbot/worker/package_win64/build/usr/share/julia/stdlib/v1.4/Dates/src/ranges.jl\" target=\"_blank\">C:\\Users\\tirth\\AppData\\Local\\Programs\\Julia\\Julia-1.4.2\\share\\julia\\stdlib\\v1.4\\Dates\\src\\ranges.jl:59</a></li> <li> +(A::<b>Array</b>, B::<b>SparseArrays.AbstractSparseMatrixCSC</b>) in SparseArrays at <a href=\"file://D:/buildbot/worker/package_win64/build/usr/share/julia/stdlib/v1.4/SparseArrays/src/sparsematrix.jl\" target=\"_blank\">C:\\Users\\tirth\\AppData\\Local\\Programs\\Julia\\Julia-1.4.2\\share\\julia\\stdlib\\v1.4\\SparseArrays\\src\\sparsematrix.jl:1652</a></li> <li> +(x::<b>Union{DenseArray{#s662,N}, Base.ReinterpretArray{#s662,N,S,A} where S where A<:Union{SubArray{T,N,A,I,true} where I<:Union{Tuple{Vararg{Real,N} where N}, Tuple{AbstractUnitRange,Vararg{Any,N} where N}} where A<:DenseArray where N where T, DenseArray}, Base.ReshapedArray{#s662,N,A,MI} where MI<:Tuple{Vararg{Base.MultiplicativeInverses.SignedMultiplicativeInverse{Int64},N} where N} where A<:Union{Base.ReinterpretArray{T,N,S,A} where S where A<:Union{SubArray{T,N,A,I,true} where I<:Union{Tuple{Vararg{Real,N} where N}, Tuple{AbstractUnitRange,Vararg{Any,N} where N}} where A<:DenseArray where N where T, DenseArray} where N where T, SubArray{T,N,A,I,true} where I<:Union{Tuple{Vararg{Real,N} where N}, Tuple{AbstractUnitRange,Vararg{Any,N} where N}} where A<:DenseArray where N where T, DenseArray}, SubArray{#s662,N,A,I,L} where L where I<:Tuple{Vararg{Union{Int64, AbstractRange{Int64}, Base.AbstractCartesianIndex},N} where N} where A<:Union{Base.ReinterpretArray{T,N,S,A} where S where A<:Union{SubArray{T,N,A,I,true} where I<:Union{Tuple{Vararg{Real,N} where N}, Tuple{AbstractUnitRange,Vararg{Any,N} where N}} where A<:DenseArray where N where T, DenseArray} where N where T, Base.ReshapedArray{T,N,A,MI} where MI<:Tuple{Vararg{Base.MultiplicativeInverses.SignedMultiplicativeInverse{Int64},N} where N} where A<:Union{Base.ReinterpretArray{T,N,S,A} where S where A<:Union{SubArray{T,N,A,I,true} where I<:Union{Tuple{Vararg{Real,N} where N}, Tuple{AbstractUnitRange,Vararg{Any,N} where N}} where A<:DenseArray where N where T, DenseArray} where N where T, SubArray{T,N,A,I,true} where I<:Union{Tuple{Vararg{Real,N} where N}, Tuple{AbstractUnitRange,Vararg{Any,N} where N}} where A<:DenseArray where N where T, DenseArray} where N where T, DenseArray}} where N where #s662<:Union{Dates.CompoundPeriod, Dates.Period}</b>) in Dates at <a href=\"file://D:/buildbot/worker/package_win64/build/usr/share/julia/stdlib/v1.4/Dates/src/deprecated.jl\" target=\"_blank\">C:\\Users\\tirth\\AppData\\Local\\Programs\\Julia\\Julia-1.4.2\\share\\julia\\stdlib\\v1.4\\Dates\\src\\deprecated.jl:57</a></li> <li> +(x::<b>Union{DenseArray{#s662,N}, Base.ReinterpretArray{#s662,N,S,A} where S where A<:Union{SubArray{T,N,A,I,true} where I<:Union{Tuple{Vararg{Real,N} where N}, Tuple{AbstractUnitRange,Vararg{Any,N} where N}} where A<:DenseArray where N where T, DenseArray}, Base.ReshapedArray{#s662,N,A,MI} where MI<:Tuple{Vararg{Base.MultiplicativeInverses.SignedMultiplicativeInverse{Int64},N} where N} where A<:Union{Base.ReinterpretArray{T,N,S,A} where S where A<:Union{SubArray{T,N,A,I,true} where I<:Union{Tuple{Vararg{Real,N} where N}, Tuple{AbstractUnitRange,Vararg{Any,N} where N}} where A<:DenseArray where N where T, DenseArray} where N where T, SubArray{T,N,A,I,true} where I<:Union{Tuple{Vararg{Real,N} where N}, Tuple{AbstractUnitRange,Vararg{Any,N} where N}} where A<:DenseArray where N where T, DenseArray}, SubArray{#s662,N,A,I,L} where L where I<:Tuple{Vararg{Union{Int64, AbstractRange{Int64}, Base.AbstractCartesianIndex},N} where N} where A<:Union{Base.ReinterpretArray{T,N,S,A} where S where A<:Union{SubArray{T,N,A,I,true} where I<:Union{Tuple{Vararg{Real,N} where N}, Tuple{AbstractUnitRange,Vararg{Any,N} where N}} where A<:DenseArray where N where T, DenseArray} where N where T, Base.ReshapedArray{T,N,A,MI} where MI<:Tuple{Vararg{Base.MultiplicativeInverses.SignedMultiplicativeInverse{Int64},N} where N} where A<:Union{Base.ReinterpretArray{T,N,S,A} where S where A<:Union{SubArray{T,N,A,I,true} where I<:Union{Tuple{Vararg{Real,N} where N}, Tuple{AbstractUnitRange,Vararg{Any,N} where N}} where A<:DenseArray where N where T, DenseArray} where N where T, SubArray{T,N,A,I,true} where I<:Union{Tuple{Vararg{Real,N} where N}, Tuple{AbstractUnitRange,Vararg{Any,N} where N}} where A<:DenseArray where N where T, DenseArray} where N where T, DenseArray}} where N where #s662<:Union{Dates.CompoundPeriod, Dates.Period}</b>, y::<b>Dates.TimeType</b>) in Dates at <a href=\"file://D:/buildbot/worker/package_win64/build/usr/share/julia/stdlib/v1.4/Dates/src/deprecated.jl\" target=\"_blank\">C:\\Users\\tirth\\AppData\\Local\\Programs\\Julia\\Julia-1.4.2\\share\\julia\\stdlib\\v1.4\\Dates\\src\\deprecated.jl:12</a></li> <li> +(X::<b>Union{DenseArray{#s662,N}, Base.ReinterpretArray{#s662,N,S,A} where S where A<:Union{SubArray{T,N,A,I,true} where I<:Union{Tuple{Vararg{Real,N} where N}, Tuple{AbstractUnitRange,Vararg{Any,N} where N}} where A<:DenseArray where N where T, DenseArray}, Base.ReshapedArray{#s662,N,A,MI} where MI<:Tuple{Vararg{Base.MultiplicativeInverses.SignedMultiplicativeInverse{Int64},N} where N} where A<:Union{Base.ReinterpretArray{T,N,S,A} where S where A<:Union{SubArray{T,N,A,I,true} where I<:Union{Tuple{Vararg{Real,N} where N}, Tuple{AbstractUnitRange,Vararg{Any,N} where N}} where A<:DenseArray where N where T, DenseArray} where N where T, SubArray{T,N,A,I,true} where I<:Union{Tuple{Vararg{Real,N} where N}, Tuple{AbstractUnitRange,Vararg{Any,N} where N}} where A<:DenseArray where N where T, DenseArray}, SubArray{#s662,N,A,I,L} where L where I<:Tuple{Vararg{Union{Int64, AbstractRange{Int64}, Base.AbstractCartesianIndex},N} where N} where A<:Union{Base.ReinterpretArray{T,N,S,A} where S where A<:Union{SubArray{T,N,A,I,true} where I<:Union{Tuple{Vararg{Real,N} where N}, Tuple{AbstractUnitRange,Vararg{Any,N} where N}} where A<:DenseArray where N where T, DenseArray} where N where T, Base.ReshapedArray{T,N,A,MI} where MI<:Tuple{Vararg{Base.MultiplicativeInverses.SignedMultiplicativeInverse{Int64},N} where N} where A<:Union{Base.ReinterpretArray{T,N,S,A} where S where A<:Union{SubArray{T,N,A,I,true} where I<:Union{Tuple{Vararg{Real,N} where N}, Tuple{AbstractUnitRange,Vararg{Any,N} where N}} where A<:DenseArray where N where T, DenseArray} where N where T, SubArray{T,N,A,I,true} where I<:Union{Tuple{Vararg{Real,N} where N}, Tuple{AbstractUnitRange,Vararg{Any,N} where N}} where A<:DenseArray where N where T, DenseArray} where N where T, DenseArray}} where N where #s662<:Union{Dates.CompoundPeriod, Dates.Period}</b>, Y::<b>Union{DenseArray{#s661,N}, Base.ReinterpretArray{#s661,N,S,A} where S where A<:Union{SubArray{T,N,A,I,true} where I<:Union{Tuple{Vararg{Real,N} where N}, Tuple{AbstractUnitRange,Vararg{Any,N} where N}} where A<:DenseArray where N where T, DenseArray}, Base.ReshapedArray{#s661,N,A,MI} where MI<:Tuple{Vararg{Base.MultiplicativeInverses.SignedMultiplicativeInverse{Int64},N} where N} where A<:Union{Base.ReinterpretArray{T,N,S,A} where S where A<:Union{SubArray{T,N,A,I,true} where I<:Union{Tuple{Vararg{Real,N} where N}, Tuple{AbstractUnitRange,Vararg{Any,N} where N}} where A<:DenseArray where N where T, DenseArray} where N where T, SubArray{T,N,A,I,true} where I<:Union{Tuple{Vararg{Real,N} where N}, Tuple{AbstractUnitRange,Vararg{Any,N} where N}} where A<:DenseArray where N where T, DenseArray}, SubArray{#s661,N,A,I,L} where L where I<:Tuple{Vararg{Union{Int64, AbstractRange{Int64}, Base.AbstractCartesianIndex},N} where N} where A<:Union{Base.ReinterpretArray{T,N,S,A} where S where A<:Union{SubArray{T,N,A,I,true} where I<:Union{Tuple{Vararg{Real,N} where N}, Tuple{AbstractUnitRange,Vararg{Any,N} where N}} where A<:DenseArray where N where T, DenseArray} where N where T, Base.ReshapedArray{T,N,A,MI} where MI<:Tuple{Vararg{Base.MultiplicativeInverses.SignedMultiplicativeInverse{Int64},N} where N} where A<:Union{Base.ReinterpretArray{T,N,S,A} where S where A<:Union{SubArray{T,N,A,I,true} where I<:Union{Tuple{Vararg{Real,N} where N}, Tuple{AbstractUnitRange,Vararg{Any,N} where N}} where A<:DenseArray where N where T, DenseArray} where N where T, SubArray{T,N,A,I,true} where I<:Union{Tuple{Vararg{Real,N} where N}, Tuple{AbstractUnitRange,Vararg{Any,N} where N}} where A<:DenseArray where N where T, DenseArray} where N where T, DenseArray}} where N where #s661<:Union{Dates.CompoundPeriod, Dates.Period}</b>) in Dates at <a href=\"file://D:/buildbot/worker/package_win64/build/usr/share/julia/stdlib/v1.4/Dates/src/deprecated.jl\" target=\"_blank\">C:\\Users\\tirth\\AppData\\Local\\Programs\\Julia\\Julia-1.4.2\\share\\julia\\stdlib\\v1.4\\Dates\\src\\deprecated.jl:64</a></li> <li> +(A::<b>LinearAlgebra.SymTridiagonal</b>, B::<b>LinearAlgebra.SymTridiagonal</b>) in LinearAlgebra at <a href=\"file://D:/buildbot/worker/package_win64/build/usr/share/julia/stdlib/v1.4/LinearAlgebra/src/tridiag.jl\" target=\"_blank\">C:\\Users\\tirth\\AppData\\Local\\Programs\\Julia\\Julia-1.4.2\\share\\julia\\stdlib\\v1.4\\LinearAlgebra\\src\\tridiag.jl:158</a></li> <li> +(A::<b>LinearAlgebra.Tridiagonal</b>, B::<b>LinearAlgebra.Tridiagonal</b>) in LinearAlgebra at <a href=\"file://D:/buildbot/worker/package_win64/build/usr/share/julia/stdlib/v1.4/LinearAlgebra/src/tridiag.jl\" target=\"_blank\">C:\\Users\\tirth\\AppData\\Local\\Programs\\Julia\\Julia-1.4.2\\share\\julia\\stdlib\\v1.4\\LinearAlgebra\\src\\tridiag.jl:657</a></li> <li> +(A::<b>LinearAlgebra.UpperTriangular</b>, B::<b>LinearAlgebra.UpperTriangular</b>) in LinearAlgebra at <a href=\"file://D:/buildbot/worker/package_win64/build/usr/share/julia/stdlib/v1.4/LinearAlgebra/src/triangular.jl\" target=\"_blank\">C:\\Users\\tirth\\AppData\\Local\\Programs\\Julia\\Julia-1.4.2\\share\\julia\\stdlib\\v1.4\\LinearAlgebra\\src\\triangular.jl:648</a></li> <li> +(A::<b>LinearAlgebra.LowerTriangular</b>, B::<b>LinearAlgebra.LowerTriangular</b>) in LinearAlgebra at <a href=\"file://D:/buildbot/worker/package_win64/build/usr/share/julia/stdlib/v1.4/LinearAlgebra/src/triangular.jl\" target=\"_blank\">C:\\Users\\tirth\\AppData\\Local\\Programs\\Julia\\Julia-1.4.2\\share\\julia\\stdlib\\v1.4\\LinearAlgebra\\src\\triangular.jl:649</a></li> <li> +(A::<b>LinearAlgebra.UpperTriangular</b>, B::<b>LinearAlgebra.UnitUpperTriangular</b>) in LinearAlgebra at <a href=\"file://D:/buildbot/worker/package_win64/build/usr/share/julia/stdlib/v1.4/LinearAlgebra/src/triangular.jl\" target=\"_blank\">C:\\Users\\tirth\\AppData\\Local\\Programs\\Julia\\Julia-1.4.2\\share\\julia\\stdlib\\v1.4\\LinearAlgebra\\src\\triangular.jl:650</a></li> <li> +(A::<b>LinearAlgebra.LowerTriangular</b>, B::<b>LinearAlgebra.UnitLowerTriangular</b>) in LinearAlgebra at <a href=\"file://D:/buildbot/worker/package_win64/build/usr/share/julia/stdlib/v1.4/LinearAlgebra/src/triangular.jl\" target=\"_blank\">C:\\Users\\tirth\\AppData\\Local\\Programs\\Julia\\Julia-1.4.2\\share\\julia\\stdlib\\v1.4\\LinearAlgebra\\src\\triangular.jl:651</a></li> <li> +(A::<b>LinearAlgebra.UnitUpperTriangular</b>, B::<b>LinearAlgebra.UpperTriangular</b>) in LinearAlgebra at <a href=\"file://D:/buildbot/worker/package_win64/build/usr/share/julia/stdlib/v1.4/LinearAlgebra/src/triangular.jl\" target=\"_blank\">C:\\Users\\tirth\\AppData\\Local\\Programs\\Julia\\Julia-1.4.2\\share\\julia\\stdlib\\v1.4\\LinearAlgebra\\src\\triangular.jl:652</a></li> <li> +(A::<b>LinearAlgebra.UnitLowerTriangular</b>, B::<b>LinearAlgebra.LowerTriangular</b>) in LinearAlgebra at <a href=\"file://D:/buildbot/worker/package_win64/build/usr/share/julia/stdlib/v1.4/LinearAlgebra/src/triangular.jl\" target=\"_blank\">C:\\Users\\tirth\\AppData\\Local\\Programs\\Julia\\Julia-1.4.2\\share\\julia\\stdlib\\v1.4\\LinearAlgebra\\src\\triangular.jl:653</a></li> <li> +(A::<b>LinearAlgebra.UnitUpperTriangular</b>, B::<b>LinearAlgebra.UnitUpperTriangular</b>) in LinearAlgebra at <a href=\"file://D:/buildbot/worker/package_win64/build/usr/share/julia/stdlib/v1.4/LinearAlgebra/src/triangular.jl\" target=\"_blank\">C:\\Users\\tirth\\AppData\\Local\\Programs\\Julia\\Julia-1.4.2\\share\\julia\\stdlib\\v1.4\\LinearAlgebra\\src\\triangular.jl:654</a></li> <li> +(A::<b>LinearAlgebra.UnitLowerTriangular</b>, B::<b>LinearAlgebra.UnitLowerTriangular</b>) in LinearAlgebra at <a href=\"file://D:/buildbot/worker/package_win64/build/usr/share/julia/stdlib/v1.4/LinearAlgebra/src/triangular.jl\" target=\"_blank\">C:\\Users\\tirth\\AppData\\Local\\Programs\\Julia\\Julia-1.4.2\\share\\julia\\stdlib\\v1.4\\LinearAlgebra\\src\\triangular.jl:655</a></li> <li> +(A::<b>LinearAlgebra.AbstractTriangular</b>, B::<b>LinearAlgebra.AbstractTriangular</b>) in LinearAlgebra at <a href=\"file://D:/buildbot/worker/package_win64/build/usr/share/julia/stdlib/v1.4/LinearAlgebra/src/triangular.jl\" target=\"_blank\">C:\\Users\\tirth\\AppData\\Local\\Programs\\Julia\\Julia-1.4.2\\share\\julia\\stdlib\\v1.4\\LinearAlgebra\\src\\triangular.jl:656</a></li> <li> +(A::<b>LinearAlgebra.Symmetric</b>, B::<b>LinearAlgebra.Symmetric</b>) in LinearAlgebra at <a href=\"file://D:/buildbot/worker/package_win64/build/usr/share/julia/stdlib/v1.4/LinearAlgebra/src/symmetric.jl\" target=\"_blank\">C:\\Users\\tirth\\AppData\\Local\\Programs\\Julia\\Julia-1.4.2\\share\\julia\\stdlib\\v1.4\\LinearAlgebra\\src\\symmetric.jl:465</a></li> <li> +(A::<b>LinearAlgebra.Hermitian</b>, B::<b>LinearAlgebra.Hermitian</b>) in LinearAlgebra at <a href=\"file://D:/buildbot/worker/package_win64/build/usr/share/julia/stdlib/v1.4/LinearAlgebra/src/symmetric.jl\" target=\"_blank\">C:\\Users\\tirth\\AppData\\Local\\Programs\\Julia\\Julia-1.4.2\\share\\julia\\stdlib\\v1.4\\LinearAlgebra\\src\\symmetric.jl:466</a></li> <li> +(A::<b>LinearAlgebra.Hermitian</b>, B::<b>LinearAlgebra.Symmetric{#s662,S} where S<:(AbstractArray{#s6621,2} where #s6621<:#s662) where #s662<:Real</b>) in LinearAlgebra at <a href=\"file://D:/buildbot/worker/package_win64/build/usr/share/julia/stdlib/v1.4/LinearAlgebra/src/symmetric.jl\" target=\"_blank\">C:\\Users\\tirth\\AppData\\Local\\Programs\\Julia\\Julia-1.4.2\\share\\julia\\stdlib\\v1.4\\LinearAlgebra\\src\\symmetric.jl:467</a></li> <li> +(A::<b>LinearAlgebra.Symmetric{#s662,S} where S<:(AbstractArray{#s6621,2} where #s6621<:#s662) where #s662<:Real</b>, B::<b>LinearAlgebra.Hermitian</b>) in LinearAlgebra at <a href=\"file://D:/buildbot/worker/package_win64/build/usr/share/julia/stdlib/v1.4/LinearAlgebra/src/symmetric.jl\" target=\"_blank\">C:\\Users\\tirth\\AppData\\Local\\Programs\\Julia\\Julia-1.4.2\\share\\julia\\stdlib\\v1.4\\LinearAlgebra\\src\\symmetric.jl:468</a></li> <li> +(Da::<b>LinearAlgebra.Diagonal</b>, Db::<b>LinearAlgebra.Diagonal</b>) in LinearAlgebra at <a href=\"file://D:/buildbot/worker/package_win64/build/usr/share/julia/stdlib/v1.4/LinearAlgebra/src/diagonal.jl\" target=\"_blank\">C:\\Users\\tirth\\AppData\\Local\\Programs\\Julia\\Julia-1.4.2\\share\\julia\\stdlib\\v1.4\\LinearAlgebra\\src\\diagonal.jl:156</a></li> <li> +(A::<b>LinearAlgebra.Bidiagonal</b>, B::<b>LinearAlgebra.Bidiagonal</b>) in LinearAlgebra at <a href=\"file://D:/buildbot/worker/package_win64/build/usr/share/julia/stdlib/v1.4/LinearAlgebra/src/bidiag.jl\" target=\"_blank\">C:\\Users\\tirth\\AppData\\Local\\Programs\\Julia\\Julia-1.4.2\\share\\julia\\stdlib\\v1.4\\LinearAlgebra\\src\\bidiag.jl:309</a></li> <li> +(UL::<b>LinearAlgebra.UnitUpperTriangular</b>, J::<b>LinearAlgebra.UniformScaling</b>) in LinearAlgebra at <a href=\"file://D:/buildbot/worker/package_win64/build/usr/share/julia/stdlib/v1.4/LinearAlgebra/src/uniformscaling.jl\" target=\"_blank\">C:\\Users\\tirth\\AppData\\Local\\Programs\\Julia\\Julia-1.4.2\\share\\julia\\stdlib\\v1.4\\LinearAlgebra\\src\\uniformscaling.jl:131</a></li> <li> +(UL::<b>LinearAlgebra.UnitLowerTriangular</b>, J::<b>LinearAlgebra.UniformScaling</b>) in LinearAlgebra at <a href=\"file://D:/buildbot/worker/package_win64/build/usr/share/julia/stdlib/v1.4/LinearAlgebra/src/uniformscaling.jl\" target=\"_blank\">C:\\Users\\tirth\\AppData\\Local\\Programs\\Julia\\Julia-1.4.2\\share\\julia\\stdlib\\v1.4\\LinearAlgebra\\src\\uniformscaling.jl:131</a></li> <li> +(A::<b>LinearAlgebra.Hermitian</b>, J::<b>LinearAlgebra.UniformScaling{#s662} where #s662<:Complex</b>) in LinearAlgebra at <a href=\"file://D:/buildbot/worker/package_win64/build/usr/share/julia/stdlib/v1.4/LinearAlgebra/src/uniformscaling.jl\" target=\"_blank\">C:\\Users\\tirth\\AppData\\Local\\Programs\\Julia\\Julia-1.4.2\\share\\julia\\stdlib\\v1.4\\LinearAlgebra\\src\\uniformscaling.jl:145</a></li> <li> +(H::<b>LinearAlgebra.UpperHessenberg</b>, J::<b>LinearAlgebra.UniformScaling</b>) in LinearAlgebra at <a href=\"file://D:/buildbot/worker/package_win64/build/usr/share/julia/stdlib/v1.4/LinearAlgebra/src/hessenberg.jl\" target=\"_blank\">C:\\Users\\tirth\\AppData\\Local\\Programs\\Julia\\Julia-1.4.2\\share\\julia\\stdlib\\v1.4\\LinearAlgebra\\src\\hessenberg.jl:106</a></li> <li> +(A::<b>LinearAlgebra.Tridiagonal{#s662,V} where V<:AbstractArray{#s662,1} where #s662<:Number</b>, B::<b>LinearAlgebra.UniformScaling</b>) in LinearAlgebra at <a href=\"file://D:/buildbot/worker/package_win64/build/usr/share/julia/stdlib/v1.4/LinearAlgebra/src/special.jl\" target=\"_blank\">C:\\Users\\tirth\\AppData\\Local\\Programs\\Julia\\Julia-1.4.2\\share\\julia\\stdlib\\v1.4\\LinearAlgebra\\src\\special.jl:238</a></li> <li> +(A::<b>LinearAlgebra.SymTridiagonal{#s662,V} where V<:AbstractArray{#s662,1} where #s662<:Number</b>, B::<b>LinearAlgebra.UniformScaling</b>) in LinearAlgebra at <a href=\"file://D:/buildbot/worker/package_win64/build/usr/share/julia/stdlib/v1.4/LinearAlgebra/src/special.jl\" target=\"_blank\">C:\\Users\\tirth\\AppData\\Local\\Programs\\Julia\\Julia-1.4.2\\share\\julia\\stdlib\\v1.4\\LinearAlgebra\\src\\special.jl:243</a></li> <li> +(A::<b>LinearAlgebra.Bidiagonal{#s662,V} where V<:AbstractArray{#s662,1} where #s662<:Number</b>, B::<b>LinearAlgebra.UniformScaling</b>) in LinearAlgebra at <a href=\"file://D:/buildbot/worker/package_win64/build/usr/share/julia/stdlib/v1.4/LinearAlgebra/src/special.jl\" target=\"_blank\">C:\\Users\\tirth\\AppData\\Local\\Programs\\Julia\\Julia-1.4.2\\share\\julia\\stdlib\\v1.4\\LinearAlgebra\\src\\special.jl:248</a></li> <li> +(A::<b>LinearAlgebra.Diagonal{#s662,V} where V<:AbstractArray{#s662,1} where #s662<:Number</b>, B::<b>LinearAlgebra.UniformScaling</b>) in LinearAlgebra at <a href=\"file://D:/buildbot/worker/package_win64/build/usr/share/julia/stdlib/v1.4/LinearAlgebra/src/special.jl\" target=\"_blank\">C:\\Users\\tirth\\AppData\\Local\\Programs\\Julia\\Julia-1.4.2\\share\\julia\\stdlib\\v1.4\\LinearAlgebra\\src\\special.jl:253</a></li> <li> +(A::<b>SparseArrays.AbstractSparseMatrixCSC</b>, J::<b>LinearAlgebra.UniformScaling</b>) in SparseArrays at <a href=\"file://D:/buildbot/worker/package_win64/build/usr/share/julia/stdlib/v1.4/SparseArrays/src/sparsematrix.jl\" target=\"_blank\">C:\\Users\\tirth\\AppData\\Local\\Programs\\Julia\\Julia-1.4.2\\share\\julia\\stdlib\\v1.4\\SparseArrays\\src\\sparsematrix.jl:3610</a></li> <li> +(a::<b>StaticArrays.StaticArray{Tuple{N,M},T,2} where T where M where N</b>, b::<b>LinearAlgebra.UniformScaling</b>) in StaticArrays at <a href=\"file://C:/Users/tirth/.julia/packages/StaticArrays/mlIi1/src/linalg.jl\" target=\"_blank\">C:\\Users\\tirth\\.julia\\packages\\StaticArrays\\mlIi1\\src\\linalg.jl:28</a></li> <li> +(A::<b>AbstractArray{T,2} where T</b>, J::<b>LinearAlgebra.UniformScaling</b>) in LinearAlgebra at <a href=\"file://D:/buildbot/worker/package_win64/build/usr/share/julia/stdlib/v1.4/LinearAlgebra/src/uniformscaling.jl\" target=\"_blank\">C:\\Users\\tirth\\AppData\\Local\\Programs\\Julia\\Julia-1.4.2\\share\\julia\\stdlib\\v1.4\\LinearAlgebra\\src\\uniformscaling.jl:164</a></li> <li> +(A::<b>LinearAlgebra.UpperHessenberg</b>, B::<b>LinearAlgebra.UpperHessenberg</b>) in LinearAlgebra at <a href=\"file://D:/buildbot/worker/package_win64/build/usr/share/julia/stdlib/v1.4/LinearAlgebra/src/hessenberg.jl\" target=\"_blank\">C:\\Users\\tirth\\AppData\\Local\\Programs\\Julia\\Julia-1.4.2\\share\\julia\\stdlib\\v1.4\\LinearAlgebra\\src\\hessenberg.jl:101</a></li> <li> +(A::<b>LinearAlgebra.UpperTriangular</b>, B::<b>LinearAlgebra.Bidiagonal</b>) in LinearAlgebra at <a href=\"file://D:/buildbot/worker/package_win64/build/usr/share/julia/stdlib/v1.4/LinearAlgebra/src/special.jl\" target=\"_blank\">C:\\Users\\tirth\\AppData\\Local\\Programs\\Julia\\Julia-1.4.2\\share\\julia\\stdlib\\v1.4\\LinearAlgebra\\src\\special.jl:98</a></li> <li> +(A::<b>LinearAlgebra.Bidiagonal</b>, B::<b>LinearAlgebra.UpperTriangular</b>) in LinearAlgebra at <a href=\"file://D:/buildbot/worker/package_win64/build/usr/share/julia/stdlib/v1.4/LinearAlgebra/src/special.jl\" target=\"_blank\">C:\\Users\\tirth\\AppData\\Local\\Programs\\Julia\\Julia-1.4.2\\share\\julia\\stdlib\\v1.4\\LinearAlgebra\\src\\special.jl:106</a></li> <li> +(A::<b>LinearAlgebra.UnitUpperTriangular</b>, B::<b>LinearAlgebra.Bidiagonal</b>) in LinearAlgebra at <a href=\"file://D:/buildbot/worker/package_win64/build/usr/share/julia/stdlib/v1.4/LinearAlgebra/src/special.jl\" target=\"_blank\">C:\\Users\\tirth\\AppData\\Local\\Programs\\Julia\\Julia-1.4.2\\share\\julia\\stdlib\\v1.4\\LinearAlgebra\\src\\special.jl:98</a></li> <li> +(A::<b>LinearAlgebra.Bidiagonal</b>, B::<b>LinearAlgebra.UnitUpperTriangular</b>) in LinearAlgebra at <a href=\"file://D:/buildbot/worker/package_win64/build/usr/share/julia/stdlib/v1.4/LinearAlgebra/src/special.jl\" target=\"_blank\">C:\\Users\\tirth\\AppData\\Local\\Programs\\Julia\\Julia-1.4.2\\share\\julia\\stdlib\\v1.4\\LinearAlgebra\\src\\special.jl:106</a></li> <li> +(A::<b>LinearAlgebra.LowerTriangular</b>, B::<b>LinearAlgebra.Bidiagonal</b>) in LinearAlgebra at <a href=\"file://D:/buildbot/worker/package_win64/build/usr/share/julia/stdlib/v1.4/LinearAlgebra/src/special.jl\" target=\"_blank\">C:\\Users\\tirth\\AppData\\Local\\Programs\\Julia\\Julia-1.4.2\\share\\julia\\stdlib\\v1.4\\LinearAlgebra\\src\\special.jl:98</a></li> <li> +(A::<b>LinearAlgebra.Bidiagonal</b>, B::<b>LinearAlgebra.LowerTriangular</b>) in LinearAlgebra at <a href=\"file://D:/buildbot/worker/package_win64/build/usr/share/julia/stdlib/v1.4/LinearAlgebra/src/special.jl\" target=\"_blank\">C:\\Users\\tirth\\AppData\\Local\\Programs\\Julia\\Julia-1.4.2\\share\\julia\\stdlib\\v1.4\\LinearAlgebra\\src\\special.jl:106</a></li> <li> +(A::<b>LinearAlgebra.UnitLowerTriangular</b>, B::<b>LinearAlgebra.Bidiagonal</b>) in LinearAlgebra at <a href=\"file://D:/buildbot/worker/package_win64/build/usr/share/julia/stdlib/v1.4/LinearAlgebra/src/special.jl\" target=\"_blank\">C:\\Users\\tirth\\AppData\\Local\\Programs\\Julia\\Julia-1.4.2\\share\\julia\\stdlib\\v1.4\\LinearAlgebra\\src\\special.jl:98</a></li> <li> +(A::<b>LinearAlgebra.Bidiagonal</b>, B::<b>LinearAlgebra.UnitLowerTriangular</b>) in LinearAlgebra at <a href=\"file://D:/buildbot/worker/package_win64/build/usr/share/julia/stdlib/v1.4/LinearAlgebra/src/special.jl\" target=\"_blank\">C:\\Users\\tirth\\AppData\\Local\\Programs\\Julia\\Julia-1.4.2\\share\\julia\\stdlib\\v1.4\\LinearAlgebra\\src\\special.jl:106</a></li> <li> +(A::<b>LinearAlgebra.Bidiagonal</b>, B::<b>LinearAlgebra.Diagonal</b>) in LinearAlgebra at <a href=\"file://D:/buildbot/worker/package_win64/build/usr/share/julia/stdlib/v1.4/LinearAlgebra/src/special.jl\" target=\"_blank\">C:\\Users\\tirth\\AppData\\Local\\Programs\\Julia\\Julia-1.4.2\\share\\julia\\stdlib\\v1.4\\LinearAlgebra\\src\\special.jl:127</a></li> <li> +(A::<b>LinearAlgebra.Diagonal</b>, B::<b>LinearAlgebra.Bidiagonal</b>) in LinearAlgebra at <a href=\"file://D:/buildbot/worker/package_win64/build/usr/share/julia/stdlib/v1.4/LinearAlgebra/src/special.jl\" target=\"_blank\">C:\\Users\\tirth\\AppData\\Local\\Programs\\Julia\\Julia-1.4.2\\share\\julia\\stdlib\\v1.4\\LinearAlgebra\\src\\special.jl:137</a></li> <li> +(A::<b>LinearAlgebra.Diagonal</b>, B::<b>LinearAlgebra.SymTridiagonal</b>) in LinearAlgebra at <a href=\"file://D:/buildbot/worker/package_win64/build/usr/share/julia/stdlib/v1.4/LinearAlgebra/src/special.jl\" target=\"_blank\">C:\\Users\\tirth\\AppData\\Local\\Programs\\Julia\\Julia-1.4.2\\share\\julia\\stdlib\\v1.4\\LinearAlgebra\\src\\special.jl:147</a></li> <li> +(A::<b>LinearAlgebra.SymTridiagonal</b>, B::<b>LinearAlgebra.Diagonal</b>) in LinearAlgebra at <a href=\"file://D:/buildbot/worker/package_win64/build/usr/share/julia/stdlib/v1.4/LinearAlgebra/src/special.jl\" target=\"_blank\">C:\\Users\\tirth\\AppData\\Local\\Programs\\Julia\\Julia-1.4.2\\share\\julia\\stdlib\\v1.4\\LinearAlgebra\\src\\special.jl:157</a></li> <li> +(A::<b>LinearAlgebra.Tridiagonal</b>, B::<b>LinearAlgebra.SymTridiagonal</b>) in LinearAlgebra at <a href=\"file://D:/buildbot/worker/package_win64/build/usr/share/julia/stdlib/v1.4/LinearAlgebra/src/special.jl\" target=\"_blank\">C:\\Users\\tirth\\AppData\\Local\\Programs\\Julia\\Julia-1.4.2\\share\\julia\\stdlib\\v1.4\\LinearAlgebra\\src\\special.jl:168</a></li> <li> +(A::<b>LinearAlgebra.SymTridiagonal</b>, B::<b>LinearAlgebra.Tridiagonal</b>) in LinearAlgebra at <a href=\"file://D:/buildbot/worker/package_win64/build/usr/share/julia/stdlib/v1.4/LinearAlgebra/src/special.jl\" target=\"_blank\">C:\\Users\\tirth\\AppData\\Local\\Programs\\Julia\\Julia-1.4.2\\share\\julia\\stdlib\\v1.4\\LinearAlgebra\\src\\special.jl:170</a></li> <li> +(A::<b>LinearAlgebra.Diagonal</b>, B::<b>LinearAlgebra.Tridiagonal</b>) in LinearAlgebra at <a href=\"file://D:/buildbot/worker/package_win64/build/usr/share/julia/stdlib/v1.4/LinearAlgebra/src/special.jl\" target=\"_blank\">C:\\Users\\tirth\\AppData\\Local\\Programs\\Julia\\Julia-1.4.2\\share\\julia\\stdlib\\v1.4\\LinearAlgebra\\src\\special.jl:175</a></li> <li> +(A::<b>LinearAlgebra.Tridiagonal</b>, B::<b>LinearAlgebra.Diagonal</b>) in LinearAlgebra at <a href=\"file://D:/buildbot/worker/package_win64/build/usr/share/julia/stdlib/v1.4/LinearAlgebra/src/special.jl\" target=\"_blank\">C:\\Users\\tirth\\AppData\\Local\\Programs\\Julia\\Julia-1.4.2\\share\\julia\\stdlib\\v1.4\\LinearAlgebra\\src\\special.jl:185</a></li> <li> +(A::<b>LinearAlgebra.Bidiagonal</b>, B::<b>LinearAlgebra.Tridiagonal</b>) in LinearAlgebra at <a href=\"file://D:/buildbot/worker/package_win64/build/usr/share/julia/stdlib/v1.4/LinearAlgebra/src/special.jl\" target=\"_blank\">C:\\Users\\tirth\\AppData\\Local\\Programs\\Julia\\Julia-1.4.2\\share\\julia\\stdlib\\v1.4\\LinearAlgebra\\src\\special.jl:195</a></li> <li> +(A::<b>LinearAlgebra.Tridiagonal</b>, B::<b>LinearAlgebra.Bidiagonal</b>) in LinearAlgebra at <a href=\"file://D:/buildbot/worker/package_win64/build/usr/share/julia/stdlib/v1.4/LinearAlgebra/src/special.jl\" target=\"_blank\">C:\\Users\\tirth\\AppData\\Local\\Programs\\Julia\\Julia-1.4.2\\share\\julia\\stdlib\\v1.4\\LinearAlgebra\\src\\special.jl:205</a></li> <li> +(A::<b>LinearAlgebra.Bidiagonal</b>, B::<b>LinearAlgebra.SymTridiagonal</b>) in LinearAlgebra at <a href=\"file://D:/buildbot/worker/package_win64/build/usr/share/julia/stdlib/v1.4/LinearAlgebra/src/special.jl\" target=\"_blank\">C:\\Users\\tirth\\AppData\\Local\\Programs\\Julia\\Julia-1.4.2\\share\\julia\\stdlib\\v1.4\\LinearAlgebra\\src\\special.jl:215</a></li> <li> +(A::<b>LinearAlgebra.SymTridiagonal</b>, B::<b>LinearAlgebra.Bidiagonal</b>) in LinearAlgebra at <a href=\"file://D:/buildbot/worker/package_win64/build/usr/share/julia/stdlib/v1.4/LinearAlgebra/src/special.jl\" target=\"_blank\">C:\\Users\\tirth\\AppData\\Local\\Programs\\Julia\\Julia-1.4.2\\share\\julia\\stdlib\\v1.4\\LinearAlgebra\\src\\special.jl:225</a></li> <li> +(A::<b>SparseArrays.AbstractSparseMatrixCSC</b>, B::<b>SparseArrays.AbstractSparseMatrixCSC</b>) in SparseArrays at <a href=\"file://D:/buildbot/worker/package_win64/build/usr/share/julia/stdlib/v1.4/SparseArrays/src/sparsematrix.jl\" target=\"_blank\">C:\\Users\\tirth\\AppData\\Local\\Programs\\Julia\\Julia-1.4.2\\share\\julia\\stdlib\\v1.4\\SparseArrays\\src\\sparsematrix.jl:1648</a></li> <li> +(A::<b>SparseArrays.AbstractSparseMatrixCSC</b>, B::<b>Array</b>) in SparseArrays at <a href=\"file://D:/buildbot/worker/package_win64/build/usr/share/julia/stdlib/v1.4/SparseArrays/src/sparsematrix.jl\" target=\"_blank\">C:\\Users\\tirth\\AppData\\Local\\Programs\\Julia\\Julia-1.4.2\\share\\julia\\stdlib\\v1.4\\SparseArrays\\src\\sparsematrix.jl:1651</a></li> <li> +(x::<b>SparseArrays.AbstractSparseArray{Tv,Ti,1} where Ti where Tv</b>, y::<b>SparseArrays.AbstractSparseArray{Tv,Ti,1} where Ti where Tv</b>) in SparseArrays at <a href=\"file://D:/buildbot/worker/package_win64/build/usr/share/julia/stdlib/v1.4/SparseArrays/src/sparsevector.jl\" target=\"_blank\">C:\\Users\\tirth\\AppData\\Local\\Programs\\Julia\\Julia-1.4.2\\share\\julia\\stdlib\\v1.4\\SparseArrays\\src\\sparsevector.jl:1303</a></li> <li> +(a::<b>StaticArrays.StaticArray</b>, b::<b>StaticArrays.StaticArray</b>) in StaticArrays at <a href=\"file://C:/Users/tirth/.julia/packages/StaticArrays/mlIi1/src/linalg.jl\" target=\"_blank\">C:\\Users\\tirth\\.julia\\packages\\StaticArrays\\mlIi1\\src\\linalg.jl:11</a></li> <li> +(a::<b>StaticArrays.StaticArray</b>, b::<b>AbstractArray</b>) in StaticArrays at <a href=\"file://C:/Users/tirth/.julia/packages/StaticArrays/mlIi1/src/linalg.jl\" target=\"_blank\">C:\\Users\\tirth\\.julia\\packages\\StaticArrays\\mlIi1\\src\\linalg.jl:13</a></li> <li> +(a::<b>StaticArrays.SHermitianCompact</b>, b::<b>Number</b>) in StaticArrays at <a href=\"file://C:\\Users\\tirth\\AppData\\Local\\Programs\\Julia\\Julia-1.4.2\\bin\\..\\share\\julia\\base\\deprecated.jl\" target=\"_blank\">deprecated.jl:65</a></li> <li> +(a::<b>StaticArrays.StaticArray</b>, b::<b>Number</b>) in StaticArrays at <a href=\"file://C:\\Users\\tirth\\AppData\\Local\\Programs\\Julia\\Julia-1.4.2\\bin\\..\\share\\julia\\base\\deprecated.jl\" target=\"_blank\">deprecated.jl:65</a></li> <li> +(x::<b>AbstractArray{#s69,N} where N where #s69<:Number</b>) in Base at <a href=\"https://github.com/JuliaLang/julia/tree/44fa15b1502a45eac76c9017af94332d4557b251/base/abstractarraymath.jl#L97\" target=\"_blank\">abstractarraymath.jl:97</a></li> <li> +(a::<b>AbstractArray</b>, b::<b>StaticArrays.StaticArray</b>) in StaticArrays at <a href=\"file://C:/Users/tirth/.julia/packages/StaticArrays/mlIi1/src/linalg.jl\" target=\"_blank\">C:\\Users\\tirth\\.julia\\packages\\StaticArrays\\mlIi1\\src\\linalg.jl:12</a></li> <li> +(A::<b>AbstractArray</b>, B::<b>AbstractArray</b>) in Base at <a href=\"https://github.com/JuliaLang/julia/tree/44fa15b1502a45eac76c9017af94332d4557b251/base/arraymath.jl#L38\" target=\"_blank\">arraymath.jl:38</a></li> <li> +(x::<b>T</b>, y::<b>Integer</b>)<i> where T<:AbstractChar</i> in Base at <a href=\"https://github.com/JuliaLang/julia/tree/44fa15b1502a45eac76c9017af94332d4557b251/base/char.jl#L223\" target=\"_blank\">char.jl:223</a></li> <li> +(index1::<b>CartesianIndex{N}</b>, index2::<b>CartesianIndex{N}</b>)<i> where N</i> in Base.IteratorsMD at <a href=\"https://github.com/JuliaLang/julia/tree/44fa15b1502a45eac76c9017af94332d4557b251/base/multidimensional.jl#L111\" target=\"_blank\">multidimensional.jl:111</a></li> <li> +(::<b>Number</b>, ::<b>Missing</b>) in Base at <a href=\"https://github.com/JuliaLang/julia/tree/44fa15b1502a45eac76c9017af94332d4557b251/base/missing.jl#L116\" target=\"_blank\">missing.jl:116</a></li> <li> +(x::<b>P</b>, y::<b>P</b>)<i> where P<:Dates.Period</i> in Dates at <a href=\"file://D:/buildbot/worker/package_win64/build/usr/share/julia/stdlib/v1.4/Dates/src/periods.jl\" target=\"_blank\">C:\\Users\\tirth\\AppData\\Local\\Programs\\Julia\\Julia-1.4.2\\share\\julia\\stdlib\\v1.4\\Dates\\src\\periods.jl:75</a></li> <li> +(x::<b>Dates.Period</b>, y::<b>Dates.Period</b>) in Dates at <a href=\"file://D:/buildbot/worker/package_win64/build/usr/share/julia/stdlib/v1.4/Dates/src/periods.jl\" target=\"_blank\">C:\\Users\\tirth\\AppData\\Local\\Programs\\Julia\\Julia-1.4.2\\share\\julia\\stdlib\\v1.4\\Dates\\src\\periods.jl:338</a></li> <li> +(y::<b>Dates.Period</b>, x::<b>Dates.CompoundPeriod</b>) in Dates at <a href=\"file://D:/buildbot/worker/package_win64/build/usr/share/julia/stdlib/v1.4/Dates/src/periods.jl\" target=\"_blank\">C:\\Users\\tirth\\AppData\\Local\\Programs\\Julia\\Julia-1.4.2\\share\\julia\\stdlib\\v1.4\\Dates\\src\\periods.jl:340</a></li> <li> +(x::<b>Union{Dates.CompoundPeriod, Dates.Period}</b>) in Dates at <a href=\"file://D:/buildbot/worker/package_win64/build/usr/share/julia/stdlib/v1.4/Dates/src/periods.jl\" target=\"_blank\">C:\\Users\\tirth\\AppData\\Local\\Programs\\Julia\\Julia-1.4.2\\share\\julia\\stdlib\\v1.4\\Dates\\src\\periods.jl:349</a></li> <li> +(x::<b>Dates.TimeType</b>) in Dates at <a href=\"file://D:/buildbot/worker/package_win64/build/usr/share/julia/stdlib/v1.4/Dates/src/arithmetic.jl\" target=\"_blank\">C:\\Users\\tirth\\AppData\\Local\\Programs\\Julia\\Julia-1.4.2\\share\\julia\\stdlib\\v1.4\\Dates\\src\\arithmetic.jl:8</a></li> <li> +(a::<b>Dates.TimeType</b>, b::<b>Dates.Period</b>, c::<b>Dates.Period</b>) in Dates at <a href=\"file://D:/buildbot/worker/package_win64/build/usr/share/julia/stdlib/v1.4/Dates/src/periods.jl\" target=\"_blank\">C:\\Users\\tirth\\AppData\\Local\\Programs\\Julia\\Julia-1.4.2\\share\\julia\\stdlib\\v1.4\\Dates\\src\\periods.jl:360</a></li> <li> +(a::<b>Dates.TimeType</b>, b::<b>Dates.Period</b>, c::<b>Dates.Period</b>, d::<b>Dates.Period...</b>) in Dates at <a href=\"file://D:/buildbot/worker/package_win64/build/usr/share/julia/stdlib/v1.4/Dates/src/periods.jl\" target=\"_blank\">C:\\Users\\tirth\\AppData\\Local\\Programs\\Julia\\Julia-1.4.2\\share\\julia\\stdlib\\v1.4\\Dates\\src\\periods.jl:361</a></li> <li> +(x::<b>Dates.TimeType</b>, y::<b>Dates.CompoundPeriod</b>) in Dates at <a href=\"file://D:/buildbot/worker/package_win64/build/usr/share/julia/stdlib/v1.4/Dates/src/periods.jl\" target=\"_blank\">C:\\Users\\tirth\\AppData\\Local\\Programs\\Julia\\Julia-1.4.2\\share\\julia\\stdlib\\v1.4\\Dates\\src\\periods.jl:364</a></li> <li> +(x::<b>Dates.Instant</b>) in Dates at <a href=\"file://D:/buildbot/worker/package_win64/build/usr/share/julia/stdlib/v1.4/Dates/src/arithmetic.jl\" target=\"_blank\">C:\\Users\\tirth\\AppData\\Local\\Programs\\Julia\\Julia-1.4.2\\share\\julia\\stdlib\\v1.4\\Dates\\src\\arithmetic.jl:4</a></li> <li> +(y::<b>Dates.Period</b>, x::<b>Dates.TimeType</b>) in Dates at <a href=\"file://D:/buildbot/worker/package_win64/build/usr/share/julia/stdlib/v1.4/Dates/src/arithmetic.jl\" target=\"_blank\">C:\\Users\\tirth\\AppData\\Local\\Programs\\Julia\\Julia-1.4.2\\share\\julia\\stdlib\\v1.4\\Dates\\src\\arithmetic.jl:80</a></li> <li> +(x::<b>Dates.Period</b>, r::<b>AbstractRange{#s662} where #s662<:Dates.TimeType</b>) in Dates at <a href=\"file://D:/buildbot/worker/package_win64/build/usr/share/julia/stdlib/v1.4/Dates/src/ranges.jl\" target=\"_blank\">C:\\Users\\tirth\\AppData\\Local\\Programs\\Julia\\Julia-1.4.2\\share\\julia\\stdlib\\v1.4\\Dates\\src\\ranges.jl:58</a></li> <li> +(x::<b>AbstractArray{#s662,N} where N where #s662<:Dates.TimeType</b>, y::<b>Union{Dates.CompoundPeriod, Dates.Period}</b>) in Dates at <a href=\"file://D:/buildbot/worker/package_win64/build/usr/share/julia/stdlib/v1.4/Dates/src/deprecated.jl\" target=\"_blank\">C:\\Users\\tirth\\AppData\\Local\\Programs\\Julia\\Julia-1.4.2\\share\\julia\\stdlib\\v1.4\\Dates\\src\\deprecated.jl:8</a></li> <li> +(y::<b>Union{Dates.CompoundPeriod, Dates.Period}</b>, x::<b>AbstractArray{#s662,N} where N where #s662<:Dates.TimeType</b>) in Dates at <a href=\"file://D:/buildbot/worker/package_win64/build/usr/share/julia/stdlib/v1.4/Dates/src/deprecated.jl\" target=\"_blank\">C:\\Users\\tirth\\AppData\\Local\\Programs\\Julia\\Julia-1.4.2\\share\\julia\\stdlib\\v1.4\\Dates\\src\\deprecated.jl:16</a></li> <li> +(y::<b>Dates.TimeType</b>, x::<b>Union{DenseArray{#s662,N}, Base.ReinterpretArray{#s662,N,S,A} where S where A<:Union{SubArray{T,N,A,I,true} where I<:Union{Tuple{Vararg{Real,N} where N}, Tuple{AbstractUnitRange,Vararg{Any,N} where N}} where A<:DenseArray where N where T, DenseArray}, Base.ReshapedArray{#s662,N,A,MI} where MI<:Tuple{Vararg{Base.MultiplicativeInverses.SignedMultiplicativeInverse{Int64},N} where N} where A<:Union{Base.ReinterpretArray{T,N,S,A} where S where A<:Union{SubArray{T,N,A,I,true} where I<:Union{Tuple{Vararg{Real,N} where N}, Tuple{AbstractUnitRange,Vararg{Any,N} where N}} where A<:DenseArray where N where T, DenseArray} where N where T, SubArray{T,N,A,I,true} where I<:Union{Tuple{Vararg{Real,N} where N}, Tuple{AbstractUnitRange,Vararg{Any,N} where N}} where A<:DenseArray where N where T, DenseArray}, SubArray{#s662,N,A,I,L} where L where I<:Tuple{Vararg{Union{Int64, AbstractRange{Int64}, Base.AbstractCartesianIndex},N} where N} where A<:Union{Base.ReinterpretArray{T,N,S,A} where S where A<:Union{SubArray{T,N,A,I,true} where I<:Union{Tuple{Vararg{Real,N} where N}, Tuple{AbstractUnitRange,Vararg{Any,N} where N}} where A<:DenseArray where N where T, DenseArray} where N where T, Base.ReshapedArray{T,N,A,MI} where MI<:Tuple{Vararg{Base.MultiplicativeInverses.SignedMultiplicativeInverse{Int64},N} where N} where A<:Union{Base.ReinterpretArray{T,N,S,A} where S where A<:Union{SubArray{T,N,A,I,true} where I<:Union{Tuple{Vararg{Real,N} where N}, Tuple{AbstractUnitRange,Vararg{Any,N} where N}} where A<:DenseArray where N where T, DenseArray} where N where T, SubArray{T,N,A,I,true} where I<:Union{Tuple{Vararg{Real,N} where N}, Tuple{AbstractUnitRange,Vararg{Any,N} where N}} where A<:DenseArray where N where T, DenseArray} where N where T, DenseArray}} where N where #s662<:Union{Dates.CompoundPeriod, Dates.Period}</b>) in Dates at <a href=\"file://D:/buildbot/worker/package_win64/build/usr/share/julia/stdlib/v1.4/Dates/src/deprecated.jl\" target=\"_blank\">C:\\Users\\tirth\\AppData\\Local\\Programs\\Julia\\Julia-1.4.2\\share\\julia\\stdlib\\v1.4\\Dates\\src\\deprecated.jl:20</a></li> <li> +(J::<b>LinearAlgebra.UniformScaling</b>, x::<b>Number</b>) in LinearAlgebra at <a href=\"file://D:/buildbot/worker/package_win64/build/usr/share/julia/stdlib/v1.4/LinearAlgebra/src/uniformscaling.jl\" target=\"_blank\">C:\\Users\\tirth\\AppData\\Local\\Programs\\Julia\\Julia-1.4.2\\share\\julia\\stdlib\\v1.4\\LinearAlgebra\\src\\uniformscaling.jl:109</a></li> <li> +(x::<b>Number</b>, J::<b>LinearAlgebra.UniformScaling</b>) in LinearAlgebra at <a href=\"file://D:/buildbot/worker/package_win64/build/usr/share/julia/stdlib/v1.4/LinearAlgebra/src/uniformscaling.jl\" target=\"_blank\">C:\\Users\\tirth\\AppData\\Local\\Programs\\Julia\\Julia-1.4.2\\share\\julia\\stdlib\\v1.4\\LinearAlgebra\\src\\uniformscaling.jl:110</a></li> <li> +(J1::<b>LinearAlgebra.UniformScaling</b>, J2::<b>LinearAlgebra.UniformScaling</b>) in LinearAlgebra at <a href=\"file://D:/buildbot/worker/package_win64/build/usr/share/julia/stdlib/v1.4/LinearAlgebra/src/uniformscaling.jl\" target=\"_blank\">C:\\Users\\tirth\\AppData\\Local\\Programs\\Julia\\Julia-1.4.2\\share\\julia\\stdlib\\v1.4\\LinearAlgebra\\src\\uniformscaling.jl:114</a></li> <li> +(J::<b>LinearAlgebra.UniformScaling</b>, B::<b>BitArray{2}</b>) in LinearAlgebra at <a href=\"file://D:/buildbot/worker/package_win64/build/usr/share/julia/stdlib/v1.4/LinearAlgebra/src/uniformscaling.jl\" target=\"_blank\">C:\\Users\\tirth\\AppData\\Local\\Programs\\Julia\\Julia-1.4.2\\share\\julia\\stdlib\\v1.4\\LinearAlgebra\\src\\uniformscaling.jl:116</a></li> <li> +(A::<b>LinearAlgebra.UniformScaling</b>, B::<b>LinearAlgebra.Tridiagonal{#s662,V} where V<:AbstractArray{#s662,1} where #s662<:Number</b>) in LinearAlgebra at <a href=\"file://D:/buildbot/worker/package_win64/build/usr/share/julia/stdlib/v1.4/LinearAlgebra/src/special.jl\" target=\"_blank\">C:\\Users\\tirth\\AppData\\Local\\Programs\\Julia\\Julia-1.4.2\\share\\julia\\stdlib\\v1.4\\LinearAlgebra\\src\\special.jl:257</a></li> <li> +(A::<b>LinearAlgebra.UniformScaling</b>, B::<b>LinearAlgebra.SymTridiagonal{#s662,V} where V<:AbstractArray{#s662,1} where #s662<:Number</b>) in LinearAlgebra at <a href=\"file://D:/buildbot/worker/package_win64/build/usr/share/julia/stdlib/v1.4/LinearAlgebra/src/special.jl\" target=\"_blank\">C:\\Users\\tirth\\AppData\\Local\\Programs\\Julia\\Julia-1.4.2\\share\\julia\\stdlib\\v1.4\\LinearAlgebra\\src\\special.jl:262</a></li> <li> +(A::<b>LinearAlgebra.UniformScaling</b>, B::<b>LinearAlgebra.Bidiagonal{#s662,V} where V<:AbstractArray{#s662,1} where #s662<:Number</b>) in LinearAlgebra at <a href=\"file://D:/buildbot/worker/package_win64/build/usr/share/julia/stdlib/v1.4/LinearAlgebra/src/special.jl\" target=\"_blank\">C:\\Users\\tirth\\AppData\\Local\\Programs\\Julia\\Julia-1.4.2\\share\\julia\\stdlib\\v1.4\\LinearAlgebra\\src\\special.jl:267</a></li> <li> +(A::<b>LinearAlgebra.UniformScaling</b>, B::<b>LinearAlgebra.Diagonal{#s662,V} where V<:AbstractArray{#s662,1} where #s662<:Number</b>) in LinearAlgebra at <a href=\"file://D:/buildbot/worker/package_win64/build/usr/share/julia/stdlib/v1.4/LinearAlgebra/src/special.jl\" target=\"_blank\">C:\\Users\\tirth\\AppData\\Local\\Programs\\Julia\\Julia-1.4.2\\share\\julia\\stdlib\\v1.4\\LinearAlgebra\\src\\special.jl:272</a></li> <li> +(a::<b>LinearAlgebra.UniformScaling</b>, b::<b>StaticArrays.StaticArray{Tuple{N,M},T,2} where T where M where N</b>) in StaticArrays at <a href=\"file://C:/Users/tirth/.julia/packages/StaticArrays/mlIi1/src/linalg.jl\" target=\"_blank\">C:\\Users\\tirth\\.julia\\packages\\StaticArrays\\mlIi1\\src\\linalg.jl:29</a></li> <li> +(J::<b>LinearAlgebra.UniformScaling</b>, A::<b>AbstractArray{T,2} where T</b>) in LinearAlgebra at <a href=\"file://D:/buildbot/worker/package_win64/build/usr/share/julia/stdlib/v1.4/LinearAlgebra/src/uniformscaling.jl\" target=\"_blank\">C:\\Users\\tirth\\AppData\\Local\\Programs\\Julia\\Julia-1.4.2\\share\\julia\\stdlib\\v1.4\\LinearAlgebra\\src\\uniformscaling.jl:117</a></li> <li> +(F::<b>LinearAlgebra.Hessenberg</b>, J::<b>LinearAlgebra.UniformScaling</b>) in LinearAlgebra at <a href=\"file://D:/buildbot/worker/package_win64/build/usr/share/julia/stdlib/v1.4/LinearAlgebra/src/hessenberg.jl\" target=\"_blank\">C:\\Users\\tirth\\AppData\\Local\\Programs\\Julia\\Julia-1.4.2\\share\\julia\\stdlib\\v1.4\\LinearAlgebra\\src\\hessenberg.jl:559</a></li> <li> +(J::<b>LinearAlgebra.UniformScaling</b>, F::<b>LinearAlgebra.Hessenberg</b>) in LinearAlgebra at <a href=\"file://D:/buildbot/worker/package_win64/build/usr/share/julia/stdlib/v1.4/LinearAlgebra/src/hessenberg.jl\" target=\"_blank\">C:\\Users\\tirth\\AppData\\Local\\Programs\\Julia\\Julia-1.4.2\\share\\julia\\stdlib\\v1.4\\LinearAlgebra\\src\\hessenberg.jl:560</a></li> <li> +(a::<b>C</b>, b::<b>C</b>)<i> where C<:Union{LMS, XYZ}</i> in Colors at <a href=\"file://C:/Users/tirth/.julia/packages/Colors/qXo6j/src/algorithms.jl\" target=\"_blank\">C:\\Users\\tirth\\.julia\\packages\\Colors\\qXo6j\\src\\algorithms.jl:4</a></li> <li> +(a::<b>Number</b>, b::<b>StaticArrays.SHermitianCompact</b>) in StaticArrays at <a href=\"file://C:\\Users\\tirth\\AppData\\Local\\Programs\\Julia\\Julia-1.4.2\\bin\\..\\share\\julia\\base\\deprecated.jl\" target=\"_blank\">deprecated.jl:65</a></li> <li> +(a::<b>Number</b>, b::<b>StaticArrays.StaticArray</b>) in StaticArrays at <a href=\"file://C:\\Users\\tirth\\AppData\\Local\\Programs\\Julia\\Julia-1.4.2\\bin\\..\\share\\julia\\base\\deprecated.jl\" target=\"_blank\">deprecated.jl:65</a></li> <li> +(a::<b>Measures.Length{U,T} where T</b>, b::<b>Measures.Length{U,T} where T</b>)<i> where U</i> in Measures at <a href=\"file://C:/Users/tirth/.julia/packages/Measures/0Zkai/src/length.jl\" target=\"_blank\">C:\\Users\\tirth\\.julia\\packages\\Measures\\0Zkai\\src\\length.jl:28</a></li> <li> +(a::<b>Measures.Measure</b>, b::<b>Measures.Measure</b>) in Measures at <a href=\"file://C:/Users/tirth/.julia/packages/Measures/0Zkai/src/operations.jl\" target=\"_blank\">C:\\Users\\tirth\\.julia\\packages\\Measures\\0Zkai\\src\\operations.jl:41</a></li> <li> +(a::<b>Tuple{Vararg{Measures.Measure,N}}</b>, b::<b>Tuple{Vararg{Measures.Measure,N}}</b>)<i> where N</i> in Measures at <a href=\"file://C:/Users/tirth/.julia/packages/Measures/0Zkai/src/point.jl\" target=\"_blank\">C:\\Users\\tirth\\.julia\\packages\\Measures\\0Zkai\\src\\point.jl:22</a></li> <li> +(a::<b>Tuple{Vararg{Measures.Measure,N}} where N</b>, b::<b>Tuple{Vararg{Measures.Measure,N}} where N</b>) in Measures at <a href=\"file://C:/Users/tirth/.julia/packages/Measures/0Zkai/src/point.jl\" target=\"_blank\">C:\\Users\\tirth\\.julia\\packages\\Measures\\0Zkai\\src\\point.jl:15</a></li> <li> +(h::<b>GeometryTypes.HyperRectangle{N,T}</b>, move::<b>GeometryTypes.Vec{N,T} where T</b>)<i> where {N, T}</i> in GeometryTypes at <a href=\"file://C:/Users/tirth/.julia/packages/GeometryTypes/gpBFp/src/hyperrectangles.jl\" target=\"_blank\">C:\\Users\\tirth\\.julia\\packages\\GeometryTypes\\gpBFp\\src\\hyperrectangles.jl:202</a></li> <li> +(h::<b>GeometryTypes.SimpleRectangle{T}</b>, move::<b>GeometryTypes.Vec{2,T} where T</b>)<i> where T</i> in GeometryTypes at <a href=\"file://C:/Users/tirth/.julia/packages/GeometryTypes/gpBFp/src/hyperrectangles.jl\" target=\"_blank\">C:\\Users\\tirth\\.julia\\packages\\GeometryTypes\\gpBFp\\src\\hyperrectangles.jl:209</a></li> <li> +(bb1::<b>Measures.BoundingBox</b>, bb2::<b>Measures.BoundingBox</b>) in Plots at <a href=\"file://C:/Users/tirth/.julia/packages/Plots/JKY3H/src/layouts.jl\" target=\"_blank\">C:\\Users\\tirth\\.julia\\packages\\Plots\\JKY3H\\src\\layouts.jl:49</a></li> <li> +(a, b, c, xs...) in Base at <a href=\"https://github.com/JuliaLang/julia/tree/44fa15b1502a45eac76c9017af94332d4557b251/base/operators.jl#L529\" target=\"_blank\">operators.jl:529</a></li> </ul>"
      ],
      "text/plain": [
       "# 185 methods for generic function \"+\":\n",
       "[1] +(x::Bool, z::Complex{Bool}) in Base at complex.jl:286\n",
       "[2] +(x::Bool, y::Bool) in Base at bool.jl:96\n",
       "[3] +(x::Bool) in Base at bool.jl:93\n",
       "[4] +(x::Bool, y::T) where T<:AbstractFloat in Base at bool.jl:104\n",
       "[5] +(x::Bool, z::Complex) in Base at complex.jl:293\n",
       "[6] +(a::Float16, b::Float16) in Base at float.jl:398\n",
       "[7] +(x::Float32, y::Float32) in Base at float.jl:400\n",
       "[8] +(x::Float64, y::Float64) in Base at float.jl:401\n",
       "[9] +(z::Complex{Bool}, x::Bool) in Base at complex.jl:287\n",
       "[10] +(z::Complex{Bool}, x::Real) in Base at complex.jl:301\n",
       "[11] +(::Missing, ::Missing) in Base at missing.jl:114\n",
       "[12] +(::Missing) in Base at missing.jl:100\n",
       "[13] +(::Missing, ::Number) in Base at missing.jl:115\n",
       "[14] +(level::Base.CoreLogging.LogLevel, inc::Integer) in Base.CoreLogging at logging.jl:107\n",
       "[15] +(c::BigInt, x::BigFloat) in Base.MPFR at mpfr.jl:414\n",
       "[16] +(a::BigInt, b::BigInt, c::BigInt, d::BigInt, e::BigInt) in Base.GMP at gmp.jl:515\n",
       "[17] +(a::BigInt, b::BigInt, c::BigInt, d::BigInt) in Base.GMP at gmp.jl:514\n",
       "[18] +(a::BigInt, b::BigInt, c::BigInt) in Base.GMP at gmp.jl:513\n",
       "[19] +(x::BigInt, y::BigInt) in Base.GMP at gmp.jl:473\n",
       "[20] +(x::BigInt, c::Union{UInt16, UInt32, UInt8}) in Base.GMP at gmp.jl:521\n",
       "[21] +(x::BigInt, c::Union{Int16, Int32, Int8}) in Base.GMP at gmp.jl:527\n",
       "[22] +(a::BigFloat, b::BigFloat, c::BigFloat, d::BigFloat, e::BigFloat) in Base.MPFR at mpfr.jl:564\n",
       "[23] +(a::BigFloat, b::BigFloat, c::BigFloat, d::BigFloat) in Base.MPFR at mpfr.jl:557\n",
       "[24] +(a::BigFloat, b::BigFloat, c::BigFloat) in Base.MPFR at mpfr.jl:551\n",
       "[25] +(x::BigFloat, c::BigInt) in Base.MPFR at mpfr.jl:410\n",
       "[26] +(x::BigFloat, y::BigFloat) in Base.MPFR at mpfr.jl:379\n",
       "[27] +(x::BigFloat, c::Union{UInt16, UInt32, UInt8}) in Base.MPFR at mpfr.jl:386\n",
       "[28] +(x::BigFloat, c::Union{Int16, Int32, Int8}) in Base.MPFR at mpfr.jl:394\n",
       "[29] +(x::BigFloat, c::Union{Float16, Float32, Float64}) in Base.MPFR at mpfr.jl:402\n",
       "[30] +(x::Dates.CompoundPeriod, y::Dates.CompoundPeriod) in Dates at C:\\Users\\tirth\\AppData\\Local\\Programs\\Julia\\Julia-1.4.2\\share\\julia\\stdlib\\v1.4\\Dates\\src\\periods.jl:341\n",
       "[31] +(x::Dates.CompoundPeriod, y::Dates.Period) in Dates at C:\\Users\\tirth\\AppData\\Local\\Programs\\Julia\\Julia-1.4.2\\share\\julia\\stdlib\\v1.4\\Dates\\src\\periods.jl:339\n",
       "[32] +(x::Dates.CompoundPeriod, y::Dates.TimeType) in Dates at C:\\Users\\tirth\\AppData\\Local\\Programs\\Julia\\Julia-1.4.2\\share\\julia\\stdlib\\v1.4\\Dates\\src\\periods.jl:369\n",
       "[33] +(x::Dates.Date, y::Dates.Day) in Dates at C:\\Users\\tirth\\AppData\\Local\\Programs\\Julia\\Julia-1.4.2\\share\\julia\\stdlib\\v1.4\\Dates\\src\\arithmetic.jl:74\n",
       "[34] +(x::Dates.Date, y::Dates.Week) in Dates at C:\\Users\\tirth\\AppData\\Local\\Programs\\Julia\\Julia-1.4.2\\share\\julia\\stdlib\\v1.4\\Dates\\src\\arithmetic.jl:72\n",
       "[35] +(dt::Dates.Date, z::Dates.Month) in Dates at C:\\Users\\tirth\\AppData\\Local\\Programs\\Julia\\Julia-1.4.2\\share\\julia\\stdlib\\v1.4\\Dates\\src\\arithmetic.jl:55\n",
       "[36] +(dt::Dates.Date, y::Dates.Year) in Dates at C:\\Users\\tirth\\AppData\\Local\\Programs\\Julia\\Julia-1.4.2\\share\\julia\\stdlib\\v1.4\\Dates\\src\\arithmetic.jl:28\n",
       "[37] +(dt::Dates.Date, t::Dates.Time) in Dates at C:\\Users\\tirth\\AppData\\Local\\Programs\\Julia\\Julia-1.4.2\\share\\julia\\stdlib\\v1.4\\Dates\\src\\arithmetic.jl:19\n",
       "[38] +(t::Dates.Time, dt::Dates.Date) in Dates at C:\\Users\\tirth\\AppData\\Local\\Programs\\Julia\\Julia-1.4.2\\share\\julia\\stdlib\\v1.4\\Dates\\src\\arithmetic.jl:20\n",
       "[39] +(x::Dates.Time, y::Dates.TimePeriod) in Dates at C:\\Users\\tirth\\AppData\\Local\\Programs\\Julia\\Julia-1.4.2\\share\\julia\\stdlib\\v1.4\\Dates\\src\\arithmetic.jl:78\n",
       "[40] +(dt::Dates.DateTime, z::Dates.Month) in Dates at C:\\Users\\tirth\\AppData\\Local\\Programs\\Julia\\Julia-1.4.2\\share\\julia\\stdlib\\v1.4\\Dates\\src\\arithmetic.jl:48\n",
       "[41] +(dt::Dates.DateTime, y::Dates.Year) in Dates at C:\\Users\\tirth\\AppData\\Local\\Programs\\Julia\\Julia-1.4.2\\share\\julia\\stdlib\\v1.4\\Dates\\src\\arithmetic.jl:24\n",
       "[42] +(x::Dates.DateTime, y::Dates.Period) in Dates at C:\\Users\\tirth\\AppData\\Local\\Programs\\Julia\\Julia-1.4.2\\share\\julia\\stdlib\\v1.4\\Dates\\src\\arithmetic.jl:76\n",
       "[43] +(B::BitArray{2}, J::LinearAlgebra.UniformScaling) in LinearAlgebra at C:\\Users\\tirth\\AppData\\Local\\Programs\\Julia\\Julia-1.4.2\\share\\julia\\stdlib\\v1.4\\LinearAlgebra\\src\\uniformscaling.jl:115\n",
       "[44] +(a::Pkg.Resolve.VersionWeight, b::Pkg.Resolve.VersionWeight) in Pkg.Resolve at C:\\Users\\tirth\\AppData\\Local\\Programs\\Julia\\Julia-1.4.2\\share\\julia\\stdlib\\v1.4\\Pkg\\src\\Resolve\\versionweights.jl:22\n",
       "[45] +(a::Pkg.Resolve.FieldValue, b::Pkg.Resolve.FieldValue) in Pkg.Resolve at C:\\Users\\tirth\\AppData\\Local\\Programs\\Julia\\Julia-1.4.2\\share\\julia\\stdlib\\v1.4\\Pkg\\src\\Resolve\\fieldvalues.jl:43\n",
       "[46] +(y::AbstractFloat, x::Bool) in Base at bool.jl:106\n",
       "[47] +(x::T, y::T) where T<:Union{Int128, Int16, Int32, Int64, Int8, UInt128, UInt16, UInt32, UInt64, UInt8} in Base at int.jl:53\n",
       "[48] +(c::Union{UInt16, UInt32, UInt8}, x::BigInt) in Base.GMP at gmp.jl:522\n",
       "[49] +(c::Union{Int16, Int32, Int8}, x::BigInt) in Base.GMP at gmp.jl:528\n",
       "[50] +(x::GeometryTypes.OffsetInteger{O,T} where T<:Integer, y::GeometryTypes.OffsetInteger{O,T} where T<:Integer) where O in GeometryTypes at C:\\Users\\tirth\\.julia\\packages\\GeometryTypes\\gpBFp\\src\\faces.jl:32\n",
       "[51] +(a::Integer, b::Integer) in Base at int.jl:857\n",
       "[52] +(x::Integer, y::Ptr) in Base at pointer.jl:161\n",
       "[53] +(z::Complex) in Base at complex.jl:273\n",
       "[54] +(z::Complex, w::Complex) in Base at complex.jl:275\n",
       "[55] +(z::Complex, x::Bool) in Base at complex.jl:294\n",
       "[56] +(x::Rational) in Base at rational.jl:247\n",
       "[57] +(x::Real, z::Complex{Bool}) in Base at complex.jl:300\n",
       "[58] +(x::Real, z::Complex) in Base at complex.jl:312\n",
       "[59] +(z::Complex, x::Real) in Base at complex.jl:313\n",
       "[60] +(x::Rational, y::Rational) in Base at rational.jl:263\n",
       "[61] +(x::Integer, y::AbstractChar) in Base at char.jl:224\n",
       "[62] +(c::Union{UInt16, UInt32, UInt8}, x::BigFloat) in Base.MPFR at mpfr.jl:390\n",
       "[63] +(c::Union{Int16, Int32, Int8}, x::BigFloat) in Base.MPFR at mpfr.jl:398\n",
       "[64] +(c::Union{Float16, Float32, Float64}, x::BigFloat) in Base.MPFR at mpfr.jl:406\n",
       "[65] +(x::AbstractIrrational, y::AbstractIrrational) in Base at irrationals.jl:137\n",
       "[66] +(x::X, y::X) where X<:FixedPointNumbers.FixedPoint in FixedPointNumbers at C:\\Users\\tirth\\.julia\\packages\\FixedPointNumbers\\w2pxG\\src\\FixedPointNumbers.jl:165\n",
       "[67] +(x::Number) in Base at operators.jl:504\n",
       "[68] +(x::T, y::T) where T<:Number in Base at promotion.jl:384\n",
       "[69] +(x::Number, y::Number) in Base at promotion.jl:311\n",
       "[70] +(r1::OrdinalRange, r2::OrdinalRange) in Base at range.jl:1011\n",
       "[71] +(r1::LinRange{T}, r2::LinRange{T}) where T in Base at range.jl:1018\n",
       "[72] +(r1::StepRangeLen{T,R,S} where S, r2::StepRangeLen{T,R,S} where S) where {R<:Base.TwicePrecision, T} in Base at twiceprecision.jl:557\n",
       "[73] +(r1::StepRangeLen{T,S,S1} where S1, r2::StepRangeLen{T,S,S1} where S1) where {T, S} in Base at range.jl:1034\n",
       "[74] +(r1::Union{LinRange, OrdinalRange, StepRangeLen}, r2::Union{LinRange, OrdinalRange, StepRangeLen}) in Base at range.jl:1026\n",
       "[75] +(x::Ptr, y::Integer) in Base at pointer.jl:159\n",
       "[76] +(x::Base.TwicePrecision, y::Number) in Base at twiceprecision.jl:265\n",
       "[77] +(x::Number, y::Base.TwicePrecision) in Base at twiceprecision.jl:268\n",
       "[78] +(x::Base.TwicePrecision{T}, y::Base.TwicePrecision{T}) where T in Base at twiceprecision.jl:271\n",
       "[79] +(x::Base.TwicePrecision, y::Base.TwicePrecision) in Base at twiceprecision.jl:275\n",
       "[80] +(A::Array, Bs::Array...) in Base at arraymath.jl:44\n",
       "[81] +(A::BitArray, B::BitArray) in Base at bitarray.jl:1106\n",
       "[82] +(r::AbstractRange{#s662} where #s662<:Dates.TimeType, x::Dates.Period) in Dates at C:\\Users\\tirth\\AppData\\Local\\Programs\\Julia\\Julia-1.4.2\\share\\julia\\stdlib\\v1.4\\Dates\\src\\ranges.jl:59\n",
       "[83] +(A::Array, B::SparseArrays.AbstractSparseMatrixCSC) in SparseArrays at C:\\Users\\tirth\\AppData\\Local\\Programs\\Julia\\Julia-1.4.2\\share\\julia\\stdlib\\v1.4\\SparseArrays\\src\\sparsematrix.jl:1652\n",
       "[84] +(x::Union{DenseArray{#s662,N}, Base.ReinterpretArray{#s662,N,S,A} where S where A<:Union{SubArray{T,N,A,I,true} where I<:Union{Tuple{Vararg{Real,N} where N}, Tuple{AbstractUnitRange,Vararg{Any,N} where N}} where A<:DenseArray where N where T, DenseArray}, Base.ReshapedArray{#s662,N,A,MI} where MI<:Tuple{Vararg{Base.MultiplicativeInverses.SignedMultiplicativeInverse{Int64},N} where N} where A<:Union{Base.ReinterpretArray{T,N,S,A} where S where A<:Union{SubArray{T,N,A,I,true} where I<:Union{Tuple{Vararg{Real,N} where N}, Tuple{AbstractUnitRange,Vararg{Any,N} where N}} where A<:DenseArray where N where T, DenseArray} where N where T, SubArray{T,N,A,I,true} where I<:Union{Tuple{Vararg{Real,N} where N}, Tuple{AbstractUnitRange,Vararg{Any,N} where N}} where A<:DenseArray where N where T, DenseArray}, SubArray{#s662,N,A,I,L} where L where I<:Tuple{Vararg{Union{Int64, AbstractRange{Int64}, Base.AbstractCartesianIndex},N} where N} where A<:Union{Base.ReinterpretArray{T,N,S,A} where S where A<:Union{SubArray{T,N,A,I,true} where I<:Union{Tuple{Vararg{Real,N} where N}, Tuple{AbstractUnitRange,Vararg{Any,N} where N}} where A<:DenseArray where N where T, DenseArray} where N where T, Base.ReshapedArray{T,N,A,MI} where MI<:Tuple{Vararg{Base.MultiplicativeInverses.SignedMultiplicativeInverse{Int64},N} where N} where A<:Union{Base.ReinterpretArray{T,N,S,A} where S where A<:Union{SubArray{T,N,A,I,true} where I<:Union{Tuple{Vararg{Real,N} where N}, Tuple{AbstractUnitRange,Vararg{Any,N} where N}} where A<:DenseArray where N where T, DenseArray} where N where T, SubArray{T,N,A,I,true} where I<:Union{Tuple{Vararg{Real,N} where N}, Tuple{AbstractUnitRange,Vararg{Any,N} where N}} where A<:DenseArray where N where T, DenseArray} where N where T, DenseArray}} where N where #s662<:Union{Dates.CompoundPeriod, Dates.Period}) in Dates at C:\\Users\\tirth\\AppData\\Local\\Programs\\Julia\\Julia-1.4.2\\share\\julia\\stdlib\\v1.4\\Dates\\src\\deprecated.jl:57\n",
       "[85] +(x::Union{DenseArray{#s662,N}, Base.ReinterpretArray{#s662,N,S,A} where S where A<:Union{SubArray{T,N,A,I,true} where I<:Union{Tuple{Vararg{Real,N} where N}, Tuple{AbstractUnitRange,Vararg{Any,N} where N}} where A<:DenseArray where N where T, DenseArray}, Base.ReshapedArray{#s662,N,A,MI} where MI<:Tuple{Vararg{Base.MultiplicativeInverses.SignedMultiplicativeInverse{Int64},N} where N} where A<:Union{Base.ReinterpretArray{T,N,S,A} where S where A<:Union{SubArray{T,N,A,I,true} where I<:Union{Tuple{Vararg{Real,N} where N}, Tuple{AbstractUnitRange,Vararg{Any,N} where N}} where A<:DenseArray where N where T, DenseArray} where N where T, SubArray{T,N,A,I,true} where I<:Union{Tuple{Vararg{Real,N} where N}, Tuple{AbstractUnitRange,Vararg{Any,N} where N}} where A<:DenseArray where N where T, DenseArray}, SubArray{#s662,N,A,I,L} where L where I<:Tuple{Vararg{Union{Int64, AbstractRange{Int64}, Base.AbstractCartesianIndex},N} where N} where A<:Union{Base.ReinterpretArray{T,N,S,A} where S where A<:Union{SubArray{T,N,A,I,true} where I<:Union{Tuple{Vararg{Real,N} where N}, Tuple{AbstractUnitRange,Vararg{Any,N} where N}} where A<:DenseArray where N where T, DenseArray} where N where T, Base.ReshapedArray{T,N,A,MI} where MI<:Tuple{Vararg{Base.MultiplicativeInverses.SignedMultiplicativeInverse{Int64},N} where N} where A<:Union{Base.ReinterpretArray{T,N,S,A} where S where A<:Union{SubArray{T,N,A,I,true} where I<:Union{Tuple{Vararg{Real,N} where N}, Tuple{AbstractUnitRange,Vararg{Any,N} where N}} where A<:DenseArray where N where T, DenseArray} where N where T, SubArray{T,N,A,I,true} where I<:Union{Tuple{Vararg{Real,N} where N}, Tuple{AbstractUnitRange,Vararg{Any,N} where N}} where A<:DenseArray where N where T, DenseArray} where N where T, DenseArray}} where N where #s662<:Union{Dates.CompoundPeriod, Dates.Period}, y::Dates.TimeType) in Dates at C:\\Users\\tirth\\AppData\\Local\\Programs\\Julia\\Julia-1.4.2\\share\\julia\\stdlib\\v1.4\\Dates\\src\\deprecated.jl:12\n",
       "[86] +(X::Union{DenseArray{#s662,N}, Base.ReinterpretArray{#s662,N,S,A} where S where A<:Union{SubArray{T,N,A,I,true} where I<:Union{Tuple{Vararg{Real,N} where N}, Tuple{AbstractUnitRange,Vararg{Any,N} where N}} where A<:DenseArray where N where T, DenseArray}, Base.ReshapedArray{#s662,N,A,MI} where MI<:Tuple{Vararg{Base.MultiplicativeInverses.SignedMultiplicativeInverse{Int64},N} where N} where A<:Union{Base.ReinterpretArray{T,N,S,A} where S where A<:Union{SubArray{T,N,A,I,true} where I<:Union{Tuple{Vararg{Real,N} where N}, Tuple{AbstractUnitRange,Vararg{Any,N} where N}} where A<:DenseArray where N where T, DenseArray} where N where T, SubArray{T,N,A,I,true} where I<:Union{Tuple{Vararg{Real,N} where N}, Tuple{AbstractUnitRange,Vararg{Any,N} where N}} where A<:DenseArray where N where T, DenseArray}, SubArray{#s662,N,A,I,L} where L where I<:Tuple{Vararg{Union{Int64, AbstractRange{Int64}, Base.AbstractCartesianIndex},N} where N} where A<:Union{Base.ReinterpretArray{T,N,S,A} where S where A<:Union{SubArray{T,N,A,I,true} where I<:Union{Tuple{Vararg{Real,N} where N}, Tuple{AbstractUnitRange,Vararg{Any,N} where N}} where A<:DenseArray where N where T, DenseArray} where N where T, Base.ReshapedArray{T,N,A,MI} where MI<:Tuple{Vararg{Base.MultiplicativeInverses.SignedMultiplicativeInverse{Int64},N} where N} where A<:Union{Base.ReinterpretArray{T,N,S,A} where S where A<:Union{SubArray{T,N,A,I,true} where I<:Union{Tuple{Vararg{Real,N} where N}, Tuple{AbstractUnitRange,Vararg{Any,N} where N}} where A<:DenseArray where N where T, DenseArray} where N where T, SubArray{T,N,A,I,true} where I<:Union{Tuple{Vararg{Real,N} where N}, Tuple{AbstractUnitRange,Vararg{Any,N} where N}} where A<:DenseArray where N where T, DenseArray} where N where T, DenseArray}} where N where #s662<:Union{Dates.CompoundPeriod, Dates.Period}, Y::Union{DenseArray{#s661,N}, Base.ReinterpretArray{#s661,N,S,A} where S where A<:Union{SubArray{T,N,A,I,true} where I<:Union{Tuple{Vararg{Real,N} where N}, Tuple{AbstractUnitRange,Vararg{Any,N} where N}} where A<:DenseArray where N where T, DenseArray}, Base.ReshapedArray{#s661,N,A,MI} where MI<:Tuple{Vararg{Base.MultiplicativeInverses.SignedMultiplicativeInverse{Int64},N} where N} where A<:Union{Base.ReinterpretArray{T,N,S,A} where S where A<:Union{SubArray{T,N,A,I,true} where I<:Union{Tuple{Vararg{Real,N} where N}, Tuple{AbstractUnitRange,Vararg{Any,N} where N}} where A<:DenseArray where N where T, DenseArray} where N where T, SubArray{T,N,A,I,true} where I<:Union{Tuple{Vararg{Real,N} where N}, Tuple{AbstractUnitRange,Vararg{Any,N} where N}} where A<:DenseArray where N where T, DenseArray}, SubArray{#s661,N,A,I,L} where L where I<:Tuple{Vararg{Union{Int64, AbstractRange{Int64}, Base.AbstractCartesianIndex},N} where N} where A<:Union{Base.ReinterpretArray{T,N,S,A} where S where A<:Union{SubArray{T,N,A,I,true} where I<:Union{Tuple{Vararg{Real,N} where N}, Tuple{AbstractUnitRange,Vararg{Any,N} where N}} where A<:DenseArray where N where T, DenseArray} where N where T, Base.ReshapedArray{T,N,A,MI} where MI<:Tuple{Vararg{Base.MultiplicativeInverses.SignedMultiplicativeInverse{Int64},N} where N} where A<:Union{Base.ReinterpretArray{T,N,S,A} where S where A<:Union{SubArray{T,N,A,I,true} where I<:Union{Tuple{Vararg{Real,N} where N}, Tuple{AbstractUnitRange,Vararg{Any,N} where N}} where A<:DenseArray where N where T, DenseArray} where N where T, SubArray{T,N,A,I,true} where I<:Union{Tuple{Vararg{Real,N} where N}, Tuple{AbstractUnitRange,Vararg{Any,N} where N}} where A<:DenseArray where N where T, DenseArray} where N where T, DenseArray}} where N where #s661<:Union{Dates.CompoundPeriod, Dates.Period}) in Dates at C:\\Users\\tirth\\AppData\\Local\\Programs\\Julia\\Julia-1.4.2\\share\\julia\\stdlib\\v1.4\\Dates\\src\\deprecated.jl:64\n",
       "[87] +(A::LinearAlgebra.SymTridiagonal, B::LinearAlgebra.SymTridiagonal) in LinearAlgebra at C:\\Users\\tirth\\AppData\\Local\\Programs\\Julia\\Julia-1.4.2\\share\\julia\\stdlib\\v1.4\\LinearAlgebra\\src\\tridiag.jl:158\n",
       "[88] +(A::LinearAlgebra.Tridiagonal, B::LinearAlgebra.Tridiagonal) in LinearAlgebra at C:\\Users\\tirth\\AppData\\Local\\Programs\\Julia\\Julia-1.4.2\\share\\julia\\stdlib\\v1.4\\LinearAlgebra\\src\\tridiag.jl:657\n",
       "[89] +(A::LinearAlgebra.UpperTriangular, B::LinearAlgebra.UpperTriangular) in LinearAlgebra at C:\\Users\\tirth\\AppData\\Local\\Programs\\Julia\\Julia-1.4.2\\share\\julia\\stdlib\\v1.4\\LinearAlgebra\\src\\triangular.jl:648\n",
       "[90] +(A::LinearAlgebra.LowerTriangular, B::LinearAlgebra.LowerTriangular) in LinearAlgebra at C:\\Users\\tirth\\AppData\\Local\\Programs\\Julia\\Julia-1.4.2\\share\\julia\\stdlib\\v1.4\\LinearAlgebra\\src\\triangular.jl:649\n",
       "[91] +(A::LinearAlgebra.UpperTriangular, B::LinearAlgebra.UnitUpperTriangular) in LinearAlgebra at C:\\Users\\tirth\\AppData\\Local\\Programs\\Julia\\Julia-1.4.2\\share\\julia\\stdlib\\v1.4\\LinearAlgebra\\src\\triangular.jl:650\n",
       "[92] +(A::LinearAlgebra.LowerTriangular, B::LinearAlgebra.UnitLowerTriangular) in LinearAlgebra at C:\\Users\\tirth\\AppData\\Local\\Programs\\Julia\\Julia-1.4.2\\share\\julia\\stdlib\\v1.4\\LinearAlgebra\\src\\triangular.jl:651\n",
       "[93] +(A::LinearAlgebra.UnitUpperTriangular, B::LinearAlgebra.UpperTriangular) in LinearAlgebra at C:\\Users\\tirth\\AppData\\Local\\Programs\\Julia\\Julia-1.4.2\\share\\julia\\stdlib\\v1.4\\LinearAlgebra\\src\\triangular.jl:652\n",
       "[94] +(A::LinearAlgebra.UnitLowerTriangular, B::LinearAlgebra.LowerTriangular) in LinearAlgebra at C:\\Users\\tirth\\AppData\\Local\\Programs\\Julia\\Julia-1.4.2\\share\\julia\\stdlib\\v1.4\\LinearAlgebra\\src\\triangular.jl:653\n",
       "[95] +(A::LinearAlgebra.UnitUpperTriangular, B::LinearAlgebra.UnitUpperTriangular) in LinearAlgebra at C:\\Users\\tirth\\AppData\\Local\\Programs\\Julia\\Julia-1.4.2\\share\\julia\\stdlib\\v1.4\\LinearAlgebra\\src\\triangular.jl:654\n",
       "[96] +(A::LinearAlgebra.UnitLowerTriangular, B::LinearAlgebra.UnitLowerTriangular) in LinearAlgebra at C:\\Users\\tirth\\AppData\\Local\\Programs\\Julia\\Julia-1.4.2\\share\\julia\\stdlib\\v1.4\\LinearAlgebra\\src\\triangular.jl:655\n",
       "[97] +(A::LinearAlgebra.AbstractTriangular, B::LinearAlgebra.AbstractTriangular) in LinearAlgebra at C:\\Users\\tirth\\AppData\\Local\\Programs\\Julia\\Julia-1.4.2\\share\\julia\\stdlib\\v1.4\\LinearAlgebra\\src\\triangular.jl:656\n",
       "[98] +(A::LinearAlgebra.Symmetric, B::LinearAlgebra.Symmetric) in LinearAlgebra at C:\\Users\\tirth\\AppData\\Local\\Programs\\Julia\\Julia-1.4.2\\share\\julia\\stdlib\\v1.4\\LinearAlgebra\\src\\symmetric.jl:465\n",
       "[99] +(A::LinearAlgebra.Hermitian, B::LinearAlgebra.Hermitian) in LinearAlgebra at C:\\Users\\tirth\\AppData\\Local\\Programs\\Julia\\Julia-1.4.2\\share\\julia\\stdlib\\v1.4\\LinearAlgebra\\src\\symmetric.jl:466\n",
       "[100] +(A::LinearAlgebra.Hermitian, B::LinearAlgebra.Symmetric{#s662,S} where S<:(AbstractArray{#s6621,2} where #s6621<:#s662) where #s662<:Real) in LinearAlgebra at C:\\Users\\tirth\\AppData\\Local\\Programs\\Julia\\Julia-1.4.2\\share\\julia\\stdlib\\v1.4\\LinearAlgebra\\src\\symmetric.jl:467\n",
       "[101] +(A::LinearAlgebra.Symmetric{#s662,S} where S<:(AbstractArray{#s6621,2} where #s6621<:#s662) where #s662<:Real, B::LinearAlgebra.Hermitian) in LinearAlgebra at C:\\Users\\tirth\\AppData\\Local\\Programs\\Julia\\Julia-1.4.2\\share\\julia\\stdlib\\v1.4\\LinearAlgebra\\src\\symmetric.jl:468\n",
       "[102] +(Da::LinearAlgebra.Diagonal, Db::LinearAlgebra.Diagonal) in LinearAlgebra at C:\\Users\\tirth\\AppData\\Local\\Programs\\Julia\\Julia-1.4.2\\share\\julia\\stdlib\\v1.4\\LinearAlgebra\\src\\diagonal.jl:156\n",
       "[103] +(A::LinearAlgebra.Bidiagonal, B::LinearAlgebra.Bidiagonal) in LinearAlgebra at C:\\Users\\tirth\\AppData\\Local\\Programs\\Julia\\Julia-1.4.2\\share\\julia\\stdlib\\v1.4\\LinearAlgebra\\src\\bidiag.jl:309\n",
       "[104] +(UL::LinearAlgebra.UnitUpperTriangular, J::LinearAlgebra.UniformScaling) in LinearAlgebra at C:\\Users\\tirth\\AppData\\Local\\Programs\\Julia\\Julia-1.4.2\\share\\julia\\stdlib\\v1.4\\LinearAlgebra\\src\\uniformscaling.jl:131\n",
       "[105] +(UL::LinearAlgebra.UnitLowerTriangular, J::LinearAlgebra.UniformScaling) in LinearAlgebra at C:\\Users\\tirth\\AppData\\Local\\Programs\\Julia\\Julia-1.4.2\\share\\julia\\stdlib\\v1.4\\LinearAlgebra\\src\\uniformscaling.jl:131\n",
       "[106] +(A::LinearAlgebra.Hermitian, J::LinearAlgebra.UniformScaling{#s662} where #s662<:Complex) in LinearAlgebra at C:\\Users\\tirth\\AppData\\Local\\Programs\\Julia\\Julia-1.4.2\\share\\julia\\stdlib\\v1.4\\LinearAlgebra\\src\\uniformscaling.jl:145\n",
       "[107] +(H::LinearAlgebra.UpperHessenberg, J::LinearAlgebra.UniformScaling) in LinearAlgebra at C:\\Users\\tirth\\AppData\\Local\\Programs\\Julia\\Julia-1.4.2\\share\\julia\\stdlib\\v1.4\\LinearAlgebra\\src\\hessenberg.jl:106\n",
       "[108] +(A::LinearAlgebra.Tridiagonal{#s662,V} where V<:AbstractArray{#s662,1} where #s662<:Number, B::LinearAlgebra.UniformScaling) in LinearAlgebra at C:\\Users\\tirth\\AppData\\Local\\Programs\\Julia\\Julia-1.4.2\\share\\julia\\stdlib\\v1.4\\LinearAlgebra\\src\\special.jl:238\n",
       "[109] +(A::LinearAlgebra.SymTridiagonal{#s662,V} where V<:AbstractArray{#s662,1} where #s662<:Number, B::LinearAlgebra.UniformScaling) in LinearAlgebra at C:\\Users\\tirth\\AppData\\Local\\Programs\\Julia\\Julia-1.4.2\\share\\julia\\stdlib\\v1.4\\LinearAlgebra\\src\\special.jl:243\n",
       "[110] +(A::LinearAlgebra.Bidiagonal{#s662,V} where V<:AbstractArray{#s662,1} where #s662<:Number, B::LinearAlgebra.UniformScaling) in LinearAlgebra at C:\\Users\\tirth\\AppData\\Local\\Programs\\Julia\\Julia-1.4.2\\share\\julia\\stdlib\\v1.4\\LinearAlgebra\\src\\special.jl:248\n",
       "[111] +(A::LinearAlgebra.Diagonal{#s662,V} where V<:AbstractArray{#s662,1} where #s662<:Number, B::LinearAlgebra.UniformScaling) in LinearAlgebra at C:\\Users\\tirth\\AppData\\Local\\Programs\\Julia\\Julia-1.4.2\\share\\julia\\stdlib\\v1.4\\LinearAlgebra\\src\\special.jl:253\n",
       "[112] +(A::SparseArrays.AbstractSparseMatrixCSC, J::LinearAlgebra.UniformScaling) in SparseArrays at C:\\Users\\tirth\\AppData\\Local\\Programs\\Julia\\Julia-1.4.2\\share\\julia\\stdlib\\v1.4\\SparseArrays\\src\\sparsematrix.jl:3610\n",
       "[113] +(a::StaticArrays.StaticArray{Tuple{N,M},T,2} where T where M where N, b::LinearAlgebra.UniformScaling) in StaticArrays at C:\\Users\\tirth\\.julia\\packages\\StaticArrays\\mlIi1\\src\\linalg.jl:28\n",
       "[114] +(A::AbstractArray{T,2} where T, J::LinearAlgebra.UniformScaling) in LinearAlgebra at C:\\Users\\tirth\\AppData\\Local\\Programs\\Julia\\Julia-1.4.2\\share\\julia\\stdlib\\v1.4\\LinearAlgebra\\src\\uniformscaling.jl:164\n",
       "[115] +(A::LinearAlgebra.UpperHessenberg, B::LinearAlgebra.UpperHessenberg) in LinearAlgebra at C:\\Users\\tirth\\AppData\\Local\\Programs\\Julia\\Julia-1.4.2\\share\\julia\\stdlib\\v1.4\\LinearAlgebra\\src\\hessenberg.jl:101\n",
       "[116] +(A::LinearAlgebra.UpperTriangular, B::LinearAlgebra.Bidiagonal) in LinearAlgebra at C:\\Users\\tirth\\AppData\\Local\\Programs\\Julia\\Julia-1.4.2\\share\\julia\\stdlib\\v1.4\\LinearAlgebra\\src\\special.jl:98\n",
       "[117] +(A::LinearAlgebra.Bidiagonal, B::LinearAlgebra.UpperTriangular) in LinearAlgebra at C:\\Users\\tirth\\AppData\\Local\\Programs\\Julia\\Julia-1.4.2\\share\\julia\\stdlib\\v1.4\\LinearAlgebra\\src\\special.jl:106\n",
       "[118] +(A::LinearAlgebra.UnitUpperTriangular, B::LinearAlgebra.Bidiagonal) in LinearAlgebra at C:\\Users\\tirth\\AppData\\Local\\Programs\\Julia\\Julia-1.4.2\\share\\julia\\stdlib\\v1.4\\LinearAlgebra\\src\\special.jl:98\n",
       "[119] +(A::LinearAlgebra.Bidiagonal, B::LinearAlgebra.UnitUpperTriangular) in LinearAlgebra at C:\\Users\\tirth\\AppData\\Local\\Programs\\Julia\\Julia-1.4.2\\share\\julia\\stdlib\\v1.4\\LinearAlgebra\\src\\special.jl:106\n",
       "[120] +(A::LinearAlgebra.LowerTriangular, B::LinearAlgebra.Bidiagonal) in LinearAlgebra at C:\\Users\\tirth\\AppData\\Local\\Programs\\Julia\\Julia-1.4.2\\share\\julia\\stdlib\\v1.4\\LinearAlgebra\\src\\special.jl:98\n",
       "[121] +(A::LinearAlgebra.Bidiagonal, B::LinearAlgebra.LowerTriangular) in LinearAlgebra at C:\\Users\\tirth\\AppData\\Local\\Programs\\Julia\\Julia-1.4.2\\share\\julia\\stdlib\\v1.4\\LinearAlgebra\\src\\special.jl:106\n",
       "[122] +(A::LinearAlgebra.UnitLowerTriangular, B::LinearAlgebra.Bidiagonal) in LinearAlgebra at C:\\Users\\tirth\\AppData\\Local\\Programs\\Julia\\Julia-1.4.2\\share\\julia\\stdlib\\v1.4\\LinearAlgebra\\src\\special.jl:98\n",
       "[123] +(A::LinearAlgebra.Bidiagonal, B::LinearAlgebra.UnitLowerTriangular) in LinearAlgebra at C:\\Users\\tirth\\AppData\\Local\\Programs\\Julia\\Julia-1.4.2\\share\\julia\\stdlib\\v1.4\\LinearAlgebra\\src\\special.jl:106\n",
       "[124] +(A::LinearAlgebra.Bidiagonal, B::LinearAlgebra.Diagonal) in LinearAlgebra at C:\\Users\\tirth\\AppData\\Local\\Programs\\Julia\\Julia-1.4.2\\share\\julia\\stdlib\\v1.4\\LinearAlgebra\\src\\special.jl:127\n",
       "[125] +(A::LinearAlgebra.Diagonal, B::LinearAlgebra.Bidiagonal) in LinearAlgebra at C:\\Users\\tirth\\AppData\\Local\\Programs\\Julia\\Julia-1.4.2\\share\\julia\\stdlib\\v1.4\\LinearAlgebra\\src\\special.jl:137\n",
       "[126] +(A::LinearAlgebra.Diagonal, B::LinearAlgebra.SymTridiagonal) in LinearAlgebra at C:\\Users\\tirth\\AppData\\Local\\Programs\\Julia\\Julia-1.4.2\\share\\julia\\stdlib\\v1.4\\LinearAlgebra\\src\\special.jl:147\n",
       "[127] +(A::LinearAlgebra.SymTridiagonal, B::LinearAlgebra.Diagonal) in LinearAlgebra at C:\\Users\\tirth\\AppData\\Local\\Programs\\Julia\\Julia-1.4.2\\share\\julia\\stdlib\\v1.4\\LinearAlgebra\\src\\special.jl:157\n",
       "[128] +(A::LinearAlgebra.Tridiagonal, B::LinearAlgebra.SymTridiagonal) in LinearAlgebra at C:\\Users\\tirth\\AppData\\Local\\Programs\\Julia\\Julia-1.4.2\\share\\julia\\stdlib\\v1.4\\LinearAlgebra\\src\\special.jl:168\n",
       "[129] +(A::LinearAlgebra.SymTridiagonal, B::LinearAlgebra.Tridiagonal) in LinearAlgebra at C:\\Users\\tirth\\AppData\\Local\\Programs\\Julia\\Julia-1.4.2\\share\\julia\\stdlib\\v1.4\\LinearAlgebra\\src\\special.jl:170\n",
       "[130] +(A::LinearAlgebra.Diagonal, B::LinearAlgebra.Tridiagonal) in LinearAlgebra at C:\\Users\\tirth\\AppData\\Local\\Programs\\Julia\\Julia-1.4.2\\share\\julia\\stdlib\\v1.4\\LinearAlgebra\\src\\special.jl:175\n",
       "[131] +(A::LinearAlgebra.Tridiagonal, B::LinearAlgebra.Diagonal) in LinearAlgebra at C:\\Users\\tirth\\AppData\\Local\\Programs\\Julia\\Julia-1.4.2\\share\\julia\\stdlib\\v1.4\\LinearAlgebra\\src\\special.jl:185\n",
       "[132] +(A::LinearAlgebra.Bidiagonal, B::LinearAlgebra.Tridiagonal) in LinearAlgebra at C:\\Users\\tirth\\AppData\\Local\\Programs\\Julia\\Julia-1.4.2\\share\\julia\\stdlib\\v1.4\\LinearAlgebra\\src\\special.jl:195\n",
       "[133] +(A::LinearAlgebra.Tridiagonal, B::LinearAlgebra.Bidiagonal) in LinearAlgebra at C:\\Users\\tirth\\AppData\\Local\\Programs\\Julia\\Julia-1.4.2\\share\\julia\\stdlib\\v1.4\\LinearAlgebra\\src\\special.jl:205\n",
       "[134] +(A::LinearAlgebra.Bidiagonal, B::LinearAlgebra.SymTridiagonal) in LinearAlgebra at C:\\Users\\tirth\\AppData\\Local\\Programs\\Julia\\Julia-1.4.2\\share\\julia\\stdlib\\v1.4\\LinearAlgebra\\src\\special.jl:215\n",
       "[135] +(A::LinearAlgebra.SymTridiagonal, B::LinearAlgebra.Bidiagonal) in LinearAlgebra at C:\\Users\\tirth\\AppData\\Local\\Programs\\Julia\\Julia-1.4.2\\share\\julia\\stdlib\\v1.4\\LinearAlgebra\\src\\special.jl:225\n",
       "[136] +(A::SparseArrays.AbstractSparseMatrixCSC, B::SparseArrays.AbstractSparseMatrixCSC) in SparseArrays at C:\\Users\\tirth\\AppData\\Local\\Programs\\Julia\\Julia-1.4.2\\share\\julia\\stdlib\\v1.4\\SparseArrays\\src\\sparsematrix.jl:1648\n",
       "[137] +(A::SparseArrays.AbstractSparseMatrixCSC, B::Array) in SparseArrays at C:\\Users\\tirth\\AppData\\Local\\Programs\\Julia\\Julia-1.4.2\\share\\julia\\stdlib\\v1.4\\SparseArrays\\src\\sparsematrix.jl:1651\n",
       "[138] +(x::SparseArrays.AbstractSparseArray{Tv,Ti,1} where Ti where Tv, y::SparseArrays.AbstractSparseArray{Tv,Ti,1} where Ti where Tv) in SparseArrays at C:\\Users\\tirth\\AppData\\Local\\Programs\\Julia\\Julia-1.4.2\\share\\julia\\stdlib\\v1.4\\SparseArrays\\src\\sparsevector.jl:1303\n",
       "[139] +(a::StaticArrays.StaticArray, b::StaticArrays.StaticArray) in StaticArrays at C:\\Users\\tirth\\.julia\\packages\\StaticArrays\\mlIi1\\src\\linalg.jl:11\n",
       "[140] +(a::StaticArrays.StaticArray, b::AbstractArray) in StaticArrays at C:\\Users\\tirth\\.julia\\packages\\StaticArrays\\mlIi1\\src\\linalg.jl:13\n",
       "[141] +(a::StaticArrays.SHermitianCompact, b::Number) in StaticArrays at deprecated.jl:65\n",
       "[142] +(a::StaticArrays.StaticArray, b::Number) in StaticArrays at deprecated.jl:65\n",
       "[143] +(x::AbstractArray{#s69,N} where N where #s69<:Number) in Base at abstractarraymath.jl:97\n",
       "[144] +(a::AbstractArray, b::StaticArrays.StaticArray) in StaticArrays at C:\\Users\\tirth\\.julia\\packages\\StaticArrays\\mlIi1\\src\\linalg.jl:12\n",
       "[145] +(A::AbstractArray, B::AbstractArray) in Base at arraymath.jl:38\n",
       "[146] +(x::T, y::Integer) where T<:AbstractChar in Base at char.jl:223\n",
       "[147] +(index1::CartesianIndex{N}, index2::CartesianIndex{N}) where N in Base.IteratorsMD at multidimensional.jl:111\n",
       "[148] +(::Number, ::Missing) in Base at missing.jl:116\n",
       "[149] +(x::P, y::P) where P<:Dates.Period in Dates at C:\\Users\\tirth\\AppData\\Local\\Programs\\Julia\\Julia-1.4.2\\share\\julia\\stdlib\\v1.4\\Dates\\src\\periods.jl:75\n",
       "[150] +(x::Dates.Period, y::Dates.Period) in Dates at C:\\Users\\tirth\\AppData\\Local\\Programs\\Julia\\Julia-1.4.2\\share\\julia\\stdlib\\v1.4\\Dates\\src\\periods.jl:338\n",
       "[151] +(y::Dates.Period, x::Dates.CompoundPeriod) in Dates at C:\\Users\\tirth\\AppData\\Local\\Programs\\Julia\\Julia-1.4.2\\share\\julia\\stdlib\\v1.4\\Dates\\src\\periods.jl:340\n",
       "[152] +(x::Union{Dates.CompoundPeriod, Dates.Period}) in Dates at C:\\Users\\tirth\\AppData\\Local\\Programs\\Julia\\Julia-1.4.2\\share\\julia\\stdlib\\v1.4\\Dates\\src\\periods.jl:349\n",
       "[153] +(x::Dates.TimeType) in Dates at C:\\Users\\tirth\\AppData\\Local\\Programs\\Julia\\Julia-1.4.2\\share\\julia\\stdlib\\v1.4\\Dates\\src\\arithmetic.jl:8\n",
       "[154] +(a::Dates.TimeType, b::Dates.Period, c::Dates.Period) in Dates at C:\\Users\\tirth\\AppData\\Local\\Programs\\Julia\\Julia-1.4.2\\share\\julia\\stdlib\\v1.4\\Dates\\src\\periods.jl:360\n",
       "[155] +(a::Dates.TimeType, b::Dates.Period, c::Dates.Period, d::Dates.Period...) in Dates at C:\\Users\\tirth\\AppData\\Local\\Programs\\Julia\\Julia-1.4.2\\share\\julia\\stdlib\\v1.4\\Dates\\src\\periods.jl:361\n",
       "[156] +(x::Dates.TimeType, y::Dates.CompoundPeriod) in Dates at C:\\Users\\tirth\\AppData\\Local\\Programs\\Julia\\Julia-1.4.2\\share\\julia\\stdlib\\v1.4\\Dates\\src\\periods.jl:364\n",
       "[157] +(x::Dates.Instant) in Dates at C:\\Users\\tirth\\AppData\\Local\\Programs\\Julia\\Julia-1.4.2\\share\\julia\\stdlib\\v1.4\\Dates\\src\\arithmetic.jl:4\n",
       "[158] +(y::Dates.Period, x::Dates.TimeType) in Dates at C:\\Users\\tirth\\AppData\\Local\\Programs\\Julia\\Julia-1.4.2\\share\\julia\\stdlib\\v1.4\\Dates\\src\\arithmetic.jl:80\n",
       "[159] +(x::Dates.Period, r::AbstractRange{#s662} where #s662<:Dates.TimeType) in Dates at C:\\Users\\tirth\\AppData\\Local\\Programs\\Julia\\Julia-1.4.2\\share\\julia\\stdlib\\v1.4\\Dates\\src\\ranges.jl:58\n",
       "[160] +(x::AbstractArray{#s662,N} where N where #s662<:Dates.TimeType, y::Union{Dates.CompoundPeriod, Dates.Period}) in Dates at C:\\Users\\tirth\\AppData\\Local\\Programs\\Julia\\Julia-1.4.2\\share\\julia\\stdlib\\v1.4\\Dates\\src\\deprecated.jl:8\n",
       "[161] +(y::Union{Dates.CompoundPeriod, Dates.Period}, x::AbstractArray{#s662,N} where N where #s662<:Dates.TimeType) in Dates at C:\\Users\\tirth\\AppData\\Local\\Programs\\Julia\\Julia-1.4.2\\share\\julia\\stdlib\\v1.4\\Dates\\src\\deprecated.jl:16\n",
       "[162] +(y::Dates.TimeType, x::Union{DenseArray{#s662,N}, Base.ReinterpretArray{#s662,N,S,A} where S where A<:Union{SubArray{T,N,A,I,true} where I<:Union{Tuple{Vararg{Real,N} where N}, Tuple{AbstractUnitRange,Vararg{Any,N} where N}} where A<:DenseArray where N where T, DenseArray}, Base.ReshapedArray{#s662,N,A,MI} where MI<:Tuple{Vararg{Base.MultiplicativeInverses.SignedMultiplicativeInverse{Int64},N} where N} where A<:Union{Base.ReinterpretArray{T,N,S,A} where S where A<:Union{SubArray{T,N,A,I,true} where I<:Union{Tuple{Vararg{Real,N} where N}, Tuple{AbstractUnitRange,Vararg{Any,N} where N}} where A<:DenseArray where N where T, DenseArray} where N where T, SubArray{T,N,A,I,true} where I<:Union{Tuple{Vararg{Real,N} where N}, Tuple{AbstractUnitRange,Vararg{Any,N} where N}} where A<:DenseArray where N where T, DenseArray}, SubArray{#s662,N,A,I,L} where L where I<:Tuple{Vararg{Union{Int64, AbstractRange{Int64}, Base.AbstractCartesianIndex},N} where N} where A<:Union{Base.ReinterpretArray{T,N,S,A} where S where A<:Union{SubArray{T,N,A,I,true} where I<:Union{Tuple{Vararg{Real,N} where N}, Tuple{AbstractUnitRange,Vararg{Any,N} where N}} where A<:DenseArray where N where T, DenseArray} where N where T, Base.ReshapedArray{T,N,A,MI} where MI<:Tuple{Vararg{Base.MultiplicativeInverses.SignedMultiplicativeInverse{Int64},N} where N} where A<:Union{Base.ReinterpretArray{T,N,S,A} where S where A<:Union{SubArray{T,N,A,I,true} where I<:Union{Tuple{Vararg{Real,N} where N}, Tuple{AbstractUnitRange,Vararg{Any,N} where N}} where A<:DenseArray where N where T, DenseArray} where N where T, SubArray{T,N,A,I,true} where I<:Union{Tuple{Vararg{Real,N} where N}, Tuple{AbstractUnitRange,Vararg{Any,N} where N}} where A<:DenseArray where N where T, DenseArray} where N where T, DenseArray}} where N where #s662<:Union{Dates.CompoundPeriod, Dates.Period}) in Dates at C:\\Users\\tirth\\AppData\\Local\\Programs\\Julia\\Julia-1.4.2\\share\\julia\\stdlib\\v1.4\\Dates\\src\\deprecated.jl:20\n",
       "[163] +(J::LinearAlgebra.UniformScaling, x::Number) in LinearAlgebra at C:\\Users\\tirth\\AppData\\Local\\Programs\\Julia\\Julia-1.4.2\\share\\julia\\stdlib\\v1.4\\LinearAlgebra\\src\\uniformscaling.jl:109\n",
       "[164] +(x::Number, J::LinearAlgebra.UniformScaling) in LinearAlgebra at C:\\Users\\tirth\\AppData\\Local\\Programs\\Julia\\Julia-1.4.2\\share\\julia\\stdlib\\v1.4\\LinearAlgebra\\src\\uniformscaling.jl:110\n",
       "[165] +(J1::LinearAlgebra.UniformScaling, J2::LinearAlgebra.UniformScaling) in LinearAlgebra at C:\\Users\\tirth\\AppData\\Local\\Programs\\Julia\\Julia-1.4.2\\share\\julia\\stdlib\\v1.4\\LinearAlgebra\\src\\uniformscaling.jl:114\n",
       "[166] +(J::LinearAlgebra.UniformScaling, B::BitArray{2}) in LinearAlgebra at C:\\Users\\tirth\\AppData\\Local\\Programs\\Julia\\Julia-1.4.2\\share\\julia\\stdlib\\v1.4\\LinearAlgebra\\src\\uniformscaling.jl:116\n",
       "[167] +(A::LinearAlgebra.UniformScaling, B::LinearAlgebra.Tridiagonal{#s662,V} where V<:AbstractArray{#s662,1} where #s662<:Number) in LinearAlgebra at C:\\Users\\tirth\\AppData\\Local\\Programs\\Julia\\Julia-1.4.2\\share\\julia\\stdlib\\v1.4\\LinearAlgebra\\src\\special.jl:257\n",
       "[168] +(A::LinearAlgebra.UniformScaling, B::LinearAlgebra.SymTridiagonal{#s662,V} where V<:AbstractArray{#s662,1} where #s662<:Number) in LinearAlgebra at C:\\Users\\tirth\\AppData\\Local\\Programs\\Julia\\Julia-1.4.2\\share\\julia\\stdlib\\v1.4\\LinearAlgebra\\src\\special.jl:262\n",
       "[169] +(A::LinearAlgebra.UniformScaling, B::LinearAlgebra.Bidiagonal{#s662,V} where V<:AbstractArray{#s662,1} where #s662<:Number) in LinearAlgebra at C:\\Users\\tirth\\AppData\\Local\\Programs\\Julia\\Julia-1.4.2\\share\\julia\\stdlib\\v1.4\\LinearAlgebra\\src\\special.jl:267\n",
       "[170] +(A::LinearAlgebra.UniformScaling, B::LinearAlgebra.Diagonal{#s662,V} where V<:AbstractArray{#s662,1} where #s662<:Number) in LinearAlgebra at C:\\Users\\tirth\\AppData\\Local\\Programs\\Julia\\Julia-1.4.2\\share\\julia\\stdlib\\v1.4\\LinearAlgebra\\src\\special.jl:272\n",
       "[171] +(a::LinearAlgebra.UniformScaling, b::StaticArrays.StaticArray{Tuple{N,M},T,2} where T where M where N) in StaticArrays at C:\\Users\\tirth\\.julia\\packages\\StaticArrays\\mlIi1\\src\\linalg.jl:29\n",
       "[172] +(J::LinearAlgebra.UniformScaling, A::AbstractArray{T,2} where T) in LinearAlgebra at C:\\Users\\tirth\\AppData\\Local\\Programs\\Julia\\Julia-1.4.2\\share\\julia\\stdlib\\v1.4\\LinearAlgebra\\src\\uniformscaling.jl:117\n",
       "[173] +(F::LinearAlgebra.Hessenberg, J::LinearAlgebra.UniformScaling) in LinearAlgebra at C:\\Users\\tirth\\AppData\\Local\\Programs\\Julia\\Julia-1.4.2\\share\\julia\\stdlib\\v1.4\\LinearAlgebra\\src\\hessenberg.jl:559\n",
       "[174] +(J::LinearAlgebra.UniformScaling, F::LinearAlgebra.Hessenberg) in LinearAlgebra at C:\\Users\\tirth\\AppData\\Local\\Programs\\Julia\\Julia-1.4.2\\share\\julia\\stdlib\\v1.4\\LinearAlgebra\\src\\hessenberg.jl:560\n",
       "[175] +(a::C, b::C) where C<:Union{LMS, XYZ} in Colors at C:\\Users\\tirth\\.julia\\packages\\Colors\\qXo6j\\src\\algorithms.jl:4\n",
       "[176] +(a::Number, b::StaticArrays.SHermitianCompact) in StaticArrays at deprecated.jl:65\n",
       "[177] +(a::Number, b::StaticArrays.StaticArray) in StaticArrays at deprecated.jl:65\n",
       "[178] +(a::Measures.Length{U,T} where T, b::Measures.Length{U,T} where T) where U in Measures at C:\\Users\\tirth\\.julia\\packages\\Measures\\0Zkai\\src\\length.jl:28\n",
       "[179] +(a::Measures.Measure, b::Measures.Measure) in Measures at C:\\Users\\tirth\\.julia\\packages\\Measures\\0Zkai\\src\\operations.jl:41\n",
       "[180] +(a::Tuple{Vararg{Measures.Measure,N}}, b::Tuple{Vararg{Measures.Measure,N}}) where N in Measures at C:\\Users\\tirth\\.julia\\packages\\Measures\\0Zkai\\src\\point.jl:22\n",
       "[181] +(a::Tuple{Vararg{Measures.Measure,N}} where N, b::Tuple{Vararg{Measures.Measure,N}} where N) in Measures at C:\\Users\\tirth\\.julia\\packages\\Measures\\0Zkai\\src\\point.jl:15\n",
       "[182] +(h::GeometryTypes.HyperRectangle{N,T}, move::GeometryTypes.Vec{N,T} where T) where {N, T} in GeometryTypes at C:\\Users\\tirth\\.julia\\packages\\GeometryTypes\\gpBFp\\src\\hyperrectangles.jl:202\n",
       "[183] +(h::GeometryTypes.SimpleRectangle{T}, move::GeometryTypes.Vec{2,T} where T) where T in GeometryTypes at C:\\Users\\tirth\\.julia\\packages\\GeometryTypes\\gpBFp\\src\\hyperrectangles.jl:209\n",
       "[184] +(bb1::Measures.BoundingBox, bb2::Measures.BoundingBox) in Plots at C:\\Users\\tirth\\.julia\\packages\\Plots\\JKY3H\\src\\layouts.jl:49\n",
       "[185] +(a, b, c, xs...) in Base at operators.jl:529"
      ]
     },
     "execution_count": 54,
     "metadata": {},
     "output_type": "execute_result"
    }
   ],
   "source": [
    "methods(+) # Shows different methods written for _ operator"
   ]
  },
  {
   "cell_type": "code",
   "execution_count": 55,
   "metadata": {},
   "outputs": [
    {
     "data": {
      "text/html": [
       "+(x::<b>T</b>, y::<b>T</b>)<i> where T<:Union{Int128, Int16, Int32, Int64, Int8, UInt128, UInt16, UInt32, UInt64, UInt8}</i> in Base at <a href=\"https://github.com/JuliaLang/julia/tree/44fa15b1502a45eac76c9017af94332d4557b251/base/int.jl#L53\" target=\"_blank\">int.jl:53</a>"
      ],
      "text/plain": [
       "+(x::T, y::T) where T<:Union{Int128, Int16, Int32, Int64, Int8, UInt128, UInt16, UInt32, UInt64, UInt8} in Base at int.jl:53"
      ]
     },
     "execution_count": 55,
     "metadata": {},
     "output_type": "execute_result"
    }
   ],
   "source": [
    "@which 3 + 3"
   ]
  },
  {
   "cell_type": "code",
   "execution_count": 56,
   "metadata": {},
   "outputs": [
    {
     "data": {
      "text/html": [
       "+(x::<b>Float64</b>, y::<b>Float64</b>) in Base at <a href=\"https://github.com/JuliaLang/julia/tree/44fa15b1502a45eac76c9017af94332d4557b251/base/float.jl#L401\" target=\"_blank\">float.jl:401</a>"
      ],
      "text/plain": [
       "+(x::Float64, y::Float64) in Base at float.jl:401"
      ]
     },
     "execution_count": 56,
     "metadata": {},
     "output_type": "execute_result"
    }
   ],
   "source": [
    "@which 3.0 + 3.0"
   ]
  },
  {
   "cell_type": "code",
   "execution_count": 57,
   "metadata": {},
   "outputs": [
    {
     "data": {
      "text/html": [
       "+(x::<b>Number</b>, y::<b>Number</b>) in Base at <a href=\"https://github.com/JuliaLang/julia/tree/44fa15b1502a45eac76c9017af94332d4557b251/base/promotion.jl#L311\" target=\"_blank\">promotion.jl:311</a>"
      ],
      "text/plain": [
       "+(x::Number, y::Number) in Base at promotion.jl:311"
      ]
     },
     "execution_count": 57,
     "metadata": {},
     "output_type": "execute_result"
    }
   ],
   "source": [
    "@which 3.0 + 3"
   ]
  },
  {
   "cell_type": "code",
   "execution_count": 58,
   "metadata": {},
   "outputs": [
    {
     "data": {
      "text/html": [
       "+(x::<b>Number</b>, y::<b>Number</b>) in Base at <a href=\"https://github.com/JuliaLang/julia/tree/44fa15b1502a45eac76c9017af94332d4557b251/base/promotion.jl#L311\" target=\"_blank\">promotion.jl:311</a>"
      ],
      "text/plain": [
       "+(x::Number, y::Number) in Base at promotion.jl:311"
      ]
     },
     "execution_count": 58,
     "metadata": {},
     "output_type": "execute_result"
    }
   ],
   "source": [
    "@which 3 + 3.0"
   ]
  },
  {
   "cell_type": "code",
   "execution_count": 59,
   "metadata": {},
   "outputs": [
    {
     "data": {
      "text/plain": [
       "+ (generic function with 186 methods)"
      ]
     },
     "execution_count": 59,
     "metadata": {},
     "output_type": "execute_result"
    }
   ],
   "source": [
    "# Operator Overloading in Julia!!!\n",
    "import Base: +\n",
    "\n",
    "+(x::String, y::String) = string(x, y)"
   ]
  },
  {
   "cell_type": "code",
   "execution_count": 60,
   "metadata": {},
   "outputs": [
    {
     "data": {
      "text/plain": [
       "\"hello world!\""
      ]
     },
     "execution_count": 60,
     "metadata": {},
     "output_type": "execute_result"
    }
   ],
   "source": [
    "\"hello \" + \"world!\""
   ]
  },
  {
   "cell_type": "code",
   "execution_count": 61,
   "metadata": {},
   "outputs": [
    {
     "data": {
      "text/html": [
       "+(x::<b>String</b>, y::<b>String</b>) in Main at In[59]:4"
      ],
      "text/plain": [
       "+(x::String, y::String) in Main at In[59]:4"
      ]
     },
     "execution_count": 61,
     "metadata": {},
     "output_type": "execute_result"
    }
   ],
   "source": [
    "@which \"hello \" + \"world!\""
   ]
  },
  {
   "cell_type": "code",
   "execution_count": 62,
   "metadata": {},
   "outputs": [
    {
     "data": {
      "text/plain": [
       "foo (generic function with 4 methods)"
      ]
     },
     "execution_count": 62,
     "metadata": {},
     "output_type": "execute_result"
    }
   ],
   "source": [
    "# Let's see the behaviour of multiple dispatch\n",
    "foo(x, y) = \"duck-typed foo\"\n",
    "foo(x::Int, y::Float64) = \"Int and Flaot64 foo\"\n",
    "foo(x::Float64, y::Float64) = \"Float64 and Float64 foo\"\n",
    "foo(x::Int, y::Int) = \"Int and Int foo\""
   ]
  },
  {
   "cell_type": "code",
   "execution_count": 63,
   "metadata": {},
   "outputs": [
    {
     "data": {
      "text/plain": [
       "\"duck-typed foo\""
      ]
     },
     "execution_count": 63,
     "metadata": {},
     "output_type": "execute_result"
    }
   ],
   "source": [
    "foo(\"Yo\", \"Bro\")"
   ]
  },
  {
   "cell_type": "code",
   "execution_count": 64,
   "metadata": {},
   "outputs": [
    {
     "data": {
      "text/plain": [
       "\"Int and Int foo\""
      ]
     },
     "execution_count": 64,
     "metadata": {},
     "output_type": "execute_result"
    }
   ],
   "source": [
    "foo(1, 1)"
   ]
  },
  {
   "cell_type": "code",
   "execution_count": 65,
   "metadata": {},
   "outputs": [
    {
     "data": {
      "text/plain": [
       "\"duck-typed foo\""
      ]
     },
     "execution_count": 65,
     "metadata": {},
     "output_type": "execute_result"
    }
   ],
   "source": [
    "foo(1., 1)"
   ]
  },
  {
   "cell_type": "code",
   "execution_count": 66,
   "metadata": {},
   "outputs": [
    {
     "data": {
      "text/plain": [
       "\"Int and Flaot64 foo\""
      ]
     },
     "execution_count": 66,
     "metadata": {},
     "output_type": "execute_result"
    }
   ],
   "source": [
    "foo(1, 1.)"
   ]
  },
  {
   "cell_type": "code",
   "execution_count": 67,
   "metadata": {},
   "outputs": [
    {
     "data": {
      "text/plain": [
       "\"Float64 and Float64 foo\""
      ]
     },
     "execution_count": 67,
     "metadata": {},
     "output_type": "execute_result"
    }
   ],
   "source": [
    "foo(1., 1.)"
   ]
  },
  {
   "cell_type": "markdown",
   "metadata": {},
   "source": [
    "## 20. Julia is Fast : Benchmarking Julia!!\n",
    "\n",
    "\n",
    "Let's benchmark `sum` function and compare it with pure C, numpy and pure python."
   ]
  },
  {
   "cell_type": "code",
   "execution_count": 68,
   "metadata": {},
   "outputs": [],
   "source": [
    "a = rand(10^7);"
   ]
  },
  {
   "cell_type": "code",
   "execution_count": 69,
   "metadata": {},
   "outputs": [
    {
     "name": "stderr",
     "output_type": "stream",
     "text": [
      "\u001b[32m\u001b[1m  Resolving\u001b[22m\u001b[39m package versions...\n",
      "\u001b[32m\u001b[1m   Updating\u001b[22m\u001b[39m `C:\\Users\\tirth\\.julia\\environments\\v1.4\\Project.toml`\n",
      "\u001b[90m [no changes]\u001b[39m\n",
      "\u001b[32m\u001b[1m   Updating\u001b[22m\u001b[39m `C:\\Users\\tirth\\.julia\\environments\\v1.4\\Manifest.toml`\n",
      "\u001b[90m [no changes]\u001b[39m\n"
     ]
    }
   ],
   "source": [
    "Pkg.add(\"BenchmarkTools\")"
   ]
  },
  {
   "cell_type": "code",
   "execution_count": 70,
   "metadata": {},
   "outputs": [],
   "source": [
    "using BenchmarkTools\n",
    "using Libdl\n",
    "\n",
    "benchmarks = Dict();"
   ]
  },
  {
   "cell_type": "code",
   "execution_count": 71,
   "metadata": {},
   "outputs": [],
   "source": [
    "# # Using C language : Doesn't work on both Windows 32 and 64 bit!\n",
    "# C_code = \"\"\"\n",
    "# #include <stddef.h>\n",
    "\n",
    "# double c_sum(size_t n, double *a) {\n",
    "#     double sum = 0.;\n",
    "#     for (size_t i = 0; i < n; i++) {\n",
    "#         sum += a[i];\n",
    "#     }\n",
    "#     return sum;\n",
    "# }\n",
    "# \"\"\"\n",
    "\n",
    "# const Clib = tempname() # Make a temporary file!\n",
    "\n",
    "# # Now we will compile the c code to shared library that can be used inside of Julia\n",
    "\n",
    "# open(`gcc -fPIC -O3 -msse3 -xc -shared -o\n",
    "#       $(Clib * \".\" * Libdl.dlext) -`, \"w\") do f\n",
    "#     print(f, C_code)\n",
    "# end\n",
    "\n",
    "# # Define a Julia function that calls the C function\n",
    "# c_sum(a::Array{Float64}) = ccall((\"c_sum\", Clib), Float64, (Csize_t, Ptr{Float64}), length(a), a)"
   ]
  },
  {
   "cell_type": "code",
   "execution_count": 72,
   "metadata": {},
   "outputs": [
    {
     "ename": "UndefVarError",
     "evalue": "UndefVarError: c_sum not defined",
     "output_type": "error",
     "traceback": [
      "UndefVarError: c_sum not defined",
      "",
      "Stacktrace:",
      " [1] top-level scope at In[72]:1"
     ]
    }
   ],
   "source": [
    "# c_bench = @benchmark c_sum($a)\n",
    "# println(\"Fastest time for c_sum was : $(minimum(c_bench.times) / 1e6) msec\")\n",
    "c_sum(a)"
   ]
  },
  {
   "cell_type": "code",
   "execution_count": 73,
   "metadata": {},
   "outputs": [
    {
     "name": "stderr",
     "output_type": "stream",
     "text": [
      "\u001b[32m\u001b[1m  Resolving\u001b[22m\u001b[39m package versions...\n",
      "\u001b[32m\u001b[1m   Updating\u001b[22m\u001b[39m `C:\\Users\\tirth\\.julia\\environments\\v1.4\\Project.toml`\n",
      "\u001b[90m [no changes]\u001b[39m\n",
      "\u001b[32m\u001b[1m   Updating\u001b[22m\u001b[39m `C:\\Users\\tirth\\.julia\\environments\\v1.4\\Manifest.toml`\n",
      "\u001b[90m [no changes]\u001b[39m\n",
      "\u001b[32m\u001b[1m   Building\u001b[22m\u001b[39m Conda ─→ `C:\\Users\\tirth\\.julia\\packages\\Conda\\3rPhK\\deps\\build.log`\n",
      "\u001b[32m\u001b[1m   Building\u001b[22m\u001b[39m PyCall → `C:\\Users\\tirth\\.julia\\packages\\PyCall\\zqDXB\\deps\\build.log`\n"
     ]
    }
   ],
   "source": [
    "# Benchmarking Python built-in sum\n",
    "Pkg.add(\"PyCall\")\n",
    "Pkg.build(\"PyCall\")"
   ]
  },
  {
   "cell_type": "code",
   "execution_count": 74,
   "metadata": {},
   "outputs": [
    {
     "data": {
      "text/plain": [
       "PyObject <built-in function sum>"
      ]
     },
     "execution_count": 74,
     "metadata": {},
     "output_type": "execute_result"
    }
   ],
   "source": [
    "using PyCall\n",
    "\n",
    "apy_list = PyCall.array2py(a)\n",
    "\n",
    "pysum = pybuiltin(\"sum\")"
   ]
  },
  {
   "cell_type": "code",
   "execution_count": 75,
   "metadata": {},
   "outputs": [
    {
     "data": {
      "text/plain": [
       "true"
      ]
     },
     "execution_count": 75,
     "metadata": {},
     "output_type": "execute_result"
    }
   ],
   "source": [
    "pysum(a) ≈ sum(a)"
   ]
  },
  {
   "cell_type": "code",
   "execution_count": 76,
   "metadata": {},
   "outputs": [
    {
     "data": {
      "text/plain": [
       "BenchmarkTools.Trial: \n",
       "  memory estimate:  48 bytes\n",
       "  allocs estimate:  3\n",
       "  --------------\n",
       "  minimum time:     41.489 ms (0.00% GC)\n",
       "  median time:      42.893 ms (0.00% GC)\n",
       "  mean time:        43.843 ms (0.00% GC)\n",
       "  maximum time:     66.121 ms (0.00% GC)\n",
       "  --------------\n",
       "  samples:          114\n",
       "  evals/sample:     1"
      ]
     },
     "execution_count": 76,
     "metadata": {},
     "output_type": "execute_result"
    }
   ],
   "source": [
    "py_list_bench = @benchmark $pysum($apy_list)"
   ]
  },
  {
   "cell_type": "code",
   "execution_count": 77,
   "metadata": {},
   "outputs": [
    {
     "data": {
      "text/plain": [
       "Dict{Any,Any} with 1 entry:\n",
       "  \"Python built-in\" => 41.4891"
      ]
     },
     "execution_count": 77,
     "metadata": {},
     "output_type": "execute_result"
    }
   ],
   "source": [
    "benchmarks[\"Python built-in\"] = minimum(py_list_bench.times) / 1e6\n",
    "benchmarks"
   ]
  },
  {
   "cell_type": "code",
   "execution_count": 78,
   "metadata": {},
   "outputs": [
    {
     "name": "stderr",
     "output_type": "stream",
     "text": [
      "\u001b[32m\u001b[1m  Resolving\u001b[22m\u001b[39m package versions...\n",
      "\u001b[32m\u001b[1m   Updating\u001b[22m\u001b[39m `C:\\Users\\tirth\\.julia\\environments\\v1.4\\Project.toml`\n",
      "\u001b[90m [no changes]\u001b[39m\n",
      "\u001b[32m\u001b[1m   Updating\u001b[22m\u001b[39m `C:\\Users\\tirth\\.julia\\environments\\v1.4\\Manifest.toml`\n",
      "\u001b[90m [no changes]\u001b[39m\n"
     ]
    }
   ],
   "source": [
    "Pkg.add(\"Conda\")"
   ]
  },
  {
   "cell_type": "code",
   "execution_count": 79,
   "metadata": {},
   "outputs": [
    {
     "name": "stderr",
     "output_type": "stream",
     "text": [
      "┌ Info: Running `conda install -y numpy` in root environment\n",
      "└ @ Conda C:\\Users\\tirth\\.julia\\packages\\Conda\\3rPhK\\src\\Conda.jl:113\n"
     ]
    },
    {
     "name": "stdout",
     "output_type": "stream",
     "text": [
      "Collecting package metadata (current_repodata.json): ...working... done\n",
      "Solving environment: ...working... done\n",
      "\n",
      "# All requested packages already installed.\n",
      "\n"
     ]
    }
   ],
   "source": [
    "# Benchmarking Python NumPy\n",
    "using Conda\n",
    "Conda.add(\"numpy\")"
   ]
  },
  {
   "cell_type": "code",
   "execution_count": 80,
   "metadata": {},
   "outputs": [
    {
     "name": "stderr",
     "output_type": "stream",
     "text": [
      "┌ Warning: `getindex(o::PyObject, s::AbstractString)` is deprecated in favor of dot overloading (`getproperty`) so elements should now be accessed as e.g. `o.\"s\"` instead of `o[\"s\"]`.\n",
      "│   caller = top-level scope at In[80]:1\n",
      "└ @ Core In[80]:1\n"
     ]
    },
    {
     "data": {
      "text/plain": [
       "BenchmarkTools.Trial: \n",
       "  memory estimate:  48 bytes\n",
       "  allocs estimate:  3\n",
       "  --------------\n",
       "  minimum time:     10.678 ms (0.00% GC)\n",
       "  median time:      10.941 ms (0.00% GC)\n",
       "  mean time:        11.051 ms (0.00% GC)\n",
       "  maximum time:     14.499 ms (0.00% GC)\n",
       "  --------------\n",
       "  samples:          452\n",
       "  evals/sample:     1"
      ]
     },
     "execution_count": 80,
     "metadata": {},
     "output_type": "execute_result"
    }
   ],
   "source": [
    "numpysum = pyimport(\"numpy\")[\"sum\"]\n",
    "apy_numpy = PyObject(a)\n",
    "py_numpy_bench = @benchmark $numpysum($apy_numpy)"
   ]
  },
  {
   "cell_type": "code",
   "execution_count": 81,
   "metadata": {},
   "outputs": [
    {
     "data": {
      "text/plain": [
       "Dict{Any,Any} with 2 entries:\n",
       "  \"Python NumPy sum\" => 10.6782\n",
       "  \"Python built-in\"  => 41.4891"
      ]
     },
     "execution_count": 81,
     "metadata": {},
     "output_type": "execute_result"
    }
   ],
   "source": [
    "benchmarks[\"Python NumPy sum\"] = minimum(py_numpy_bench.times) / 1e6\n",
    "benchmarks"
   ]
  },
  {
   "cell_type": "code",
   "execution_count": 82,
   "metadata": {},
   "outputs": [
    {
     "data": {
      "text/plain": [
       "BenchmarkTools.Trial: \n",
       "  memory estimate:  0 bytes\n",
       "  allocs estimate:  0\n",
       "  --------------\n",
       "  minimum time:     4.533 ms (0.00% GC)\n",
       "  median time:      4.612 ms (0.00% GC)\n",
       "  mean time:        4.820 ms (0.00% GC)\n",
       "  maximum time:     8.774 ms (0.00% GC)\n",
       "  --------------\n",
       "  samples:          1036\n",
       "  evals/sample:     1"
      ]
     },
     "execution_count": 82,
     "metadata": {},
     "output_type": "execute_result"
    }
   ],
   "source": [
    "# Benchmarking Julia!\n",
    "j_bench = @benchmark sum($a)"
   ]
  },
  {
   "cell_type": "code",
   "execution_count": 83,
   "metadata": {},
   "outputs": [
    {
     "data": {
      "text/plain": [
       "Dict{Any,Any} with 3 entries:\n",
       "  \"Python NumPy sum\" => 10.6782\n",
       "  \"Python built-in\"  => 41.4891\n",
       "  \"Julia built-in\"   => 4.533"
      ]
     },
     "execution_count": 83,
     "metadata": {},
     "output_type": "execute_result"
    }
   ],
   "source": [
    "benchmarks[\"Julia built-in\"] = minimum(j_bench.times) / 1e6\n",
    "benchmarks"
   ]
  },
  {
   "cell_type": "markdown",
   "metadata": {},
   "source": [
    "# 21. Linear Algebra in Julia!\n",
    "\n",
    "This is the way its done!!"
   ]
  },
  {
   "cell_type": "code",
   "execution_count": 84,
   "metadata": {},
   "outputs": [
    {
     "data": {
      "text/plain": [
       "3×3 Array{Int64,2}:\n",
       " 1  2  4\n",
       " 4  2  3\n",
       " 3  1  4"
      ]
     },
     "execution_count": 84,
     "metadata": {},
     "output_type": "execute_result"
    }
   ],
   "source": [
    "A = rand(1:4, 3, 3)"
   ]
  },
  {
   "cell_type": "code",
   "execution_count": 85,
   "metadata": {},
   "outputs": [
    {
     "data": {
      "text/plain": [
       "3×6 Array{Int64,2}:\n",
       " 1  2  4  1  2  4\n",
       " 4  2  3  4  2  3\n",
       " 3  1  4  3  1  4"
      ]
     },
     "execution_count": 85,
     "metadata": {},
     "output_type": "execute_result"
    }
   ],
   "source": [
    "B = A # View\n",
    "C = copy(A) # Copy\n",
    "[B C] # Concatenation (View)"
   ]
  },
  {
   "cell_type": "code",
   "execution_count": 86,
   "metadata": {},
   "outputs": [
    {
     "data": {
      "text/plain": [
       "3×6 Array{Int64,2}:\n",
       " 100  2  4  1  2  4\n",
       "   4  2  3  4  2  3\n",
       "   3  1  4  3  1  4"
      ]
     },
     "execution_count": 86,
     "metadata": {},
     "output_type": "execute_result"
    }
   ],
   "source": [
    "A[1] = 100\n",
    "[B C]"
   ]
  },
  {
   "cell_type": "code",
   "execution_count": 87,
   "metadata": {},
   "outputs": [
    {
     "data": {
      "text/plain": [
       "3-element Array{Float64,1}:\n",
       " 1.0\n",
       " 1.0\n",
       " 1.0"
      ]
     },
     "execution_count": 87,
     "metadata": {},
     "output_type": "execute_result"
    }
   ],
   "source": [
    "x = ones(3)"
   ]
  },
  {
   "cell_type": "code",
   "execution_count": 88,
   "metadata": {},
   "outputs": [
    {
     "data": {
      "text/plain": [
       "3×3 LinearAlgebra.Adjoint{Int64,Array{Int64,2}}:\n",
       " 100  4  3\n",
       "   2  2  1\n",
       "   4  3  4"
      ]
     },
     "execution_count": 88,
     "metadata": {},
     "output_type": "execute_result"
    }
   ],
   "source": [
    "A' # ' => Hermitian for complex matrices and transposition for real matrices!"
   ]
  },
  {
   "cell_type": "code",
   "execution_count": 89,
   "metadata": {},
   "outputs": [
    {
     "data": {
      "text/plain": [
       "1×3 Array{Complex{Int64},2}:\n",
       " 1+2im  0+1im  0+1im"
      ]
     },
     "metadata": {},
     "output_type": "display_data"
    },
    {
     "data": {
      "text/plain": [
       "3×1 LinearAlgebra.Adjoint{Complex{Int64},Array{Complex{Int64},2}}:\n",
       " 1 - 2im\n",
       " 0 - 1im\n",
       " 0 - 1im"
      ]
     },
     "metadata": {},
     "output_type": "display_data"
    }
   ],
   "source": [
    "B = [1 + 2im im im]\n",
    "display(B)\n",
    "display(B')"
   ]
  },
  {
   "cell_type": "code",
   "execution_count": 90,
   "metadata": {},
   "outputs": [
    {
     "data": {
      "text/plain": [
       "3-element Array{Float64,1}:\n",
       " 8.0\n",
       " 6.0\n",
       " 5.0"
      ]
     },
     "execution_count": 90,
     "metadata": {},
     "output_type": "execute_result"
    }
   ],
   "source": [
    "A = rand(1:4, 3, 3)\n",
    "x = ones(3)\n",
    "\n",
    "b = A*x"
   ]
  },
  {
   "cell_type": "code",
   "execution_count": 91,
   "metadata": {},
   "outputs": [
    {
     "data": {
      "text/plain": [
       "3-element Array{Float64,1}:\n",
       " 1.0\n",
       " 1.0\n",
       " 1.0"
      ]
     },
     "execution_count": 91,
     "metadata": {},
     "output_type": "execute_result"
    }
   ],
   "source": [
    "# Solving a system of Linear equations\n",
    "# We use a backslash `\\` to slove a system of\n",
    "# linear equations with a unique solution.\n",
    "# CASE 1 : A unique solution exists => rank(A) = number of unknowns\n",
    "A\\b"
   ]
  },
  {
   "cell_type": "code",
   "execution_count": 92,
   "metadata": {},
   "outputs": [
    {
     "data": {
      "text/plain": [
       "2-element Array{Float64,1}:\n",
       " 1.5434782608695654\n",
       " 1.2173913043478257"
      ]
     },
     "execution_count": 92,
     "metadata": {},
     "output_type": "execute_result"
    }
   ],
   "source": [
    "# CASE 2 : No solution exists. In this case, `\\` returns\n",
    "# the least squared solution of the system Ax = b\n",
    "A[:, 1:2]\\b"
   ]
  },
  {
   "cell_type": "code",
   "execution_count": 93,
   "metadata": {},
   "outputs": [
    {
     "data": {
      "text/plain": [
       "2-element Array{Float64,1}:\n",
       " 3.015492064323978\n",
       " 3.0154920643239764"
      ]
     },
     "execution_count": 93,
     "metadata": {},
     "output_type": "execute_result"
    }
   ],
   "source": [
    "# CASE 3 : Infinite solution exists => A is rank deficient.\n",
    "# In this case infinite least squared solutions exist and\n",
    "# julia returns a solution with least norm!!!\n",
    "A = randn(3, 3)\n",
    "[A[:, 1] A[:, 1]]\\b"
   ]
  },
  {
   "cell_type": "markdown",
   "metadata": {},
   "source": [
    "## 21. Factorizations in Julia!!\n",
    "\n",
    "\n",
    "| Factorization Algo | Working |\n",
    "| ------------------ | ------- |\n",
    "| `lu` | Returns a single object containing `L`, `U`, `p` (permutation vector) and `P` (permutation matrix)|\n",
    "| `qr` | Returns `Q` and `R` (working is just like numpy) |\n",
    "| `eigen` | Eigenvalue decomposition of a matrix. Returns a object containing `eigvals` and `eigvecs` |\n",
    "| `eigvals` | Returns the eigenvalues of the passed matrix |\n",
    "| `eigvecs` | same as numpy |\n",
    "| `svd` | same as numpy |\n",
    "| `cholesky` | same as numpy |\n"
   ]
  },
  {
   "cell_type": "code",
   "execution_count": 94,
   "metadata": {},
   "outputs": [],
   "source": [
    "using LinearAlgebra"
   ]
  },
  {
   "cell_type": "code",
   "execution_count": 95,
   "metadata": {},
   "outputs": [
    {
     "data": {
      "text/plain": [
       "3×3 Array{Float64,2}:\n",
       " -0.758865   1.58305    0.344057\n",
       " -0.018121   0.605765  -0.780723\n",
       " -1.00177   -0.953791   0.165601"
      ]
     },
     "execution_count": 95,
     "metadata": {},
     "output_type": "execute_result"
    }
   ],
   "source": [
    "A = randn(3, 3)"
   ]
  },
  {
   "cell_type": "markdown",
   "metadata": {},
   "source": [
    "### LU Factorization"
   ]
  },
  {
   "cell_type": "code",
   "execution_count": 96,
   "metadata": {},
   "outputs": [
    {
     "data": {
      "text/plain": [
       "([1.0 0.0 0.0; 0.7575279692114065 1.0 0.0; 0.018089082707899246 0.2702223537335011 1.0], [-1.0017652661923862 -0.9537912518391537 0.16560145410188354; 0.0 2.3055766930204378 0.21860920476044254; 0.0 0.0 -0.8427918067046652], [3, 1, 2])"
      ]
     },
     "execution_count": 96,
     "metadata": {},
     "output_type": "execute_result"
    }
   ],
   "source": [
    "# Defualt pivoting is ON. It repturns\n",
    "# L, U and permutation matrix P.\n",
    "F = lu(A)\n",
    "L, U, p = F.L, F.U, F.p"
   ]
  },
  {
   "cell_type": "code",
   "execution_count": 97,
   "metadata": {},
   "outputs": [
    {
     "name": "stdout",
     "output_type": "stream",
     "text": [
      "LU is not necessarily equal to A as pivoting is ON.\n",
      "3.6865502419583938\n",
      "Though you can check if the result is right by including the permutation matrix\n",
      "2.482534153247273e-16\n"
     ]
    }
   ],
   "source": [
    "println(\"LU is not necessarily equal to A as pivoting is ON.\")\n",
    "println(norm(A - L*U))\n",
    "println(\"Though you can check if the result is right by including the permutation matrix\")\n",
    "println(norm(A[p, :] - L*U))"
   ]
  },
  {
   "cell_type": "code",
   "execution_count": 98,
   "metadata": {},
   "outputs": [
    {
     "name": "stdout",
     "output_type": "stream",
     "text": [
      "2.482534153247273e-16\n"
     ]
    }
   ],
   "source": [
    "# Turn off pivoting bu setting Val=false\n",
    "L, U, p = lu(A, Val(false))\n",
    "println(norm(A - L*U))"
   ]
  },
  {
   "cell_type": "markdown",
   "metadata": {},
   "source": [
    "### QR factorization"
   ]
  },
  {
   "cell_type": "code",
   "execution_count": 99,
   "metadata": {},
   "outputs": [
    {
     "name": "stdout",
     "output_type": "stream",
     "text": [
      "5.087681048627601e-16\n"
     ]
    }
   ],
   "source": [
    "# QR decomposition. Pivoting is OFF by default\n",
    "# but can be turned on by specifying Val{true}\n",
    "F = qr(A)\n",
    "Q, R = F.Q, F.R\n",
    "println(norm(A - Q*R))"
   ]
  },
  {
   "cell_type": "code",
   "execution_count": 100,
   "metadata": {},
   "outputs": [
    {
     "name": "stdout",
     "output_type": "stream",
     "text": [
      "3.4281531518405233\n",
      "3.3744351880088996\n"
     ]
    }
   ],
   "source": [
    "# QR factiorization with Pivoting.\n",
    "F = qr(A, Val(true))\n",
    "Q, R, p = F.Q, F.R, F.p\n",
    "println(norm(A - Q*R))\n",
    "println(norm(A[p, :] - Q*R))"
   ]
  },
  {
   "cell_type": "markdown",
   "metadata": {},
   "source": [
    "### EVD and SVD!!"
   ]
  },
  {
   "cell_type": "code",
   "execution_count": 101,
   "metadata": {},
   "outputs": [
    {
     "data": {
      "text/plain": [
       "(Complex{Float64}[-0.7337080069951645 - 0.8814665646326312im, -0.7337080069951645 + 0.8814665646326312im, 1.4799174122274659 + 0.0im], Complex{Float64}[0.74181852863076 - 0.0im 0.74181852863076 + 0.0im -0.3328333699036404 + 0.0im; -0.041148489545555805 - 0.2935124221778542im -0.041148489545555805 + 0.2935124221778542im -0.6242988660846104 + 0.0im; 0.2435710897858963 - 0.550032412350412im 0.2435710897858963 + 0.550032412350412im 0.7067339483030769 + 0.0im])"
      ]
     },
     "execution_count": 101,
     "metadata": {},
     "output_type": "execute_result"
    }
   ],
   "source": [
    "F = eigen(A)\n",
    "vals, vecs = F.values, F.vectors"
   ]
  },
  {
   "cell_type": "code",
   "execution_count": 102,
   "metadata": {},
   "outputs": [
    {
     "name": "stdout",
     "output_type": "stream",
     "text": [
      "1.7271615046317177e-15\n"
     ]
    }
   ],
   "source": [
    "println(norm(A - vecs*diagm(vals)*inv(vecs)))"
   ]
  },
  {
   "cell_type": "code",
   "execution_count": 103,
   "metadata": {},
   "outputs": [
    {
     "name": "stdout",
     "output_type": "stream",
     "text": [
      "1.3076869788613707e-15\n"
     ]
    }
   ],
   "source": [
    "U, sigma, Vt = svd(A)\n",
    "println(norm(A - U*diagm(sigma)*Vt'))"
   ]
  },
  {
   "cell_type": "markdown",
   "metadata": {},
   "source": [
    "### Cholesky Decomposition"
   ]
  },
  {
   "cell_type": "code",
   "execution_count": 104,
   "metadata": {},
   "outputs": [
    {
     "data": {
      "text/plain": [
       "rbf (generic function with 1 method)"
      ]
     },
     "execution_count": 104,
     "metadata": {},
     "output_type": "execute_result"
    }
   ],
   "source": [
    "x = randn(4, 2)\n",
    "\n",
    "rbf(x, y, amp, ls) = amp.^2 .* exp(((reshape(mapslices(z->norm(z), x; dims=2), size(x)[1], 1) .+ reshape(mapslices(z->norm(z), y; dims=2), 1, size(y)[1])) .- 2 .* x*y')/(2 .* ls.^2))"
   ]
  },
  {
   "cell_type": "code",
   "execution_count": 105,
   "metadata": {},
   "outputs": [
    {
     "data": {
      "text/plain": [
       "4×4 Array{Float64,2}:\n",
       " 1.38093   0.476976  0.678741  0.543231\n",
       " 0.476976  1.5067    0.681312  0.57423\n",
       " 0.678741  0.681312  1.48379   0.863552\n",
       " 0.543231  0.57423   0.863552  1.61735"
      ]
     },
     "execution_count": 105,
     "metadata": {},
     "output_type": "execute_result"
    }
   ],
   "source": [
    "A = rbf(x, x, 1., 1.)"
   ]
  },
  {
   "cell_type": "code",
   "execution_count": 106,
   "metadata": {},
   "outputs": [
    {
     "name": "stdout",
     "output_type": "stream",
     "text": [
      "2.3393850751791097e-15\n"
     ]
    }
   ],
   "source": [
    "F = cholesky(A + diagm(repeat([1e-15], size(A)[1])))\n",
    "U = F.U\n",
    "println(norm(A - U'*U))"
   ]
  },
  {
   "cell_type": "code",
   "execution_count": null,
   "metadata": {},
   "outputs": [],
   "source": []
  }
 ],
 "metadata": {
  "kernelspec": {
   "display_name": "Julia 1.4.2",
   "language": "julia",
   "name": "julia-1.4"
  },
  "language_info": {
   "file_extension": ".jl",
   "mimetype": "application/julia",
   "name": "julia",
   "version": "1.4.2"
  }
 },
 "nbformat": 4,
 "nbformat_minor": 2
}
